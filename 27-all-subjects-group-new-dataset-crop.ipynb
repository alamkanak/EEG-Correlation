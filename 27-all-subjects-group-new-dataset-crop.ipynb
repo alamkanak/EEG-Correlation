{
 "cells": [
  {
   "cell_type": "code",
   "execution_count": 1,
   "metadata": {},
   "outputs": [
    {
     "name": "stderr",
     "output_type": "stream",
     "text": [
      "/home/raquib/anaconda3/envs/tmseeg/lib/python3.7/site-packages/pyparsing.py:2927: FutureWarning: Possible set intersection at position 3\n",
      "  self.re = re.compile( self.reString )\n",
      "/home/raquib/anaconda3/envs/tmseeg/lib/python3.7/site-packages/sklearn/ensemble/weight_boosting.py:29: DeprecationWarning: numpy.core.umath_tests is an internal NumPy module and should not be imported. It will be removed in a future NumPy release.\n",
      "  from numpy.core.umath_tests import inner1d\n"
     ]
    }
   ],
   "source": [
    "%matplotlib inline\n",
    "import glob\n",
    "import pandas as pd\n",
    "import mne\n",
    "import matplotlib.pyplot as plt\n",
    "from io import StringIO\n",
    "import mne\n",
    "from mne.io import read_raw_eeglab, read_epochs_eeglab\n",
    "import numpy as np\n",
    "from scipy import signal\n",
    "import seaborn as sns\n",
    "from sklearn.linear_model import LinearRegression\n",
    "from sklearn.model_selection import train_test_split\n",
    "from sklearn.metrics import mean_squared_error, r2_score\n",
    "from tqdm import tqdm_notebook\n",
    "\n",
    "import autosklearn.regression\n",
    "import sklearn.model_selection\n",
    "import sklearn.datasets\n",
    "import sklearn.metrics\n",
    "import multiprocessing\n",
    "from tpot import TPOTRegressor\n",
    "from oct2py import octave\n",
    "\n",
    "from joblib import Parallel, delayed\n",
    "import multiprocessing\n",
    "from joblib import wrap_non_picklable_objects\n",
    "import json"
   ]
  },
  {
   "cell_type": "code",
   "execution_count": 2,
   "metadata": {},
   "outputs": [
    {
     "name": "stdout",
     "output_type": "stream",
     "text": [
      "warning: function /home/raquib/Documents/MATLAB/eeglab2019_0/functions/sigprocfunc/quantile.m shadows a core library function\n"
     ]
    }
   ],
   "source": [
    "eeglab_path = '/home/raquib/Documents/MATLAB/eeglab2019_0/functions/'\n",
    "octave.addpath(eeglab_path + 'guifunc');\n",
    "octave.addpath(eeglab_path + 'popfunc');\n",
    "octave.addpath(eeglab_path + 'adminfunc');\n",
    "octave.addpath(eeglab_path + 'sigprocfunc');\n",
    "octave.addpath(eeglab_path + 'miscfunc');"
   ]
  },
  {
   "cell_type": "code",
   "execution_count": 3,
   "metadata": {},
   "outputs": [
    {
     "name": "stdout",
     "output_type": "stream",
     "text": [
      "True\n"
     ]
    }
   ],
   "source": [
    "experiment = 'data/original/*/*'\n",
    "meps = sorted(glob.glob(experiment + '/mep/*/*.txt'))\n",
    "mep_present = len(meps) > 0\n",
    "eegs = sorted(glob.glob(experiment + '/eeg/*/clean-prestimulus.set'))\n",
    "eeg_present = len(eegs) > 0\n",
    "all_present = mep_present and eeg_present\n",
    "print(all_present)"
   ]
  },
  {
   "cell_type": "code",
   "execution_count": 4,
   "metadata": {},
   "outputs": [],
   "source": [
    "eegs = [\n",
    "    'data/original/sub03/exp01/eeg/SP 110RMT r1/clean-prestimulus.set',\n",
    "    'data/original/sub03/exp01/eeg/SP 110RMT r2/clean-prestimulus.set',\n",
    "    'data/original/sub03/exp01/eeg/SP 110RMT r3/clean-prestimulus.set',\n",
    "    'data/original/sub03/exp02/eeg/SP 110RMT r1/clean-prestimulus.set',\n",
    "    'data/original/sub03/exp02/eeg/SP 110RMT r2/clean-prestimulus.set',\n",
    "    'data/original/sub03/exp03/eeg/SP 110RMT r1/clean-prestimulus.set',\n",
    "    'data/original/sub03/exp03/eeg/SP 110RMT r2/clean-prestimulus.set',\n",
    "    'data/original/sub03/exp03/eeg/SP 110RMT r3/clean-prestimulus.set',\n",
    "    'data/original/sub04/exp01/eeg/SP 110RMT r1/clean-prestimulus.set',\n",
    "    'data/original/sub04/exp01/eeg/SP 110RMT r2/clean-prestimulus.set',\n",
    "    'data/original/sub04/exp01/eeg/SP 110RMT r3/clean-prestimulus.set',\n",
    "#     'data/original/sub05/exp01/eeg/SP 110RMT r3/clean-prestimulus.set',\n",
    "    'data/original/sub06/exp01/eeg/SP 110RMT r1/clean-prestimulus.set',\n",
    "    'data/original/sub06/exp01/eeg/SP 110RMT r2/clean-prestimulus.set',\n",
    "    'data/original/sub06/exp01/eeg/SP 110RMT r3/clean-prestimulus.set',\n",
    "    'data/original/sub06/exp02/eeg/SP 110RMT/clean-prestimulus.set',\n",
    "    'data/original/sub07/exp01/eeg/SP 110RMT r1/clean-prestimulus.set',\n",
    "    'data/original/sub07/exp01/eeg/SP 110RMT r2/clean-prestimulus.set',\n",
    "    'data/original/sub07/exp01/eeg/SP 110RMT r3/clean-prestimulus.set',\n",
    "    'data/original/sub08/exp01/eeg/SP 110RMT r1/clean-prestimulus.set',\n",
    "    'data/original/sub08/exp01/eeg/SP 110RMT r2/clean-prestimulus.set',\n",
    "    'data/original/sub08/exp01/eeg/SP 110RMT r3/clean-prestimulus.set',\n",
    "    'data/original/sub08/exp02/eeg/SP 110RMT/clean-prestimulus.set',\n",
    "    'data/original/sub08/exp03/eeg/SP 110RMT r1/clean-prestimulus.set',\n",
    "    'data/original/sub08/exp03/eeg/SP 110RMT r2/clean-prestimulus.set',\n",
    "    'data/original/sub08/exp03/eeg/SP 110RMT r3/clean-prestimulus.set',\n",
    "    'data/original/sub12/exp02/eeg/SP 110RMT/clean-prestimulus.set',\n",
    "    'data/original/sub13/exp01/eeg/SP 110RMT/clean-prestimulus.set',\n",
    "    'data/original/sub14/exp01/eeg/SP 110RMT r1/clean-prestimulus.set'\n",
    "]"
   ]
  },
  {
   "cell_type": "markdown",
   "metadata": {},
   "source": [
    "# View the EEG"
   ]
  },
  {
   "cell_type": "code",
   "execution_count": 5,
   "metadata": {},
   "outputs": [],
   "source": [
    "def read_eeg(path):\n",
    "    eeg = octave.pop_loadset(path)\n",
    "    new_trial_list = []\n",
    "    for i in range(eeg.data.shape[2]):\n",
    "        trial = eeg.data[:, :, i]\n",
    "        time = np.linspace(-1000, -20, num=trial.shape[1])\n",
    "        trial = pd.DataFrame(np.transpose(trial), columns=eeg.chanlocs.labels[0])\n",
    "        trial['time'] = time\n",
    "        new_trial_list.append(trial)\n",
    "    return new_trial_list"
   ]
  },
  {
   "cell_type": "code",
   "execution_count": 6,
   "metadata": {},
   "outputs": [],
   "source": [
    "def crop_trials(trial_list, duration_millis=500, sampling_rate=2048):\n",
    "    new_trial_list = []\n",
    "    for trial in trial_list:\n",
    "        samples_to_pick = duration_millis * sampling_rate / 1000\n",
    "        new_trial_list.append(trial.tail(int(samples_to_pick)))\n",
    "    return new_trial_list, samples_to_pick"
   ]
  },
  {
   "cell_type": "code",
   "execution_count": 4,
   "metadata": {},
   "outputs": [],
   "source": [
    "# Open MEP file as dataframe.\n",
    "def open_mep_as_df(path):\n",
    "    fileMep = open(path, \"r+\")\n",
    "    mep_frames = fileMep.read().split('\\n\\n')\n",
    "    df_list = []\n",
    "    for mep_frame in mep_frames:\n",
    "        df_list.append(pd.read_csv(StringIO(mep_frame), '\\t'))\n",
    "    return df_list"
   ]
  },
  {
   "cell_type": "code",
   "execution_count": 8,
   "metadata": {},
   "outputs": [],
   "source": [
    "# Function to get APB column name.\n",
    "def get_apb_column_name(mep_frame):\n",
    "    if 'L APB' in mep_frame:\n",
    "        return 'L APB'\n",
    "    else:\n",
    "        return 'APB'"
   ]
  },
  {
   "cell_type": "code",
   "execution_count": 9,
   "metadata": {},
   "outputs": [],
   "source": [
    "# Function to crop MEP region.\n",
    "def crop_mep_region(mep_frame):\n",
    "    crop_start = 0.211\n",
    "    crop_end = 0.4\n",
    "    multiplier = 7499 / 1.4998\n",
    "    start = int(crop_start * multiplier)\n",
    "    end = int(crop_end * multiplier)\n",
    "    mep_cropped = mep_frame.iloc[start:end, :]\n",
    "    time = mep_frame.iloc[start:end, :]\n",
    "    return mep_cropped, time"
   ]
  },
  {
   "cell_type": "code",
   "execution_count": 10,
   "metadata": {},
   "outputs": [],
   "source": [
    "# Calculate MEP size.\n",
    "def calculate_mep_size(mep_frame):\n",
    "    mep_cropped, time = crop_mep_region(mep_frame)\n",
    "    apb_name = get_apb_column_name(mep_frame)\n",
    "    max_row = mep_frame.iloc[mep_cropped.idxmax(axis=0)[apb_name]]\n",
    "    min_row = mep_frame.iloc[mep_cropped.idxmin(axis=0)[apb_name]]\n",
    "    mep_size = max_row[apb_name] - min_row[apb_name]\n",
    "    return mep_size"
   ]
  },
  {
   "cell_type": "code",
   "execution_count": 11,
   "metadata": {},
   "outputs": [],
   "source": [
    "# Calculate EEG area.\n",
    "def calculate_eeg_area(epoch_df):\n",
    "    y = epoch_df.drop('time', axis=1).mean(axis=1)\n",
    "    area = np.trapz(np.abs(y.values), epoch_df['time'].values)\n",
    "    return area"
   ]
  },
  {
   "cell_type": "code",
   "execution_count": 12,
   "metadata": {},
   "outputs": [],
   "source": [
    "# Calculate EEG frequency.\n",
    "def calculate_eeg_frequency(channel):\n",
    "    sf = 2048\n",
    "    win = 4 * sf\n",
    "    freqs, psd = signal.welch(channel, sf, nperseg=win)\n",
    "    return freqs, psd"
   ]
  },
  {
   "cell_type": "code",
   "execution_count": 13,
   "metadata": {},
   "outputs": [],
   "source": [
    "def calculate_eeg_max_amplitude(epoch_df):\n",
    "    avg = epoch_df.mean(axis=1)\n",
    "    return np.max(avg.values)"
   ]
  },
  {
   "cell_type": "code",
   "execution_count": 14,
   "metadata": {},
   "outputs": [],
   "source": [
    "def band_max(freq, psd, start=0, end=4):\n",
    "    channel_indices = [np.where(freq >= start and freq <= end)[1][0] for searchval in channel_names]\n",
    "    freq = freq[start:end]\n",
    "    psd = psd[start:end]\n",
    "    i = np.argmax(np.abs(psd))\n",
    "    return freq[i], psd[i]"
   ]
  },
  {
   "cell_type": "code",
   "execution_count": 15,
   "metadata": {},
   "outputs": [],
   "source": [
    "def band_max(freq, psd, start=0, end=4):\n",
    "    indices = np.where((freq >= start) & (freq <= end))\n",
    "    freq = freq[indices]\n",
    "    psd = psd[indices]\n",
    "    i = np.argmax(np.abs(psd))\n",
    "    return freq[i], psd[i]"
   ]
  },
  {
   "cell_type": "code",
   "execution_count": 16,
   "metadata": {},
   "outputs": [],
   "source": [
    "def filter_electrodes(trial, which='all'):\n",
    "    time_column = trial['time']\n",
    "    if which == 'ltm1':\n",
    "        channel_names = ['FC5','FC1','C3','CP5','CP1','FC3','C5','C1','CP3']\n",
    "    elif which == 'rtm1':\n",
    "        channel_names = ['FC6','FC2','C4','CP6','CP2','FC4','C6','C2','CP4']\n",
    "    elif which == 'central':\n",
    "        channel_names = ['Fz','FCz','z','F1','FC1','C1','C2','FC2','F2']\n",
    "    else:\n",
    "        channel_names = ['Fp1', 'Fpz', 'Fp2', 'F7', 'F3', 'Fz', 'F4', 'F8', 'FC5', 'FC1', 'FC2', 'FC6', 'M1', 'T7', 'C3', 'Cz', 'C4', 'T8', 'M2', 'CP5', 'CP1', 'CP2', 'CP6', 'P7', 'P3', 'Pz', 'P4', 'P8', 'POz', 'O1', 'O2', 'EOG', 'AF7', 'AF3', 'AF4', 'AF8', 'F5', 'F1', 'F2', 'F6', 'FC3', 'FCz', 'FC4', 'C5', 'C1', 'C2', 'C6', 'CP3', 'CP4', 'P5', 'P1', 'P2', 'P6', 'PO5', 'PO3', 'PO4', 'PO6', 'FT7', 'FT8', 'TP7', 'TP8', 'PO7', 'PO8', 'Oz']\n",
    "    trial = trial[channel_names]\n",
    "    trial['time'] = time_column\n",
    "    return trial"
   ]
  },
  {
   "cell_type": "code",
   "execution_count": 17,
   "metadata": {},
   "outputs": [],
   "source": [
    "def get_mep_path(eeg_path):\n",
    "    segments = eeg_path.split('/')\n",
    "    segments[4] = 'mep'\n",
    "    segments = segments[:-1]\n",
    "    mep_path = '/'.join(segments) + '/*.txt'\n",
    "    mep_path = glob.glob(mep_path)[0]\n",
    "    return mep_path"
   ]
  },
  {
   "cell_type": "code",
   "execution_count": 18,
   "metadata": {},
   "outputs": [],
   "source": [
    "def extract_features(eeg_path):\n",
    "    mep_path = get_mep_path(eeg_path)\n",
    "    epochs = read_eeg(eeg_path)\n",
    "    epochs, _ = crop_trials(epochs)\n",
    "    mep_frames = open_mep_as_df(mep_path)\n",
    "    epoch_features = []\n",
    "    if len(epochs) != len(mep_frames):\n",
    "        # print('MEP frame count (' + str(len(mep_frames)) + ') is not equal to EEG epochs count (' + str(len(epochs)) + ') for ' + eeg_path + ' and ' + mep_path)\n",
    "        raise Exception('MEP frame count (' + str(len(mep_frames)) + ') is not equal to EEG epochs count (' + str(len(epochs)) + ') for ' + eeg_path + ' and ' + mep_path)\n",
    "        return\n",
    "    for i in range(len(epochs)):\n",
    "        epoch = epochs[i]\n",
    "        mep = mep_frames[i]\n",
    "        segments = eeg_path.split('/')\n",
    "        d = {'sub': segments[2], 'exp': segments[3], 'run': segments[5], 'epoch': i}\n",
    "\n",
    "        freq, psd = calculate_eeg_frequency(epoch.drop('time', axis=1).values.mean(axis=1))\n",
    "        d['all_all_max_power_freq'], d['all_all_max_power'] = band_max(freq, psd, 4, 40)\n",
    "        d['all_delta_max_power_freq'], d['all_delta_max_power'] = band_max(freq, psd, 0, 4)\n",
    "        d['all_theta_max_power_freq'], d['all_theta_max_power'] = band_max(freq, psd, 4, 8)\n",
    "        d['all_alpha_max_power_freq'], d['all_alpha_max_power'] = band_max(freq, psd, 8, 16)\n",
    "        d['all_beta_max_power_freq'], d['all_beta_max_power'] = band_max(freq, psd, 16, 32)\n",
    "        d['all_gamma_max_power_freq'], d['all_gamma_max_power'] = band_max(freq, psd, 32, 500)\n",
    "\n",
    "        freq, psd = calculate_eeg_frequency(filter_electrodes(epoch, 'ltm1').drop('time', axis=1).values.mean(axis=1))\n",
    "        d['ltm1_all_max_power_freq'], d['ltm1_all_max_power'] = band_max(freq, psd, 4, 40)\n",
    "        d['ltm1_delta_max_power_freq'], d['ltm1_delta_max_power'] = band_max(freq, psd, 0, 4)\n",
    "        d['ltm1_theta_max_power_freq'], d['ltm1_theta_max_power'] = band_max(freq, psd, 4, 8)\n",
    "        d['ltm1_alpha_max_power_freq'], d['ltm1_alpha_max_power'] = band_max(freq, psd, 8, 16)\n",
    "        d['ltm1_beta_max_power_freq'], d['ltm1_beta_max_power'] = band_max(freq, psd, 16, 32)\n",
    "        d['ltm1_gamma_max_power_freq'], d['ltm1_gamma_max_power'] = band_max(freq, psd, 32, 500)\n",
    "\n",
    "        freq, psd = calculate_eeg_frequency(filter_electrodes(epoch, 'rtm1').drop('time', axis=1).values.mean(axis=1))\n",
    "        d['rtm1_all_max_power_freq'], d['rtm1_all_max_power'] = band_max(freq, psd, 4, 40)\n",
    "        d['rtm1_delta_max_power_freq'], d['rtm1_delta_max_power'] = band_max(freq, psd, 0, 4)\n",
    "        d['rtm1_theta_max_power_freq'], d['rtm1_theta_max_power'] = band_max(freq, psd, 4, 8)\n",
    "        d['rtm1_alpha_max_power_freq'], d['rtm1_alpha_max_power'] = band_max(freq, psd, 8, 16)\n",
    "        d['rtm1_beta_max_power_freq'], d['rtm1_beta_max_power'] = band_max(freq, psd, 16, 32)\n",
    "        d['rtm1_gamma_max_power_freq'], d['rtm1_gamma_max_power'] = band_max(freq, psd, 32, 500)\n",
    "\n",
    "        d['area_under_eeg'] = calculate_eeg_area(epoch)\n",
    "        d['rtm1_area_under_eeg'] = calculate_eeg_area(filter_electrodes(epoch, 'rtm1'))\n",
    "        d['ltm1_area_under_eeg'] = calculate_eeg_area(filter_electrodes(epoch, 'ltm1'))\n",
    "        d['all_max_amplitude'] = calculate_eeg_max_amplitude(epoch.drop('time', axis=1))\n",
    "        d['rtm1_max_amplitude'] = calculate_eeg_max_amplitude(filter_electrodes(epoch, 'rtm1'))\n",
    "        d['ltm1_max_amplitude'] = calculate_eeg_max_amplitude(filter_electrodes(epoch, 'ltm1'))\n",
    "\n",
    "        d['mep_size'] = calculate_mep_size(mep)\n",
    "        epoch_features.append(d)\n",
    "    return epoch_features"
   ]
  },
  {
   "cell_type": "code",
   "execution_count": 19,
   "metadata": {
    "scrolled": true
   },
   "outputs": [
    {
     "data": {
      "application/vnd.jupyter.widget-view+json": {
       "model_id": "b319bd5c7bdd429b85c99397b9212e15",
       "version_major": 2,
       "version_minor": 0
      },
      "text/plain": [
       "HBox(children=(IntProgress(value=0, max=28), HTML(value='')))"
      ]
     },
     "metadata": {},
     "output_type": "display_data"
    },
    {
     "name": "stdout",
     "output_type": "stream",
     "text": [
      "pop_loadset(): loading file data/original/sub03/exp01/eeg/SP 110RMT r1/clean-prestimulus.set ...\n",
      "warning: implicit conversion from numeric to char\n",
      "Reading float file 'data/original/sub03/exp01/eeg/SP 110RMT r1/clean-prestimulus.fdt'...\n",
      "Scaling components to RMS microvolt\n"
     ]
    },
    {
     "name": "stderr",
     "output_type": "stream",
     "text": [
      "/home/raquib/anaconda3/envs/tmseeg/lib/python3.7/site-packages/scipy/signal/spectral.py:1969: UserWarning: nperseg = 8192 is greater than input length  = 1024, using nperseg = 1024\n",
      "  .format(nperseg, input_length))\n",
      "/home/raquib/anaconda3/envs/tmseeg/lib/python3.7/site-packages/ipykernel_launcher.py:12: SettingWithCopyWarning: \n",
      "A value is trying to be set on a copy of a slice from a DataFrame.\n",
      "Try using .loc[row_indexer,col_indexer] = value instead\n",
      "\n",
      "See the caveats in the documentation: http://pandas.pydata.org/pandas-docs/stable/indexing.html#indexing-view-versus-copy\n",
      "  if sys.path[0] == '':\n"
     ]
    },
    {
     "name": "stdout",
     "output_type": "stream",
     "text": [
      "pop_loadset(): loading file data/original/sub03/exp01/eeg/SP 110RMT r2/clean-prestimulus.set ...\n",
      "warning: implicit conversion from numeric to char\n",
      "Reading float file 'data/original/sub03/exp01/eeg/SP 110RMT r2/clean-prestimulus.fdt'...\n",
      "Scaling components to RMS microvolt\n",
      "pop_loadset(): loading file data/original/sub03/exp01/eeg/SP 110RMT r3/clean-prestimulus.set ...\n",
      "warning: implicit conversion from numeric to char\n",
      "Reading float file 'data/original/sub03/exp01/eeg/SP 110RMT r3/clean-prestimulus.fdt'...\n",
      "Scaling components to RMS microvolt\n",
      "pop_loadset(): loading file data/original/sub03/exp02/eeg/SP 110RMT r1/clean-prestimulus.set ...\n",
      "warning: implicit conversion from numeric to char\n",
      "Reading float file 'data/original/sub03/exp02/eeg/SP 110RMT r1/clean-prestimulus.fdt'...\n",
      "pop_loadset(): loading file data/original/sub03/exp02/eeg/SP 110RMT r2/clean-prestimulus.set ...\n",
      "Reading float file 'data/original/sub03/exp02/eeg/SP 110RMT r2/clean-prestimulus.fdt'...\n",
      "pop_loadset(): loading file data/original/sub03/exp03/eeg/SP 110RMT r1/clean-prestimulus.set ...\n",
      "Reading float file 'data/original/sub03/exp03/eeg/SP 110RMT r1/clean-prestimulus.fdt'...\n",
      "Scaling components to RMS microvolt\n",
      "pop_loadset(): loading file data/original/sub03/exp03/eeg/SP 110RMT r2/clean-prestimulus.set ...\n",
      "Reading float file 'data/original/sub03/exp03/eeg/SP 110RMT r2/clean-prestimulus.fdt'...\n",
      "Scaling components to RMS microvolt\n",
      "pop_loadset(): loading file data/original/sub03/exp03/eeg/SP 110RMT r3/clean-prestimulus.set ...\n",
      "Reading float file 'data/original/sub03/exp03/eeg/SP 110RMT r3/clean-prestimulus.fdt'...\n",
      "Scaling components to RMS microvolt\n",
      "pop_loadset(): loading file data/original/sub04/exp01/eeg/SP 110RMT r1/clean-prestimulus.set ...\n",
      "Reading float file 'data/original/sub04/exp01/eeg/SP 110RMT r1/clean-prestimulus.fdt'...\n",
      "pop_loadset(): loading file data/original/sub04/exp01/eeg/SP 110RMT r2/clean-prestimulus.set ...\n",
      "warning: implicit conversion from numeric to char\n",
      "Reading float file 'data/original/sub04/exp01/eeg/SP 110RMT r2/clean-prestimulus.fdt'...\n",
      "pop_loadset(): loading file data/original/sub04/exp01/eeg/SP 110RMT r3/clean-prestimulus.set ...\n",
      "Reading float file 'data/original/sub04/exp01/eeg/SP 110RMT r3/clean-prestimulus.fdt'...\n",
      "pop_loadset(): loading file data/original/sub06/exp01/eeg/SP 110RMT r1/clean-prestimulus.set ...\n",
      "Reading float file 'data/original/sub06/exp01/eeg/SP 110RMT r1/clean-prestimulus.fdt'...\n",
      "Scaling components to RMS microvolt\n",
      "pop_loadset(): loading file data/original/sub06/exp01/eeg/SP 110RMT r2/clean-prestimulus.set ...\n",
      "Reading float file 'data/original/sub06/exp01/eeg/SP 110RMT r2/clean-prestimulus.fdt'...\n",
      "Scaling components to RMS microvolt\n",
      "pop_loadset(): loading file data/original/sub06/exp01/eeg/SP 110RMT r3/clean-prestimulus.set ...\n",
      "Reading float file 'data/original/sub06/exp01/eeg/SP 110RMT r3/clean-prestimulus.fdt'...\n",
      "Scaling components to RMS microvolt\n",
      "pop_loadset(): loading file data/original/sub06/exp02/eeg/SP 110RMT/clean-prestimulus.set ...\n",
      "Reading float file 'data/original/sub06/exp02/eeg/SP 110RMT/clean-prestimulus.fdt'...\n",
      "pop_loadset(): loading file data/original/sub07/exp01/eeg/SP 110RMT r1/clean-prestimulus.set ...\n",
      "Reading float file 'data/original/sub07/exp01/eeg/SP 110RMT r1/clean-prestimulus.fdt'...\n",
      "Scaling components to RMS microvolt\n",
      "pop_loadset(): loading file data/original/sub07/exp01/eeg/SP 110RMT r2/clean-prestimulus.set ...\n",
      "Reading float file 'data/original/sub07/exp01/eeg/SP 110RMT r2/clean-prestimulus.fdt'...\n",
      "pop_loadset(): loading file data/original/sub07/exp01/eeg/SP 110RMT r3/clean-prestimulus.set ...\n",
      "Reading float file 'data/original/sub07/exp01/eeg/SP 110RMT r3/clean-prestimulus.fdt'...\n",
      "Scaling components to RMS microvolt\n",
      "pop_loadset(): loading file data/original/sub08/exp01/eeg/SP 110RMT r1/clean-prestimulus.set ...\n",
      "Reading float file 'data/original/sub08/exp01/eeg/SP 110RMT r1/clean-prestimulus.fdt'...\n",
      "pop_loadset(): loading file data/original/sub08/exp01/eeg/SP 110RMT r2/clean-prestimulus.set ...\n",
      "Reading float file 'data/original/sub08/exp01/eeg/SP 110RMT r2/clean-prestimulus.fdt'...\n",
      "pop_loadset(): loading file data/original/sub08/exp01/eeg/SP 110RMT r3/clean-prestimulus.set ...\n",
      "Reading float file 'data/original/sub08/exp01/eeg/SP 110RMT r3/clean-prestimulus.fdt'...\n",
      "pop_loadset(): loading file data/original/sub08/exp02/eeg/SP 110RMT/clean-prestimulus.set ...\n",
      "Reading float file 'data/original/sub08/exp02/eeg/SP 110RMT/clean-prestimulus.fdt'...\n",
      "pop_loadset(): loading file data/original/sub08/exp03/eeg/SP 110RMT r1/clean-prestimulus.set ...\n",
      "Reading float file 'data/original/sub08/exp03/eeg/SP 110RMT r1/clean-prestimulus.fdt'...\n",
      "Scaling components to RMS microvolt\n",
      "pop_loadset(): loading file data/original/sub08/exp03/eeg/SP 110RMT r2/clean-prestimulus.set ...\n",
      "Reading float file 'data/original/sub08/exp03/eeg/SP 110RMT r2/clean-prestimulus.fdt'...\n",
      "Scaling components to RMS microvolt\n",
      "pop_loadset(): loading file data/original/sub08/exp03/eeg/SP 110RMT r3/clean-prestimulus.set ...\n",
      "Reading float file 'data/original/sub08/exp03/eeg/SP 110RMT r3/clean-prestimulus.fdt'...\n",
      "Scaling components to RMS microvolt\n",
      "pop_loadset(): loading file data/original/sub12/exp02/eeg/SP 110RMT/clean-prestimulus.set ...\n",
      "warning: implicit conversion from numeric to char\n",
      "Reading float file 'data/original/sub12/exp02/eeg/SP 110RMT/clean-prestimulus.fdt'...\n",
      "Scaling components to RMS microvolt\n",
      "pop_loadset(): loading file data/original/sub13/exp01/eeg/SP 110RMT/clean-prestimulus.set ...\n",
      "Reading float file 'data/original/sub13/exp01/eeg/SP 110RMT/clean-prestimulus.fdt'...\n",
      "pop_loadset(): loading file data/original/sub14/exp01/eeg/SP 110RMT r1/clean-prestimulus.set ...\n",
      "Reading float file 'data/original/sub14/exp01/eeg/SP 110RMT r1/clean-prestimulus.fdt'...\n",
      "\n"
     ]
    }
   ],
   "source": [
    "features = []\n",
    "for eeg_path in tqdm_notebook(eegs):\n",
    "    features = features + extract_features(eeg_path)"
   ]
  },
  {
   "cell_type": "code",
   "execution_count": 20,
   "metadata": {},
   "outputs": [
    {
     "data": {
      "text/html": [
       "<div>\n",
       "<style scoped>\n",
       "    .dataframe tbody tr th:only-of-type {\n",
       "        vertical-align: middle;\n",
       "    }\n",
       "\n",
       "    .dataframe tbody tr th {\n",
       "        vertical-align: top;\n",
       "    }\n",
       "\n",
       "    .dataframe thead th {\n",
       "        text-align: right;\n",
       "    }\n",
       "</style>\n",
       "<table border=\"1\" class=\"dataframe\">\n",
       "  <thead>\n",
       "    <tr style=\"text-align: right;\">\n",
       "      <th></th>\n",
       "      <th>all_all_max_power</th>\n",
       "      <th>all_all_max_power_freq</th>\n",
       "      <th>all_alpha_max_power</th>\n",
       "      <th>all_alpha_max_power_freq</th>\n",
       "      <th>all_beta_max_power</th>\n",
       "      <th>all_beta_max_power_freq</th>\n",
       "      <th>all_delta_max_power</th>\n",
       "      <th>all_delta_max_power_freq</th>\n",
       "      <th>all_gamma_max_power</th>\n",
       "      <th>all_gamma_max_power_freq</th>\n",
       "      <th>...</th>\n",
       "      <th>rtm1_beta_max_power_freq</th>\n",
       "      <th>rtm1_delta_max_power</th>\n",
       "      <th>rtm1_delta_max_power_freq</th>\n",
       "      <th>rtm1_gamma_max_power</th>\n",
       "      <th>rtm1_gamma_max_power_freq</th>\n",
       "      <th>rtm1_max_amplitude</th>\n",
       "      <th>rtm1_theta_max_power</th>\n",
       "      <th>rtm1_theta_max_power_freq</th>\n",
       "      <th>run</th>\n",
       "      <th>sub</th>\n",
       "    </tr>\n",
       "  </thead>\n",
       "  <tbody>\n",
       "    <tr>\n",
       "      <th>0</th>\n",
       "      <td>3.302811e-16</td>\n",
       "      <td>12.0</td>\n",
       "      <td>3.302811e-16</td>\n",
       "      <td>12.0</td>\n",
       "      <td>2.467210e-16</td>\n",
       "      <td>28.0</td>\n",
       "      <td>1.113595e-16</td>\n",
       "      <td>4.0</td>\n",
       "      <td>9.772056e-16</td>\n",
       "      <td>474.0</td>\n",
       "      <td>...</td>\n",
       "      <td>18.0</td>\n",
       "      <td>1.689008</td>\n",
       "      <td>2.0</td>\n",
       "      <td>0.341022</td>\n",
       "      <td>32.0</td>\n",
       "      <td>4.859485</td>\n",
       "      <td>1.064474</td>\n",
       "      <td>4.0</td>\n",
       "      <td>SP 110RMT r1</td>\n",
       "      <td>sub03</td>\n",
       "    </tr>\n",
       "    <tr>\n",
       "      <th>1</th>\n",
       "      <td>3.492257e-16</td>\n",
       "      <td>18.0</td>\n",
       "      <td>1.957960e-16</td>\n",
       "      <td>16.0</td>\n",
       "      <td>3.492257e-16</td>\n",
       "      <td>18.0</td>\n",
       "      <td>8.303895e-17</td>\n",
       "      <td>2.0</td>\n",
       "      <td>1.418834e-15</td>\n",
       "      <td>126.0</td>\n",
       "      <td>...</td>\n",
       "      <td>32.0</td>\n",
       "      <td>0.441164</td>\n",
       "      <td>4.0</td>\n",
       "      <td>1.557364</td>\n",
       "      <td>34.0</td>\n",
       "      <td>3.863017</td>\n",
       "      <td>0.788006</td>\n",
       "      <td>8.0</td>\n",
       "      <td>SP 110RMT r1</td>\n",
       "      <td>sub03</td>\n",
       "    </tr>\n",
       "    <tr>\n",
       "      <th>2</th>\n",
       "      <td>7.988662e-16</td>\n",
       "      <td>4.0</td>\n",
       "      <td>3.865362e-16</td>\n",
       "      <td>12.0</td>\n",
       "      <td>4.727435e-16</td>\n",
       "      <td>20.0</td>\n",
       "      <td>9.401751e-16</td>\n",
       "      <td>2.0</td>\n",
       "      <td>2.173197e-15</td>\n",
       "      <td>402.0</td>\n",
       "      <td>...</td>\n",
       "      <td>30.0</td>\n",
       "      <td>1.014214</td>\n",
       "      <td>2.0</td>\n",
       "      <td>2.147177</td>\n",
       "      <td>38.0</td>\n",
       "      <td>12.325154</td>\n",
       "      <td>0.320580</td>\n",
       "      <td>8.0</td>\n",
       "      <td>SP 110RMT r1</td>\n",
       "      <td>sub03</td>\n",
       "    </tr>\n",
       "    <tr>\n",
       "      <th>3</th>\n",
       "      <td>8.951575e-16</td>\n",
       "      <td>14.0</td>\n",
       "      <td>8.951575e-16</td>\n",
       "      <td>14.0</td>\n",
       "      <td>8.458415e-16</td>\n",
       "      <td>16.0</td>\n",
       "      <td>2.501884e-16</td>\n",
       "      <td>4.0</td>\n",
       "      <td>1.558474e-15</td>\n",
       "      <td>94.0</td>\n",
       "      <td>...</td>\n",
       "      <td>20.0</td>\n",
       "      <td>0.508378</td>\n",
       "      <td>2.0</td>\n",
       "      <td>0.687888</td>\n",
       "      <td>40.0</td>\n",
       "      <td>1.277029</td>\n",
       "      <td>0.447221</td>\n",
       "      <td>8.0</td>\n",
       "      <td>SP 110RMT r1</td>\n",
       "      <td>sub03</td>\n",
       "    </tr>\n",
       "    <tr>\n",
       "      <th>4</th>\n",
       "      <td>1.500408e-15</td>\n",
       "      <td>14.0</td>\n",
       "      <td>1.500408e-15</td>\n",
       "      <td>14.0</td>\n",
       "      <td>1.127975e-15</td>\n",
       "      <td>16.0</td>\n",
       "      <td>7.168404e-17</td>\n",
       "      <td>4.0</td>\n",
       "      <td>1.411026e-15</td>\n",
       "      <td>84.0</td>\n",
       "      <td>...</td>\n",
       "      <td>16.0</td>\n",
       "      <td>4.893132</td>\n",
       "      <td>2.0</td>\n",
       "      <td>1.219589</td>\n",
       "      <td>34.0</td>\n",
       "      <td>5.525887</td>\n",
       "      <td>5.053958</td>\n",
       "      <td>6.0</td>\n",
       "      <td>SP 110RMT r1</td>\n",
       "      <td>sub03</td>\n",
       "    </tr>\n",
       "  </tbody>\n",
       "</table>\n",
       "<p>5 rows × 47 columns</p>\n",
       "</div>"
      ],
      "text/plain": [
       "   all_all_max_power  all_all_max_power_freq  all_alpha_max_power  \\\n",
       "0       3.302811e-16                    12.0         3.302811e-16   \n",
       "1       3.492257e-16                    18.0         1.957960e-16   \n",
       "2       7.988662e-16                     4.0         3.865362e-16   \n",
       "3       8.951575e-16                    14.0         8.951575e-16   \n",
       "4       1.500408e-15                    14.0         1.500408e-15   \n",
       "\n",
       "   all_alpha_max_power_freq  all_beta_max_power  all_beta_max_power_freq  \\\n",
       "0                      12.0        2.467210e-16                     28.0   \n",
       "1                      16.0        3.492257e-16                     18.0   \n",
       "2                      12.0        4.727435e-16                     20.0   \n",
       "3                      14.0        8.458415e-16                     16.0   \n",
       "4                      14.0        1.127975e-15                     16.0   \n",
       "\n",
       "   all_delta_max_power  all_delta_max_power_freq  all_gamma_max_power  \\\n",
       "0         1.113595e-16                       4.0         9.772056e-16   \n",
       "1         8.303895e-17                       2.0         1.418834e-15   \n",
       "2         9.401751e-16                       2.0         2.173197e-15   \n",
       "3         2.501884e-16                       4.0         1.558474e-15   \n",
       "4         7.168404e-17                       4.0         1.411026e-15   \n",
       "\n",
       "   all_gamma_max_power_freq  ...  rtm1_beta_max_power_freq  \\\n",
       "0                     474.0  ...                      18.0   \n",
       "1                     126.0  ...                      32.0   \n",
       "2                     402.0  ...                      30.0   \n",
       "3                      94.0  ...                      20.0   \n",
       "4                      84.0  ...                      16.0   \n",
       "\n",
       "   rtm1_delta_max_power  rtm1_delta_max_power_freq  rtm1_gamma_max_power  \\\n",
       "0              1.689008                        2.0              0.341022   \n",
       "1              0.441164                        4.0              1.557364   \n",
       "2              1.014214                        2.0              2.147177   \n",
       "3              0.508378                        2.0              0.687888   \n",
       "4              4.893132                        2.0              1.219589   \n",
       "\n",
       "   rtm1_gamma_max_power_freq rtm1_max_amplitude  rtm1_theta_max_power  \\\n",
       "0                       32.0           4.859485              1.064474   \n",
       "1                       34.0           3.863017              0.788006   \n",
       "2                       38.0          12.325154              0.320580   \n",
       "3                       40.0           1.277029              0.447221   \n",
       "4                       34.0           5.525887              5.053958   \n",
       "\n",
       "   rtm1_theta_max_power_freq           run    sub  \n",
       "0                        4.0  SP 110RMT r1  sub03  \n",
       "1                        8.0  SP 110RMT r1  sub03  \n",
       "2                        8.0  SP 110RMT r1  sub03  \n",
       "3                        8.0  SP 110RMT r1  sub03  \n",
       "4                        6.0  SP 110RMT r1  sub03  \n",
       "\n",
       "[5 rows x 47 columns]"
      ]
     },
     "execution_count": 20,
     "metadata": {},
     "output_type": "execute_result"
    }
   ],
   "source": [
    "df = pd.DataFrame(features)\n",
    "df.head()"
   ]
  },
  {
   "cell_type": "code",
   "execution_count": 21,
   "metadata": {},
   "outputs": [
    {
     "name": "stdout",
     "output_type": "stream",
     "text": [
      "(1400, 47)\n",
      "Index(['all_all_max_power', 'all_all_max_power_freq', 'all_alpha_max_power',\n",
      "       'all_alpha_max_power_freq', 'all_beta_max_power',\n",
      "       'all_beta_max_power_freq', 'all_delta_max_power',\n",
      "       'all_delta_max_power_freq', 'all_gamma_max_power',\n",
      "       'all_gamma_max_power_freq', 'all_max_amplitude', 'all_theta_max_power',\n",
      "       'all_theta_max_power_freq', 'area_under_eeg', 'epoch', 'exp',\n",
      "       'ltm1_all_max_power', 'ltm1_all_max_power_freq', 'ltm1_alpha_max_power',\n",
      "       'ltm1_alpha_max_power_freq', 'ltm1_area_under_eeg',\n",
      "       'ltm1_beta_max_power', 'ltm1_beta_max_power_freq',\n",
      "       'ltm1_delta_max_power', 'ltm1_delta_max_power_freq',\n",
      "       'ltm1_gamma_max_power', 'ltm1_gamma_max_power_freq',\n",
      "       'ltm1_max_amplitude', 'ltm1_theta_max_power',\n",
      "       'ltm1_theta_max_power_freq', 'mep_size', 'rtm1_all_max_power',\n",
      "       'rtm1_all_max_power_freq', 'rtm1_alpha_max_power',\n",
      "       'rtm1_alpha_max_power_freq', 'rtm1_area_under_eeg',\n",
      "       'rtm1_beta_max_power', 'rtm1_beta_max_power_freq',\n",
      "       'rtm1_delta_max_power', 'rtm1_delta_max_power_freq',\n",
      "       'rtm1_gamma_max_power', 'rtm1_gamma_max_power_freq',\n",
      "       'rtm1_max_amplitude', 'rtm1_theta_max_power',\n",
      "       'rtm1_theta_max_power_freq', 'run', 'sub'],\n",
      "      dtype='object')\n"
     ]
    }
   ],
   "source": [
    "print(df.shape)\n",
    "print(df.columns)"
   ]
  },
  {
   "cell_type": "code",
   "execution_count": 22,
   "metadata": {
    "scrolled": true
   },
   "outputs": [
    {
     "data": {
      "text/plain": [
       "Text(0, 0.5, 'MEP Size')"
      ]
     },
     "execution_count": 22,
     "metadata": {},
     "output_type": "execute_result"
    },
    {
     "data": {
      "image/png": "[encoded data removed]",
      "text/plain": [
       "<Figure size 1008x288 with 1 Axes>"
      ]
     },
     "metadata": {
      "needs_background": "light"
     },
     "output_type": "display_data"
    }
   ],
   "source": [
    "plt.figure(figsize=(14,4))\n",
    "plt.plot(df['ltm1_all_max_power_freq'], df['mep_size'], '.')\n",
    "plt.xlabel('Frequency (Hz)')\n",
    "plt.ylabel('MEP Size')"
   ]
  },
  {
   "cell_type": "code",
   "execution_count": 23,
   "metadata": {},
   "outputs": [
    {
     "data": {
      "text/plain": [
       "Text(0, 0.5, 'MEP Size')"
      ]
     },
     "execution_count": 23,
     "metadata": {},
     "output_type": "execute_result"
    },
    {
     "data": {
      "image/png": "[encoded data removed]",
      "text/plain": [
       "<Figure size 1008x288 with 1 Axes>"
      ]
     },
     "metadata": {
      "needs_background": "light"
     },
     "output_type": "display_data"
    }
   ],
   "source": [
    "plt.figure(figsize=(14,4))\n",
    "plt.plot(df['ltm1_alpha_max_power_freq'], df['mep_size'], '.')\n",
    "plt.xlabel('Frequency - alpha band (Hz)')\n",
    "plt.ylabel('MEP Size')"
   ]
  },
  {
   "cell_type": "code",
   "execution_count": 24,
   "metadata": {},
   "outputs": [
    {
     "data": {
      "text/plain": [
       "Text(0, 0.5, 'MEP Size')"
      ]
     },
     "execution_count": 24,
     "metadata": {},
     "output_type": "execute_result"
    },
    {
     "data": {
      "image/png": "[encoded data removed]",
      "text/plain": [
       "<Figure size 1008x288 with 1 Axes>"
      ]
     },
     "metadata": {
      "needs_background": "light"
     },
     "output_type": "display_data"
    }
   ],
   "source": [
    "plt.figure(figsize=(14,4))\n",
    "plt.plot(df['ltm1_beta_max_power_freq'], df['mep_size'], '.')\n",
    "plt.xlabel('Frequency - beta band (Hz)')\n",
    "plt.ylabel('MEP Size')"
   ]
  },
  {
   "cell_type": "code",
   "execution_count": 25,
   "metadata": {},
   "outputs": [
    {
     "data": {
      "text/plain": [
       "Text(0, 0.5, 'MEP Size')"
      ]
     },
     "execution_count": 25,
     "metadata": {},
     "output_type": "execute_result"
    },
    {
     "data": {
      "image/png": "[encoded data removed]",
      "text/plain": [
       "<Figure size 1008x288 with 1 Axes>"
      ]
     },
     "metadata": {
      "needs_background": "light"
     },
     "output_type": "display_data"
    }
   ],
   "source": [
    "plt.figure(figsize=(14,4))\n",
    "plt.plot(df['ltm1_gamma_max_power_freq'], df['mep_size'], '.')\n",
    "plt.xlabel('Frequency - gamma band (Hz)')\n",
    "plt.ylabel('MEP Size')"
   ]
  },
  {
   "cell_type": "code",
   "execution_count": 26,
   "metadata": {},
   "outputs": [
    {
     "data": {
      "text/plain": [
       "Text(0, 0.5, 'MEP Size')"
      ]
     },
     "execution_count": 26,
     "metadata": {},
     "output_type": "execute_result"
    },
    {
     "data": {
      "image/png": "[encoded data removed]",
      "text/plain": [
       "<Figure size 1008x288 with 1 Axes>"
      ]
     },
     "metadata": {
      "needs_background": "light"
     },
     "output_type": "display_data"
    }
   ],
   "source": [
    "plt.figure(figsize=(14,4))\n",
    "plt.plot(df['ltm1_delta_max_power_freq'], df['mep_size'], '.')\n",
    "plt.xlabel('Frequency - delta band (Hz)')\n",
    "plt.ylabel('MEP Size')"
   ]
  },
  {
   "cell_type": "code",
   "execution_count": 27,
   "metadata": {},
   "outputs": [
    {
     "data": {
      "text/plain": [
       "Text(0, 0.5, 'MEP Size')"
      ]
     },
     "execution_count": 27,
     "metadata": {},
     "output_type": "execute_result"
    },
    {
     "data": {
      "image/png": "[encoded data removed]",
      "text/plain": [
       "<Figure size 1008x288 with 1 Axes>"
      ]
     },
     "metadata": {
      "needs_background": "light"
     },
     "output_type": "display_data"
    }
   ],
   "source": [
    "plt.figure(figsize=(14,4))\n",
    "plt.plot(df['ltm1_theta_max_power_freq'], df['mep_size'], '.')\n",
    "plt.xlabel('Frequency - theta band (Hz)')\n",
    "plt.ylabel('MEP Size')"
   ]
  },
  {
   "cell_type": "code",
   "execution_count": 28,
   "metadata": {},
   "outputs": [
    {
     "data": {
      "text/html": [
       "<div>\n",
       "<style scoped>\n",
       "    .dataframe tbody tr th:only-of-type {\n",
       "        vertical-align: middle;\n",
       "    }\n",
       "\n",
       "    .dataframe tbody tr th {\n",
       "        vertical-align: top;\n",
       "    }\n",
       "\n",
       "    .dataframe thead th {\n",
       "        text-align: right;\n",
       "    }\n",
       "</style>\n",
       "<table border=\"1\" class=\"dataframe\">\n",
       "  <thead>\n",
       "    <tr style=\"text-align: right;\">\n",
       "      <th></th>\n",
       "      <th></th>\n",
       "      <th></th>\n",
       "      <th>all_all_max_power</th>\n",
       "      <th>all_all_max_power_freq</th>\n",
       "      <th>all_alpha_max_power</th>\n",
       "      <th>all_alpha_max_power_freq</th>\n",
       "      <th>all_beta_max_power</th>\n",
       "      <th>all_beta_max_power_freq</th>\n",
       "      <th>all_delta_max_power</th>\n",
       "      <th>all_delta_max_power_freq</th>\n",
       "      <th>all_gamma_max_power</th>\n",
       "      <th>all_gamma_max_power_freq</th>\n",
       "      <th>...</th>\n",
       "      <th>rtm1_area_under_eeg</th>\n",
       "      <th>rtm1_beta_max_power</th>\n",
       "      <th>rtm1_beta_max_power_freq</th>\n",
       "      <th>rtm1_delta_max_power</th>\n",
       "      <th>rtm1_delta_max_power_freq</th>\n",
       "      <th>rtm1_gamma_max_power</th>\n",
       "      <th>rtm1_gamma_max_power_freq</th>\n",
       "      <th>rtm1_max_amplitude</th>\n",
       "      <th>rtm1_theta_max_power</th>\n",
       "      <th>rtm1_theta_max_power_freq</th>\n",
       "    </tr>\n",
       "    <tr>\n",
       "      <th>sub</th>\n",
       "      <th>exp</th>\n",
       "      <th>run</th>\n",
       "      <th></th>\n",
       "      <th></th>\n",
       "      <th></th>\n",
       "      <th></th>\n",
       "      <th></th>\n",
       "      <th></th>\n",
       "      <th></th>\n",
       "      <th></th>\n",
       "      <th></th>\n",
       "      <th></th>\n",
       "      <th></th>\n",
       "      <th></th>\n",
       "      <th></th>\n",
       "      <th></th>\n",
       "      <th></th>\n",
       "      <th></th>\n",
       "      <th></th>\n",
       "      <th></th>\n",
       "      <th></th>\n",
       "      <th></th>\n",
       "      <th></th>\n",
       "    </tr>\n",
       "  </thead>\n",
       "  <tbody>\n",
       "    <tr>\n",
       "      <th rowspan=\"5\" valign=\"top\">sub03</th>\n",
       "      <th rowspan=\"3\" valign=\"top\">exp01</th>\n",
       "      <th>SP 110RMT r1</th>\n",
       "      <td>6.640821e-16</td>\n",
       "      <td>19.32</td>\n",
       "      <td>4.469653e-16</td>\n",
       "      <td>12.24</td>\n",
       "      <td>4.696769e-16</td>\n",
       "      <td>23.40</td>\n",
       "      <td>2.411776e-16</td>\n",
       "      <td>2.84</td>\n",
       "      <td>1.139970e-15</td>\n",
       "      <td>284.92</td>\n",
       "      <td>...</td>\n",
       "      <td>2581.975423</td>\n",
       "      <td>1.386683</td>\n",
       "      <td>22.20</td>\n",
       "      <td>2.384860</td>\n",
       "      <td>2.60</td>\n",
       "      <td>0.972593</td>\n",
       "      <td>38.16</td>\n",
       "      <td>3.930827</td>\n",
       "      <td>1.603743</td>\n",
       "      <td>6.24</td>\n",
       "    </tr>\n",
       "    <tr>\n",
       "      <th>SP 110RMT r2</th>\n",
       "      <td>4.466377e-15</td>\n",
       "      <td>20.92</td>\n",
       "      <td>2.858178e-15</td>\n",
       "      <td>11.64</td>\n",
       "      <td>3.310342e-15</td>\n",
       "      <td>23.96</td>\n",
       "      <td>1.727658e-15</td>\n",
       "      <td>2.68</td>\n",
       "      <td>6.910752e-15</td>\n",
       "      <td>265.96</td>\n",
       "      <td>...</td>\n",
       "      <td>12804.848506</td>\n",
       "      <td>18.505805</td>\n",
       "      <td>23.88</td>\n",
       "      <td>105.824573</td>\n",
       "      <td>2.48</td>\n",
       "      <td>17.951296</td>\n",
       "      <td>50.56</td>\n",
       "      <td>53.863692</td>\n",
       "      <td>54.131978</td>\n",
       "      <td>5.12</td>\n",
       "    </tr>\n",
       "    <tr>\n",
       "      <th>SP 110RMT r3</th>\n",
       "      <td>6.051590e-15</td>\n",
       "      <td>23.96</td>\n",
       "      <td>3.568232e-15</td>\n",
       "      <td>12.04</td>\n",
       "      <td>5.163827e-15</td>\n",
       "      <td>24.08</td>\n",
       "      <td>2.279777e-15</td>\n",
       "      <td>3.08</td>\n",
       "      <td>1.112198e-14</td>\n",
       "      <td>243.04</td>\n",
       "      <td>...</td>\n",
       "      <td>16328.854372</td>\n",
       "      <td>23.290055</td>\n",
       "      <td>23.12</td>\n",
       "      <td>182.917339</td>\n",
       "      <td>2.32</td>\n",
       "      <td>20.737242</td>\n",
       "      <td>54.80</td>\n",
       "      <td>70.635635</td>\n",
       "      <td>64.640717</td>\n",
       "      <td>5.16</td>\n",
       "    </tr>\n",
       "    <tr>\n",
       "      <th rowspan=\"2\" valign=\"top\">exp02</th>\n",
       "      <th>SP 110RMT r1</th>\n",
       "      <td>1.151576e-13</td>\n",
       "      <td>23.00</td>\n",
       "      <td>6.864915e-14</td>\n",
       "      <td>12.12</td>\n",
       "      <td>9.090041e-14</td>\n",
       "      <td>24.00</td>\n",
       "      <td>4.949722e-14</td>\n",
       "      <td>2.68</td>\n",
       "      <td>2.380817e-13</td>\n",
       "      <td>275.92</td>\n",
       "      <td>...</td>\n",
       "      <td>21301.606027</td>\n",
       "      <td>36.371786</td>\n",
       "      <td>21.52</td>\n",
       "      <td>393.019052</td>\n",
       "      <td>2.28</td>\n",
       "      <td>19.096854</td>\n",
       "      <td>45.44</td>\n",
       "      <td>90.498648</td>\n",
       "      <td>128.357521</td>\n",
       "      <td>5.16</td>\n",
       "    </tr>\n",
       "    <tr>\n",
       "      <th>SP 110RMT r2</th>\n",
       "      <td>2.069195e-14</td>\n",
       "      <td>21.88</td>\n",
       "      <td>1.075677e-14</td>\n",
       "      <td>11.88</td>\n",
       "      <td>1.712459e-14</td>\n",
       "      <td>24.40</td>\n",
       "      <td>1.093247e-14</td>\n",
       "      <td>2.76</td>\n",
       "      <td>3.399026e-14</td>\n",
       "      <td>241.96</td>\n",
       "      <td>...</td>\n",
       "      <td>2406.021186</td>\n",
       "      <td>1.142789</td>\n",
       "      <td>23.00</td>\n",
       "      <td>4.849091</td>\n",
       "      <td>2.56</td>\n",
       "      <td>0.538481</td>\n",
       "      <td>41.24</td>\n",
       "      <td>2.922584</td>\n",
       "      <td>1.865205</td>\n",
       "      <td>5.28</td>\n",
       "    </tr>\n",
       "  </tbody>\n",
       "</table>\n",
       "<p>5 rows × 44 columns</p>\n",
       "</div>"
      ],
      "text/plain": [
       "                          all_all_max_power  all_all_max_power_freq  \\\n",
       "sub   exp   run                                                       \n",
       "sub03 exp01 SP 110RMT r1       6.640821e-16                   19.32   \n",
       "            SP 110RMT r2       4.466377e-15                   20.92   \n",
       "            SP 110RMT r3       6.051590e-15                   23.96   \n",
       "      exp02 SP 110RMT r1       1.151576e-13                   23.00   \n",
       "            SP 110RMT r2       2.069195e-14                   21.88   \n",
       "\n",
       "                          all_alpha_max_power  all_alpha_max_power_freq  \\\n",
       "sub   exp   run                                                           \n",
       "sub03 exp01 SP 110RMT r1         4.469653e-16                     12.24   \n",
       "            SP 110RMT r2         2.858178e-15                     11.64   \n",
       "            SP 110RMT r3         3.568232e-15                     12.04   \n",
       "      exp02 SP 110RMT r1         6.864915e-14                     12.12   \n",
       "            SP 110RMT r2         1.075677e-14                     11.88   \n",
       "\n",
       "                          all_beta_max_power  all_beta_max_power_freq  \\\n",
       "sub   exp   run                                                         \n",
       "sub03 exp01 SP 110RMT r1        4.696769e-16                    23.40   \n",
       "            SP 110RMT r2        3.310342e-15                    23.96   \n",
       "            SP 110RMT r3        5.163827e-15                    24.08   \n",
       "      exp02 SP 110RMT r1        9.090041e-14                    24.00   \n",
       "            SP 110RMT r2        1.712459e-14                    24.40   \n",
       "\n",
       "                          all_delta_max_power  all_delta_max_power_freq  \\\n",
       "sub   exp   run                                                           \n",
       "sub03 exp01 SP 110RMT r1         2.411776e-16                      2.84   \n",
       "            SP 110RMT r2         1.727658e-15                      2.68   \n",
       "            SP 110RMT r3         2.279777e-15                      3.08   \n",
       "      exp02 SP 110RMT r1         4.949722e-14                      2.68   \n",
       "            SP 110RMT r2         1.093247e-14                      2.76   \n",
       "\n",
       "                          all_gamma_max_power  all_gamma_max_power_freq  ...  \\\n",
       "sub   exp   run                                                          ...   \n",
       "sub03 exp01 SP 110RMT r1         1.139970e-15                    284.92  ...   \n",
       "            SP 110RMT r2         6.910752e-15                    265.96  ...   \n",
       "            SP 110RMT r3         1.112198e-14                    243.04  ...   \n",
       "      exp02 SP 110RMT r1         2.380817e-13                    275.92  ...   \n",
       "            SP 110RMT r2         3.399026e-14                    241.96  ...   \n",
       "\n",
       "                          rtm1_area_under_eeg  rtm1_beta_max_power  \\\n",
       "sub   exp   run                                                      \n",
       "sub03 exp01 SP 110RMT r1          2581.975423             1.386683   \n",
       "            SP 110RMT r2         12804.848506            18.505805   \n",
       "            SP 110RMT r3         16328.854372            23.290055   \n",
       "      exp02 SP 110RMT r1         21301.606027            36.371786   \n",
       "            SP 110RMT r2          2406.021186             1.142789   \n",
       "\n",
       "                          rtm1_beta_max_power_freq  rtm1_delta_max_power  \\\n",
       "sub   exp   run                                                            \n",
       "sub03 exp01 SP 110RMT r1                     22.20              2.384860   \n",
       "            SP 110RMT r2                     23.88            105.824573   \n",
       "            SP 110RMT r3                     23.12            182.917339   \n",
       "      exp02 SP 110RMT r1                     21.52            393.019052   \n",
       "            SP 110RMT r2                     23.00              4.849091   \n",
       "\n",
       "                          rtm1_delta_max_power_freq  rtm1_gamma_max_power  \\\n",
       "sub   exp   run                                                             \n",
       "sub03 exp01 SP 110RMT r1                       2.60              0.972593   \n",
       "            SP 110RMT r2                       2.48             17.951296   \n",
       "            SP 110RMT r3                       2.32             20.737242   \n",
       "      exp02 SP 110RMT r1                       2.28             19.096854   \n",
       "            SP 110RMT r2                       2.56              0.538481   \n",
       "\n",
       "                          rtm1_gamma_max_power_freq  rtm1_max_amplitude  \\\n",
       "sub   exp   run                                                           \n",
       "sub03 exp01 SP 110RMT r1                      38.16            3.930827   \n",
       "            SP 110RMT r2                      50.56           53.863692   \n",
       "            SP 110RMT r3                      54.80           70.635635   \n",
       "      exp02 SP 110RMT r1                      45.44           90.498648   \n",
       "            SP 110RMT r2                      41.24            2.922584   \n",
       "\n",
       "                          rtm1_theta_max_power  rtm1_theta_max_power_freq  \n",
       "sub   exp   run                                                            \n",
       "sub03 exp01 SP 110RMT r1              1.603743                       6.24  \n",
       "            SP 110RMT r2             54.131978                       5.12  \n",
       "            SP 110RMT r3             64.640717                       5.16  \n",
       "      exp02 SP 110RMT r1            128.357521                       5.16  \n",
       "            SP 110RMT r2              1.865205                       5.28  \n",
       "\n",
       "[5 rows x 44 columns]"
      ]
     },
     "execution_count": 28,
     "metadata": {},
     "output_type": "execute_result"
    }
   ],
   "source": [
    "df2 = df.groupby(['sub', 'exp', 'run']).mean()\n",
    "df2.head()"
   ]
  },
  {
   "cell_type": "code",
   "execution_count": 29,
   "metadata": {},
   "outputs": [
    {
     "data": {
      "text/plain": [
       "(28, 44)"
      ]
     },
     "execution_count": 29,
     "metadata": {},
     "output_type": "execute_result"
    }
   ],
   "source": [
    "df2.shape"
   ]
  },
  {
   "cell_type": "code",
   "execution_count": 30,
   "metadata": {},
   "outputs": [
    {
     "data": {
      "text/plain": [
       "Text(0, 0.5, 'MEP Size')"
      ]
     },
     "execution_count": 30,
     "metadata": {},
     "output_type": "execute_result"
    },
    {
     "data": {
      "image/png": "[encoded data removed]",
      "text/plain": [
       "<Figure size 1008x288 with 1 Axes>"
      ]
     },
     "metadata": {
      "needs_background": "light"
     },
     "output_type": "display_data"
    }
   ],
   "source": [
    "plt.figure(figsize=(14,4))\n",
    "plt.plot(df2['ltm1_all_max_power_freq'], df2['mep_size'], 'o')\n",
    "plt.xlabel('Frequency (Hz)')\n",
    "plt.ylabel('MEP Size')"
   ]
  },
  {
   "cell_type": "code",
   "execution_count": 31,
   "metadata": {},
   "outputs": [
    {
     "data": {
      "text/plain": [
       "Text(0, 0.5, 'MEP Size')"
      ]
     },
     "execution_count": 31,
     "metadata": {},
     "output_type": "execute_result"
    },
    {
     "data": {
      "image/png": "[encoded data removed]",
      "text/plain": [
       "<Figure size 1008x288 with 1 Axes>"
      ]
     },
     "metadata": {
      "needs_background": "light"
     },
     "output_type": "display_data"
    }
   ],
   "source": [
    "plt.figure(figsize=(14,4))\n",
    "plt.plot(df2['ltm1_alpha_max_power_freq'], df2['mep_size'], 'o')\n",
    "plt.xlabel('Frequency - alpha band (Hz)')\n",
    "plt.ylabel('MEP Size')"
   ]
  },
  {
   "cell_type": "markdown",
   "metadata": {},
   "source": [
    "# Frequency bins"
   ]
  },
  {
   "cell_type": "code",
   "execution_count": 32,
   "metadata": {},
   "outputs": [],
   "source": [
    "bins = [0, 4, 8, 16, 32, 100]\n",
    "df3_mean = df.groupby(pd.cut(df['rtm1_all_max_power_freq'], bins)).mean()\n",
    "df3_max = df.groupby(pd.cut(df['rtm1_all_max_power_freq'], bins)).max()\n",
    "df3_min = df.groupby(pd.cut(df['rtm1_all_max_power_freq'], bins)).min()\n",
    "df3_mean['mep_size_mean'] = df3_mean['mep_size']\n",
    "df3_mean['mep_size_max'] = df3_max['mep_size']\n",
    "df3_mean['mep_size_min'] = df3_min['mep_size']\n",
    "df3_mean['rtm1_all_max_power_freq'] = df3_mean.index"
   ]
  },
  {
   "cell_type": "code",
   "execution_count": 33,
   "metadata": {},
   "outputs": [
    {
     "data": {
      "text/html": [
       "<div>\n",
       "<style scoped>\n",
       "    .dataframe tbody tr th:only-of-type {\n",
       "        vertical-align: middle;\n",
       "    }\n",
       "\n",
       "    .dataframe tbody tr th {\n",
       "        vertical-align: top;\n",
       "    }\n",
       "\n",
       "    .dataframe thead th {\n",
       "        text-align: right;\n",
       "    }\n",
       "</style>\n",
       "<table border=\"1\" class=\"dataframe\">\n",
       "  <thead>\n",
       "    <tr style=\"text-align: right;\">\n",
       "      <th></th>\n",
       "      <th>rtm1_all_max_power_freq</th>\n",
       "      <th>mep_size_mean</th>\n",
       "      <th>mep_size_max</th>\n",
       "      <th>mep_size_min</th>\n",
       "    </tr>\n",
       "    <tr>\n",
       "      <th>rtm1_all_max_power_freq</th>\n",
       "      <th></th>\n",
       "      <th></th>\n",
       "      <th></th>\n",
       "      <th></th>\n",
       "    </tr>\n",
       "  </thead>\n",
       "  <tbody>\n",
       "    <tr>\n",
       "      <th>(0, 4]</th>\n",
       "      <td>(0, 4]</td>\n",
       "      <td>0.847437</td>\n",
       "      <td>6.295166</td>\n",
       "      <td>0.008697</td>\n",
       "    </tr>\n",
       "    <tr>\n",
       "      <th>(4, 8]</th>\n",
       "      <td>(4, 8]</td>\n",
       "      <td>0.901801</td>\n",
       "      <td>5.427094</td>\n",
       "      <td>0.014343</td>\n",
       "    </tr>\n",
       "    <tr>\n",
       "      <th>(8, 16]</th>\n",
       "      <td>(8, 16]</td>\n",
       "      <td>0.958486</td>\n",
       "      <td>5.267792</td>\n",
       "      <td>0.010834</td>\n",
       "    </tr>\n",
       "    <tr>\n",
       "      <th>(16, 32]</th>\n",
       "      <td>(16, 32]</td>\n",
       "      <td>0.855730</td>\n",
       "      <td>5.698090</td>\n",
       "      <td>0.015869</td>\n",
       "    </tr>\n",
       "    <tr>\n",
       "      <th>(32, 100]</th>\n",
       "      <td>(32, 100]</td>\n",
       "      <td>0.823664</td>\n",
       "      <td>3.158875</td>\n",
       "      <td>0.240326</td>\n",
       "    </tr>\n",
       "  </tbody>\n",
       "</table>\n",
       "</div>"
      ],
      "text/plain": [
       "                        rtm1_all_max_power_freq  mep_size_mean  mep_size_max  \\\n",
       "rtm1_all_max_power_freq                                                        \n",
       "(0, 4]                                   (0, 4]       0.847437      6.295166   \n",
       "(4, 8]                                   (4, 8]       0.901801      5.427094   \n",
       "(8, 16]                                 (8, 16]       0.958486      5.267792   \n",
       "(16, 32]                               (16, 32]       0.855730      5.698090   \n",
       "(32, 100]                             (32, 100]       0.823664      3.158875   \n",
       "\n",
       "                         mep_size_min  \n",
       "rtm1_all_max_power_freq                \n",
       "(0, 4]                       0.008697  \n",
       "(4, 8]                       0.014343  \n",
       "(8, 16]                      0.010834  \n",
       "(16, 32]                     0.015869  \n",
       "(32, 100]                    0.240326  "
      ]
     },
     "execution_count": 33,
     "metadata": {},
     "output_type": "execute_result"
    }
   ],
   "source": [
    "df3_mean[['rtm1_all_max_power_freq', 'mep_size_mean', 'mep_size_max', 'mep_size_min']]"
   ]
  },
  {
   "cell_type": "code",
   "execution_count": 34,
   "metadata": {},
   "outputs": [
    {
     "data": {
      "text/plain": [
       "Text(0.5, 1.0, 'Left M1 Electrode Frequency Bins vs MEP Size')"
      ]
     },
     "execution_count": 34,
     "metadata": {},
     "output_type": "execute_result"
    },
    {
     "data": {
      "image/png": "[encoded data removed]",
      "text/plain": [
       "<Figure size 1008x576 with 1 Axes>"
      ]
     },
     "metadata": {
      "needs_background": "light"
     },
     "output_type": "display_data"
    }
   ],
   "source": [
    "df4 = df\n",
    "bins = [0, 4, 8, 12, 20, 30, 46, 70, 100]\n",
    "df4['bin'] = pd.cut(df4['ltm1_all_max_power_freq'], bins)\n",
    "df4.head()\n",
    "\n",
    "fig = plt.figure(figsize=(14, 8))\n",
    "ax = sns.boxplot(x=\"bin\", y=\"mep_size\", data=df4)\n",
    "ax.set_xlabel('Frequency Bin')\n",
    "ax.set_ylabel('MEP Size')\n",
    "ax.set_title('Left M1 Electrode Frequency Bins vs MEP Size')"
   ]
  },
  {
   "cell_type": "code",
   "execution_count": 35,
   "metadata": {},
   "outputs": [
    {
     "data": {
      "text/plain": [
       "(1400, 48)"
      ]
     },
     "execution_count": 35,
     "metadata": {},
     "output_type": "execute_result"
    }
   ],
   "source": [
    "df.shape"
   ]
  },
  {
   "cell_type": "code",
   "execution_count": 36,
   "metadata": {},
   "outputs": [
    {
     "data": {
      "text/plain": [
       "Text(0.5, 1.0, 'Right M1 Electrode Frequency Bins vs MEP Size')"
      ]
     },
     "execution_count": 36,
     "metadata": {},
     "output_type": "execute_result"
    },
    {
     "data": {
      "image/png": "[encoded data removed]",
      "text/plain": [
       "<Figure size 1008x576 with 1 Axes>"
      ]
     },
     "metadata": {
      "needs_background": "light"
     },
     "output_type": "display_data"
    }
   ],
   "source": [
    "df4 = df\n",
    "bins = [0, 4, 8, 16, 32, 100]\n",
    "df4['bin'] = pd.cut(df4['rtm1_all_max_power_freq'], bins)\n",
    "df4.head()\n",
    "\n",
    "fig = plt.figure(figsize=(14, 8))\n",
    "ax = sns.boxplot(x=\"bin\", y=\"mep_size\", data=df4)\n",
    "ax.set_xlabel('Frequency Bin')\n",
    "ax.set_ylabel('MEP Size')\n",
    "ax.set_title('Right M1 Electrode Frequency Bins vs MEP Size')"
   ]
  },
  {
   "cell_type": "code",
   "execution_count": 37,
   "metadata": {},
   "outputs": [
    {
     "data": {
      "text/plain": [
       "Text(0.5, 1.0, 'All Electrodes Frequency Bins vs MEP Size')"
      ]
     },
     "execution_count": 37,
     "metadata": {},
     "output_type": "execute_result"
    },
    {
     "data": {
      "image/png": "[encoded data removed]",
      "text/plain": [
       "<Figure size 1008x576 with 1 Axes>"
      ]
     },
     "metadata": {
      "needs_background": "light"
     },
     "output_type": "display_data"
    }
   ],
   "source": [
    "df4 = df\n",
    "bins = [0, 4, 8, 16, 32, 100]\n",
    "df4['bin'] = pd.cut(df4['all_all_max_power_freq'], bins)\n",
    "df4.head()\n",
    "\n",
    "fig = plt.figure(figsize=(14, 8))\n",
    "ax = sns.boxplot(x=\"bin\", y=\"mep_size\", data=df4)\n",
    "ax.set_xlabel('Frequency Bin')\n",
    "ax.set_ylabel('MEP Size')\n",
    "ax.set_title('All Electrodes Frequency Bins vs MEP Size')"
   ]
  },
  {
   "cell_type": "code",
   "execution_count": 38,
   "metadata": {},
   "outputs": [
    {
     "data": {
      "text/plain": [
       "Text(0, 0.5, 'MEP Size')"
      ]
     },
     "execution_count": 38,
     "metadata": {},
     "output_type": "execute_result"
    },
    {
     "data": {
      "image/png": "[encoded data removed]",
      "text/plain": [
       "<Figure size 432x288 with 1 Axes>"
      ]
     },
     "metadata": {
      "needs_background": "light"
     },
     "output_type": "display_data"
    }
   ],
   "source": [
    "plt.plot(df4['area_under_eeg'], df4['mep_size'], 'o')\n",
    "plt.xlabel('Area under EEG - all electrodes')\n",
    "plt.ylabel('MEP Size')"
   ]
  },
  {
   "cell_type": "code",
   "execution_count": 39,
   "metadata": {},
   "outputs": [
    {
     "data": {
      "text/plain": [
       "Text(0, 0.5, 'MEP Size')"
      ]
     },
     "execution_count": 39,
     "metadata": {},
     "output_type": "execute_result"
    },
    {
     "data": {
      "image/png": "[encoded data removed]",
      "text/plain": [
       "<Figure size 432x288 with 1 Axes>"
      ]
     },
     "metadata": {
      "needs_background": "light"
     },
     "output_type": "display_data"
    }
   ],
   "source": [
    "plt.plot(df4['rtm1_area_under_eeg'], df4['mep_size'], 'o')\n",
    "plt.xlabel('Area under EEG - right M1 electrodes')\n",
    "plt.ylabel('MEP Size')"
   ]
  },
  {
   "cell_type": "code",
   "execution_count": 40,
   "metadata": {},
   "outputs": [
    {
     "data": {
      "text/plain": [
       "Text(0, 0.5, 'MEP Size')"
      ]
     },
     "execution_count": 40,
     "metadata": {},
     "output_type": "execute_result"
    },
    {
     "data": {
      "image/png": "[encoded data removed]",
      "text/plain": [
       "<Figure size 432x288 with 1 Axes>"
      ]
     },
     "metadata": {
      "needs_background": "light"
     },
     "output_type": "display_data"
    }
   ],
   "source": [
    "plt.plot(df4['ltm1_area_under_eeg'], df4['mep_size'], 'o')\n",
    "plt.xlabel('Area under EEG - left M1 electrodes')\n",
    "plt.ylabel('MEP Size')"
   ]
  },
  {
   "cell_type": "code",
   "execution_count": 41,
   "metadata": {},
   "outputs": [
    {
     "data": {
      "text/plain": [
       "Text(0, 0.5, 'MEP Size')"
      ]
     },
     "execution_count": 41,
     "metadata": {},
     "output_type": "execute_result"
    },
    {
     "data": {
      "image/png": "[encoded data removed]",
      "text/plain": [
       "<Figure size 432x288 with 1 Axes>"
      ]
     },
     "metadata": {
      "needs_background": "light"
     },
     "output_type": "display_data"
    }
   ],
   "source": [
    "plt.plot(df4['all_max_amplitude'], df4['mep_size'], 'o')\n",
    "plt.xlabel('Max amplitude - all electrodes')\n",
    "plt.ylabel('MEP Size')"
   ]
  },
  {
   "cell_type": "code",
   "execution_count": 42,
   "metadata": {},
   "outputs": [
    {
     "data": {
      "text/plain": [
       "Text(0, 0.5, 'MEP Size')"
      ]
     },
     "execution_count": 42,
     "metadata": {},
     "output_type": "execute_result"
    },
    {
     "data": {
      "image/png": "[encoded data removed]",
      "text/plain": [
       "<Figure size 432x288 with 1 Axes>"
      ]
     },
     "metadata": {
      "needs_background": "light"
     },
     "output_type": "display_data"
    }
   ],
   "source": [
    "plt.plot(df4['ltm1_max_amplitude'], df4['mep_size'], 'o')\n",
    "plt.xlabel('Max amplitude - Left M1 electrodes')\n",
    "plt.ylabel('MEP Size')"
   ]
  },
  {
   "cell_type": "code",
   "execution_count": 43,
   "metadata": {},
   "outputs": [
    {
     "data": {
      "text/plain": [
       "Text(0, 0.5, 'MEP Size')"
      ]
     },
     "execution_count": 43,
     "metadata": {},
     "output_type": "execute_result"
    },
    {
     "data": {
      "image/png": "[encoded data removed]",
      "text/plain": [
       "<Figure size 432x288 with 1 Axes>"
      ]
     },
     "metadata": {
      "needs_background": "light"
     },
     "output_type": "display_data"
    }
   ],
   "source": [
    "plt.plot(df4['rtm1_max_amplitude'], df4['mep_size'], 'o')\n",
    "plt.xlabel('Max amplitude - Right M1 electrodes')\n",
    "plt.ylabel('MEP Size')"
   ]
  },
  {
   "cell_type": "markdown",
   "metadata": {},
   "source": [
    "# Linear Regression"
   ]
  },
  {
   "cell_type": "code",
   "execution_count": 44,
   "metadata": {
    "scrolled": true
   },
   "outputs": [
    {
     "data": {
      "text/plain": [
       "all_all_max_power             float64\n",
       "all_all_max_power_freq        float64\n",
       "all_alpha_max_power           float64\n",
       "all_alpha_max_power_freq      float64\n",
       "all_beta_max_power            float64\n",
       "all_beta_max_power_freq       float64\n",
       "all_delta_max_power           float64\n",
       "all_delta_max_power_freq      float64\n",
       "all_gamma_max_power           float64\n",
       "all_gamma_max_power_freq      float64\n",
       "all_max_amplitude             float64\n",
       "all_theta_max_power           float64\n",
       "all_theta_max_power_freq      float64\n",
       "area_under_eeg                float64\n",
       "epoch                           int64\n",
       "exp                            object\n",
       "ltm1_all_max_power            float64\n",
       "ltm1_all_max_power_freq       float64\n",
       "ltm1_alpha_max_power          float64\n",
       "ltm1_alpha_max_power_freq     float64\n",
       "ltm1_area_under_eeg           float64\n",
       "ltm1_beta_max_power           float64\n",
       "ltm1_beta_max_power_freq      float64\n",
       "ltm1_delta_max_power          float64\n",
       "ltm1_delta_max_power_freq     float64\n",
       "ltm1_gamma_max_power          float64\n",
       "ltm1_gamma_max_power_freq     float64\n",
       "ltm1_max_amplitude            float64\n",
       "ltm1_theta_max_power          float64\n",
       "ltm1_theta_max_power_freq     float64\n",
       "mep_size                      float64\n",
       "rtm1_all_max_power            float64\n",
       "rtm1_all_max_power_freq       float64\n",
       "rtm1_alpha_max_power          float64\n",
       "rtm1_alpha_max_power_freq     float64\n",
       "rtm1_area_under_eeg           float64\n",
       "rtm1_beta_max_power           float64\n",
       "rtm1_beta_max_power_freq      float64\n",
       "rtm1_delta_max_power          float64\n",
       "rtm1_delta_max_power_freq     float64\n",
       "rtm1_gamma_max_power          float64\n",
       "rtm1_gamma_max_power_freq     float64\n",
       "rtm1_max_amplitude            float64\n",
       "rtm1_theta_max_power          float64\n",
       "rtm1_theta_max_power_freq     float64\n",
       "run                            object\n",
       "sub                            object\n",
       "bin                          category\n",
       "dtype: object"
      ]
     },
     "execution_count": 44,
     "metadata": {},
     "output_type": "execute_result"
    }
   ],
   "source": [
    "df.dtypes"
   ]
  },
  {
   "cell_type": "code",
   "execution_count": 45,
   "metadata": {},
   "outputs": [],
   "source": [
    "x = df[['all_all_max_power', 'all_all_max_power_freq', 'all_alpha_max_power',\n",
    "       'all_alpha_max_power_freq', 'all_beta_max_power',\n",
    "       'all_beta_max_power_freq', 'all_delta_max_power',\n",
    "       'all_delta_max_power_freq', 'all_gamma_max_power',\n",
    "       'all_gamma_max_power_freq', 'all_max_amplitude', 'all_theta_max_power',\n",
    "       'all_theta_max_power_freq', 'area_under_eeg',\n",
    "       'ltm1_all_max_power', 'ltm1_all_max_power_freq', 'ltm1_alpha_max_power',\n",
    "       'ltm1_alpha_max_power_freq', 'ltm1_area_under_eeg',\n",
    "       'ltm1_beta_max_power', 'ltm1_beta_max_power_freq',\n",
    "       'ltm1_delta_max_power', 'ltm1_delta_max_power_freq',\n",
    "       'ltm1_gamma_max_power', 'ltm1_gamma_max_power_freq',\n",
    "       'ltm1_max_amplitude', 'ltm1_theta_max_power',\n",
    "       'ltm1_theta_max_power_freq', 'rtm1_all_max_power',\n",
    "       'rtm1_all_max_power_freq', 'rtm1_alpha_max_power',\n",
    "       'rtm1_alpha_max_power_freq', 'rtm1_area_under_eeg',\n",
    "       'rtm1_beta_max_power', 'rtm1_beta_max_power_freq',\n",
    "       'rtm1_delta_max_power', 'rtm1_delta_max_power_freq',\n",
    "       'rtm1_gamma_max_power', 'rtm1_gamma_max_power_freq',\n",
    "       'rtm1_max_amplitude', 'rtm1_theta_max_power',\n",
    "       'rtm1_theta_max_power_freq']]\n",
    "y = df['mep_size']"
   ]
  },
  {
   "cell_type": "code",
   "execution_count": 46,
   "metadata": {},
   "outputs": [],
   "source": [
    "x_train, x_test, y_train, y_test = train_test_split(x, y, test_size=0.33, random_state=23)"
   ]
  },
  {
   "cell_type": "code",
   "execution_count": 47,
   "metadata": {},
   "outputs": [],
   "source": [
    "model = LinearRegression().fit(x_train, y_train)"
   ]
  },
  {
   "cell_type": "code",
   "execution_count": 48,
   "metadata": {},
   "outputs": [
    {
     "name": "stdout",
     "output_type": "stream",
     "text": [
      "-0.06507137765621951\n"
     ]
    }
   ],
   "source": [
    "y_predicted = model.predict(x_test)\n",
    "rmse = mean_squared_error(y_test, y_predicted)\n",
    "r2 = r2_score(y_test, y_predicted)\n",
    "print(r2)"
   ]
  },
  {
   "cell_type": "code",
   "execution_count": 49,
   "metadata": {},
   "outputs": [
    {
     "data": {
      "text/plain": [
       "[<matplotlib.lines.Line2D at 0x7ffad825acc0>]"
      ]
     },
     "execution_count": 49,
     "metadata": {},
     "output_type": "execute_result"
    },
    {
     "data": {
      "image/png": "[encoded data removed]",
      "text/plain": [
       "<Figure size 432x288 with 1 Axes>"
      ]
     },
     "metadata": {
      "needs_background": "light"
     },
     "output_type": "display_data"
    }
   ],
   "source": [
    "plt.plot(y_test, y_predicted, 'o')"
   ]
  },
  {
   "cell_type": "markdown",
   "metadata": {},
   "source": [
    "# Random Forest"
   ]
  },
  {
   "cell_type": "code",
   "execution_count": 51,
   "metadata": {},
   "outputs": [],
   "source": [
    "from sklearn.ensemble import ExtraTreesRegressor, RandomForestRegressor\n",
    "from sklearn.feature_selection import SelectPercentile, f_regression\n",
    "from sklearn.model_selection import train_test_split\n",
    "from sklearn.neighbors import KNeighborsRegressor\n",
    "from sklearn.pipeline import make_pipeline, make_union\n",
    "from tpot.builtins import StackingEstimator"
   ]
  },
  {
   "cell_type": "code",
   "execution_count": 52,
   "metadata": {},
   "outputs": [
    {
     "name": "stdout",
     "output_type": "stream",
     "text": [
      "R2 score: -0.09503056743107718\n"
     ]
    }
   ],
   "source": [
    "rf = RandomForestRegressor(n_estimators = 5000, random_state = 42)\n",
    "rf.fit(x_train, y_train)\n",
    "y_pred = rf.predict(x_test)\n",
    "print(\"R2 score:\", sklearn.metrics.r2_score(y_test, y_pred))"
   ]
  },
  {
   "cell_type": "markdown",
   "metadata": {},
   "source": [
    "# TPOT"
   ]
  },
  {
   "cell_type": "code",
   "execution_count": 53,
   "metadata": {
    "scrolled": true
   },
   "outputs": [
    {
     "data": {
      "application/vnd.jupyter.widget-view+json": {
       "model_id": "",
       "version_major": 2,
       "version_minor": 0
      },
      "text/plain": [
       "HBox(children=(IntProgress(value=0, description='Optimization Progress', max=10100, style=ProgressStyle(descri…"
      ]
     },
     "metadata": {},
     "output_type": "display_data"
    },
    {
     "name": "stdout",
     "output_type": "stream",
     "text": [
      "Generation 1 - Current best internal CV score: -1.011778625893613\n",
      "Generation 2 - Current best internal CV score: -1.0081078249832096\n",
      "Generation 3 - Current best internal CV score: -1.0081078249832096\n",
      "Generation 4 - Current best internal CV score: -1.0081078249832096\n",
      "Generation 5 - Current best internal CV score: -1.0067834802774174\n",
      "Generation 6 - Current best internal CV score: -1.0067834802774174\n",
      "Generation 7 - Current best internal CV score: -1.0057427499440392\n",
      "Generation 8 - Current best internal CV score: -1.0015941383911016\n",
      "Generation 9 - Current best internal CV score: -1.0015941383911016\n",
      "Generation 10 - Current best internal CV score: -1.0001680075938584\n",
      "Generation 11 - Current best internal CV score: -0.9992622395161763\n",
      "Generation 12 - Current best internal CV score: -0.9992622395161763\n",
      "Generation 13 - Current best internal CV score: -0.9949600140059591\n",
      "Generation 14 - Current best internal CV score: -0.9949600140059591\n",
      "Generation 15 - Current best internal CV score: -0.9928983035964769\n",
      "Generation 16 - Current best internal CV score: -0.9928983035964769\n",
      "Generation 17 - Current best internal CV score: -0.9928983035964769\n",
      "Generation 18 - Current best internal CV score: -0.9908838824163233\n",
      "Generation 19 - Current best internal CV score: -0.9908838824163233\n",
      "Generation 20 - Current best internal CV score: -0.9908838824163233\n",
      "Generation 21 - Current best internal CV score: -0.9908838824163233\n",
      "Generation 22 - Current best internal CV score: -0.9900155085676203\n",
      "Generation 23 - Current best internal CV score: -0.9900155085676203\n",
      "Generation 24 - Current best internal CV score: -0.9893632814878295\n",
      "Generation 25 - Current best internal CV score: -0.9893632814878295\n",
      "Generation 26 - Current best internal CV score: -0.9893632814878295\n",
      "Generation 27 - Current best internal CV score: -0.9893632814878295\n",
      "Generation 28 - Current best internal CV score: -0.9893632814878295\n",
      "Generation 29 - Current best internal CV score: -0.9893632814878295\n",
      "Generation 30 - Current best internal CV score: -0.9893632814878295\n",
      "Generation 31 - Current best internal CV score: -0.9893632814878295\n",
      "Generation 32 - Current best internal CV score: -0.9893632814878295\n",
      "Generation 33 - Current best internal CV score: -0.9893632814878295\n",
      "Generation 34 - Current best internal CV score: -0.989182906794996\n",
      "Generation 35 - Current best internal CV score: -0.989182906794996\n",
      "Generation 36 - Current best internal CV score: -0.989182906794996\n",
      "Generation 37 - Current best internal CV score: -0.989182906794996\n",
      "Generation 38 - Current best internal CV score: -0.989182906794996\n",
      "Generation 39 - Current best internal CV score: -0.989182906794996\n",
      "Generation 40 - Current best internal CV score: -0.989182906794996\n",
      "Generation 41 - Current best internal CV score: -0.989182906794996\n",
      "Generation 42 - Current best internal CV score: -0.9868017118085113\n",
      "Generation 43 - Current best internal CV score: -0.9868017118085113\n",
      "Generation 44 - Current best internal CV score: -0.9836657795422248\n",
      "Generation 45 - Current best internal CV score: -0.9836657795422248\n",
      "Generation 46 - Current best internal CV score: -0.9749893572859847\n",
      "Generation 47 - Current best internal CV score: -0.9741727175722783\n",
      "Generation 48 - Current best internal CV score: -0.9741727175722783\n",
      "Generation 49 - Current best internal CV score: -0.9741727175722783\n",
      "Generation 50 - Current best internal CV score: -0.9741727175722783\n",
      "Generation 51 - Current best internal CV score: -0.9741727175722783\n",
      "Generation 52 - Current best internal CV score: -0.9741727175722783\n",
      "Generation 53 - Current best internal CV score: -0.9741727175722783\n",
      "Generation 54 - Current best internal CV score: -0.9741727175722783\n",
      "Generation 55 - Current best internal CV score: -0.9731065076503471\n",
      "Generation 56 - Current best internal CV score: -0.9731065076503471\n",
      "Generation 57 - Current best internal CV score: -0.9731065076503471\n",
      "Generation 58 - Current best internal CV score: -0.9718964247474083\n",
      "Generation 59 - Current best internal CV score: -0.9718964247474083\n",
      "Generation 60 - Current best internal CV score: -0.9718964247474083\n",
      "Generation 61 - Current best internal CV score: -0.9718964247474083\n",
      "Generation 62 - Current best internal CV score: -0.9718964247474083\n",
      "Generation 63 - Current best internal CV score: -0.9718964247474083\n",
      "Generation 64 - Current best internal CV score: -0.9718964247474083\n",
      "Generation 65 - Current best internal CV score: -0.9718964247474083\n",
      "Generation 66 - Current best internal CV score: -0.9718964247474083\n",
      "Generation 67 - Current best internal CV score: -0.9718964247474083\n",
      "Generation 68 - Current best internal CV score: -0.9718964247474083\n",
      "Generation 69 - Current best internal CV score: -0.9718964247474083\n",
      "Generation 70 - Current best internal CV score: -0.9718964247474083\n",
      "Generation 71 - Current best internal CV score: -0.971731786262574\n",
      "Generation 72 - Current best internal CV score: -0.971731786262574\n",
      "Generation 73 - Current best internal CV score: -0.971731786262574\n",
      "Generation 74 - Current best internal CV score: -0.971731786262574\n",
      "Generation 75 - Current best internal CV score: -0.971731786262574\n",
      "Generation 76 - Current best internal CV score: -0.971731786262574\n",
      "Generation 77 - Current best internal CV score: -0.9640396854554794\n",
      "Generation 78 - Current best internal CV score: -0.9640396854554794\n",
      "Generation 79 - Current best internal CV score: -0.9640396854554794\n",
      "Generation 80 - Current best internal CV score: -0.9640396854554794\n",
      "Generation 81 - Current best internal CV score: -0.9640396854554794\n",
      "Generation 82 - Current best internal CV score: -0.9640396854554794\n",
      "Generation 83 - Current best internal CV score: -0.9640396854554794\n",
      "Generation 84 - Current best internal CV score: -0.9640396854554794\n",
      "Generation 85 - Current best internal CV score: -0.9640396854554794\n",
      "Generation 86 - Current best internal CV score: -0.9631878903515607\n",
      "Generation 87 - Current best internal CV score: -0.9631878903515607\n",
      "Generation 88 - Current best internal CV score: -0.9631878903515607\n",
      "Generation 89 - Current best internal CV score: -0.9631878903515607\n",
      "Generation 90 - Current best internal CV score: -0.9631878903515607\n",
      "Generation 91 - Current best internal CV score: -0.9631878903515607\n",
      "Generation 92 - Current best internal CV score: -0.9631878903515607\n",
      "Generation 93 - Current best internal CV score: -0.9631878903515607\n",
      "Generation 94 - Current best internal CV score: -0.9631878903515607\n",
      "Generation 95 - Current best internal CV score: -0.9631878903515607\n",
      "Generation 96 - Current best internal CV score: -0.9631878903515607\n",
      "Generation 97 - Current best internal CV score: -0.9631878903515607\n",
      "Generation 98 - Current best internal CV score: -0.9631878903515607\n",
      "Generation 99 - Current best internal CV score: -0.9631878903515607\n",
      "Generation 100 - Current best internal CV score: -0.9631878903515607\n",
      "\n",
      "Best pipeline: RandomForestRegressor(StandardScaler(Normalizer(CombineDFs(input_matrix, CombineDFs(StandardScaler(LinearSVR(RobustScaler(input_matrix), C=0.0001, dual=True, epsilon=0.0001, loss=squared_epsilon_insensitive, tol=0.1)), Normalizer(input_matrix, norm=l2))), norm=l2)), bootstrap=False, max_features=0.05, min_samples_leaf=18, min_samples_split=7, n_estimators=100)\n",
      "-0.8632945828579413\n",
      "R2 score: 0.01998516203355971\n"
     ]
    }
   ],
   "source": [
    "tpot = TPOTRegressor(n_jobs=-1, verbosity=2)\n",
    "tpot.fit(x_train, y_train)\n",
    "print(tpot.score(x_test, y_test))\n",
    "predictions = tpot.predict(x_test)\n",
    "print(\"R2 score:\", sklearn.metrics.r2_score(y_test, predictions))\n",
    "tpot.export('tpot_01_pipeline_accuracy_100.py')"
   ]
  },
  {
   "cell_type": "code",
   "execution_count": 54,
   "metadata": {
    "scrolled": true
   },
   "outputs": [
    {
     "data": {
      "application/vnd.jupyter.widget-view+json": {
       "model_id": "",
       "version_major": 2,
       "version_minor": 0
      },
      "text/plain": [
       "HBox(children=(IntProgress(value=0, description='Optimization Progress', max=10100, style=ProgressStyle(descri…"
      ]
     },
     "metadata": {},
     "output_type": "display_data"
    },
    {
     "name": "stdout",
     "output_type": "stream",
     "text": [
      "Generation 1 - Current best internal CV score: 0.019710201829758668\n",
      "Generation 2 - Current best internal CV score: 0.019710201829758668\n",
      "Generation 3 - Current best internal CV score: 0.027531456564835865\n",
      "Generation 4 - Current best internal CV score: 0.027531456564835865\n",
      "Generation 5 - Current best internal CV score: 0.027531456564835865\n",
      "Generation 6 - Current best internal CV score: 0.027531456564835865\n",
      "Generation 7 - Current best internal CV score: 0.027531456564835865\n",
      "Generation 8 - Current best internal CV score: 0.03800793845805195\n",
      "Generation 9 - Current best internal CV score: 0.03800793845805195\n",
      "Generation 10 - Current best internal CV score: 0.03800793845805195\n",
      "Generation 11 - Current best internal CV score: 0.04148200883919269\n",
      "Generation 12 - Current best internal CV score: 0.04148200883919269\n",
      "Generation 13 - Current best internal CV score: 0.043868703397881716\n",
      "Generation 14 - Current best internal CV score: 0.043868703397881716\n",
      "Generation 15 - Current best internal CV score: 0.043868703397881716\n",
      "Generation 16 - Current best internal CV score: 0.0448644147015498\n",
      "Generation 17 - Current best internal CV score: 0.0448644147015498\n",
      "Generation 18 - Current best internal CV score: 0.0448644147015498\n",
      "Generation 19 - Current best internal CV score: 0.0448644147015498\n",
      "Generation 20 - Current best internal CV score: 0.0448644147015498\n",
      "Generation 21 - Current best internal CV score: 0.0448644147015498\n",
      "Generation 22 - Current best internal CV score: 0.0448644147015498\n",
      "Generation 23 - Current best internal CV score: 0.0448644147015498\n",
      "Generation 24 - Current best internal CV score: 0.0448644147015498\n",
      "Generation 25 - Current best internal CV score: 0.0448644147015498\n",
      "Generation 26 - Current best internal CV score: 0.0448644147015498\n",
      "Generation 27 - Current best internal CV score: 0.04929127762573167\n",
      "Generation 28 - Current best internal CV score: 0.04929127762573167\n",
      "Generation 29 - Current best internal CV score: 0.04929127762573167\n",
      "Generation 30 - Current best internal CV score: 0.04929127762573167\n",
      "Generation 31 - Current best internal CV score: 0.04929127762573167\n",
      "Generation 32 - Current best internal CV score: 0.04929127762573167\n",
      "Generation 33 - Current best internal CV score: 0.049420632731855506\n",
      "Generation 34 - Current best internal CV score: 0.049420632731855506\n",
      "Generation 35 - Current best internal CV score: 0.049420632731855506\n",
      "Generation 36 - Current best internal CV score: 0.049420632731855506\n",
      "Generation 37 - Current best internal CV score: 0.049420632731855506\n",
      "Generation 38 - Current best internal CV score: 0.049420632731855506\n",
      "Generation 39 - Current best internal CV score: 0.049420632731855506\n",
      "Generation 40 - Current best internal CV score: 0.049420632731855506\n",
      "Generation 41 - Current best internal CV score: 0.049420632731855506\n",
      "Generation 42 - Current best internal CV score: 0.049420632731855506\n",
      "Generation 43 - Current best internal CV score: 0.049420632731855506\n",
      "Generation 44 - Current best internal CV score: 0.05314158073524751\n",
      "Generation 45 - Current best internal CV score: 0.05314158073524751\n",
      "Generation 46 - Current best internal CV score: 0.05314158073524751\n",
      "Generation 47 - Current best internal CV score: 0.05613787853461607\n",
      "Generation 48 - Current best internal CV score: 0.05613787853461607\n",
      "Generation 49 - Current best internal CV score: 0.05613787853461607\n",
      "Generation 50 - Current best internal CV score: 0.05613787853461607\n",
      "Generation 51 - Current best internal CV score: 0.05613787853461607\n",
      "Generation 52 - Current best internal CV score: 0.05613787853461607\n",
      "Generation 53 - Current best internal CV score: 0.05613787853461607\n",
      "Generation 54 - Current best internal CV score: 0.05613787853461607\n",
      "Generation 55 - Current best internal CV score: 0.05613787853461607\n",
      "Generation 56 - Current best internal CV score: 0.05613787853461607\n",
      "Generation 57 - Current best internal CV score: 0.05613787853461607\n",
      "Generation 58 - Current best internal CV score: 0.05613787853461607\n",
      "Generation 59 - Current best internal CV score: 0.05613787853461607\n",
      "Generation 60 - Current best internal CV score: 0.05613787853461607\n",
      "Generation 61 - Current best internal CV score: 0.05613787853461607\n",
      "Generation 62 - Current best internal CV score: 0.05613787853461607\n",
      "Generation 63 - Current best internal CV score: 0.05613787853461607\n",
      "Generation 64 - Current best internal CV score: 0.05613787853461607\n",
      "Generation 65 - Current best internal CV score: 0.05613787853461607\n",
      "Generation 66 - Current best internal CV score: 0.05613787853461607\n",
      "Generation 67 - Current best internal CV score: 0.05613787853461607\n",
      "Generation 68 - Current best internal CV score: 0.05613787853461607\n",
      "Generation 69 - Current best internal CV score: 0.05613787853461607\n",
      "Generation 70 - Current best internal CV score: 0.05613787853461607\n",
      "Generation 71 - Current best internal CV score: 0.05613787853461607\n",
      "Generation 72 - Current best internal CV score: 0.05613787853461607\n",
      "Generation 73 - Current best internal CV score: 0.05613787853461607\n",
      "Generation 74 - Current best internal CV score: 0.05613787853461607\n",
      "Generation 75 - Current best internal CV score: 0.05613787853461607\n",
      "Generation 76 - Current best internal CV score: 0.05613787853461607\n",
      "Generation 77 - Current best internal CV score: 0.05613787853461607\n",
      "Generation 78 - Current best internal CV score: 0.05613787853461607\n",
      "Generation 79 - Current best internal CV score: 0.05613787853461607\n",
      "Generation 80 - Current best internal CV score: 0.05613787853461607\n",
      "Generation 81 - Current best internal CV score: 0.05613787853461607\n",
      "Generation 82 - Current best internal CV score: 0.05613787853461607\n",
      "Generation 83 - Current best internal CV score: 0.05613787853461607\n",
      "Generation 84 - Current best internal CV score: 0.05613787853461607\n",
      "Generation 85 - Current best internal CV score: 0.05613787853461607\n",
      "Generation 86 - Current best internal CV score: 0.05613787853461607\n",
      "Generation 87 - Current best internal CV score: 0.05613787853461607\n",
      "Generation 88 - Current best internal CV score: 0.05613787853461607\n",
      "Generation 89 - Current best internal CV score: 0.05613787853461607\n",
      "Generation 90 - Current best internal CV score: 0.05613787853461607\n",
      "Generation 91 - Current best internal CV score: 0.05613787853461607\n",
      "Generation 92 - Current best internal CV score: 0.05613787853461607\n",
      "Generation 93 - Current best internal CV score: 0.05613787853461607\n",
      "Generation 94 - Current best internal CV score: 0.05613787853461607\n",
      "Generation 95 - Current best internal CV score: 0.05613787853461607\n",
      "Generation 96 - Current best internal CV score: 0.05613787853461607\n",
      "Generation 97 - Current best internal CV score: 0.05613787853461607\n",
      "Generation 98 - Current best internal CV score: 0.05613787853461607\n",
      "Generation 99 - Current best internal CV score: 0.05613787853461607\n",
      "Generation 100 - Current best internal CV score: 0.05613787853461607\n",
      "\n",
      "Best pipeline: ExtraTreesRegressor(MinMaxScaler(Normalizer(CombineDFs(CombineDFs(Normalizer(CombineDFs(CombineDFs(input_matrix, input_matrix), StandardScaler(input_matrix)), norm=l2), input_matrix), StandardScaler(input_matrix)), norm=l2)), bootstrap=False, max_features=0.7000000000000001, min_samples_leaf=13, min_samples_split=18, n_estimators=100)\n",
      "-0.0033824848770034333\n",
      "R2 score: -0.0033824848770034333\n"
     ]
    }
   ],
   "source": [
    "tpot = TPOTRegressor(n_jobs=-1, verbosity=2, scoring='r2')\n",
    "tpot.fit(x_train, y_train)\n",
    "print(tpot.score(x_test, y_test))\n",
    "predictions = tpot.predict(x_test)\n",
    "print(\"R2 score:\", sklearn.metrics.r2_score(y_test, predictions))\n",
    "tpot.export('tpot_02_pipeline_r2_100.py')"
   ]
  },
  {
   "cell_type": "code",
   "execution_count": null,
   "metadata": {},
   "outputs": [
    {
     "data": {
      "application/vnd.jupyter.widget-view+json": {
       "model_id": "5966cc218b0448be98d60ba064e53ca1",
       "version_major": 2,
       "version_minor": 0
      },
      "text/plain": [
       "HBox(children=(IntProgress(value=0, description='Optimization Progress', max=160400, style=ProgressStyle(descr…"
      ]
     },
     "metadata": {},
     "output_type": "display_data"
    },
    {
     "name": "stdout",
     "output_type": "stream",
     "text": [
      "Generation 1 - Current best internal CV score: 0.018539345820622378\n",
      "Generation 2 - Current best internal CV score: 0.02027048271065457\n",
      "Generation 3 - Current best internal CV score: 0.023365418773583314\n",
      "Generation 4 - Current best internal CV score: 0.023365418773583314\n",
      "Generation 5 - Current best internal CV score: 0.026462860038529313\n",
      "Generation 6 - Current best internal CV score: 0.03319132850639073\n",
      "Generation 7 - Current best internal CV score: 0.03319132850639073\n",
      "Generation 8 - Current best internal CV score: 0.043125155542123615\n",
      "Generation 9 - Current best internal CV score: 0.043125155542123615\n",
      "Generation 10 - Current best internal CV score: 0.043125155542123615\n",
      "Generation 11 - Current best internal CV score: 0.043125155542123615\n",
      "Generation 12 - Current best internal CV score: 0.043125155542123615\n",
      "Generation 13 - Current best internal CV score: 0.043125155542123615\n",
      "Generation 14 - Current best internal CV score: 0.043125155542123615\n",
      "Generation 15 - Current best internal CV score: 0.047244174619431735\n",
      "Generation 16 - Current best internal CV score: 0.047244174619431735\n",
      "Generation 17 - Current best internal CV score: 0.047244174619431735\n",
      "Generation 18 - Current best internal CV score: 0.047244174619431735\n",
      "Generation 19 - Current best internal CV score: 0.047783647337533465\n",
      "Generation 20 - Current best internal CV score: 0.05238172747142848\n",
      "Generation 21 - Current best internal CV score: 0.05443563999029073\n",
      "Generation 22 - Current best internal CV score: 0.05443563999029073\n",
      "Generation 23 - Current best internal CV score: 0.05443563999029073\n",
      "Generation 24 - Current best internal CV score: 0.05443563999029073\n",
      "Generation 25 - Current best internal CV score: 0.05443563999029073\n",
      "Generation 26 - Current best internal CV score: 0.05443563999029073\n",
      "Generation 27 - Current best internal CV score: 0.05443563999029073\n",
      "Generation 28 - Current best internal CV score: 0.05443563999029073\n",
      "Generation 29 - Current best internal CV score: 0.05494353055142529\n",
      "Generation 30 - Current best internal CV score: 0.05494353055142529\n",
      "Generation 31 - Current best internal CV score: 0.055635301940544356\n",
      "Generation 32 - Current best internal CV score: 0.059345431054391384\n",
      "Generation 33 - Current best internal CV score: 0.059345431054391384\n",
      "Generation 34 - Current best internal CV score: 0.059345431054391384\n",
      "Generation 35 - Current best internal CV score: 0.059345431054391384\n",
      "Generation 36 - Current best internal CV score: 0.059345431054391384\n",
      "Generation 37 - Current best internal CV score: 0.06018533158862231\n",
      "Generation 38 - Current best internal CV score: 0.06018533158862231\n",
      "Generation 39 - Current best internal CV score: 0.06018533158862231\n",
      "Generation 40 - Current best internal CV score: 0.06018533158862231\n",
      "Generation 41 - Current best internal CV score: 0.06135827638499698\n",
      "Generation 42 - Current best internal CV score: 0.06135827638499698\n",
      "Generation 43 - Current best internal CV score: 0.06520975331530314\n",
      "Generation 44 - Current best internal CV score: 0.06520975331530314\n",
      "Generation 45 - Current best internal CV score: 0.06520975331530314\n",
      "Generation 46 - Current best internal CV score: 0.06520975331530314\n",
      "Generation 47 - Current best internal CV score: 0.06520975331530314\n",
      "Generation 48 - Current best internal CV score: 0.06520975331530314\n",
      "Generation 49 - Current best internal CV score: 0.06520975331530314\n",
      "Generation 50 - Current best internal CV score: 0.06520975331530314\n",
      "Generation 51 - Current best internal CV score: 0.06520975331530314\n",
      "Generation 52 - Current best internal CV score: 0.06520975331530314\n",
      "Generation 53 - Current best internal CV score: 0.06520975331530314\n",
      "Generation 54 - Current best internal CV score: 0.06520975331530314\n",
      "Generation 55 - Current best internal CV score: 0.0653648205836618\n",
      "Generation 56 - Current best internal CV score: 0.06736951399939646\n",
      "Generation 57 - Current best internal CV score: 0.06736951399939646\n",
      "Generation 58 - Current best internal CV score: 0.06736951399939646\n",
      "Generation 59 - Current best internal CV score: 0.06739089870921315\n",
      "Generation 60 - Current best internal CV score: 0.06739089870921315\n",
      "Generation 61 - Current best internal CV score: 0.06739089870921315\n",
      "Generation 62 - Current best internal CV score: 0.06739089870921315\n",
      "Generation 63 - Current best internal CV score: 0.06739089870921315\n",
      "Generation 64 - Current best internal CV score: 0.06739089870921315\n",
      "Generation 65 - Current best internal CV score: 0.06739089870921315\n",
      "Generation 66 - Current best internal CV score: 0.06739089870921315\n",
      "Generation 67 - Current best internal CV score: 0.06742193605800398\n",
      "Generation 68 - Current best internal CV score: 0.06742193605800398\n",
      "Generation 69 - Current best internal CV score: 0.06742193605800398\n",
      "Generation 70 - Current best internal CV score: 0.06742193605800398\n",
      "Generation 71 - Current best internal CV score: 0.06742193605800398\n",
      "Generation 72 - Current best internal CV score: 0.06742193605800398\n",
      "Generation 73 - Current best internal CV score: 0.06742193605800398\n",
      "Generation 74 - Current best internal CV score: 0.06742193605800398\n",
      "Generation 75 - Current best internal CV score: 0.06742193605800398\n",
      "Generation 76 - Current best internal CV score: 0.06742193605800398\n",
      "Generation 77 - Current best internal CV score: 0.0729454663548141\n",
      "Generation 78 - Current best internal CV score: 0.0729454663548141\n",
      "Generation 79 - Current best internal CV score: 0.0729454663548141\n",
      "Generation 80 - Current best internal CV score: 0.0729454663548141\n",
      "Generation 81 - Current best internal CV score: 0.0729454663548141\n",
      "Generation 82 - Current best internal CV score: 0.0729454663548141\n",
      "Generation 83 - Current best internal CV score: 0.0729454663548141\n",
      "Generation 84 - Current best internal CV score: 0.0729454663548141\n",
      "Generation 85 - Current best internal CV score: 0.0729454663548141\n",
      "Generation 86 - Current best internal CV score: 0.0729454663548141\n",
      "Generation 87 - Current best internal CV score: 0.0729454663548141\n",
      "Generation 88 - Current best internal CV score: 0.0729454663548141\n",
      "Generation 89 - Current best internal CV score: 0.0729454663548141\n",
      "Generation 90 - Current best internal CV score: 0.0729454663548141\n",
      "Generation 91 - Current best internal CV score: 0.0729454663548141\n",
      "Generation 92 - Current best internal CV score: 0.0729454663548141\n",
      "Generation 93 - Current best internal CV score: 0.0729454663548141\n",
      "Generation 94 - Current best internal CV score: 0.0729454663548141\n",
      "Generation 95 - Current best internal CV score: 0.0729454663548141\n",
      "Generation 96 - Current best internal CV score: 0.0729454663548141\n",
      "Generation 97 - Current best internal CV score: 0.0729454663548141\n",
      "Generation 98 - Current best internal CV score: 0.07294594011017645\n",
      "Generation 99 - Current best internal CV score: 0.07294594011017645\n",
      "Generation 100 - Current best internal CV score: 0.07294594011017645\n",
      "Generation 101 - Current best internal CV score: 0.07294594011017645\n",
      "Generation 102 - Current best internal CV score: 0.07294594011017645\n",
      "Generation 103 - Current best internal CV score: 0.07294594011017645\n",
      "Generation 104 - Current best internal CV score: 0.07294594011017645\n",
      "Generation 105 - Current best internal CV score: 0.07294594011017645\n",
      "Generation 106 - Current best internal CV score: 0.07294594011017645\n",
      "Generation 107 - Current best internal CV score: 0.07294594011017645\n",
      "Generation 108 - Current best internal CV score: 0.07294594011017645\n",
      "Generation 109 - Current best internal CV score: 0.07294594011017645\n",
      "Generation 110 - Current best internal CV score: 0.07294594011017645\n",
      "Generation 111 - Current best internal CV score: 0.07294594011017645\n",
      "Generation 112 - Current best internal CV score: 0.07294594011017645\n",
      "Generation 113 - Current best internal CV score: 0.07294594011017645\n",
      "Generation 114 - Current best internal CV score: 0.07294594011017645\n",
      "Generation 115 - Current best internal CV score: 0.07294594011017645\n",
      "Generation 116 - Current best internal CV score: 0.07294594011017645\n",
      "Generation 117 - Current best internal CV score: 0.07294594011017645\n",
      "Generation 118 - Current best internal CV score: 0.07294594011017645\n",
      "Generation 119 - Current best internal CV score: 0.07294594011017645\n",
      "Generation 120 - Current best internal CV score: 0.07294594011017645\n",
      "Generation 121 - Current best internal CV score: 0.07294594011017645\n"
     ]
    },
    {
     "name": "stdout",
     "output_type": "stream",
     "text": [
      "Generation 122 - Current best internal CV score: 0.07294594011017645\n",
      "Generation 123 - Current best internal CV score: 0.07294594011017645\n",
      "Generation 124 - Current best internal CV score: 0.07294594011017645\n",
      "Generation 125 - Current best internal CV score: 0.07294594011017645\n",
      "Generation 126 - Current best internal CV score: 0.07294594011017645\n",
      "Generation 127 - Current best internal CV score: 0.07294594011017645\n",
      "Generation 128 - Current best internal CV score: 0.07294594011017645\n",
      "Generation 129 - Current best internal CV score: 0.07294594011017645\n",
      "Generation 130 - Current best internal CV score: 0.07294594011017645\n",
      "Generation 131 - Current best internal CV score: 0.07294594011017645\n",
      "Generation 132 - Current best internal CV score: 0.07294594011017645\n",
      "Generation 133 - Current best internal CV score: 0.07294594011017645\n",
      "Generation 134 - Current best internal CV score: 0.07294594011017645\n",
      "Generation 135 - Current best internal CV score: 0.07294594011017645\n",
      "Generation 136 - Current best internal CV score: 0.07521364977075211\n",
      "Generation 137 - Current best internal CV score: 0.07521364977075211\n",
      "Generation 138 - Current best internal CV score: 0.07521364977075211\n",
      "Generation 139 - Current best internal CV score: 0.07521364977075211\n",
      "Generation 140 - Current best internal CV score: 0.07521364977075211\n",
      "Generation 141 - Current best internal CV score: 0.07521364977075211\n",
      "Generation 142 - Current best internal CV score: 0.07521364977075211\n",
      "Generation 143 - Current best internal CV score: 0.07521364977075211\n",
      "Generation 144 - Current best internal CV score: 0.07521364977075211\n",
      "Generation 145 - Current best internal CV score: 0.07521364977075211\n",
      "Generation 146 - Current best internal CV score: 0.07521364977075211\n",
      "Generation 147 - Current best internal CV score: 0.07521364977075211\n",
      "Generation 148 - Current best internal CV score: 0.07521364977075211\n",
      "Generation 149 - Current best internal CV score: 0.07521364977075211\n",
      "Generation 150 - Current best internal CV score: 0.07521364977075211\n",
      "Generation 151 - Current best internal CV score: 0.07521364977075211\n",
      "Generation 152 - Current best internal CV score: 0.07521364977075211\n",
      "Generation 153 - Current best internal CV score: 0.07521364977075211\n",
      "Generation 154 - Current best internal CV score: 0.07521364977075211\n",
      "Generation 155 - Current best internal CV score: 0.07521364977075211\n",
      "Generation 156 - Current best internal CV score: 0.07521364977075211\n",
      "Generation 157 - Current best internal CV score: 0.07521364977075211\n",
      "Generation 158 - Current best internal CV score: 0.07521364977075211\n",
      "Generation 159 - Current best internal CV score: 0.07521364977075211\n",
      "Generation 160 - Current best internal CV score: 0.07521364977075211\n",
      "Generation 161 - Current best internal CV score: 0.07521364977075211\n",
      "Generation 162 - Current best internal CV score: 0.07521364977075211\n",
      "Generation 163 - Current best internal CV score: 0.07521364977075211\n",
      "Generation 164 - Current best internal CV score: 0.07521364977075211\n",
      "Generation 165 - Current best internal CV score: 0.07521364977075211\n",
      "Generation 166 - Current best internal CV score: 0.07521364977075211\n",
      "Generation 167 - Current best internal CV score: 0.07521364977075211\n",
      "Generation 168 - Current best internal CV score: 0.07521364977075211\n",
      "Generation 169 - Current best internal CV score: 0.07521364977075211\n",
      "Generation 170 - Current best internal CV score: 0.07521364977075211\n",
      "Generation 171 - Current best internal CV score: 0.07521364977075211\n",
      "Generation 172 - Current best internal CV score: 0.07521364977075211\n",
      "Generation 173 - Current best internal CV score: 0.07521364977075211\n",
      "Generation 174 - Current best internal CV score: 0.07521364977075211\n",
      "Generation 175 - Current best internal CV score: 0.07521364977075211\n",
      "Generation 176 - Current best internal CV score: 0.07521364977075211\n",
      "Generation 177 - Current best internal CV score: 0.07521364977075211\n",
      "Generation 178 - Current best internal CV score: 0.07521364977075211\n",
      "Generation 179 - Current best internal CV score: 0.08253521575425955\n",
      "Generation 180 - Current best internal CV score: 0.08253521575425955\n",
      "Generation 181 - Current best internal CV score: 0.08253521575425955\n",
      "Generation 182 - Current best internal CV score: 0.08253521575425955\n",
      "Generation 183 - Current best internal CV score: 0.08253521575425955\n",
      "Generation 184 - Current best internal CV score: 0.08253521575425955\n",
      "Generation 185 - Current best internal CV score: 0.08253521575425955\n",
      "Generation 186 - Current best internal CV score: 0.08253521575425955\n",
      "Generation 187 - Current best internal CV score: 0.08253521575425955\n",
      "Generation 188 - Current best internal CV score: 0.08253521575425955\n",
      "Generation 189 - Current best internal CV score: 0.08253521575425955\n",
      "Generation 190 - Current best internal CV score: 0.08253521575425955\n",
      "Generation 191 - Current best internal CV score: 0.08253521575425955\n",
      "Generation 192 - Current best internal CV score: 0.08253521575425955\n",
      "Generation 193 - Current best internal CV score: 0.08253521575425955\n",
      "Generation 194 - Current best internal CV score: 0.08253521575425955\n",
      "Generation 195 - Current best internal CV score: 0.08253521575425955\n",
      "Generation 196 - Current best internal CV score: 0.08253521575425955\n",
      "Generation 197 - Current best internal CV score: 0.08253521575425955\n",
      "Generation 198 - Current best internal CV score: 0.08253521575425955\n",
      "Generation 199 - Current best internal CV score: 0.08253521575425955\n",
      "Generation 200 - Current best internal CV score: 0.08253521575425955\n",
      "Generation 201 - Current best internal CV score: 0.08253521575425955\n",
      "Generation 202 - Current best internal CV score: 0.08253521575425955\n",
      "Generation 203 - Current best internal CV score: 0.08253521575425955\n",
      "Generation 204 - Current best internal CV score: 0.08253521575425955\n",
      "Generation 205 - Current best internal CV score: 0.08253521575425955\n",
      "Generation 206 - Current best internal CV score: 0.08253521575425955\n",
      "Generation 207 - Current best internal CV score: 0.08253521575425955\n",
      "Generation 208 - Current best internal CV score: 0.08253521575425955\n",
      "Generation 209 - Current best internal CV score: 0.08253521575425955\n",
      "Generation 210 - Current best internal CV score: 0.08253521575425955\n",
      "Generation 211 - Current best internal CV score: 0.08253521575425955\n",
      "Generation 212 - Current best internal CV score: 0.08253521575425955\n",
      "Generation 213 - Current best internal CV score: 0.08253521575425955\n",
      "Generation 214 - Current best internal CV score: 0.08253521575425955\n",
      "Generation 215 - Current best internal CV score: 0.08253521575425955\n",
      "Generation 216 - Current best internal CV score: 0.08253521575425955\n",
      "Generation 217 - Current best internal CV score: 0.08253521575425955\n",
      "Generation 218 - Current best internal CV score: 0.08253521575425955\n",
      "Generation 219 - Current best internal CV score: 0.08253521575425955\n",
      "Generation 220 - Current best internal CV score: 0.08284215647342685\n",
      "Generation 221 - Current best internal CV score: 0.08284215647342685\n",
      "Generation 222 - Current best internal CV score: 0.08284215647342685\n",
      "Generation 223 - Current best internal CV score: 0.08284215647342685\n",
      "Generation 224 - Current best internal CV score: 0.08284215647342685\n",
      "Generation 225 - Current best internal CV score: 0.08284215647342685\n",
      "Generation 226 - Current best internal CV score: 0.08284215647342685\n",
      "Generation 227 - Current best internal CV score: 0.08284215647342685\n",
      "Generation 228 - Current best internal CV score: 0.08284215647342685\n",
      "Generation 229 - Current best internal CV score: 0.08284215647342685\n",
      "Generation 230 - Current best internal CV score: 0.08284215647342685\n",
      "Generation 231 - Current best internal CV score: 0.08284215647342685\n",
      "Generation 232 - Current best internal CV score: 0.08284215647342685\n",
      "Generation 233 - Current best internal CV score: 0.08284215647342685\n",
      "Generation 234 - Current best internal CV score: 0.08284215647342685\n",
      "Generation 235 - Current best internal CV score: 0.08284215647342685\n",
      "Generation 236 - Current best internal CV score: 0.08284215647342685\n",
      "Generation 237 - Current best internal CV score: 0.08284215647342685\n",
      "Generation 238 - Current best internal CV score: 0.08284215647342685\n",
      "Generation 239 - Current best internal CV score: 0.08284215647342685\n",
      "Generation 240 - Current best internal CV score: 0.08284215647342685\n"
     ]
    },
    {
     "name": "stdout",
     "output_type": "stream",
     "text": [
      "Generation 241 - Current best internal CV score: 0.08284215647342685\n",
      "Generation 242 - Current best internal CV score: 0.08284215647342685\n",
      "Generation 243 - Current best internal CV score: 0.08284215647342685\n",
      "Generation 244 - Current best internal CV score: 0.08284215647342685\n",
      "Generation 245 - Current best internal CV score: 0.08284215647342685\n",
      "Generation 246 - Current best internal CV score: 0.08284215647342685\n",
      "Generation 247 - Current best internal CV score: 0.08284215647342685\n",
      "Generation 248 - Current best internal CV score: 0.08284215647342685\n",
      "Generation 249 - Current best internal CV score: 0.08284215647342685\n",
      "Generation 250 - Current best internal CV score: 0.08284215647342685\n",
      "Generation 251 - Current best internal CV score: 0.08284215647342685\n",
      "Generation 252 - Current best internal CV score: 0.08284215647342685\n",
      "Generation 253 - Current best internal CV score: 0.08284215647342685\n",
      "Generation 254 - Current best internal CV score: 0.08284215647342685\n",
      "Generation 255 - Current best internal CV score: 0.08284215647342685\n",
      "Generation 256 - Current best internal CV score: 0.08284215647342685\n",
      "Generation 257 - Current best internal CV score: 0.08284215647342685\n",
      "Generation 258 - Current best internal CV score: 0.08284215647342685\n",
      "Generation 259 - Current best internal CV score: 0.08284215647342685\n",
      "Generation 260 - Current best internal CV score: 0.08284215647342685\n",
      "Generation 261 - Current best internal CV score: 0.08284215647342685\n",
      "Generation 262 - Current best internal CV score: 0.08284215647342685\n",
      "Generation 263 - Current best internal CV score: 0.08284215647342685\n"
     ]
    }
   ],
   "source": [
    "tpot = TPOTRegressor(n_jobs=-1, verbosity=2, generations=400, population_size=400, scoring='r2')\n",
    "tpot.fit(x_train, y_train)\n",
    "print(tpot.score(x_test, y_test))\n",
    "predictions = tpot.predict(x_test)\n",
    "print(\"R2 score:\", sklearn.metrics.r2_score(y_test, predictions))\n",
    "tpot.export('tpot_03_pipeline_r2_400.py')"
   ]
  },
  {
   "cell_type": "code",
   "execution_count": null,
   "metadata": {},
   "outputs": [],
   "source": [
    "tpot = TPOTRegressor(n_jobs=-1, verbosity=2, generations=400, population_size=400)\n",
    "tpot.fit(x_train, y_train)\n",
    "print(tpot.score(x_test, y_test))\n",
    "predictions = tpot.predict(x_test)\n",
    "print(\"R2 score:\", sklearn.metrics.r2_score(y_test, predictions))\n",
    "tpot.export('tpot_03_pipeline_accuracy_400.py')"
   ]
  },
  {
   "cell_type": "markdown",
   "metadata": {},
   "source": [
    "# Test pipeline"
   ]
  },
  {
   "cell_type": "code",
   "execution_count": null,
   "metadata": {},
   "outputs": [],
   "source": [
    "from sklearn.ensemble import ExtraTreesRegressor, RandomForestRegressor\n",
    "from sklearn.feature_selection import SelectPercentile, f_regression\n",
    "from sklearn.model_selection import train_test_split\n",
    "from sklearn.neighbors import KNeighborsRegressor\n",
    "from sklearn.pipeline import make_pipeline, make_union\n",
    "from tpot.builtins import StackingEstimator"
   ]
  },
  {
   "cell_type": "code",
   "execution_count": null,
   "metadata": {},
   "outputs": [],
   "source": [
    "exported_pipeline = make_pipeline(\n",
    "    SelectPercentile(score_func=f_regression, percentile=7),\n",
    "    StackingEstimator(estimator=KNeighborsRegressor(n_neighbors=29, p=1, weights=\"distance\")),\n",
    "    StackingEstimator(estimator=ExtraTreesRegressor(bootstrap=False, max_features=0.25, min_samples_leaf=20, min_samples_split=15, n_estimators=100)),\n",
    "    SelectPercentile(score_func=f_regression, percentile=48),\n",
    "    RandomForestRegressor(bootstrap=False, max_features=0.6000000000000001, min_samples_leaf=14, min_samples_split=16, n_estimators=100)\n",
    ")\n",
    "\n",
    "exported_pipeline.fit(x_train, y_train)\n",
    "print(\"Train R2 score:\", sklearn.metrics.r2_score(y_train, exported_pipeline.predict(x_train)))\n",
    "print(\"Test R2 score:\", sklearn.metrics.r2_score(y_test, exported_pipeline.predict(x_test)))"
   ]
  }
 ],
 "metadata": {
  "kernelspec": {
   "display_name": "Python 3",
   "language": "python",
   "name": "python3"
  },
  "language_info": {
   "codemirror_mode": {
    "name": "ipython",
    "version": 3
   },
   "file_extension": ".py",
   "mimetype": "text/x-python",
   "name": "python",
   "nbconvert_exporter": "python",
   "pygments_lexer": "ipython3",
   "version": "3.7.3"
  }
 },
 "nbformat": 4,
 "nbformat_minor": 2
}
