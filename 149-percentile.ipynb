{
 "cells": [
  {
   "cell_type": "code",
   "execution_count": 81,
   "metadata": {},
   "outputs": [],
   "source": [
    "import glob\n",
    "import pandas as pd\n",
    "import mne\n",
    "import matplotlib\n",
    "import matplotlib.pyplot as plt\n",
    "from io import StringIO\n",
    "import mne\n",
    "from mne.io import read_raw_eeglab, read_epochs_eeglab\n",
    "import numpy as np\n",
    "from scipy import signal\n",
    "from scipy import fftpack\n",
    "import seaborn as sns\n",
    "from sklearn.linear_model import LinearRegression, LogisticRegression\n",
    "from sklearn.ensemble import RandomForestRegressor\n",
    "from sklearn.model_selection import train_test_split\n",
    "from sklearn.metrics import mean_squared_error, r2_score\n",
    "from tqdm import tqdm, tqdm_notebook\n",
    "import math\n",
    "\n",
    "from sklearn import preprocessing\n",
    "from sklearn.linear_model import SGDClassifier\n",
    "from sklearn.ensemble import GradientBoostingRegressor, RandomForestRegressor\n",
    "from sklearn.svm import SVR\n",
    "from sklearn.svm import SVC\n",
    "from sklearn.metrics import confusion_matrix, classification_report, accuracy_score\n",
    "from sklearn.tree import DecisionTreeClassifier, DecisionTreeRegressor\n",
    "from keras_tqdm import TQDMNotebookCallback\n",
    "from tensorboard.plugins.hparams import api as hp\n",
    "from livelossplot.tf_keras import PlotLossesCallback\n",
    "\n",
    "import sklearn.model_selection\n",
    "import sklearn.datasets\n",
    "import sklearn.metrics\n",
    "import multiprocessing\n",
    "from tpot import TPOTRegressor\n",
    "from oct2py import octave\n",
    "\n",
    "from joblib import Parallel, delayed\n",
    "import multiprocessing\n",
    "from joblib import wrap_non_picklable_objects\n",
    "import json\n",
    "import pickle\n",
    "import os.path\n",
    "from mpl_toolkits.mplot3d import axes3d\n",
    "import timeit\n",
    "from skimage.transform import resize\n",
    "from timeit import default_timer as timer\n",
    "from datetime import timedelta\n",
    "import json\n",
    "\n",
    "import tensorflow as tf\n",
    "from tensorflow import keras\n",
    "from tensorflow.keras import layers, optimizers, callbacks\n",
    "from tensorflow.keras.models import Model, load_model\n",
    "from tensorboard.plugins.hparams import api as hp\n",
    "from tensorflow.keras.utils import plot_model\n",
    "\n",
    "import statsmodels.api as sm\n",
    "import statsmodels.formula.api as smf\n",
    "from statsmodels.genmod import bayes_mixed_glm as glm\n",
    "\n",
    "from sklearn.feature_selection import SelectKBest\n",
    "from sklearn.feature_selection import chi2\n",
    "from sklearn.feature_selection import RFECV\n",
    "\n",
    "from spectrum import arburg, arma2psd, pburg\n",
    "import pylab\n",
    "from scipy.signal import find_peaks\n",
    "from scipy.integrate import simps\n",
    "from scipy.io import loadmat"
   ]
  },
  {
   "cell_type": "markdown",
   "metadata": {},
   "source": [
    "# V1"
   ]
  },
  {
   "cell_type": "code",
   "execution_count": 82,
   "metadata": {},
   "outputs": [
    {
     "name": "stdout",
     "output_type": "stream",
     "text": [
      "(2676, 29)\n"
     ]
    },
    {
     "data": {
      "image/png": "[encoded data removed]",
      "text/plain": [
       "<Figure size 1368x288 with 1 Axes>"
      ]
     },
     "metadata": {
      "needs_background": "light"
     },
     "output_type": "display_data"
    }
   ],
   "source": [
    "# df = pd.read_excel('139-new-ld-v3.xlsx')\n",
    "df = pd.read_excel('151-pburg-v1.xlsx')\n",
    "df['sub'].hist(figsize=(19,4), xrot=90, bins=50, align='mid')\n",
    "print(df.shape)"
   ]
  },
  {
   "cell_type": "code",
   "execution_count": 69,
   "metadata": {},
   "outputs": [
    {
     "data": {
      "text/plain": [
       "<matplotlib.axes._subplots.AxesSubplot at 0x7f97b7216080>"
      ]
     },
     "execution_count": 69,
     "metadata": {},
     "output_type": "execute_result"
    },
    {
     "data": {
      "image/png": "[encoded data removed]",
      "text/plain": [
       "<Figure size 1368x288 with 1 Axes>"
      ]
     },
     "metadata": {
      "needs_background": "light"
     },
     "output_type": "display_data"
    }
   ],
   "source": [
    "# df = df[~df['sub'].isin(['sub05', 'sub09', 'sub11', 'sub10'])]\n",
    "# df = df[~df['sub'].isin(['sub05', 'sub09', 'sub11', 'sub10', 'sub03', 'sub06', 'sub12'])]\n",
    "df['sub_exp'] = df['sub'] + \"_\" + df['exp']\n",
    "df['sub_exp_run'] = df['sub_exp'] + \"_\" + df['run']\n",
    "df = df[~df['sub_exp'].isin(['sub04_exp01', 'sub14_exp01'])]\n",
    "# df = df[~df['sub_exp'].isin(['sub03_exp01'])]\n",
    "# df = df[df['mep_latency'] < 0.2]\n",
    "# df = df[df['mep_latency'] > 0]\n",
    "# df.to_excel('140-ld-v3.xlsx')\n",
    "# df.to_excel('148-csd-avg-v2.xlsx')\n",
    "df['sub_exp'].hist(figsize=(19,4), xrot=90, bins=50, align='mid')"
   ]
  },
  {
   "cell_type": "code",
   "execution_count": 83,
   "metadata": {},
   "outputs": [],
   "source": [
    "df['mep_size_log'] = np.log(df['mep_size'])\n",
    "df['mep_duration_log'] = np.log(df['mep_duration'])\n",
    "df['mep_latency_log'] = np.log(df['mep_latency'])\n",
    "df['mep_area_log'] = np.log(df['mep_area'])"
   ]
  },
  {
   "cell_type": "code",
   "execution_count": 84,
   "metadata": {},
   "outputs": [
    {
     "data": {
      "text/html": [
       "<div>\n",
       "<style scoped>\n",
       "    .dataframe tbody tr th:only-of-type {\n",
       "        vertical-align: middle;\n",
       "    }\n",
       "\n",
       "    .dataframe tbody tr th {\n",
       "        vertical-align: top;\n",
       "    }\n",
       "\n",
       "    .dataframe thead th {\n",
       "        text-align: right;\n",
       "    }\n",
       "</style>\n",
       "<table border=\"1\" class=\"dataframe\">\n",
       "  <thead>\n",
       "    <tr style=\"text-align: right;\">\n",
       "      <th></th>\n",
       "      <th>exp</th>\n",
       "      <th>name</th>\n",
       "    </tr>\n",
       "    <tr>\n",
       "      <th>sub</th>\n",
       "      <th></th>\n",
       "      <th></th>\n",
       "    </tr>\n",
       "  </thead>\n",
       "  <tbody>\n",
       "    <tr>\n",
       "      <th>sub02</th>\n",
       "      <td>exp01</td>\n",
       "      <td>David Brown</td>\n",
       "    </tr>\n",
       "    <tr>\n",
       "      <th>sub03</th>\n",
       "      <td>exp03</td>\n",
       "      <td>Sarah Brunet</td>\n",
       "    </tr>\n",
       "    <tr>\n",
       "      <th>sub04</th>\n",
       "      <td>exp02</td>\n",
       "      <td>Lynette Gallaty</td>\n",
       "    </tr>\n",
       "    <tr>\n",
       "      <th>sub05</th>\n",
       "      <td>exp02</td>\n",
       "      <td>Mana Higashihara</td>\n",
       "    </tr>\n",
       "    <tr>\n",
       "      <th>sub06</th>\n",
       "      <td>exp01</td>\n",
       "      <td>Tim Howells</td>\n",
       "    </tr>\n",
       "    <tr>\n",
       "      <th>sub07</th>\n",
       "      <td>exp01</td>\n",
       "      <td>Merolene Pirsarkiewicz</td>\n",
       "    </tr>\n",
       "    <tr>\n",
       "      <th>sub08</th>\n",
       "      <td>exp03</td>\n",
       "      <td>Steve Vucic</td>\n",
       "    </tr>\n",
       "    <tr>\n",
       "      <th>sub10</th>\n",
       "      <td>exp02</td>\n",
       "      <td>Nimeshan Geevasinga</td>\n",
       "    </tr>\n",
       "    <tr>\n",
       "      <th>sub12</th>\n",
       "      <td>exp03</td>\n",
       "      <td>Marshall Owen</td>\n",
       "    </tr>\n",
       "    <tr>\n",
       "      <th>sub13</th>\n",
       "      <td>exp02</td>\n",
       "      <td>Stephen Schebeci</td>\n",
       "    </tr>\n",
       "    <tr>\n",
       "      <th>sub15</th>\n",
       "      <td>exp01</td>\n",
       "      <td>Carlos Brito</td>\n",
       "    </tr>\n",
       "    <tr>\n",
       "      <th>sub16</th>\n",
       "      <td>exp01</td>\n",
       "      <td>Alistair McEwan</td>\n",
       "    </tr>\n",
       "    <tr>\n",
       "      <th>sub17</th>\n",
       "      <td>exp01</td>\n",
       "      <td>Toni Mathieson</td>\n",
       "    </tr>\n",
       "    <tr>\n",
       "      <th>sub18</th>\n",
       "      <td>exp01</td>\n",
       "      <td>Karen Robertson</td>\n",
       "    </tr>\n",
       "    <tr>\n",
       "      <th>sub19</th>\n",
       "      <td>exp01</td>\n",
       "      <td>Julie Terry</td>\n",
       "    </tr>\n",
       "    <tr>\n",
       "      <th>sub20</th>\n",
       "      <td>exp01</td>\n",
       "      <td>Natalie Terry</td>\n",
       "    </tr>\n",
       "    <tr>\n",
       "      <th>sub21</th>\n",
       "      <td>exp01</td>\n",
       "      <td>Raquib-ul Alam</td>\n",
       "    </tr>\n",
       "    <tr>\n",
       "      <th>sub22</th>\n",
       "      <td>exp01</td>\n",
       "      <td>Lin Gavin</td>\n",
       "    </tr>\n",
       "  </tbody>\n",
       "</table>\n",
       "</div>"
      ],
      "text/plain": [
       "         exp                    name\n",
       "sub                                 \n",
       "sub02  exp01             David Brown\n",
       "sub03  exp03            Sarah Brunet\n",
       "sub04  exp02         Lynette Gallaty\n",
       "sub05  exp02        Mana Higashihara\n",
       "sub06  exp01             Tim Howells\n",
       "sub07  exp01  Merolene Pirsarkiewicz\n",
       "sub08  exp03             Steve Vucic\n",
       "sub10  exp02     Nimeshan Geevasinga\n",
       "sub12  exp03           Marshall Owen\n",
       "sub13  exp02        Stephen Schebeci\n",
       "sub15  exp01            Carlos Brito\n",
       "sub16  exp01         Alistair McEwan\n",
       "sub17  exp01          Toni Mathieson\n",
       "sub18  exp01         Karen Robertson\n",
       "sub19  exp01             Julie Terry\n",
       "sub20  exp01           Natalie Terry\n",
       "sub21  exp01          Raquib-ul Alam\n",
       "sub22  exp01               Lin Gavin"
      ]
     },
     "execution_count": 84,
     "metadata": {},
     "output_type": "execute_result"
    }
   ],
   "source": [
    "df.groupby('sub').first()[['exp', 'name']]"
   ]
  },
  {
   "cell_type": "markdown",
   "metadata": {},
   "source": [
    "# Tertiles/quartiles"
   ]
  },
  {
   "cell_type": "code",
   "execution_count": 85,
   "metadata": {},
   "outputs": [
    {
     "name": "stderr",
     "output_type": "stream",
     "text": [
      "  0%|          | 0/18 [00:00<?, ?it/s]/home/raquib/anaconda3/envs/tmseeg/lib/python3.7/site-packages/ipykernel_launcher.py:7: SettingWithCopyWarning: \n",
      "A value is trying to be set on a copy of a slice from a DataFrame.\n",
      "Try using .loc[row_indexer,col_indexer] = value instead\n",
      "\n",
      "See the caveats in the documentation: http://pandas.pydata.org/pandas-docs/stable/indexing.html#indexing-view-versus-copy\n",
      "  import sys\n",
      "100%|██████████| 18/18 [00:06<00:00,  2.68it/s]\n"
     ]
    }
   ],
   "source": [
    "df3 = []\n",
    "subs = df['sub'].unique()\n",
    "for sub in tqdm(subs):\n",
    "    df2 = df[df['sub'] == sub]\n",
    "    for target in ['mep_size', 'mep_latency', 'mep_duration', 'mep_area']:\n",
    "        perc = np.percentile(df2[target + '_log'], [100/3, 100*2/3])\n",
    "        df2[target + '_tertile_class'] = df2.apply(lambda row: 1 if row[target + '_log'] < perc[0] else (3 if row[target + '_log'] > perc[1] else 2) , axis=1)\n",
    "    for idx, row in df2.iterrows():\n",
    "        df3.append(row)\n",
    "df3 = pd.DataFrame(df3)"
   ]
  },
  {
   "cell_type": "code",
   "execution_count": 86,
   "metadata": {},
   "outputs": [
    {
     "data": {
      "text/plain": [
       "(2676, 37)"
      ]
     },
     "execution_count": 86,
     "metadata": {},
     "output_type": "execute_result"
    }
   ],
   "source": [
    "df3.shape"
   ]
  },
  {
   "cell_type": "code",
   "execution_count": 87,
   "metadata": {},
   "outputs": [
    {
     "data": {
      "text/plain": [
       "array(['Unnamed: 0', 'beta_phase', 'beta_power', 'cmap', 'exp',\n",
       "       'gamma_phase', 'gamma_power', 'high_beta_phase', 'high_beta_power',\n",
       "       'high_gamma_phase', 'high_gamma_power', 'low_beta_phase',\n",
       "       'low_beta_power', 'low_gamma_phase', 'low_gamma_power', 'mep_area',\n",
       "       'mep_duration', 'mep_latency', 'mep_size', 'mu_phase', 'mu_power',\n",
       "       'rejected', 'run', 'sub', 'theta_phase', 'theta_power',\n",
       "       'trial_num', 'name', 'sub_exp', 'mep_size_log', 'mep_duration_log',\n",
       "       'mep_latency_log', 'mep_area_log', 'mep_size_tertile_class',\n",
       "       'mep_latency_tertile_class', 'mep_duration_tertile_class',\n",
       "       'mep_area_tertile_class'], dtype=object)"
      ]
     },
     "execution_count": 87,
     "metadata": {},
     "output_type": "execute_result"
    }
   ],
   "source": [
    "df3.columns.values"
   ]
  },
  {
   "cell_type": "code",
   "execution_count": 88,
   "metadata": {},
   "outputs": [],
   "source": [
    "df3.to_excel('151-pburg-v2-tertile.xlsx')"
   ]
  },
  {
   "cell_type": "code",
   "execution_count": 75,
   "metadata": {},
   "outputs": [
    {
     "data": {
      "text/plain": [
       "<matplotlib.axes._subplots.AxesSubplot at 0x7f97b6c63fd0>"
      ]
     },
     "execution_count": 75,
     "metadata": {},
     "output_type": "execute_result"
    },
    {
     "data": {
      "image/png": "[encoded data removed]",
      "text/plain": [
       "<Figure size 432x288 with 1 Axes>"
      ]
     },
     "metadata": {
      "needs_background": "light"
     },
     "output_type": "display_data"
    }
   ],
   "source": [
    "df3['mep_duration_tertile_class'].hist()"
   ]
  },
  {
   "cell_type": "markdown",
   "metadata": {},
   "source": [
    "# Quartiles"
   ]
  },
  {
   "cell_type": "code",
   "execution_count": null,
   "metadata": {},
   "outputs": [],
   "source": [
    "df3 = []\n",
    "subs = df['sub'].unique()\n",
    "for sub in tqdm(subs):\n",
    "    df2 = df[df['sub'] == sub]\n",
    "    for target in ['mep_size', 'mep_latency', 'mep_duration', 'mep_area']:\n",
    "        perc = np.percentile(df2[target + '_log'], [.25, .5, .75])\n",
    "        df2[target + '_tertile_class'] = df2.apply(lambda row: 1 if row[target + '_log'] < perc[0] else (3 if row[target + '_log'] > perc[1] else 2) , axis=1)\n",
    "    for idx, row in df2.iterrows():\n",
    "        df3.append(row)\n",
    "df3 = pd.DataFrame(df3)"
   ]
  }
 ],
 "metadata": {
  "kernelspec": {
   "display_name": "Python 3",
   "language": "python",
   "name": "python3"
  },
  "language_info": {
   "codemirror_mode": {
    "name": "ipython",
    "version": 3
   },
   "file_extension": ".py",
   "mimetype": "text/x-python",
   "name": "python",
   "nbconvert_exporter": "python",
   "pygments_lexer": "ipython3",
   "version": "3.7.3"
  }
 },
 "nbformat": 4,
 "nbformat_minor": 4
}
