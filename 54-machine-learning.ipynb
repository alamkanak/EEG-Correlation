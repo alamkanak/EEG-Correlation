{
 "cells": [
  {
   "cell_type": "code",
   "execution_count": 33,
   "metadata": {},
   "outputs": [],
   "source": [
    "%matplotlib notebook\n",
    "import glob\n",
    "import pandas as pd\n",
    "import mne\n",
    "import matplotlib.pyplot as plt\n",
    "from io import StringIO\n",
    "import mne\n",
    "from mne.io import read_raw_eeglab, read_epochs_eeglab\n",
    "import numpy as np\n",
    "from scipy import signal\n",
    "import seaborn as sns\n",
    "from sklearn.linear_model import LinearRegression\n",
    "from sklearn.model_selection import train_test_split\n",
    "from sklearn.metrics import mean_squared_error, r2_score\n",
    "from tqdm import tqdm_notebook\n",
    "from sklearn.svm import SVR\n",
    "from sklearn import preprocessing\n",
    "from sklearn.ensemble import RandomForestClassifier\n",
    "from sklearn.ensemble import GradientBoostingClassifier\n",
    "from sklearn.svm import SVR\n",
    "from sklearn.svm import SVC\n",
    "from sklearn.metrics import confusion_matrix, classification_report, accuracy_score\n",
    "from sklearn.tree import DecisionTreeClassifier\n",
    "from keras_tqdm import TQDMNotebookCallback\n",
    "\n",
    "import autosklearn.regression\n",
    "import sklearn.model_selection\n",
    "import sklearn.datasets\n",
    "import sklearn.metrics\n",
    "import multiprocessing\n",
    "from oct2py import octave\n",
    "\n",
    "from joblib import Parallel, delayed\n",
    "import multiprocessing\n",
    "from joblib import wrap_non_picklable_objects\n",
    "import json\n",
    "import pickle\n",
    "import os.path\n",
    "from mpl_toolkits.mplot3d import axes3d\n",
    "from math import e\n",
    "\n",
    "import tensorflow as tf\n",
    "from tensorflow.keras import layers"
   ]
  },
  {
   "cell_type": "code",
   "execution_count": 2,
   "metadata": {},
   "outputs": [],
   "source": [
    "features_filename = '53-features-v1.xlsx'"
   ]
  },
  {
   "cell_type": "code",
   "execution_count": 3,
   "metadata": {},
   "outputs": [],
   "source": [
    "df = pd.read_excel(features_filename, index_col=0)"
   ]
  },
  {
   "cell_type": "code",
   "execution_count": 4,
   "metadata": {},
   "outputs": [],
   "source": [
    "p1 = np.percentile(df['mep_category_cmap'], 50)\n",
    "cat = np.ones(len(df['mep_category_cmap'])) * (df['mep_category_cmap'] > p1)\n",
    "df['mep_category_cmap_across_subjects'] = cat"
   ]
  },
  {
   "cell_type": "markdown",
   "metadata": {},
   "source": [
    "# Linear regression"
   ]
  },
  {
   "cell_type": "code",
   "execution_count": 5,
   "metadata": {},
   "outputs": [],
   "source": [
    "x = df.drop(['mep_category_cmap_across_subjects', \n",
    "             'mep_area', \n",
    "             'mep_category_absolute',\n",
    "             'mep_category_absolute_binary',\n",
    "             'mep_category_binary',\n",
    "             'mep_category_cmap',\n",
    "             'mep_category_cmap_category',\n",
    "             'mep_category_cmap_category_binary',\n",
    "             'mep_category_percentile',\n",
    "             'mep_size',\n",
    "             'run',\n",
    "             'sub',\n",
    "             'exp',\n",
    "             'epoch',\n",
    "             'cmap_min',\n",
    "             'cmap_max'], axis=1)\n",
    "y = df['mep_category_cmap_across_subjects']"
   ]
  },
  {
   "cell_type": "code",
   "execution_count": 6,
   "metadata": {},
   "outputs": [],
   "source": [
    "x_train, x_test, y_train, y_test = train_test_split(x, y, test_size=0.25, random_state=12)"
   ]
  },
  {
   "cell_type": "code",
   "execution_count": 7,
   "metadata": {},
   "outputs": [
    {
     "name": "stdout",
     "output_type": "stream",
     "text": [
      "0.5142857142857142\n",
      "[[171   4]\n",
      " [166   9]]\n",
      "             precision    recall  f1-score   support\n",
      "\n",
      "        0.0       0.51      0.98      0.67       175\n",
      "        1.0       0.69      0.05      0.10       175\n",
      "\n",
      "avg / total       0.60      0.51      0.38       350\n",
      "\n"
     ]
    }
   ],
   "source": [
    "normalizer = preprocessing.MinMaxScaler()\n",
    "reg = LinearRegression()\n",
    "reg.fit(normalizer.fit_transform(x_train), y_train)\n",
    "y_pred = reg.predict(x_test)\n",
    "\n",
    "y_pred = y_pred > 0.5\n",
    "print(accuracy_score(y_test, y_pred))\n",
    "print(confusion_matrix(y_test, y_pred))\n",
    "print(classification_report(y_test, y_pred))"
   ]
  },
  {
   "cell_type": "markdown",
   "metadata": {},
   "source": [
    "# Random forest"
   ]
  },
  {
   "cell_type": "code",
   "execution_count": 27,
   "metadata": {},
   "outputs": [
    {
     "name": "stdout",
     "output_type": "stream",
     "text": [
      "0.66\n",
      "[[109  66]\n",
      " [ 53 122]]\n",
      "             precision    recall  f1-score   support\n",
      "\n",
      "        0.0       0.67      0.62      0.65       175\n",
      "        1.0       0.65      0.70      0.67       175\n",
      "\n",
      "avg / total       0.66      0.66      0.66       350\n",
      "\n"
     ]
    }
   ],
   "source": [
    "reg = RandomForestClassifier(n_estimators = 4000, random_state = 42)\n",
    "reg.fit(normalizer.fit_transform(x_train), y_train)\n",
    "y_pred = reg.predict(normalizer.transform(x_test)) > 0.5\n",
    "print(accuracy_score(y_test, y_pred))\n",
    "print(confusion_matrix(y_test, y_pred))\n",
    "print(classification_report(y_test, y_pred))"
   ]
  },
  {
   "cell_type": "code",
   "execution_count": 32,
   "metadata": {},
   "outputs": [
    {
     "data": {
      "text/plain": [
       "0"
      ]
     },
     "execution_count": 32,
     "metadata": {},
     "output_type": "execute_result"
    }
   ],
   "source": [
    "from sklearn.tree import export_graphviz\n",
    "export_graphviz(reg.estimators_[5], out_file='tree.dot', \n",
    "                feature_names = x_train.columns,\n",
    "                class_names = ['small', 'large'],\n",
    "                rounded = True, proportion = False, \n",
    "                precision = 2, filled = True)\n",
    "\n",
    "# Convert to png using system command (requires Graphviz)\n",
    "from subprocess import call\n",
    "call(['dot', '-Tpng', 'tree.dot', '-o', 'tree.png', '-Gdpi=600'])\n",
    "\n",
    "# Display in jupyter notebook\n",
    "# from IPython.display import Image\n",
    "# Image(filename = 'tree.png')"
   ]
  },
  {
   "cell_type": "markdown",
   "metadata": {},
   "source": [
    "# Gradient boosting"
   ]
  },
  {
   "cell_type": "code",
   "execution_count": 15,
   "metadata": {},
   "outputs": [
    {
     "name": "stdout",
     "output_type": "stream",
     "text": [
      "0.6485714285714286\n",
      "[[112  63]\n",
      " [ 60 115]]\n",
      "             precision    recall  f1-score   support\n",
      "\n",
      "        0.0       0.65      0.64      0.65       175\n",
      "        1.0       0.65      0.66      0.65       175\n",
      "\n",
      "avg / total       0.65      0.65      0.65       350\n",
      "\n"
     ]
    }
   ],
   "source": [
    "reg = GradientBoostingClassifier(n_estimators = 2000, random_state = 42)\n",
    "reg.fit(x_train, y_train)\n",
    "y_pred = reg.predict(x_test) > 0.5\n",
    "print(accuracy_score(y_test, y_pred))\n",
    "print(confusion_matrix(y_test, y_pred))\n",
    "print(classification_report(y_test, y_pred))"
   ]
  },
  {
   "cell_type": "markdown",
   "metadata": {},
   "source": [
    "# SVM"
   ]
  },
  {
   "cell_type": "code",
   "execution_count": 14,
   "metadata": {},
   "outputs": [
    {
     "name": "stdout",
     "output_type": "stream",
     "text": [
      "0.5142857142857142\n",
      "[[  9 166]\n",
      " [  4 171]]\n",
      "             precision    recall  f1-score   support\n",
      "\n",
      "        0.0       0.69      0.05      0.10       175\n",
      "        1.0       0.51      0.98      0.67       175\n",
      "\n",
      "avg / total       0.60      0.51      0.38       350\n",
      "\n"
     ]
    }
   ],
   "source": [
    "reg = SVC(kernel='rbf')\n",
    "reg.fit(x_train, y_train)\n",
    "y_pred = reg.predict(x_test) > 0.5\n",
    "print(accuracy_score(y_test, y_pred))\n",
    "print(confusion_matrix(y_test, y_pred))\n",
    "print(classification_report(y_test, y_pred))"
   ]
  },
  {
   "cell_type": "markdown",
   "metadata": {},
   "source": [
    "# Decision tree"
   ]
  },
  {
   "cell_type": "code",
   "execution_count": 8,
   "metadata": {},
   "outputs": [
    {
     "name": "stdout",
     "output_type": "stream",
     "text": [
      "0.5828571428571429\n",
      "[[108  67]\n",
      " [ 79  96]]\n",
      "             precision    recall  f1-score   support\n",
      "\n",
      "        0.0       0.58      0.62      0.60       175\n",
      "        1.0       0.59      0.55      0.57       175\n",
      "\n",
      "avg / total       0.58      0.58      0.58       350\n",
      "\n"
     ]
    }
   ],
   "source": [
    "reg = DecisionTreeClassifier()\n",
    "reg.fit(x_train, y_train)\n",
    "y_pred = reg.predict(x_test) > 0.5\n",
    "print(accuracy_score(y_test, y_pred))\n",
    "print(confusion_matrix(y_test, y_pred))\n",
    "print(classification_report(y_test, y_pred))"
   ]
  },
  {
   "cell_type": "markdown",
   "metadata": {},
   "source": [
    "# Keras"
   ]
  },
  {
   "cell_type": "code",
   "execution_count": 9,
   "metadata": {},
   "outputs": [
    {
     "name": "stdout",
     "output_type": "stream",
     "text": [
      "2.0.0-beta1\n",
      "2.2.4-tf\n"
     ]
    }
   ],
   "source": [
    "print(tf.version.VERSION)\n",
    "print(tf.keras.__version__)"
   ]
  },
  {
   "cell_type": "code",
   "execution_count": 47,
   "metadata": {},
   "outputs": [],
   "source": [
    "cb = TQDMNotebookCallback(show_inner=False)\n",
    "cb.on_train_batch_begin = cb.on_batch_begin\n",
    "cb.on_train_batch_end = cb.on_batch_end"
   ]
  },
  {
   "cell_type": "code",
   "execution_count": 48,
   "metadata": {
    "scrolled": true
   },
   "outputs": [
    {
     "data": {
      "application/vnd.jupyter.widget-view+json": {
       "model_id": "2d19260d91864abbab20dd4862fca7f6",
       "version_major": 2,
       "version_minor": 0
      },
      "text/plain": [
       "HBox(children=(IntProgress(value=0, description='Training', style=ProgressStyle(description_width='initial')),…"
      ]
     },
     "metadata": {},
     "output_type": "display_data"
    },
    {
     "data": {
      "text/plain": [
       "<tensorflow.python.keras.callbacks.History at 0x7f7e945e86a0>"
      ]
     },
     "execution_count": 48,
     "metadata": {},
     "output_type": "execute_result"
    }
   ],
   "source": [
    "classifier = tf.keras.Sequential()\n",
    "classifier.add(tf.keras.layers.Dense(64, activation='relu', input_dim=x_train.shape[1]))\n",
    "classifier.add(tf.keras.layers.Dense(64, activation='relu'))\n",
    "classifier.add(tf.keras.layers.Dense(1, activation='sigmoid'))\n",
    "classifier.compile(optimizer='adam', loss='binary_crossentropy', metrics=['accuracy'])\n",
    "classifier.fit(normalizer.fit_transform(x_train), y_train, batch_size=32, epochs=100, callbacks=[cb], verbose=0)"
   ]
  },
  {
   "cell_type": "code",
   "execution_count": 49,
   "metadata": {},
   "outputs": [
    {
     "name": "stdout",
     "output_type": "stream",
     "text": [
      "0.5114285714285715\n",
      "[[90 85]\n",
      " [86 89]]\n",
      "             precision    recall  f1-score   support\n",
      "\n",
      "        0.0       0.51      0.51      0.51       175\n",
      "        1.0       0.51      0.51      0.51       175\n",
      "\n",
      "avg / total       0.51      0.51      0.51       350\n",
      "\n"
     ]
    }
   ],
   "source": [
    "y_pred = classifier.predict(normalizer.transform(x_test))\n",
    "y_pred = (y_pred > 0.5)\n",
    "print(accuracy_score(y_test, y_pred))\n",
    "print(confusion_matrix(y_test, y_pred))\n",
    "print(classification_report(y_test, y_pred))"
   ]
  },
  {
   "cell_type": "code",
   "execution_count": null,
   "metadata": {},
   "outputs": [],
   "source": []
  }
 ],
 "metadata": {
  "kernelspec": {
   "display_name": "Python 3",
   "language": "python",
   "name": "python3"
  },
  "language_info": {
   "codemirror_mode": {
    "name": "ipython",
    "version": 3
   },
   "file_extension": ".py",
   "mimetype": "text/x-python",
   "name": "python",
   "nbconvert_exporter": "python",
   "pygments_lexer": "ipython3",
   "version": "3.7.3"
  }
 },
 "nbformat": 4,
 "nbformat_minor": 2
}
