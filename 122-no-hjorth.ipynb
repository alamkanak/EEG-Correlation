{
 "cells": [
  {
   "cell_type": "code",
   "execution_count": 1,
   "metadata": {},
   "outputs": [
    {
     "name": "stderr",
     "output_type": "stream",
     "text": [
      "/home/raquib/anaconda3/envs/tmseeg/lib/python3.7/site-packages/sklearn/ensemble/weight_boosting.py:29: DeprecationWarning: numpy.core.umath_tests is an internal NumPy module and should not be imported. It will be removed in a future NumPy release.\n",
      "  from numpy.core.umath_tests import inner1d\n",
      "Using TensorFlow backend.\n",
      "/home/raquib/anaconda3/envs/tmseeg/lib/python3.7/site-packages/pyparsing.py:3168: FutureWarning: Possible set intersection at position 3\n",
      "  self.re = re.compile(self.reString)\n",
      "/home/raquib/anaconda3/envs/tmseeg/lib/python3.7/site-packages/sklearn/feature_extraction/text.py:17: DeprecationWarning: Using or importing the ABCs from 'collections' instead of from 'collections.abc' is deprecated, and in 3.8 it will stop working\n",
      "  from collections import Mapping, defaultdict\n"
     ]
    }
   ],
   "source": [
    "import glob\n",
    "import pandas as pd\n",
    "import mne\n",
    "import matplotlib.pyplot as plt\n",
    "from io import StringIO\n",
    "import mne\n",
    "from mne.io import read_raw_eeglab, read_epochs_eeglab\n",
    "import numpy as np\n",
    "from scipy import signal\n",
    "from scipy import fftpack\n",
    "import seaborn as sns\n",
    "from sklearn.linear_model import LinearRegression, LogisticRegression\n",
    "from sklearn.ensemble import RandomForestRegressor\n",
    "from sklearn.model_selection import train_test_split\n",
    "from sklearn.metrics import mean_squared_error, r2_score\n",
    "from tqdm import tqdm, tqdm_notebook\n",
    "import math\n",
    "\n",
    "from sklearn import preprocessing\n",
    "from sklearn.linear_model import SGDClassifier\n",
    "from sklearn.ensemble import GradientBoostingRegressor, RandomForestRegressor\n",
    "from sklearn.svm import SVR\n",
    "from sklearn.svm import SVC\n",
    "from sklearn.metrics import confusion_matrix, classification_report, accuracy_score\n",
    "from sklearn.tree import DecisionTreeClassifier, DecisionTreeRegressor\n",
    "from keras_tqdm import TQDMNotebookCallback\n",
    "from tensorboard.plugins.hparams import api as hp\n",
    "from livelossplot.tf_keras import PlotLossesCallback\n",
    "\n",
    "import autosklearn.regression\n",
    "import sklearn.model_selection\n",
    "import sklearn.datasets\n",
    "import sklearn.metrics\n",
    "import multiprocessing\n",
    "from tpot import TPOTRegressor\n",
    "from oct2py import octave\n",
    "\n",
    "from joblib import Parallel, delayed\n",
    "import multiprocessing\n",
    "from joblib import wrap_non_picklable_objects\n",
    "import json\n",
    "import pickle\n",
    "import os.path\n",
    "from mpl_toolkits.mplot3d import axes3d\n",
    "import timeit\n",
    "from skimage.transform import resize\n",
    "from timeit import default_timer as timer\n",
    "from datetime import timedelta\n",
    "import json\n",
    "\n",
    "import tensorflow as tf\n",
    "from tensorflow import keras\n",
    "from tensorflow.keras import layers, optimizers, callbacks\n",
    "from tensorflow.keras.models import Model, load_model\n",
    "from tensorboard.plugins.hparams import api as hp\n",
    "from tensorflow.keras.utils import plot_model\n",
    "\n",
    "import statsmodels.api as sm\n",
    "import statsmodels.formula.api as smf\n",
    "from statsmodels.genmod import bayes_mixed_glm as glm\n",
    "\n",
    "from sklearn.feature_selection import SelectKBest\n",
    "from sklearn.feature_selection import chi2\n",
    "from sklearn.feature_selection import RFECV\n",
    "\n",
    "from spectrum import arburg, arma2psd, pburg\n",
    "import pylab\n",
    "from scipy.signal import find_peaks"
   ]
  },
  {
   "cell_type": "code",
   "execution_count": 2,
   "metadata": {},
   "outputs": [
    {
     "name": "stdout",
     "output_type": "stream",
     "text": [
      "warning: function /home/raquib/Documents/MATLAB/eeglab2019_0/functions/sigprocfunc/quantile.m shadows a core library function\n"
     ]
    },
    {
     "data": {
      "text/plain": [
       "'.:/home/raquib/Documents/MATLAB/eeglab2019_0/functions/sigprocfunc:/home/raquib/Documents/MATLAB/eeglab2019_0/functions/adminfunc:/home/raquib/Documents/MATLAB/eeglab2019_0/functions/popfunc:/home/raquib/Documents/MATLAB/eeglab2019_0/functions/guifunc:/home/raquib/anaconda3/envs/tmseeg/lib/python3.7/site-packages/oct2py:/home/raquib/anaconda3/envs/tmseeg/lib/python3.7/site-packages/octave_kernel:/usr/lib/x86_64-linux-gnu/octave/4.2.2/site/oct/x86_64-pc-linux-gnu:/usr/lib/x86_64-linux-gnu/octave/site/oct/api-v51/x86_64-pc-linux-gnu:/usr/lib/x86_64-linux-gnu/octave/site/oct/x86_64-pc-linux-gnu:/usr/share/octave/4.2.2/site/m:/usr/share/octave/site/api-v51/m:/usr/share/octave/site/m:/usr/share/octave/site/m/startup:/usr/lib/x86_64-linux-gnu/octave/4.2.2/oct/x86_64-pc-linux-gnu:/usr/share/octave/4.2.2/m:/usr/share/octave/4.2.2/m/audio:/usr/share/octave/4.2.2/m/debian:/usr/share/octave/4.2.2/m/deprecated:/usr/share/octave/4.2.2/m/elfun:/usr/share/octave/4.2.2/m/general:/usr/share/octave/4.2.2/m/geometry:/usr/share/octave/4.2.2/m/gui:/usr/share/octave/4.2.2/m/help:/usr/share/octave/4.2.2/m/image:/usr/share/octave/4.2.2/m/io:/usr/share/octave/4.2.2/m/java:/usr/share/octave/4.2.2/m/linear-algebra:/usr/share/octave/4.2.2/m/miscellaneous:/usr/share/octave/4.2.2/m/ode:/usr/share/octave/4.2.2/m/optimization:/usr/share/octave/4.2.2/m/path:/usr/share/octave/4.2.2/m/pkg:/usr/share/octave/4.2.2/m/plot:/usr/share/octave/4.2.2/m/plot/appearance:/usr/share/octave/4.2.2/m/plot/draw:/usr/share/octave/4.2.2/m/plot/util:/usr/share/octave/4.2.2/m/polynomial:/usr/share/octave/4.2.2/m/prefs:/usr/share/octave/4.2.2/m/profiler:/usr/share/octave/4.2.2/m/set:/usr/share/octave/4.2.2/m/signal:/usr/share/octave/4.2.2/m/sparse:/usr/share/octave/4.2.2/m/specfun:/usr/share/octave/4.2.2/m/special-matrix:/usr/share/octave/4.2.2/m/startup:/usr/share/octave/4.2.2/m/statistics:/usr/share/octave/4.2.2/m/statistics/base:/usr/share/octave/4.2.2/m/statistics/distributions:/usr/share/octave/4.2.2/m/statistics/models:/usr/share/octave/4.2.2/m/statistics/tests:/usr/share/octave/4.2.2/m/strings:/usr/share/octave/4.2.2/m/testfun:/usr/share/octave/4.2.2/m/time:/usr/share/octave/4.2.2/data'"
      ]
     },
     "execution_count": 2,
     "metadata": {},
     "output_type": "execute_result"
    }
   ],
   "source": [
    "eeglab_path = '/home/raquib/Documents/MATLAB/eeglab2019_0/functions/'\n",
    "octave.addpath(eeglab_path + 'guifunc')\n",
    "octave.addpath(eeglab_path + 'popfunc')\n",
    "octave.addpath(eeglab_path + 'adminfunc')\n",
    "octave.addpath(eeglab_path + 'sigprocfunc')\n",
    "octave.addpath(eeglab_path + 'miscfunc')"
   ]
  },
  {
   "cell_type": "code",
   "execution_count": 3,
   "metadata": {},
   "outputs": [],
   "source": [
    "eegs = ['data/original/sub03/exp01/eeg/SP 110RMT r1/05-clean-prestimulus.set',\n",
    "         'data/original/sub03/exp01/eeg/SP 110RMT r2/05-clean-prestimulus.set',\n",
    "         'data/original/sub03/exp01/eeg/SP 110RMT r3/05-clean-prestimulus.set',\n",
    "         'data/original/sub03/exp02/eeg/SP 110RMT r1/05-clean-prestimulus.set',\n",
    "         'data/original/sub03/exp02/eeg/SP 110RMT r2/05-clean-prestimulus.set',\n",
    "         'data/original/sub03/exp03/eeg/SP 110RMT r1/05-clean-prestimulus.set',\n",
    "         'data/original/sub03/exp03/eeg/SP 110RMT r2/05-clean-prestimulus.set',\n",
    "         'data/original/sub03/exp03/eeg/SP 110RMT r3/05-clean-prestimulus.set',\n",
    "         'data/original/sub04/exp01/eeg/SP 110RMT r1/05-clean-prestimulus.set',\n",
    "         'data/original/sub04/exp01/eeg/SP 110RMT r2/05-clean-prestimulus.set',\n",
    "         'data/original/sub04/exp01/eeg/SP 110RMT r3/05-clean-prestimulus.set',\n",
    "        #  'data/original/sub05/exp01/eeg/SP 110RMT r1/05-clean-prestimulus.set', # NO MEP\n",
    "        #  'data/original/sub05/exp01/eeg/SP 110RMT r2/05-clean-prestimulus.set', # NO MEP\n",
    "         'data/original/sub05/exp01/eeg/SP 110RMT r3/05-clean-prestimulus.set',\n",
    "         'data/original/sub06/exp01/eeg/SP 110RMT r1/05-clean-prestimulus.set',\n",
    "         'data/original/sub06/exp01/eeg/SP 110RMT r2/05-clean-prestimulus.set',\n",
    "         'data/original/sub06/exp01/eeg/SP 110RMT r3/05-clean-prestimulus.set',\n",
    "         'data/original/sub06/exp02/eeg/SP 110RMT r1/05-clean-prestimulus.set',\n",
    "         'data/original/sub07/exp01/eeg/SP 110RMT r1/05-clean-prestimulus.set',\n",
    "         'data/original/sub07/exp01/eeg/SP 110RMT r2/05-clean-prestimulus.set',\n",
    "         'data/original/sub07/exp01/eeg/SP 110RMT r3/05-clean-prestimulus.set',\n",
    "         'data/original/sub08/exp01/eeg/SP 110RMT r1/05-clean-prestimulus.set',\n",
    "         'data/original/sub08/exp01/eeg/SP 110RMT r2/05-clean-prestimulus.set',\n",
    "         'data/original/sub08/exp01/eeg/SP 110RMT r3/05-clean-prestimulus.set',\n",
    "         'data/original/sub08/exp02/eeg/SP 110RMT r1/05-clean-prestimulus.set',\n",
    "         'data/original/sub08/exp03/eeg/SP 110RMT r1/05-clean-prestimulus.set',\n",
    "         'data/original/sub08/exp03/eeg/SP 110RMT r2/05-clean-prestimulus.set',\n",
    "         'data/original/sub08/exp03/eeg/SP 110RMT r3/05-clean-prestimulus.set',\n",
    "         'data/original/sub09/exp01/eeg/SP 110RMT r1/05-clean-prestimulus.set',\n",
    "         'data/original/sub10/exp01/eeg/SP 110RMT r1/05-clean-prestimulus.set',\n",
    "         'data/original/sub10/exp02/eeg/SP 110RMT r1/05-clean-prestimulus.set',\n",
    "         'data/original/sub10/exp02/eeg/SP 110RMT r2/05-clean-prestimulus.set',\n",
    "         'data/original/sub10/exp02/eeg/SP 110RMT r3/05-clean-prestimulus.set',\n",
    "         'data/original/sub11/exp01/eeg/SP 110RMT r1/05-clean-prestimulus.set',\n",
    "         'data/original/sub11/exp02/eeg/SP 110RMT r1/05-clean-prestimulus.set',\n",
    "         'data/original/sub12/exp01/eeg/SP 110RMT r1/05-clean-prestimulus.set',\n",
    "         'data/original/sub12/exp02/eeg/SP 110RMT r1/05-clean-prestimulus.set',\n",
    "        #  'data/original/sub13/exp01/eeg/SP 110RMT r1/05-clean-prestimulus.set', # LEFT HANDED\n",
    "        #  'data/original/sub14/exp01/eeg/SP 110RMT r2/05-clean-prestimulus.set', # BAD MEP\n",
    "         'data/original/sub15/exp01/eeg/SP 110RMT r1/05-clean-prestimulus.set',\n",
    "         'data/original/sub15/exp01/eeg/SP 110RMT r2/05-clean-prestimulus.set',\n",
    "         'data/original/sub15/exp01/eeg/SP 110RMT r3/05-clean-prestimulus.set',\n",
    "         'data/original/sub16/exp01/eeg/SP 110RMT r1/05-clean-prestimulus.set',\n",
    "         'data/original/sub16/exp01/eeg/SP 110RMT r2/05-clean-prestimulus.set',\n",
    "         'data/original/sub16/exp01/eeg/SP 110RMT r3/05-clean-prestimulus.set',\n",
    "        \n",
    "         'data/original/sub18/exp01/eeg/SP 110RMT r1/05-clean-prestimulus.set',\n",
    "         'data/original/sub18/exp01/eeg/SP 110RMT r2/05-clean-prestimulus.set',\n",
    "         'data/original/sub18/exp01/eeg/SP 110RMT r3/05-clean-prestimulus.set',\n",
    "]\n",
    "\n",
    "rejected_trials = [\n",
    "    {'sub': 'sub05', 'exp': 'exp01', 'run': 'r3', 'trial': 50},\n",
    "    {'sub': 'sub05', 'exp': 'exp01', 'run': 'r3', 'trial': 51},\n",
    "    {'sub': 'sub05', 'exp': 'exp01', 'run': 'r3', 'trial': 52},\n",
    "    {'sub': 'sub05', 'exp': 'exp01', 'run': 'r3', 'trial': 53},\n",
    "    {'sub': 'sub05', 'exp': 'exp01', 'run': 'r3', 'trial': 54},\n",
    "    {'sub': 'sub05', 'exp': 'exp01', 'run': 'r3', 'trial': 55},\n",
    "    {'sub': 'sub05', 'exp': 'exp01', 'run': 'r3', 'trial': 56},\n",
    "    {'sub': 'sub05', 'exp': 'exp01', 'run': 'r3', 'trial': 57},\n",
    "    {'sub': 'sub05', 'exp': 'exp01', 'run': 'r3', 'trial': 58},\n",
    "    {'sub': 'sub05', 'exp': 'exp01', 'run': 'r3', 'trial': 59},\n",
    "    {'sub': 'sub05', 'exp': 'exp01', 'run': 'r3', 'trial': 60},\n",
    "    {'sub': 'sub08', 'exp': 'exp03', 'run': 'r1', 'trial': 0},\n",
    "    {'sub': 'sub09', 'exp': 'exp01', 'run': 'r0', 'trial': 0},\n",
    "    {'sub': 'sub11', 'exp': 'exp02', 'run': 'r0', 'trial': 14},\n",
    "    {'sub': 'sub11', 'exp': 'exp02', 'run': 'r0', 'trial': 38},\n",
    "    {'sub': 'sub12', 'exp': 'exp01', 'run': 'r0', 'trial': 0},\n",
    "    {'sub': 'sub12', 'exp': 'exp02', 'run': 'r0', 'trial': 14},\n",
    "    {'sub': 'sub12', 'exp': 'exp02', 'run': 'r0', 'trial': 36},\n",
    "    {'sub': 'sub12', 'exp': 'exp02', 'run': 'r0', 'trial': 44}\n",
    "]"
   ]
  },
  {
   "cell_type": "markdown",
   "metadata": {},
   "source": [
    "# Basic I/O and conversions."
   ]
  },
  {
   "cell_type": "code",
   "execution_count": 4,
   "metadata": {},
   "outputs": [],
   "source": [
    "def read_eeg(path):\n",
    "    eeg = octave.pop_loadset(path)\n",
    "    new_trial_list = []\n",
    "    for i in range(eeg.data.shape[2]):\n",
    "        trial = eeg.data[:, :, i]\n",
    "        time = np.linspace(-1000, 1000, num=trial.shape[1])\n",
    "        trial = pd.DataFrame(np.transpose(trial), columns=eeg.chanlocs.labels[0])\n",
    "        trial['time'] = time\n",
    "        new_trial_list.append(trial)\n",
    "    return new_trial_list\n",
    "\n",
    "def crop_trials(trial_list, duration_millis=500, sampling_rate=2048):\n",
    "    new_trial_list = []\n",
    "    for trial in trial_list:\n",
    "        samples_to_pick = duration_millis * sampling_rate / 1000\n",
    "        new_trial_list.append(trial.tail(int(samples_to_pick)))\n",
    "    return new_trial_list, samples_to_pick\n",
    "\n",
    "def crop_mep_region(mep_frame, crop_start=0.211, crop_end=0.4):\n",
    "    multiplier = 7499 / 1.4998\n",
    "    start = int(crop_start * multiplier)\n",
    "    end = int(crop_end * multiplier)\n",
    "    mep_cropped = mep_frame.iloc[start:end, :]\n",
    "    time = mep_frame.iloc[start:end, :]\n",
    "    return mep_cropped\n",
    "\n",
    "def get_apb_column_name(mep_frame):\n",
    "    if 'L APB' in mep_frame:\n",
    "        return 'L APB'\n",
    "    else:\n",
    "        return 'APB'\n",
    "\n",
    "def open_mep_as_df(path):\n",
    "    fileMep = open(path, \"r+\")\n",
    "    mep_frames = fileMep.read().split('\\n\\n')\n",
    "    df_list = []\n",
    "    for mep_frame in mep_frames:\n",
    "        df_list.append(pd.read_csv(StringIO(mep_frame), '\\t'))\n",
    "    return df_list\n",
    "\n",
    "def get_mep_path(eeg_path):\n",
    "    segments = eeg_path.split('/')\n",
    "    segments[4] = 'mep'\n",
    "    segments = segments[:-1]\n",
    "    mep_path = '/'.join(segments) + '/*.txt'\n",
    "    mep_path = glob.glob(mep_path)[0]\n",
    "    return mep_path\n",
    "\n",
    "def calculate_mep_size(mep_frame):\n",
    "    mep_cropped = crop_mep_region(mep_frame)\n",
    "    apb_name = get_apb_column_name(mep_frame)\n",
    "    max_row = mep_frame.iloc[mep_cropped.idxmax(axis=0)[apb_name]]\n",
    "    min_row = mep_frame.iloc[mep_cropped.idxmin(axis=0)[apb_name]]\n",
    "    mep_size = max_row[apb_name] - min_row[apb_name]\n",
    "    return mep_size, min_row, max_row\n",
    "\n",
    "# Read CMAP file.\n",
    "def read_cmap(path):\n",
    "    df = pd.read_excel(path, sheet_name='Raw data', header=None)\n",
    "    columns = []\n",
    "    ix = 0\n",
    "    for r in df.index.values:\n",
    "        if df[0][r] == 'Channel':\n",
    "            ix = r\n",
    "            break\n",
    "    for c in df.columns.values:\n",
    "        if (df[c][ix] == 2):\n",
    "            columns.append(c)\n",
    "    for r in df.index.values:\n",
    "        if df[0][r] == 'Time (ms)':\n",
    "            ix = r\n",
    "            break\n",
    "    df2 = df[columns].iloc[np.linspace(ix+1, df.shape[0]-2, df.shape[0]-ix-2)]\n",
    "    df2['time'] = df[0].iloc[np.linspace(ix+1, df.shape[0]-2, df.shape[0]-ix-2)]\n",
    "    return df2\n",
    "\n",
    "# Identify CMAP peaks.\n",
    "def find_cmap_peaks(df):\n",
    "    df2 = df[(df['time'] > 105) * (df['time'] < 120)]\n",
    "    time = df2['time']\n",
    "    mean_clean = np.mean(df2.drop('time', axis=1), axis=1)\n",
    "    return mean_clean.max(), mean_clean.min()\n",
    "\n",
    "def get_cmap_path(eeg_path):\n",
    "    segments = eeg_path.split('/')\n",
    "    segments[4] = 'cmap'\n",
    "    del segments[5]\n",
    "    segments = segments[:-1]\n",
    "    cmap_path = '/'.join(segments) + '/*.xlsx'\n",
    "    cmap_paths = glob.glob(cmap_path)\n",
    "    if (len(cmap_paths) == 0):\n",
    "        print('No CMAP found for ' + cmap_path)\n",
    "        return ''\n",
    "    return cmap_paths[0]\n",
    "\n",
    "def get_mep_category_absolute_binary(mep_size):\n",
    "    if mep_size <= .5:\n",
    "        return 0\n",
    "    else:\n",
    "        return 1\n",
    "    \n",
    "def calculate_mep_categories_binary(mep_sizes):\n",
    "    p1 = np.percentile(mep_sizes, 50)\n",
    "    cat = np.ones(len(mep_sizes)) * (mep_sizes >= p1)\n",
    "    return cat\n",
    "\n",
    "def calculate_mep_categories_cmap_binary(mep_sizes, cmap):\n",
    "    sizes = []\n",
    "    for mep_size in mep_sizes:\n",
    "        sizes.append(mep_size / cmap)\n",
    "    p1 = np.percentile(sizes, 50)\n",
    "    cat = np.ones(len(mep_sizes)) * (sizes >= p1)\n",
    "    return cat\n",
    "\n",
    "def hjorth_transform(trial):\n",
    "#     times = trial['time'].values\n",
    "#     potential = trial[(trial['time'] > -0.5) & (trial['time'] < -0.2)]\n",
    "#     hjorth = potential['C3'].values[0] - potential['FC1'].values[0] + potential['C3'].values[0] - potential['CP1'].values[0] + potential['C3'].values[0] - potential['FC5'].values[0] + potential['C3'].values[0] - potential['CP5'].values[0]\n",
    "#     trial = trial + hjorth\n",
    "#     trial['time'] = times\n",
    "    # trial['ALL'] = trial.drop('time', axis=1).mean(axis=1).values\n",
    "#     trial['LTM1'] = trial[['FC5','FC1','C3','CP5','CP1','FC3','C5','C1','CP3']].mean(axis=1).values\n",
    "#     trial['RTM1'] = trial[['FC6','FC2','C4','CP6','CP2','FC4','C6','C2','CP4']].mean(axis=1).values\n",
    "#     trial['LTDLPFC'] = trial[['Fp1','AF3','AF7','F1','F3','F5','F7','FC1','FC3', 'FC5']].mean(axis=1).values\n",
    "#     trial['RTDLPFC'] = trial[['Fp2','AF4','AF8','F2','F4','F6','F8','FC2','FC4', 'FC6']].mean(axis=1).values\n",
    "#     trial['CNTRL'] = trial[['Fz','FCz','Cz','F1','FC1','C1','C2','FC2','F2']].mean(axis=1).values\n",
    "#     trial['LTOCC'] = trial[['PO7', 'PO5', 'PO3', 'O1']].mean(axis=1).values\n",
    "#     trial['RTOCC'] = trial[['PO4', 'PO6', 'PO8', 'O2']].mean(axis=1).values\n",
    "#     trial['OCC'] = trial[['PO7', 'PO5', 'PO3', 'POz', 'PO4', 'PO6', 'PO8', 'O1', 'Oz', 'O2']].mean(axis=1).values\n",
    "#     trial['LTPAR'] = trial[['P1', 'P3', 'CP1', 'CP3']].mean(axis=1).values\n",
    "#     trial['RTPAR'] = trial[['P2', 'P4', 'CP2', 'CP4']].mean(axis=1).values\n",
    "#     trial['PAR'] = trial[['P1', 'P3', 'CP1', 'CP3', 'P2', 'P4', 'CP2', 'CP4']].mean(axis=1).values\n",
    "\n",
    "    ch = trial[['FC5','FC1','C3','CP5','CP1','FC3','C5','C1','CP3']].values\n",
    "    trial['LTM1'] = np.mean(ch, axis=1)\n",
    "    ch = trial[['FC6','FC2','C4','CP6','CP2','FC4','C6','C2','CP4']].values\n",
    "    trial['RTM1'] = np.mean(ch, axis=1)\n",
    "    ch = trial[['Fp1','AF3','AF7','F1','F3','F5','F7','FC1','FC3', 'FC5']].values\n",
    "    trial['LTDLPFC'] = np.mean(ch, axis=1)\n",
    "    ch = trial[['Fp2','AF4','AF8','F2','F4','F6','F8','FC2','FC4', 'FC6']].values\n",
    "    trial['RTDLPFC'] = np.mean(ch, axis=1)\n",
    "    ch = trial[['Fz','FCz','Cz','F1','FC1','C1','C2','FC2','F2']].values\n",
    "    trial['CNTRL'] = np.mean(ch, axis=1)\n",
    "    ch = trial[['PO7', 'PO5', 'PO3', 'O1']].values\n",
    "    trial['LTOCC'] = np.mean(ch, axis=1)\n",
    "    ch = trial[['PO4', 'PO6', 'PO8', 'O2']].values\n",
    "    trial['RTOCC'] = np.mean(ch, axis=1)\n",
    "    ch = trial[['PO7', 'PO5', 'PO3', 'POz', 'PO4', 'PO6', 'PO8', 'O1', 'Oz', 'O2']].values\n",
    "    trial['OCC'] = np.mean(ch, axis=1)\n",
    "    ch = trial[['P1', 'P3', 'CP1', 'CP3']].values\n",
    "    trial['LTPAR'] = np.mean(ch, axis=1)\n",
    "    ch = trial[['P2', 'P4', 'CP2', 'CP4']].values\n",
    "    trial['RTPAR'] = np.mean(ch, axis=1)\n",
    "    ch = trial[['P1', 'P3', 'CP1', 'CP3', 'P2', 'P4', 'CP2', 'CP4']].values\n",
    "    trial['PAR'] = np.mean(ch, axis=1)\n",
    "    return trial"
   ]
  },
  {
   "cell_type": "markdown",
   "metadata": {},
   "source": [
    "# MEP latency and duration"
   ]
  },
  {
   "cell_type": "code",
   "execution_count": 5,
   "metadata": {},
   "outputs": [],
   "source": [
    "def calculate_mep_latency_duration(mep_frame, plot=False, title=None):    \n",
    "    \n",
    "    # Calculate prestimulus mean amplitude and std.\n",
    "    std_limit = 5\n",
    "    peak_lookup_start_time = .215\n",
    "    apb_name = get_apb_column_name(mep_frame)\n",
    "    cropped = crop_mep_region(mep_frame, crop_start=0, crop_end=0.198)[apb_name]\n",
    "    mean_amp = np.mean(cropped.values)\n",
    "    std = np.std(cropped)\n",
    "    \n",
    "    # Find the index of the first point where amp > 5 SD of mean prestimulus\n",
    "    df_peak = mep_frame[mep_frame['s'] > peak_lookup_start_time]\n",
    "    peak_time = 0\n",
    "    for idx, row in df_peak.iterrows():\n",
    "        if (row[apb_name] > std_limit * std + mean_amp or row[apb_name] < mean_amp - std_limit * std):\n",
    "            peak_time = row['s']\n",
    "            break\n",
    "\n",
    "    latency_absolute = mep_frame[mep_frame['s'] == peak_time]['s'].values[0]\n",
    "    latency = (latency_absolute - 0.2)\n",
    "    \n",
    "    # Calculate the MEP duration.\n",
    "    std_limit = 6\n",
    "    sample_count = mep_frame[mep_frame['s'] < 0.03].shape[0]\n",
    "    df_mean = crop_mep_region(mep_frame, crop_start=0.26, crop_end=0.3)[apb_name]\n",
    "    mean_amp = np.mean(df_mean.values)\n",
    "    std = np.std(df_mean.values)\n",
    "    consecutive_baseline_count = 0\n",
    "    return_to_baseline_time = 0\n",
    "    cropped = crop_mep_region(mep_frame, crop_start=latency_absolute, crop_end=0.3)\n",
    "    for idx, row in cropped.iterrows():\n",
    "        if (row[apb_name] < mean_amp + std_limit * std) and (row[apb_name] > mean_amp - std_limit * std):\n",
    "            if consecutive_baseline_count == 0:\n",
    "                return_to_baseline_time = row['s']\n",
    "            consecutive_baseline_count += 1\n",
    "        else:\n",
    "            consecutive_baseline_count = 0\n",
    "        if consecutive_baseline_count > sample_count:\n",
    "            break\n",
    "    \n",
    "    if plot == True:\n",
    "        plt.figure(figsize=(20,5))\n",
    "        plt.plot(mep_frame.iloc[0:2000]['s'], mep_frame.iloc[0:2000][apb_name])\n",
    "        plt.axvspan(latency_absolute, return_to_baseline_time, color='r', alpha=0.15)\n",
    "        plt.xlabel('Time (s)')\n",
    "        plt.ylabel('Amplitude (mV)')\n",
    "        if title != None:\n",
    "            plt.title(title)\n",
    "    return latency, return_to_baseline_time\n",
    "\n",
    "\n",
    "# Inspect latencies.\n",
    "# for eeg_path in eegs:\n",
    "#     mep_list = open_mep_as_df(get_mep_path(eeg_path))\n",
    "#     i = 0\n",
    "#     for mep_frame in mep_list:\n",
    "#         calculate_mep_latency(mep_frame, plot=True, title=eeg_path + ' - ' + str(i))\n",
    "#         i = i+1\n",
    "#         if i == 2:\n",
    "#             break"
   ]
  },
  {
   "cell_type": "markdown",
   "metadata": {},
   "source": [
    "# Power and phase calculations"
   ]
  },
  {
   "cell_type": "code",
   "execution_count": 6,
   "metadata": {},
   "outputs": [],
   "source": [
    "def blackman_harris_filter(channel, time, cutoffs, fs):\n",
    "    numtaps = 1023\n",
    "    b = signal.firwin(numtaps, cutoffs, window='blackmanharris', fs=fs)\n",
    "    filtered = signal.lfilter(b, 1, channel)\n",
    "    delay = 0.5 * (numtaps - 1) / fs\n",
    "    df = pd.DataFrame({\n",
    "        'time': time-delay,\n",
    "        'channel': filtered\n",
    "    })\n",
    "    return df\n",
    "\n",
    "def get_phase(channel, time, band, fs=4096, plot=False):\n",
    "    df_filtered = blackman_harris_filter(channel, time, [0.00001, band[0]], fs)\n",
    "    df_filtered = blackman_harris_filter(df_filtered['channel'].values, df_filtered['time'].values, [band[1], 4096/2-1], fs)\n",
    "    hilb = signal.hilbert(df_filtered[(df_filtered['time'] > -750) * (df_filtered['time'] < -1)]['channel'])\n",
    "    phase = np.angle(hilb, deg=True)\n",
    "    df_phase = pd.DataFrame(phase, columns=['phase'])\n",
    "    df_phase['time'] = df_filtered[(df_filtered['time'] > -750) * (df_filtered['time'] < -1)]['time'].values\n",
    "    \n",
    "    if plot == True:\n",
    "        plt.figure()\n",
    "        plt.plot(df_phase['time'], df_phase['phase'])\n",
    "        plt.plot(df_phase.iloc[-1]['time'], df_phase.iloc[-1]['phase'], 'o')\n",
    "        plt.show()\n",
    "    # df_phase = df_phase[df_phase['time'] <= -20]\n",
    "    return df_phase.iloc[-1]['phase'] + 180\n",
    "\n",
    "def get_power(channel, time, band, crop_start_millis=-150, fs=500, plot=False):\n",
    "    # Crop.\n",
    "    channel = channel[(time > crop_start_millis) * (time < -1)].values\n",
    "    time = time[(time > crop_start_millis) * (time < -1)].values\n",
    "\n",
    "    # Resample.\n",
    "    ts = time[1] - time[0]\n",
    "    secs = len(channel) * ts\n",
    "    secs = secs/1000\n",
    "    resampled = signal.resample(channel, int(secs*fs))\n",
    "    resampled_time = np.linspace(time[0], time[-1], len(resampled))\n",
    "    \n",
    "    # PSD.\n",
    "    try:\n",
    "        \n",
    "        # Welch method\n",
    "        freq, power = signal.welch(resampled, fs, nperseg=256, average='median')\n",
    "        power = np.log(np.abs(power))\n",
    "        \n",
    "        # FFT method\n",
    "#         power = np.log(np.abs(np.fft.fft(resampled, n=500)))\n",
    "#         freq = np.linspace(0, fs, len(power))\n",
    "        \n",
    "        # Burgs method\n",
    "#         p = pburg(resampled, 10, sampling=fs, NFFT=4096)\n",
    "#         power = 4.3*np.log(p.psd)\n",
    "#         freq = np.linspace(0, fs, len(power))\n",
    "#         power = power/freq\n",
    "        df_power = pd.DataFrame({'freq': freq, 'power': power})\n",
    "        df_power = df_power[df_power['freq'] < fs/2]\n",
    "        df_power_in_band = df_power[(df_power['freq'] >= band[0]) * (df_power['freq'] <= band[1])]\n",
    "        mean_power = np.mean(df_power_in_band['power'])\n",
    "        print(df_power.shape)\n",
    "    except:\n",
    "        return 0\n",
    "\n",
    "    if plot == True:\n",
    "        plt.figure()\n",
    "        plt.plot(df_power['freq'], df_power['power'])\n",
    "        plt.axvspan(band[0], band[1], color='r', alpha=0.2)\n",
    "        plt.axhline(mean_power, color='r')\n",
    "        plt.xlabel('Frequency (Hz)')\n",
    "        plt.ylabel('dB Power')\n",
    "\n",
    "    return mean_power"
   ]
  },
  {
   "cell_type": "code",
   "execution_count": 7,
   "metadata": {},
   "outputs": [
    {
     "name": "stdout",
     "output_type": "stream",
     "text": [
      "pop_loadset(): loading file data/original/sub03/exp03/eeg/SP 110RMT r2/05-clean-prestimulus.set ...\n",
      "Reading float file 'data/original/sub03/exp03/eeg/SP 110RMT r2/05-clean-prestimulus.fdt'...\n",
      "Scaling components to RMS microvolt\n"
     ]
    },
    {
     "data": {
      "text/plain": [
       "[<matplotlib.lines.Line2D at 0x7f4dcbe14668>]"
      ]
     },
     "execution_count": 7,
     "metadata": {},
     "output_type": "execute_result"
    },
    {
     "data": {
      "image/png": "[encoded data removed]",
      "text/plain": [
       "<Figure size 432x288 with 1 Axes>"
      ]
     },
     "metadata": {
      "needs_background": "light"
     },
     "output_type": "display_data"
    }
   ],
   "source": [
    "trials = read_eeg(eegs[6])\n",
    "trial = trials[12]\n",
    "plt.plot(trial['time'], trial['C3'])"
   ]
  },
  {
   "cell_type": "code",
   "execution_count": 8,
   "metadata": {},
   "outputs": [
    {
     "name": "stdout",
     "output_type": "stream",
     "text": [
      "(37, 2)\n"
     ]
    },
    {
     "name": "stderr",
     "output_type": "stream",
     "text": [
      "/home/raquib/anaconda3/envs/tmseeg/lib/python3.7/site-packages/pandas/core/computation/expressions.py:183: UserWarning: evaluating in Python space because the '*' operator is not supported by numexpr for the bool dtype, use '&' instead\n",
      "  .format(op=op_str, alt_op=unsupported[op_str]))\n",
      "/home/raquib/anaconda3/envs/tmseeg/lib/python3.7/site-packages/scipy/signal/spectral.py:1969: UserWarning: nperseg = 256 is greater than input length  = 74, using nperseg = 74\n",
      "  .format(nperseg, input_length))\n"
     ]
    },
    {
     "data": {
      "text/plain": [
       "nan"
      ]
     },
     "execution_count": 8,
     "metadata": {},
     "output_type": "execute_result"
    },
    {
     "data": {
      "image/png": "[encoded data removed]",
      "text/plain": [
       "<Figure size 432x288 with 1 Axes>"
      ]
     },
     "metadata": {
      "needs_background": "light"
     },
     "output_type": "display_data"
    }
   ],
   "source": [
    "get_power(trial['C3'], trial['time'], [8,12], plot=True)"
   ]
  },
  {
   "cell_type": "code",
   "execution_count": 9,
   "metadata": {},
   "outputs": [
    {
     "name": "stdout",
     "output_type": "stream",
     "text": [
      "(37, 2)\n"
     ]
    },
    {
     "data": {
      "text/plain": [
       "nan"
      ]
     },
     "execution_count": 9,
     "metadata": {},
     "output_type": "execute_result"
    },
    {
     "data": {
      "image/png": "[encoded data removed]",
      "text/plain": [
       "<Figure size 432x288 with 1 Axes>"
      ]
     },
     "metadata": {
      "needs_background": "light"
     },
     "output_type": "display_data"
    }
   ],
   "source": [
    "get_power(trial['C3'], trial['time'], [8,12], plot=True)"
   ]
  },
  {
   "cell_type": "markdown",
   "metadata": {},
   "source": [
    "# Convert eeg files to pickle files"
   ]
  },
  {
   "cell_type": "code",
   "execution_count": 10,
   "metadata": {},
   "outputs": [],
   "source": [
    "# # Convert set files to pickle files.\n",
    "# for eeg_path in tqdm_notebook(eegs[-3:]):\n",
    "#     print(eeg_path)\n",
    "#     path = os.path.dirname(eeg_path)\n",
    "#     files = glob.glob(path + '/raw.set')\n",
    "#     if len(files) == 0:\n",
    "#         continue\n",
    "#     trials = read_eeg(files[0])\n",
    "#     pickle.dump(trials, open(path + \"/117-raw.p\", \"wb\"))"
   ]
  },
  {
   "cell_type": "markdown",
   "metadata": {},
   "source": [
    "# Combine EEG and others"
   ]
  },
  {
   "cell_type": "code",
   "execution_count": 11,
   "metadata": {},
   "outputs": [],
   "source": [
    "# trials = read_eeg('data/original/sub03/exp01/eeg/SP 110RMT r1/raw.set')\n",
    "# trial = trials[10]\n",
    "\n",
    "# tp = trial[trial['time'] < -1]\n",
    "# plt.plot(tp['time'], tp['C4'])\n",
    "# plt.xlim([-1000, -1])\n",
    "# trial = hjorth_transform(trial)\n",
    "# plt.figure()\n",
    "# tp = trial[trial['time'] < -1]\n",
    "# plt.plot(tp['time'], tp['C4'])\n",
    "# plt.xlim([-1000, -1])\n",
    "# plt.title('HJORTH')\n",
    "    \n",
    "# phase_power_dict = {}\n",
    "# # df_clean_channel = blackman_harris_filter(trial['C4'], trial['time'], [0.00001, 8], 4096)\n",
    "# # df_clean_channel = blackman_harris_filter(clean_channel['channel'], clean_channel['time'], [48, 52], 4096)\n",
    "# # df_clean_channel = df_clean_channel[df_clean_channel['time'] > -600]\n",
    "# trial = trial[trial['time'] > -600]\n",
    "\n",
    "# plt.figure()\n",
    "# tp = df_clean_channel[trial['time'] < 0]\n",
    "# plt.plot(tp['time'], tp['channel'])\n",
    "# plt.xlim([-1000, -1])\n",
    "# plt.title('Filtered')\n",
    "\n",
    "# channel = 'C4'\n",
    "# phase_power_dict[channel + '_mu_phase'] = get_phase(df_clean_channel['channel'], df_clean_channel['time'], [8, 12], plot=True)\n",
    "# phase_power_dict[channel + '_mu_phase'] = get_phase(trial['C4'], trial['time'], [8, 12], plot=True)\n",
    "# phase_power_dict[channel + '_mu_power'] = get_power(trial['C4'], trial['time'], [8, 12], plot=True)"
   ]
  },
  {
   "cell_type": "code",
   "execution_count": 12,
   "metadata": {},
   "outputs": [],
   "source": [
    "def calculate_power_phase(trial):\n",
    "    # Hjorth transform\n",
    "    trial = hjorth_transform(trial)\n",
    "    \n",
    "    phase_power_dict = {}\n",
    "    for channel in trial.drop(['time', 'RTM1', 'RTDLPFC', 'CNTRL', 'OCC', 'PAR'], axis=1).columns.values:\n",
    "        if channel == 'EOG':\n",
    "            continue\n",
    "#         df_clean_channel = blackman_harris_filter(trial[channel], trial['time'], [0.00001, 8], 4096)\n",
    "#         df_clean_channel = blackman_harris_filter(df_clean_channel['channel'], df_clean_channel['time'], [48, 52], 4096)    \n",
    "#         phase_power_dict[channel + '_mu_phase'] = get_phase(df_clean_channel['channel'], df_clean_channel['time'], [8, 12])\n",
    "#         phase_power_dict[channel + '_beta_phase'] = get_phase(df_clean_channel['channel'], df_clean_channel['time'], [13, 30])\n",
    "#         phase_power_dict[channel + '_gamma_phase'] = get_phase(df_clean_channel['channel'], df_clean_channel['time'], [30, 80])\n",
    "#         phase_power_dict[channel + '_low_beta_phase'] = get_phase(df_clean_channel['channel'], df_clean_channel['time'], [12, 20])\n",
    "#         phase_power_dict[channel + '_high_beta_phase'] = get_phase(df_clean_channel['channel'], df_clean_channel['time'], [20, 30])\n",
    "#         phase_power_dict[channel + '_low_gamma_phase'] = get_phase(df_clean_channel['channel'], df_clean_channel['time'], [30, 46])\n",
    "#         phase_power_dict[channel + '_high_gamma_phase'] = get_phase(df_clean_channel['channel'], df_clean_channel['time'], [46, 70])\n",
    "        \n",
    "        phase_power_dict[channel + '_mu_phase'] = get_phase(trial[channel], trial['time'], [8, 12])\n",
    "        phase_power_dict[channel + '_beta_phase'] = get_phase(trial[channel], trial['time'], [13, 30])\n",
    "        phase_power_dict[channel + '_gamma_phase'] = get_phase(trial[channel], trial['time'], [30, 80])\n",
    "        phase_power_dict[channel + '_low_beta_phase'] = get_phase(trial[channel], trial['time'], [12, 20])\n",
    "        phase_power_dict[channel + '_high_beta_phase'] = get_phase(trial[channel], trial['time'], [20, 30])\n",
    "        phase_power_dict[channel + '_low_gamma_phase'] = get_phase(trial[channel], trial['time'], [30, 46])\n",
    "        phase_power_dict[channel + '_high_gamma_phase'] = get_phase(trial[channel], trial['time'], [46, 70])\n",
    "        \n",
    "        phase_power_dict[channel + '_mu_power'] = get_power(trial[channel], trial['time'], [8, 12])\n",
    "        phase_power_dict[channel + '_beta_power'] = get_power(trial[channel], trial['time'], [13, 30])\n",
    "        phase_power_dict[channel + '_gamma_power'] = get_power(trial[channel], trial['time'], [30, 80])\n",
    "        phase_power_dict[channel + '_low_beta_power'] = get_power(trial[channel], trial['time'], [12, 20])\n",
    "        phase_power_dict[channel + '_high_beta_power'] = get_power(trial[channel], trial['time'], [20, 30])\n",
    "        phase_power_dict[channel + '_low_gamma_power'] = get_power(trial[channel], trial['time'], [30, 46])\n",
    "        phase_power_dict[channel + '_high_gamma_power'] = get_power(trial[channel], trial['time'], [46, 70])\n",
    "    return phase_power_dict\n",
    "        \n",
    "def process_trials(eeg_path):\n",
    "    sub = eeg_path.split('/')[2]\n",
    "    exp = eeg_path.split('/')[3]\n",
    "    run = eeg_path.split('/')[5]\n",
    "    \n",
    "    trials = pickle.load(open(os.path.dirname(eeg_path) + \"/117-raw.p\", \"rb\"))\n",
    "\n",
    "    # Calculate CMAP.\n",
    "    cmap_max, cmap_min = find_cmap_peaks(read_cmap(get_cmap_path(eeg_path)))\n",
    "    cmap = cmap_max - cmap_min\n",
    "\n",
    "    # Calculate MEP categories.\n",
    "    mep_list = open_mep_as_df(get_mep_path(eeg_path))\n",
    "    mep_sizes = []\n",
    "    for mep_df in mep_list:\n",
    "        size, _, _ = calculate_mep_size(mep_df)\n",
    "        mep_sizes.append(size)\n",
    "    mep_cmap_list = calculate_mep_categories_cmap_binary(mep_sizes, cmap)\n",
    "    mep_percentile_list = calculate_mep_categories_binary(mep_sizes)\n",
    "    \n",
    "    # Calculate powers and phases. And combine the results in a df list.\n",
    "    power_phase_list = []\n",
    "    for trial_num in range(len(trials)):\n",
    "        trial = trials[trial_num]\n",
    "    \n",
    "        # Ignore rejected trials.\n",
    "        break_loop = False\n",
    "        for rejected in rejected_trials:\n",
    "            if sub == rejected['sub'] and exp == rejected['exp'] and (rejected['trial'] == trial_num):\n",
    "                break_loop = True\n",
    "                break\n",
    "        if break_loop:\n",
    "            break\n",
    "            \n",
    "        # Calculate MEP latency and duration.\n",
    "        latency, duration = calculate_mep_latency_duration(mep_list[trial_num])\n",
    "        if duration == 0:\n",
    "            continue\n",
    "        \n",
    "        # Calculate phase and power.\n",
    "        print('Processing ' + sub + '/' + exp + '/' + run + '/' + str(trial_num))\n",
    "        try:\n",
    "            power = calculate_power_phase(trial)\n",
    "        except ValueError as e:\n",
    "            print('Skipping ' + sub + '/' + exp + '/' + run + '/' + str(trial_num) + ': ' + str(e))\n",
    "            continue\n",
    "\n",
    "        power_phase_dict = power\n",
    "        power_phase_dict['sub'] = sub\n",
    "        power_phase_dict['exp'] = exp\n",
    "        power_phase_dict['run'] = run\n",
    "        power_phase_dict['trial_num'] = trial_num\n",
    "        power_phase_dict['cmap'] = cmap\n",
    "        power_phase_dict['mep_size'] = mep_sizes[trial_num]\n",
    "        power_phase_dict['mep_cat_abs'] = get_mep_category_absolute_binary(mep_sizes[trial_num])\n",
    "        power_phase_dict['mep_cat_percentile'] = mep_percentile_list[trial_num]\n",
    "        power_phase_dict['mep_cat_cmap'] = mep_cmap_list[trial_num]\n",
    "        power_phase_dict['mep_by_cmap'] = mep_sizes[trial_num] / cmap\n",
    "        power_phase_dict['mep_latency'] = latency\n",
    "        power_phase_dict['mep_duration'] = duration        \n",
    "        power_phase_list.append(power_phase_dict)\n",
    "    return power_phase_list"
   ]
  },
  {
   "cell_type": "code",
   "execution_count": 13,
   "metadata": {},
   "outputs": [
    {
     "data": {
      "application/vnd.jupyter.widget-view+json": {
       "model_id": "f4dde9f88b2943cf8b10adba49022c64",
       "version_major": 2,
       "version_minor": 0
      },
      "text/plain": [
       "HBox(children=(IntProgress(value=0, max=44), HTML(value='')))"
      ]
     },
     "metadata": {},
     "output_type": "display_data"
    },
    {
     "name": "stdout",
     "output_type": "stream",
     "text": [
      "\n"
     ]
    }
   ],
   "source": [
    "num_cores = multiprocessing.cpu_count()\n",
    "results = Parallel(n_jobs=num_cores)(delayed(process_trials)(eeg_path) for eeg_path in tqdm_notebook(eegs))"
   ]
  },
  {
   "cell_type": "code",
   "execution_count": 14,
   "metadata": {},
   "outputs": [],
   "source": [
    "df_powers = []\n",
    "for result in results:\n",
    "    for trial in result:\n",
    "        df_powers.append(trial)\n",
    "len(df_powers)\n",
    "\n",
    "df_power = pd.DataFrame(df_powers)\n",
    "# df_power.to_excel('122-no-hjorth-v3.xlsx')\n",
    "# df_power.shape"
   ]
  },
  {
   "cell_type": "code",
   "execution_count": 16,
   "metadata": {},
   "outputs": [
    {
     "name": "stderr",
     "output_type": "stream",
     "text": [
      "  0%|          | 0/18 [00:00<?, ?it/s]/home/raquib/anaconda3/envs/tmseeg/lib/python3.7/site-packages/ipykernel_launcher.py:8: SettingWithCopyWarning: \n",
      "A value is trying to be set on a copy of a slice from a DataFrame.\n",
      "Try using .loc[row_indexer,col_indexer] = value instead\n",
      "\n",
      "See the caveats in the documentation: http://pandas.pydata.org/pandas-docs/stable/indexing.html#indexing-view-versus-copy\n",
      "  \n",
      "/home/raquib/anaconda3/envs/tmseeg/lib/python3.7/site-packages/ipykernel_launcher.py:9: SettingWithCopyWarning: \n",
      "A value is trying to be set on a copy of a slice from a DataFrame.\n",
      "Try using .loc[row_indexer,col_indexer] = value instead\n",
      "\n",
      "See the caveats in the documentation: http://pandas.pydata.org/pandas-docs/stable/indexing.html#indexing-view-versus-copy\n",
      "  if __name__ == '__main__':\n",
      "/home/raquib/anaconda3/envs/tmseeg/lib/python3.7/site-packages/ipykernel_launcher.py:10: SettingWithCopyWarning: \n",
      "A value is trying to be set on a copy of a slice from a DataFrame.\n",
      "Try using .loc[row_indexer,col_indexer] = value instead\n",
      "\n",
      "See the caveats in the documentation: http://pandas.pydata.org/pandas-docs/stable/indexing.html#indexing-view-versus-copy\n",
      "  # Remove the CWD from sys.path while we load stuff.\n",
      "/home/raquib/anaconda3/envs/tmseeg/lib/python3.7/site-packages/ipykernel_launcher.py:11: SettingWithCopyWarning: \n",
      "A value is trying to be set on a copy of a slice from a DataFrame.\n",
      "Try using .loc[row_indexer,col_indexer] = value instead\n",
      "\n",
      "See the caveats in the documentation: http://pandas.pydata.org/pandas-docs/stable/indexing.html#indexing-view-versus-copy\n",
      "  # This is added back by InteractiveShellApp.init_path()\n",
      "100%|██████████| 18/18 [00:04<00:00,  3.89it/s]\n"
     ]
    }
   ],
   "source": [
    "# MEP Normalization.\n",
    "df_power['subexp'] = df_power['sub'] + '.' + df_power['exp']\n",
    "df_new_powers = []\n",
    "for subexp in tqdm(df_power['subexp'].unique()):\n",
    "    df_sub = df_power[df_power['subexp'] == subexp]\n",
    "    mep_size = df_sub['mep_size'].values\n",
    "    mep_size = (mep_size - np.min(mep_size)) / (np.max(mep_size) - np.min(mep_size))\n",
    "    df_sub['mep_size'] = mep_size\n",
    "    df_sub['mep_size_log'] = np.log(0.03+mep_size)\n",
    "    df_sub['mep_by_cmap'] = mep_size / np.mean(df_sub['cmap'].values)\n",
    "    df_sub['mep_by_cmap_log'] = np.log(0.002+df_sub['mep_by_cmap'].values)\n",
    "    df_new_powers.append(df_sub)"
   ]
  },
  {
   "cell_type": "code",
   "execution_count": 17,
   "metadata": {},
   "outputs": [],
   "source": [
    "new_powers = []\n",
    "for block in df_new_powers:\n",
    "    for idx, row in block.iterrows():\n",
    "        new_powers.append(row)\n",
    "df_new_powers = pd.DataFrame(new_powers)\n",
    "df_new_powers.shape\n",
    "df_new_powers.to_excel('122-mep-normalize-v1.xlsx')"
   ]
  },
  {
   "cell_type": "code",
   "execution_count": null,
   "metadata": {},
   "outputs": [],
   "source": [
    "df_powers.head()"
   ]
  },
  {
   "cell_type": "code",
   "execution_count": null,
   "metadata": {},
   "outputs": [],
   "source": []
  }
 ],
 "metadata": {
  "kernelspec": {
   "display_name": "Python 3",
   "language": "python",
   "name": "python3"
  },
  "language_info": {
   "codemirror_mode": {
    "name": "ipython",
    "version": 3
   },
   "file_extension": ".py",
   "mimetype": "text/x-python",
   "name": "python",
   "nbconvert_exporter": "python",
   "pygments_lexer": "ipython3",
   "version": "3.7.3"
  }
 },
 "nbformat": 4,
 "nbformat_minor": 4
}
