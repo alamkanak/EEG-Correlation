{
 "cells": [
  {
   "cell_type": "code",
   "execution_count": 1,
   "metadata": {},
   "outputs": [
    {
     "name": "stderr",
     "output_type": "stream",
     "text": [
      "/home/raquib/anaconda3/envs/tmseeg/lib/python3.7/site-packages/sklearn/ensemble/weight_boosting.py:29: DeprecationWarning: numpy.core.umath_tests is an internal NumPy module and should not be imported. It will be removed in a future NumPy release.\n",
      "  from numpy.core.umath_tests import inner1d\n",
      "Using TensorFlow backend.\n",
      "/home/raquib/anaconda3/envs/tmseeg/lib/python3.7/site-packages/pyparsing.py:3168: FutureWarning: Possible set intersection at position 3\n",
      "  self.re = re.compile(self.reString)\n",
      "/home/raquib/anaconda3/envs/tmseeg/lib/python3.7/site-packages/sklearn/feature_extraction/text.py:17: DeprecationWarning: Using or importing the ABCs from 'collections' instead of from 'collections.abc' is deprecated, and in 3.8 it will stop working\n",
      "  from collections import Mapping, defaultdict\n"
     ]
    }
   ],
   "source": [
    "import glob\n",
    "import pandas as pd\n",
    "import mne\n",
    "import matplotlib.pyplot as plt\n",
    "from io import StringIO\n",
    "import mne\n",
    "from mne.io import read_raw_eeglab, read_epochs_eeglab\n",
    "import numpy as np\n",
    "from scipy import signal\n",
    "from scipy import fftpack\n",
    "import seaborn as sns\n",
    "from sklearn.linear_model import LinearRegression, LogisticRegression\n",
    "from sklearn.ensemble import RandomForestRegressor\n",
    "from sklearn.model_selection import train_test_split\n",
    "from sklearn.metrics import mean_squared_error, r2_score\n",
    "from tqdm import tqdm, tqdm_notebook\n",
    "import math\n",
    "\n",
    "from sklearn import preprocessing\n",
    "from sklearn.linear_model import SGDClassifier\n",
    "from sklearn.ensemble import GradientBoostingRegressor, RandomForestRegressor\n",
    "from sklearn.svm import SVR\n",
    "from sklearn.svm import SVC\n",
    "from sklearn.metrics import confusion_matrix, classification_report, accuracy_score\n",
    "from sklearn.tree import DecisionTreeClassifier, DecisionTreeRegressor\n",
    "from keras_tqdm import TQDMNotebookCallback\n",
    "from tensorboard.plugins.hparams import api as hp\n",
    "from livelossplot.tf_keras import PlotLossesCallback\n",
    "\n",
    "import autosklearn.regression\n",
    "import sklearn.model_selection\n",
    "import sklearn.datasets\n",
    "import sklearn.metrics\n",
    "import multiprocessing\n",
    "from tpot import TPOTRegressor\n",
    "from oct2py import octave\n",
    "\n",
    "from joblib import Parallel, delayed\n",
    "import multiprocessing\n",
    "from joblib import wrap_non_picklable_objects\n",
    "import json\n",
    "import pickle\n",
    "import os.path\n",
    "from mpl_toolkits.mplot3d import axes3d\n",
    "import timeit\n",
    "from skimage.transform import resize\n",
    "from timeit import default_timer as timer\n",
    "from datetime import timedelta\n",
    "import json\n",
    "\n",
    "import tensorflow as tf\n",
    "from tensorflow import keras\n",
    "from tensorflow.keras import layers, optimizers, callbacks\n",
    "from tensorflow.keras.models import Model, load_model\n",
    "from tensorboard.plugins.hparams import api as hp\n",
    "from tensorflow.keras.utils import plot_model\n",
    "\n",
    "import statsmodels.api as sm\n",
    "import statsmodels.formula.api as smf\n",
    "from statsmodels.genmod import bayes_mixed_glm as glm\n",
    "\n",
    "from sklearn.feature_selection import SelectKBest\n",
    "from sklearn.feature_selection import chi2\n",
    "from sklearn.feature_selection import RFECV\n",
    "\n",
    "from spectrum import arburg, arma2psd\n",
    "import pylab"
   ]
  },
  {
   "cell_type": "code",
   "execution_count": 2,
   "metadata": {},
   "outputs": [
    {
     "name": "stdout",
     "output_type": "stream",
     "text": [
      "warning: function /home/raquib/Documents/MATLAB/eeglab2019_0/functions/sigprocfunc/quantile.m shadows a core library function\n"
     ]
    },
    {
     "data": {
      "text/plain": [
       "'.:/home/raquib/Documents/MATLAB/eeglab2019_0/functions/sigprocfunc:/home/raquib/Documents/MATLAB/eeglab2019_0/functions/adminfunc:/home/raquib/Documents/MATLAB/eeglab2019_0/functions/popfunc:/home/raquib/Documents/MATLAB/eeglab2019_0/functions/guifunc:/home/raquib/anaconda3/envs/tmseeg/lib/python3.7/site-packages/oct2py:/home/raquib/anaconda3/envs/tmseeg/lib/python3.7/site-packages/octave_kernel:/usr/lib/x86_64-linux-gnu/octave/4.2.2/site/oct/x86_64-pc-linux-gnu:/usr/lib/x86_64-linux-gnu/octave/site/oct/api-v51/x86_64-pc-linux-gnu:/usr/lib/x86_64-linux-gnu/octave/site/oct/x86_64-pc-linux-gnu:/usr/share/octave/4.2.2/site/m:/usr/share/octave/site/api-v51/m:/usr/share/octave/site/m:/usr/share/octave/site/m/startup:/usr/lib/x86_64-linux-gnu/octave/4.2.2/oct/x86_64-pc-linux-gnu:/usr/share/octave/4.2.2/m:/usr/share/octave/4.2.2/m/audio:/usr/share/octave/4.2.2/m/debian:/usr/share/octave/4.2.2/m/deprecated:/usr/share/octave/4.2.2/m/elfun:/usr/share/octave/4.2.2/m/general:/usr/share/octave/4.2.2/m/geometry:/usr/share/octave/4.2.2/m/gui:/usr/share/octave/4.2.2/m/help:/usr/share/octave/4.2.2/m/image:/usr/share/octave/4.2.2/m/io:/usr/share/octave/4.2.2/m/java:/usr/share/octave/4.2.2/m/linear-algebra:/usr/share/octave/4.2.2/m/miscellaneous:/usr/share/octave/4.2.2/m/ode:/usr/share/octave/4.2.2/m/optimization:/usr/share/octave/4.2.2/m/path:/usr/share/octave/4.2.2/m/pkg:/usr/share/octave/4.2.2/m/plot:/usr/share/octave/4.2.2/m/plot/appearance:/usr/share/octave/4.2.2/m/plot/draw:/usr/share/octave/4.2.2/m/plot/util:/usr/share/octave/4.2.2/m/polynomial:/usr/share/octave/4.2.2/m/prefs:/usr/share/octave/4.2.2/m/profiler:/usr/share/octave/4.2.2/m/set:/usr/share/octave/4.2.2/m/signal:/usr/share/octave/4.2.2/m/sparse:/usr/share/octave/4.2.2/m/specfun:/usr/share/octave/4.2.2/m/special-matrix:/usr/share/octave/4.2.2/m/startup:/usr/share/octave/4.2.2/m/statistics:/usr/share/octave/4.2.2/m/statistics/base:/usr/share/octave/4.2.2/m/statistics/distributions:/usr/share/octave/4.2.2/m/statistics/models:/usr/share/octave/4.2.2/m/statistics/tests:/usr/share/octave/4.2.2/m/strings:/usr/share/octave/4.2.2/m/testfun:/usr/share/octave/4.2.2/m/time:/usr/share/octave/4.2.2/data'"
      ]
     },
     "execution_count": 2,
     "metadata": {},
     "output_type": "execute_result"
    }
   ],
   "source": [
    "eeglab_path = '/home/raquib/Documents/MATLAB/eeglab2019_0/functions/'\n",
    "octave.addpath(eeglab_path + 'guifunc')\n",
    "octave.addpath(eeglab_path + 'popfunc')\n",
    "octave.addpath(eeglab_path + 'adminfunc')\n",
    "octave.addpath(eeglab_path + 'sigprocfunc')\n",
    "octave.addpath(eeglab_path + 'miscfunc')"
   ]
  },
  {
   "cell_type": "code",
   "execution_count": 3,
   "metadata": {},
   "outputs": [],
   "source": [
    "eegs = ['data/original/sub03/exp01/eeg/SP 110RMT r1/05-clean-prestimulus.set',\n",
    " 'data/original/sub03/exp01/eeg/SP 110RMT r2/05-clean-prestimulus.set',\n",
    " 'data/original/sub03/exp01/eeg/SP 110RMT r3/05-clean-prestimulus.set',\n",
    " 'data/original/sub03/exp02/eeg/SP 110RMT r1/05-clean-prestimulus.set',\n",
    " 'data/original/sub03/exp02/eeg/SP 110RMT r2/05-clean-prestimulus.set',\n",
    " 'data/original/sub03/exp03/eeg/SP 110RMT r1/05-clean-prestimulus.set',\n",
    " 'data/original/sub03/exp03/eeg/SP 110RMT r2/05-clean-prestimulus.set',\n",
    " 'data/original/sub03/exp03/eeg/SP 110RMT r3/05-clean-prestimulus.set',\n",
    " 'data/original/sub04/exp01/eeg/SP 110RMT r1/05-clean-prestimulus.set',\n",
    " 'data/original/sub04/exp01/eeg/SP 110RMT r2/05-clean-prestimulus.set',\n",
    " 'data/original/sub04/exp01/eeg/SP 110RMT r3/05-clean-prestimulus.set',\n",
    "#  'data/original/sub05/exp01/eeg/SP 110RMT r1/05-clean-prestimulus.set', # NO MEP\n",
    "#  'data/original/sub05/exp01/eeg/SP 110RMT r2/05-clean-prestimulus.set', # NO MEP\n",
    " 'data/original/sub05/exp01/eeg/SP 110RMT r3/05-clean-prestimulus.set',\n",
    " 'data/original/sub06/exp01/eeg/SP 110RMT r1/05-clean-prestimulus.set',\n",
    " 'data/original/sub06/exp01/eeg/SP 110RMT r2/05-clean-prestimulus.set',\n",
    " 'data/original/sub06/exp01/eeg/SP 110RMT r3/05-clean-prestimulus.set',\n",
    " 'data/original/sub06/exp02/eeg/SP 110RMT/05-clean-prestimulus.set',\n",
    " 'data/original/sub07/exp01/eeg/SP 110RMT r1/05-clean-prestimulus.set',\n",
    " 'data/original/sub07/exp01/eeg/SP 110RMT r2/05-clean-prestimulus.set',\n",
    " 'data/original/sub07/exp01/eeg/SP 110RMT r3/05-clean-prestimulus.set',\n",
    " 'data/original/sub08/exp01/eeg/SP 110RMT r1/05-clean-prestimulus.set',\n",
    " 'data/original/sub08/exp01/eeg/SP 110RMT r2/05-clean-prestimulus.set',\n",
    " 'data/original/sub08/exp01/eeg/SP 110RMT r3/05-clean-prestimulus.set',\n",
    " 'data/original/sub08/exp02/eeg/SP 110RMT/05-clean-prestimulus.set',\n",
    " 'data/original/sub08/exp03/eeg/SP 110RMT r1/05-clean-prestimulus.set',\n",
    " 'data/original/sub08/exp03/eeg/SP 110RMT r2/05-clean-prestimulus.set',\n",
    " 'data/original/sub08/exp03/eeg/SP 110RMT r3/05-clean-prestimulus.set',\n",
    " 'data/original/sub09/exp01/eeg/SP 110RMT/05-clean-prestimulus.set',\n",
    " 'data/original/sub10/exp01/eeg/SP 110RMT/05-clean-prestimulus.set',\n",
    " 'data/original/sub10/exp02/eeg/SP 110RMT r1/05-clean-prestimulus.set',\n",
    " 'data/original/sub10/exp02/eeg/SP 110RMT r2/05-clean-prestimulus.set',\n",
    " 'data/original/sub10/exp02/eeg/SP 110RMT r3/05-clean-prestimulus.set',\n",
    " 'data/original/sub11/exp01/eeg/SP 110RMT/05-clean-prestimulus.set',\n",
    " 'data/original/sub11/exp02/eeg/SP 110RMT/05-clean-prestimulus.set',\n",
    " 'data/original/sub12/exp01/eeg/SP 110RMT/05-clean-prestimulus.set',\n",
    " 'data/original/sub12/exp02/eeg/SP 110RMT/05-clean-prestimulus.set',\n",
    "#  'data/original/sub13/exp01/eeg/SP 110RMT/05-clean-prestimulus.set', # LEFT HANDED\n",
    " 'data/original/sub14/exp01/eeg/SP 110RMT r2/05-clean-prestimulus.set',\n",
    " 'data/original/sub15/exp01/eeg/SP 110RMT r1/05-clean-prestimulus.set',\n",
    " 'data/original/sub15/exp01/eeg/SP 110RMT r2/05-clean-prestimulus.set',\n",
    " 'data/original/sub15/exp01/eeg/SP 110RMT r3/05-clean-prestimulus.set',\n",
    " 'data/original/sub16/exp01/eeg/SP 110RMT r1/05-clean-prestimulus.set',\n",
    " 'data/original/sub16/exp01/eeg/SP 110RMT r2/05-clean-prestimulus.set',\n",
    " 'data/original/sub16/exp01/eeg/SP 110RMT r3/05-clean-prestimulus.set'\n",
    "]"
   ]
  },
  {
   "cell_type": "markdown",
   "metadata": {},
   "source": [
    " # Read and process EEG"
   ]
  },
  {
   "cell_type": "code",
   "execution_count": 4,
   "metadata": {},
   "outputs": [],
   "source": [
    "def read_eeg(path):\n",
    "    eeg = octave.pop_loadset(path)\n",
    "    new_trial_list = []\n",
    "    for i in range(eeg.data.shape[2]):\n",
    "        trial = eeg.data[:, :, i]\n",
    "        time = np.linspace(-1000, 0, num=trial.shape[1])\n",
    "        trial = pd.DataFrame(np.transpose(trial), columns=eeg.chanlocs.labels[0])\n",
    "        trial['time'] = time\n",
    "        new_trial_list.append(trial)\n",
    "    return new_trial_list\n",
    "\n",
    "def crop_trials(trial_list, duration_millis=500, sampling_rate=2048):\n",
    "    new_trial_list = []\n",
    "    for trial in trial_list:\n",
    "        samples_to_pick = duration_millis * sampling_rate / 1000\n",
    "        new_trial_list.append(trial.tail(int(samples_to_pick)))\n",
    "    return new_trial_list, samples_to_pick\n",
    "\n",
    "def band_max(freq, psd, interval):\n",
    "    indices = []\n",
    "    for el in freq:\n",
    "        indices.append(el in interval)\n",
    "    freq = freq[indices]\n",
    "    psd = psd[indices]\n",
    "    if (len(psd) == 0):\n",
    "        return 0, 0\n",
    "    i = np.argmax(np.abs(psd))\n",
    "    return freq[i], psd[i]\n",
    "\n",
    "def crop_mep_region(mep_frame):\n",
    "    crop_start = 0.211\n",
    "    crop_end = 0.4\n",
    "    multiplier = 7499 / 1.4998\n",
    "    start = int(crop_start * multiplier)\n",
    "    end = int(crop_end * multiplier)\n",
    "    mep_cropped = mep_frame.iloc[start:end, :]\n",
    "    time = mep_frame.iloc[start:end, :]\n",
    "    return mep_cropped, time\n",
    "\n",
    "def get_apb_column_name(mep_frame):\n",
    "    if 'L APB' in mep_frame:\n",
    "        return 'L APB'\n",
    "    else:\n",
    "        return 'APB'\n",
    "\n",
    "def open_mep_as_df(path):\n",
    "    fileMep = open(path, \"r+\")\n",
    "    mep_frames = fileMep.read().split('\\n\\n')\n",
    "    df_list = []\n",
    "    for mep_frame in mep_frames:\n",
    "        df_list.append(pd.read_csv(StringIO(mep_frame), '\\t'))\n",
    "    return df_list\n",
    "\n",
    "def get_mep_path(eeg_path):\n",
    "    segments = eeg_path.split('/')\n",
    "    segments[4] = 'mep'\n",
    "    segments = segments[:-1]\n",
    "    mep_path = '/'.join(segments) + '/*.txt'\n",
    "    mep_path = glob.glob(mep_path)[0]\n",
    "    return mep_path\n",
    "\n",
    "def calculate_mep_size(mep_frame):\n",
    "    mep_cropped, time = crop_mep_region(mep_frame)\n",
    "    apb_name = get_apb_column_name(mep_frame)\n",
    "    max_row = mep_frame.iloc[mep_cropped.idxmax(axis=0)[apb_name]]\n",
    "    min_row = mep_frame.iloc[mep_cropped.idxmin(axis=0)[apb_name]]\n",
    "    mep_size = max_row[apb_name] - min_row[apb_name]\n",
    "    return mep_size, min_row, max_row\n",
    "\n",
    "# Read CMAP file.\n",
    "def read_cmap(path):\n",
    "    df = pd.read_excel(path, sheet_name='Raw data', header=None)\n",
    "    columns = []\n",
    "    ix = 0\n",
    "    for r in df.index.values:\n",
    "        if df[0][r] == 'Channel':\n",
    "            ix = r\n",
    "            break\n",
    "    for c in df.columns.values:\n",
    "        if (df[c][ix] == 2):\n",
    "            columns.append(c)\n",
    "    for r in df.index.values:\n",
    "        if df[0][r] == 'Time (ms)':\n",
    "            ix = r\n",
    "            break\n",
    "    df2 = df[columns].iloc[np.linspace(ix+1, df.shape[0]-2, df.shape[0]-ix-2)]\n",
    "    df2['time'] = df[0].iloc[np.linspace(ix+1, df.shape[0]-2, df.shape[0]-ix-2)]\n",
    "    return df2\n",
    "\n",
    "# Identify CMAP peaks.\n",
    "def find_cmap_peaks(df):\n",
    "    df2 = df[(df['time'] > 105) * (df['time'] < 120)]\n",
    "    time = df2['time']\n",
    "    mean_clean = df2.drop('time', axis=1).mean(axis=1)\n",
    "    return mean_clean.max(), mean_clean.min()\n",
    "\n",
    "def get_cmap_path(eeg_path):\n",
    "    segments = eeg_path.split('/')\n",
    "    segments[4] = 'cmap'\n",
    "    del segments[5]\n",
    "    segments = segments[:-1]\n",
    "    cmap_path = '/'.join(segments) + '/*.xlsx'\n",
    "    cmap_paths = glob.glob(cmap_path)\n",
    "    if (len(cmap_paths) == 0):\n",
    "        print('No CMAP found for ' + cmap_path)\n",
    "        return ''\n",
    "    return cmap_paths[0]\n",
    "\n",
    "def get_mep_category_absolute_binary(mep_size):\n",
    "    if mep_size <= .5:\n",
    "        return 0\n",
    "    else:\n",
    "        return 1\n",
    "    \n",
    "def calculate_mep_categories_binary(mep_sizes):\n",
    "    p1 = np.percentile(mep_sizes, 50)\n",
    "    cat = np.ones(len(mep_sizes)) * (mep_sizes >= p1)\n",
    "    return cat\n",
    "\n",
    "def calculate_mep_categories_cmap_binary(mep_sizes, cmap):\n",
    "    sizes = []\n",
    "    for mep_size in mep_sizes:\n",
    "        sizes.append(mep_size / cmap)\n",
    "    p1 = np.percentile(sizes, 50)\n",
    "    cat = np.ones(len(mep_sizes)) * (sizes >= p1)\n",
    "    return cat\n",
    "\n",
    "def plot_freq_response(sig, time, title=None):\n",
    "    fig, (ax1, ax2, ax3) = plt.subplots(1, 3, figsize=(13, 3))\n",
    "    ax1.plot(time/1000, sig)\n",
    "    ax1.set(xlabel='Time (s)', ylabel=\"uV\")\n",
    "    ax1.set_title('Signal')\n",
    "    \n",
    "    fs = 1000/(time[1] - time[0])\n",
    "    freq, fft = signal.welch(sig, fs, nperseg=4*fs)\n",
    "    ax2.semilogy(freq, fft)\n",
    "    ax2.set(xlabel='Frequency (Hz)', ylabel=\"Power\")\n",
    "    ax2.set_title('Welch PSD')\n",
    "    \n",
    "    fft = np.fft.fft(sig)\n",
    "    freq = np.fft.fftfreq(len(sig), 1/fs)\n",
    "    \n",
    "    ax3.plot(freq, np.angle(fft))\n",
    "    ax3.set(xlabel='Angle', ylabel=\"Power\")\n",
    "    ax3.set_title('Angle')\n",
    "    plt.tight_layout(rect=[0, 0.03, 1, 0.95])\n",
    "    if title != None:\n",
    "        plt.suptitle(title)\n",
    "        \n",
    "def blackman_harris(sig, time, numtaps, cutoff):\n",
    "    fs = 1000 / (time[1] - time[0])\n",
    "    x = np.concatenate((sig, np.ones(int(fs/2)) * sig[-1]))\n",
    "    b = signal.firwin(numtaps, cutoff, window='blackmanharris', fs=fs)\n",
    "    filtered = signal.lfilter(b, 1, x)\n",
    "    delay = 0.5 * (numtaps - 1)\n",
    "    filtered = filtered[numtaps-1:]\n",
    "    filtered = filtered[0:int(len(filtered) - delay)]\n",
    "    return filtered"
   ]
  },
  {
   "cell_type": "code",
   "execution_count": 5,
   "metadata": {},
   "outputs": [],
   "source": [
    "# Convert set files to pickle files.\n",
    "# for eeg_path in tqdm_notebook(eegs):\n",
    "#     print(eeg_path)\n",
    "#     trials = read_eeg(eeg_path)\n",
    "#     pickle.dump(trials, open(os.path.dirname(eeg_path) + \"/05-clean-prestimulus.p\", \"wb\"))"
   ]
  },
  {
   "cell_type": "code",
   "execution_count": 6,
   "metadata": {},
   "outputs": [],
   "source": [
    "def get_phase(channel, time, band, N=1023):\n",
    "    filtered_band = blackman_harris(channel.values, time, N, [0.00001, band[0]])\n",
    "    filtered_band = blackman_harris(filtered_band, time, N, band[1])\n",
    "    time = time[-len(filtered_band):].values\n",
    "    hilb = signal.hilbert(filtered_band)\n",
    "    phase = np.angle(hilb, deg=True)\n",
    "    phase_df = pd.DataFrame(phase, columns=['phase'])\n",
    "    phase_df['time'] = time\n",
    "    return phase_df[phase_df['time'] == 0]['phase'].values[0]\n",
    "\n",
    "def get_power(channel, time, band, fs=500, crop_start_millis=-150):\n",
    "    try:\n",
    "        # Crop time\n",
    "        channel = channel[time > crop_start_millis].values\n",
    "        time = time[time > crop_start_millis].values\n",
    "\n",
    "        # Resample\n",
    "        ts = time[1] - time[0]\n",
    "        secs = len(channel) * ts\n",
    "        secs = secs/1000\n",
    "        resampled = signal.resample(channel, int(secs*fs))\n",
    "        resampled_time = np.linspace(time[0], time[-1], len(resampled))\n",
    "\n",
    "        # PSD estimation\n",
    "        m = resampled.min()\n",
    "        if (m < 0):\n",
    "            resampled = resampled - m\n",
    "        ar, _, _ = arburg(resampled, 10)\n",
    "        psd = arma2psd(ar, sides='centerdc')\n",
    "        psd = psd/np.linspace(-250, 250, len(psd))\n",
    "        psd = 10 * pylab.log10(psd/max(psd))\n",
    "        df_power = pd.DataFrame(psd, columns=['psd'])\n",
    "        df_power['freq'] = np.linspace(-250, 250, len(psd))\n",
    "\n",
    "        # Average power across band\n",
    "        return np.mean(df_power[(df_power['freq'] > band[0]) * (df_power['freq'] <= band[1])]['psd'].values)\n",
    "    except ValueError as e:\n",
    "        return np.nan\n",
    "\n",
    "\n",
    "def hjorth_transform(trial):\n",
    "    times = trial['time'].values\n",
    "    potential = trial[(trial['time'] > -0.5) * (trial['time'] < -0.2)]\n",
    "    hjorth = potential['C3'].values[0] - potential['FC1'].values[0] + potential['C3'].values[0] - potential['CP1'].values[0] + potential['C3'].values[0] - potential['FC5'].values[0] + potential['C3'].values[0] - potential['CP5'].values[0]\n",
    "    trial = trial + hjorth\n",
    "    trial['time'] = times\n",
    "    # trial['ALL'] = trial.drop('time', axis=1).mean(axis=1).values\n",
    "    trial['LTM1'] = trial[['FC5','FC1','C3','CP5','CP1','FC3','C5','C1','CP3']].mean(axis=1).values\n",
    "    trial['RTM1'] = trial[['FC6','FC2','C4','CP6','CP2','FC4','C6','C2','CP4']].mean(axis=1).values\n",
    "    trial['LTDLPFC'] = trial[['Fp1','AF3','AF7','F1','F3','F5','F7','FC1','FC3', 'FC5']].mean(axis=1).values\n",
    "    trial['RTDLPFC'] = trial[['Fp2','AF4','AF8','F2','F4','F6','F8','FC2','FC4', 'FC6']].mean(axis=1).values\n",
    "    trial['CNTRL'] = trial[['Fz','FCz','Cz','F1','FC1','C1','C2','FC2','F2']].mean(axis=1).values\n",
    "    trial['LTOCC'] = trial[['PO7', 'PO5', 'PO3', 'O1']].mean(axis=1).values\n",
    "    trial['RTOCC'] = trial[['PO4', 'PO6', 'PO8', 'O2']].mean(axis=1).values\n",
    "    trial['OCC'] = trial[['PO7', 'PO5', 'PO3', 'POz', 'PO4', 'PO6', 'PO8', 'O1', 'Oz', 'O2']].mean(axis=1).values\n",
    "    trial['LTPAR'] = trial[['P1', 'P3', 'CP1', 'CP3']].mean(axis=1).values\n",
    "    trial['RTPAR'] = trial[['P2', 'P4', 'CP2', 'CP4']].mean(axis=1).values\n",
    "    trial['PAR'] = trial[['P1', 'P3', 'CP1', 'CP3', 'P2', 'P4', 'CP2', 'CP4']].mean(axis=1).values\n",
    "    return trial\n",
    "\n",
    "def calculate_power_phase(trial):\n",
    "    # Hjorth transform\n",
    "    trial = hjorth_transform(trial)\n",
    "    \n",
    "    # Filter bands.\n",
    "    N = 1023\n",
    "    phase_power_dict = {}\n",
    "\n",
    "    for channel in trial.drop(['time', 'RTM1', 'RTDLPFC', 'CNTRL', 'OCC', 'PAR'], axis=1).columns.values:\n",
    "        phase_power_dict[channel + '_mu_phase'] = get_phase(trial[channel], trial['time'], [8, 12])\n",
    "        phase_power_dict[channel + '_beta_phase'] = get_phase(trial[channel], trial['time'], [13, 30])\n",
    "        phase_power_dict[channel + '_gamma_phase'] = get_phase(trial[channel], trial['time'], [30, 80])\n",
    "        phase_power_dict[channel + '_low_beta_phase'] = get_phase(trial[channel], trial['time'], [12, 20])\n",
    "        phase_power_dict[channel + '_high_beta_phase'] = get_phase(trial[channel], trial['time'], [20, 30])\n",
    "        phase_power_dict[channel + '_low_gamma_phase'] = get_phase(trial[channel], trial['time'], [30, 46])\n",
    "        phase_power_dict[channel + '_high_gamma_phase'] = get_phase(trial[channel], trial['time'], [46, 70])\n",
    "        \n",
    "        phase_power_dict[channel + '_mu_power'] = get_power(trial[channel], trial['time'], [8, 12])\n",
    "        phase_power_dict[channel + '_beta_power'] = get_power(trial[channel], trial['time'], [13, 30])\n",
    "        phase_power_dict[channel + '_gamma_power'] = get_power(trial[channel], trial['time'], [30, 80])\n",
    "        phase_power_dict[channel + '_low_beta_power'] = get_power(trial[channel], trial['time'], [12, 20])\n",
    "        phase_power_dict[channel + '_high_beta_power'] = get_power(trial[channel], trial['time'], [20, 30])\n",
    "        phase_power_dict[channel + '_low_gamma_power'] = get_power(trial[channel], trial['time'], [30, 46])\n",
    "        phase_power_dict[channel + '_high_gamma_power'] = get_power(trial[channel], trial['time'], [46, 70])\n",
    "    return phase_power_dict\n",
    "        \n",
    "def process_trials(eeg_path):\n",
    "    sub = eeg_path.split('/')[2]\n",
    "    exp = eeg_path.split('/')[3]\n",
    "    run = eeg_path.split('/')[5]\n",
    "    trials = pickle.load(open(os.path.dirname(eeg_path) + \"/05-clean-prestimulus.p\", \"rb\"))\n",
    "\n",
    "    # Calculate CMAP.\n",
    "    cmap_max, cmap_min = find_cmap_peaks(read_cmap(get_cmap_path(eeg_path)))\n",
    "    cmap = cmap_max - cmap_min\n",
    "\n",
    "    # Calculate MEP categories.\n",
    "    mep_list = open_mep_as_df(get_mep_path(eeg_path))\n",
    "    mep_sizes = []\n",
    "    for mep_df in mep_list:\n",
    "        size, _, _ = calculate_mep_size(mep_df)\n",
    "        mep_sizes.append(size)\n",
    "    mep_cmap_list = calculate_mep_categories_cmap_binary(mep_sizes, cmap)\n",
    "    mep_percentile_list = calculate_mep_categories_binary(mep_sizes)\n",
    "    \n",
    "    # Calculate powers and phases. And combine the results in a df list.\n",
    "    power_phase_list = []\n",
    "    for trial_num in range(len(trials)):\n",
    "        trial = trials[trial_num]\n",
    "        print('Processing ' + sub + '/' + exp + '/' + run + '/' + str(trial_num))\n",
    "        try:\n",
    "            power = calculate_power_phase(trial)\n",
    "        except ValueError as e:\n",
    "            print('Skipping ' + sub + '/' + exp + '/' + run + '/' + str(trial_num) + ': ' + str(e))\n",
    "            continue\n",
    "\n",
    "        power_phase_dict = power\n",
    "        power_phase_dict['sub'] = sub\n",
    "        power_phase_dict['exp'] = exp\n",
    "        power_phase_dict['run'] = run\n",
    "        power_phase_dict['trial_num'] = trial_num\n",
    "        power_phase_dict['cmap'] = cmap\n",
    "        power_phase_dict['mep_size'] = mep_sizes[trial_num]\n",
    "        power_phase_dict['mep_cat_abs'] = get_mep_category_absolute_binary(mep_sizes[trial_num])\n",
    "        power_phase_dict['mep_cat_percentile'] = mep_percentile_list[trial_num]\n",
    "        power_phase_dict['mep_cat_cmap'] = mep_cmap_list[trial_num]\n",
    "        power_phase_dict['mep_by_cmap'] = mep_sizes[trial_num] / cmap\n",
    "        power_phase_list.append(power_phase_dict)\n",
    "    return power_phase_list"
   ]
  },
  {
   "cell_type": "code",
   "execution_count": 7,
   "metadata": {},
   "outputs": [
    {
     "data": {
      "application/vnd.jupyter.widget-view+json": {
       "model_id": "749277950c6f41cd819a2cdfefd4275b",
       "version_major": 2,
       "version_minor": 0
      },
      "text/plain": [
       "HBox(children=(IntProgress(value=0, max=42), HTML(value='')))"
      ]
     },
     "metadata": {},
     "output_type": "display_data"
    },
    {
     "name": "stdout",
     "output_type": "stream",
     "text": [
      "\n"
     ]
    }
   ],
   "source": [
    "num_cores = multiprocessing.cpu_count()\n",
    "results = Parallel(n_jobs=num_cores)(delayed(process_trials)(eeg_path) for eeg_path in tqdm_notebook(eegs))"
   ]
  },
  {
   "cell_type": "code",
   "execution_count": 8,
   "metadata": {},
   "outputs": [
    {
     "data": {
      "text/plain": [
       "2110"
      ]
     },
     "execution_count": 8,
     "metadata": {},
     "output_type": "execute_result"
    }
   ],
   "source": [
    "df_powers = []\n",
    "for result in results:\n",
    "    for trial in result:\n",
    "        df_powers.append(trial)\n",
    "len(df_powers)"
   ]
  },
  {
   "cell_type": "code",
   "execution_count": 9,
   "metadata": {},
   "outputs": [],
   "source": [
    "df_power = pd.DataFrame(df_powers)\n",
    "df_power.to_excel('112-phase-powers-v1.xlsx')"
   ]
  },
  {
   "cell_type": "markdown",
   "metadata": {},
   "source": [
    "# Remove some redundant columns and re-save the excel file"
   ]
  },
  {
   "cell_type": "code",
   "execution_count": null,
   "metadata": {},
   "outputs": [],
   "source": [
    "df_power = pd.read_excel('112-phase-powers-v1.xlsx')\n",
    "df_power.shape"
   ]
  },
  {
   "cell_type": "code",
   "execution_count": null,
   "metadata": {},
   "outputs": [],
   "source": [
    "df_power.head()"
   ]
  },
  {
   "cell_type": "code",
   "execution_count": null,
   "metadata": {},
   "outputs": [],
   "source": [
    "df_power['sub'].unique()"
   ]
  },
  {
   "cell_type": "code",
   "execution_count": 10,
   "metadata": {},
   "outputs": [
    {
     "data": {
      "application/vnd.jupyter.widget-view+json": {
       "model_id": "404197f273d0489b93dd16b0191e62f9",
       "version_major": 2,
       "version_minor": 0
      },
      "text/plain": [
       "HBox(children=(IntProgress(value=0, max=2110), HTML(value='')))"
      ]
     },
     "metadata": {},
     "output_type": "display_data"
    },
    {
     "name": "stdout",
     "output_type": "stream",
     "text": [
      "\n"
     ]
    }
   ],
   "source": [
    "allowed_electrodes = ['C3', 'C4', 'LTM1', 'LTDLPFC', 'LTPAR', 'RTPAR', 'LTOCC', 'RTOCC', 'sub', 'exp', 'run', 'trial_num', 'cmap', 'mep_size', 'mep_cat_abs', 'mep_cat_percentile', 'mep_cat_cmap', 'mep_by_cmap']\n",
    "df_power_reduced = []\n",
    "for idx, row in tqdm_notebook(df_power.iterrows(), total=df_power.shape[0]):\n",
    "    new_row = {}\n",
    "    columns = df_power.columns.values\n",
    "    for column in columns:\n",
    "        allowed = False\n",
    "        for allowed_electrode in allowed_electrodes:\n",
    "            if allowed_electrode in column:\n",
    "                allowed = True\n",
    "                break\n",
    "        if allowed:\n",
    "            new_row[column] = row[column]\n",
    "    df_power_reduced.append(new_row)"
   ]
  },
  {
   "cell_type": "code",
   "execution_count": 11,
   "metadata": {},
   "outputs": [
    {
     "data": {
      "text/plain": [
       "(2110, 150)"
      ]
     },
     "execution_count": 11,
     "metadata": {},
     "output_type": "execute_result"
    }
   ],
   "source": [
    "df_power_reduced = pd.DataFrame(df_power_reduced)\n",
    "df_power_reduced.shape"
   ]
  },
  {
   "cell_type": "code",
   "execution_count": 12,
   "metadata": {},
   "outputs": [],
   "source": [
    "df_power_reduced.to_excel('112-phase-powers-reduced-v1.xlsx')"
   ]
  },
  {
   "cell_type": "markdown",
   "metadata": {},
   "source": [
    "# Remove outliers and pick only peaks and troughs"
   ]
  },
  {
   "cell_type": "code",
   "execution_count": 13,
   "metadata": {},
   "outputs": [
    {
     "data": {
      "text/plain": [
       "<matplotlib.axes._subplots.AxesSubplot at 0x7faad76d9be0>"
      ]
     },
     "execution_count": 13,
     "metadata": {},
     "output_type": "execute_result"
    },
    {
     "data": {
      "image/png": "[encoded data removed]",
      "text/plain": [
       "<Figure size 432x288 with 1 Axes>"
      ]
     },
     "metadata": {
      "needs_background": "light"
     },
     "output_type": "display_data"
    }
   ],
   "source": [
    "(df_power_reduced['LTM1_mu_phase']+180).hist()"
   ]
  },
  {
   "cell_type": "code",
   "execution_count": 14,
   "metadata": {},
   "outputs": [],
   "source": [
    "def phase_in_range(phase):\n",
    "    return (phase+180 >= 45 and phase+180 <= 135) or (phase+180 >= 225 and phase+180 <= 315)"
   ]
  },
  {
   "cell_type": "code",
   "execution_count": 15,
   "metadata": {},
   "outputs": [
    {
     "data": {
      "image/png": "[encoded data removed]",
      "text/plain": [
       "<Figure size 1008x720 with 1 Axes>"
      ]
     },
     "metadata": {
      "needs_background": "light"
     },
     "output_type": "display_data"
    }
   ],
   "source": [
    "fig, ax = plt.subplots(figsize=(14,10))\n",
    "sns.boxplot(x=\"sub\", y=\"mep_by_cmap\", data=df_power_reduced)\n",
    "sns.despine(offset=10, trim=True, ax=ax)"
   ]
  },
  {
   "cell_type": "code",
   "execution_count": 21,
   "metadata": {},
   "outputs": [
    {
     "data": {
      "application/vnd.jupyter.widget-view+json": {
       "model_id": "63e81197165f4a479c1fb543205d2120",
       "version_major": 2,
       "version_minor": 0
      },
      "text/plain": [
       "HBox(children=(IntProgress(value=0, max=2110), HTML(value='')))"
      ]
     },
     "metadata": {},
     "output_type": "display_data"
    },
    {
     "name": "stdout",
     "output_type": "stream",
     "text": [
      "\n"
     ]
    }
   ],
   "source": [
    "df_power_outliers_removed = []\n",
    "channel = 'LTM1'\n",
    "band = 'mu'\n",
    "copy_columns = ['sub', 'exp', 'run', 'trial_num', 'cmap', 'mep_size', 'mep_cat_abs', 'mep_cat_percentile', 'mep_cat_cmap', 'mep_by_cmap']\n",
    "for idx, row in tqdm_notebook(df_power_reduced.iterrows(), total=df_power_reduced.shape[0]):\n",
    "    if (phase_in_range(row[channel + '_'+band+'_phase'])):\n",
    "        new_row = {}\n",
    "        columns = df_power.columns.values\n",
    "        for column in columns:\n",
    "            if column in copy_columns:\n",
    "                new_row[column] = row[column]\n",
    "        new_row[channel + '_'+band+'_power'] = row[channel + '_'+band+'_power']\n",
    "        new_row[channel + '_'+band+'_phase'] = row[channel + '_'+band+'_phase'] + 180\n",
    "        if (row[channel + '_'+band+'_phase'] + 180 >= 45) and (row[channel + '_'+band+'_phase'] + 180 <= 135):\n",
    "            cat = 0\n",
    "        else:\n",
    "            cat = 1\n",
    "        new_row[channel + '_'+band+'_phase_cat'] = cat        \n",
    "        df_power_outliers_removed.append(new_row)\n",
    "\n",
    "df_power_outliers_removed = pd.DataFrame(df_power_outliers_removed)\n",
    "df_power_outliers_removed.shape\n",
    "\n",
    "# Remove outlier subjects.\n",
    "df_power_outliers_removed_2 = df_power_outliers_removed\n",
    "df_power_outliers_removed_2 = df_power_outliers_removed[~df_power_outliers_removed['sub'].isin(['sub04', 'sub05', 'sub09', 'sub14', 'sub15', 'sub16'])]\n",
    "\n",
    "# Remove outlier MEP sizes and save.\n",
    "df_power_outliers_removed_2[df_power_outliers_removed_2['mep_by_cmap'] < 350].to_excel('112-' + channel + '-'+band+'-v1-nooutliers.xlsx')"
   ]
  },
  {
   "cell_type": "code",
   "execution_count": null,
   "metadata": {},
   "outputs": [],
   "source": [
    "df_power_outliers_removed.head()"
   ]
  },
  {
   "cell_type": "code",
   "execution_count": null,
   "metadata": {},
   "outputs": [],
   "source": [
    "df_power_outliers_removed['sub'].unique()"
   ]
  },
  {
   "cell_type": "code",
   "execution_count": null,
   "metadata": {},
   "outputs": [],
   "source": [
    "fig, ax = plt.subplots(figsize=(14,10))\n",
    "sns.boxplot(x=\"sub\", y=\"mep_by_cmap\", data=df_power_outliers_removed_2[df_power_outliers_removed_2['mep_by_cmap'] < 300])\n",
    "sns.despine(offset=10, trim=True, ax=ax)\n",
    "# df_power_outliers_removed.to_excel('108-' + channel + '-mu-v1.xlsx')"
   ]
  },
  {
   "cell_type": "code",
   "execution_count": null,
   "metadata": {},
   "outputs": [],
   "source": [
    "df_power_outliers_removed_2[df_power_outliers_removed_2['mep_by_cmap'] < 300].to_excel('108-' + channel + '-lowbeta-v1-nooutliers.xlsx')"
   ]
  },
  {
   "cell_type": "code",
   "execution_count": null,
   "metadata": {},
   "outputs": [],
   "source": [
    "df_power_outliers_removed.to_excel('108-' + channel + '-mu-v1.xlsx')"
   ]
  },
  {
   "cell_type": "code",
   "execution_count": null,
   "metadata": {},
   "outputs": [],
   "source": [
    "df_power_outliers_removed[prefix + 'phase'].hist()"
   ]
  },
  {
   "cell_type": "code",
   "execution_count": null,
   "metadata": {},
   "outputs": [],
   "source": [
    "df_power_outliers_removed.shape"
   ]
  },
  {
   "cell_type": "code",
   "execution_count": null,
   "metadata": {},
   "outputs": [],
   "source": [
    "np.log(df_power_outliers_removed['mep_size']).hist()"
   ]
  },
  {
   "cell_type": "code",
   "execution_count": null,
   "metadata": {},
   "outputs": [],
   "source": [
    "df_power_outliers_removed['mep_size'].hist()"
   ]
  },
  {
   "cell_type": "code",
   "execution_count": null,
   "metadata": {},
   "outputs": [],
   "source": [
    "plt.plot(df_power_outliers_removed['LTM1_mu_phase'], df_power_outliers_removed['mep_size'], 'o')"
   ]
  },
  {
   "cell_type": "code",
   "execution_count": null,
   "metadata": {},
   "outputs": [],
   "source": [
    "plt.plot(df_power_outliers_removed['LTM1_mu_phase'] * df_power_outliers_removed['LTM1_mu_power'], df_power_outliers_removed['mep_size'], 'o')"
   ]
  },
  {
   "cell_type": "code",
   "execution_count": null,
   "metadata": {},
   "outputs": [],
   "source": [
    "plt.plot(df_power_outliers_removed['LTM1_mu_power'], df_power_outliers_removed['mep_size'], 'o')"
   ]
  },
  {
   "cell_type": "markdown",
   "metadata": {},
   "source": [
    "# Visualization"
   ]
  },
  {
   "cell_type": "code",
   "execution_count": null,
   "metadata": {},
   "outputs": [],
   "source": [
    "df_power_outliers_removed.columns.values"
   ]
  },
  {
   "cell_type": "code",
   "execution_count": null,
   "metadata": {},
   "outputs": [],
   "source": [
    "fig, ax = plt.subplots(figsize=(14,10))\n",
    "sns.boxplot(x=\"sub\", y=\"mep_by_cmap\", data=df_power_outliers_removed)\n",
    "sns.despine(offset=10, trim=True, ax=ax)"
   ]
  },
  {
   "cell_type": "code",
   "execution_count": null,
   "metadata": {},
   "outputs": [],
   "source": [
    "fig, ax = plt.subplots(figsize=(14,10))\n",
    "sns.boxplot(x=\"sub\", y=\"mep_size\", data=df_power_outliers_removed)\n",
    "sns.despine(offset=10, trim=True, ax=ax)"
   ]
  },
  {
   "cell_type": "code",
   "execution_count": null,
   "metadata": {},
   "outputs": [],
   "source": [
    "plt.figure(figsize=(12,8))\n",
    "plt.plot(df_power_outliers_removed['LTM1_mu_power'], df_power_outliers_removed['mep_by_cmap'], 'o')\n",
    "plt.xlabel('LTM1 mu power')\n",
    "plt.ylabel('MEP by CMAP')\n",
    "plt.title('Outliers removed (p = 0.880)')"
   ]
  },
  {
   "cell_type": "code",
   "execution_count": null,
   "metadata": {},
   "outputs": [],
   "source": [
    "plt.figure(figsize=(12,8))\n",
    "plt.plot(df_power_outliers_removed['LTM1_mu_phase'], df_power_outliers_removed['mep_by_cmap'], 'o')\n",
    "plt.xlabel('LTM1 mu phase')\n",
    "plt.ylabel('MEP by CMAP')\n",
    "plt.title('Outliers removed (p = 0.054)')"
   ]
  },
  {
   "cell_type": "code",
   "execution_count": null,
   "metadata": {},
   "outputs": [],
   "source": [
    "plt.figure(figsize=(12,8))\n",
    "plt.plot(df_power_outliers_removed['LTM1_mu_phase'] * df_power_outliers_removed['LTM1_mu_power'], df_power_outliers_removed['mep_by_cmap'], 'o')\n",
    "plt.xlabel('LTM1 mu power * LTM1 mu phase')\n",
    "plt.ylabel('MEP by CMAP')\n",
    "plt.title('Outliers removed (p = 0.048)')"
   ]
  },
  {
   "cell_type": "code",
   "execution_count": null,
   "metadata": {},
   "outputs": [],
   "source": [
    "plt.figure(figsize=(12,8))\n",
    "plt.plot(df_power_outliers_removed['LTM1_mu_phase'] * df_power_outliers_removed['LTM1_mu_power'], np.log(df_power_outliers_removed['mep_by_cmap']), 'o')\n",
    "plt.xlabel('LTM1 mu power * LTM1 mu phase')\n",
    "plt.ylabel('MEP by CMAP (log)')\n",
    "plt.title('Outliers removed (p = 0.048)')"
   ]
  },
  {
   "cell_type": "markdown",
   "metadata": {},
   "source": [
    "# Machine Learning"
   ]
  },
  {
   "cell_type": "code",
   "execution_count": null,
   "metadata": {},
   "outputs": [],
   "source": [
    "df_ml = df_power_outliers_removed_2[df_power_outliers_removed_2['mep_by_cmap'] < 300]\n",
    "x_train, x_test, y_train, y_test = train_test_split(df_ml[['LTM1_mu_phase', 'LTM1_mu_power', 'LTM1_beta_phase', 'LTM1_beta_power', 'LTM1_gamma_power', 'LTM1_gamma_phase']], df_ml['mep_by_cmap'], train_size=0.8)\n",
    "pipeline_optimizer = TPOTRegressor(generations=10, population_size=20, cv=5, random_state=42, verbosity=2, scoring='r2')\n",
    "pipeline_optimizer.fit(x_train, y_train)\n",
    "\n",
    "print(pipeline_optimizer.score(x_test, y_test))\n",
    "plt.figure(figsize=(12,8))\n",
    "y_pred = pipeline_optimizer.predict(x_test)\n",
    "plt.plot(y_test, y_pred, 'o')\n",
    "plt.xlabel('Actual MEP by CMAP')\n",
    "plt.ylabel('Predicted MEP by CMAP')\n",
    "plt.title('r2 = ' + str(r2_score(y_test, y_pred)))"
   ]
  },
  {
   "cell_type": "code",
   "execution_count": null,
   "metadata": {},
   "outputs": [],
   "source": [
    "def train_and_plot(model):\n",
    "    model.fit(x_train, y_train)\n",
    "    plt.figure(figsize=(12,8))\n",
    "    y_pred = model.predict(x_test)\n",
    "    plt.plot(y_test, y_pred, 'o')\n",
    "    plt.xlabel('Actual MEP by CMAP')\n",
    "    plt.ylabel('Predicted MEP by CMAP')\n",
    "    plt.title('r2 = ' + str(r2_score(y_test, y_pred)))"
   ]
  },
  {
   "cell_type": "code",
   "execution_count": null,
   "metadata": {},
   "outputs": [],
   "source": [
    "train_and_plot(LinearRegression())"
   ]
  },
  {
   "cell_type": "code",
   "execution_count": null,
   "metadata": {},
   "outputs": [],
   "source": [
    "from sklearn import preprocessing\n",
    "from sklearn.linear_model import SGDClassifier\n",
    "from sklearn.ensemble import GradientBoostingRegressor, RandomForestRegressor\n",
    "from sklearn.svm import SVR\n",
    "from sklearn.svm import SVC\n",
    "from sklearn.metrics import confusion_matrix, classification_report, accuracy_score\n",
    "from sklearn.tree import DecisionTreeClassifier, DecisionTreeRegressor\n",
    "from keras_tqdm import TQDMNotebookCallback\n",
    "from tensorboard.plugins.hparams import api as hp\n",
    "from livelossplot.tf_keras import PlotLossesCallback"
   ]
  },
  {
   "cell_type": "code",
   "execution_count": null,
   "metadata": {},
   "outputs": [],
   "source": [
    "train_and_plot(RandomForestRegressor())"
   ]
  },
  {
   "cell_type": "code",
   "execution_count": null,
   "metadata": {},
   "outputs": [],
   "source": [
    "train_and_plot(GradientBoostingRegressor())"
   ]
  },
  {
   "cell_type": "code",
   "execution_count": null,
   "metadata": {},
   "outputs": [],
   "source": [
    "train_and_plot(SVR())"
   ]
  },
  {
   "cell_type": "code",
   "execution_count": null,
   "metadata": {},
   "outputs": [],
   "source": [
    "train_and_plot(DecisionTreeRegressor())"
   ]
  }
 ],
 "metadata": {
  "file_extension": ".py",
  "kernelspec": {
   "display_name": "Python 3",
   "language": "python",
   "name": "python3"
  },
  "language_info": {
   "codemirror_mode": {
    "name": "ipython",
    "version": 3
   },
   "file_extension": ".py",
   "mimetype": "text/x-python",
   "name": "python",
   "nbconvert_exporter": "python",
   "pygments_lexer": "ipython3",
   "version": "3.7.3"
  },
  "mimetype": "text/x-python",
  "name": "python",
  "npconvert_exporter": "python",
  "pygments_lexer": "ipython3",
  "version": 3
 },
 "nbformat": 4,
 "nbformat_minor": 4
}
