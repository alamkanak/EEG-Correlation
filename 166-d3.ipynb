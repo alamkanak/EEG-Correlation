{
 "cells": [
  {
   "cell_type": "markdown",
   "metadata": {},
   "source": [
    "# Import everything"
   ]
  },
  {
   "cell_type": "code",
   "execution_count": 37,
   "metadata": {},
   "outputs": [],
   "source": [
    "import glob\n",
    "import pandas as pd\n",
    "import matplotlib.pyplot as plt\n",
    "from io import StringIO\n",
    "import numpy as np\n",
    "from scipy import signal\n",
    "from scipy import fftpack\n",
    "import seaborn as sns\n",
    "from tqdm.notebook import tqdm\n",
    "import math\n",
    "\n",
    "import sklearn.model_selection\n",
    "import sklearn.datasets\n",
    "import sklearn.metrics\n",
    "import multiprocessing\n",
    "from joblib import Parallel, delayed\n",
    "import multiprocessing\n",
    "from joblib import wrap_non_picklable_objects\n",
    "import json\n",
    "import pickle\n",
    "import os.path\n",
    "from mpl_toolkits.mplot3d import axes3d\n",
    "import timeit\n",
    "from timeit import default_timer as timer\n",
    "from datetime import timedelta\n",
    "import json\n",
    "import statsmodels.api as sm\n",
    "import statsmodels.formula.api as smf\n",
    "from statsmodels.genmod import bayes_mixed_glm as glm\n",
    "from sklearn.feature_selection import SelectKBest\n",
    "from sklearn.feature_selection import chi2\n",
    "from sklearn.feature_selection import RFECV\n",
    "from spectrum import arburg, arma2psd, pburg\n",
    "import pylab\n",
    "from scipy.signal import find_peaks, butter\n",
    "from scipy.integrate import simps\n",
    "from scipy.io import loadmat\n",
    "from numpy import trapz\n",
    "import scipy.fftpack"
   ]
  },
  {
   "cell_type": "markdown",
   "metadata": {},
   "source": [
    "# Load file paths of EEGs."
   ]
  },
  {
   "cell_type": "code",
   "execution_count": 38,
   "metadata": {},
   "outputs": [
    {
     "name": "stdout",
     "output_type": "stream",
     "text": [
      "Raw: 15\n",
      "Raw Hjorth: 15\n",
      "Clean: 15\n",
      "Clean Hjorth: 15\n"
     ]
    }
   ],
   "source": [
    "paths_raw = sorted(glob.glob('data/dataset3/raw/*.mat'))\n",
    "paths_raw_hjorth = sorted(glob.glob('data/dataset3/raw-hjorth/*.mat'))\n",
    "paths_clean = sorted(glob.glob('data/dataset3/clean/*.mat'))\n",
    "paths_clean_hjorth = sorted(glob.glob('data/dataset3/clean-hjorth/*.mat'))\n",
    "print(\"Raw: {}\\nRaw Hjorth: {}\\nClean: {}\\nClean Hjorth: {}\".format(len(paths_raw), len(paths_raw_hjorth), len(paths_clean), len(paths_clean_hjorth)))"
   ]
  },
  {
   "cell_type": "markdown",
   "metadata": {},
   "source": [
    "# Read EEG files"
   ]
  },
  {
   "cell_type": "code",
   "execution_count": 39,
   "metadata": {},
   "outputs": [],
   "source": [
    "def read_trials_from_raw(filename, time_start, time_end, columns):\n",
    "    x = loadmat(filename)\n",
    "    x = x['EEGData']\n",
    "    trials = []\n",
    "    time = np.linspace(time_start, time_end, len(x[0, :, 0]))\n",
    "    for trial_num in range(x.shape[2]):\n",
    "        trial = np.transpose(x[:, :, trial_num])\n",
    "        trial = pd.DataFrame(data=trial, columns=columns)\n",
    "        trial['time'] = time\n",
    "        trials.append(trial)\n",
    "    return trials\n",
    "\n",
    "def read_trials_from_hjorth(filename, time_start, time_end):\n",
    "    x = loadmat(filename)\n",
    "    mat_trials = x['dat'][0][0][3][0]\n",
    "    trials = []\n",
    "    time = np.linspace(time_start, time_end, len(mat_trials[0][0]))\n",
    "    for mat_trial in mat_trials:\n",
    "        trials.append(pd.DataFrame({'C3': mat_trial[0], 'C4': mat_trial[1], 'time': time}))\n",
    "    return trials"
   ]
  },
  {
   "cell_type": "markdown",
   "metadata": {},
   "source": [
    "# Power and phase calculation"
   ]
  },
  {
   "cell_type": "code",
   "execution_count": 40,
   "metadata": {},
   "outputs": [],
   "source": [
    "def blackman_harris_filter(channel, time, cutoffs, fs, numtaps):\n",
    "    b = signal.firwin(numtaps, cutoffs, window='blackmanharris', fs=fs)\n",
    "    filtered = signal.lfilter(b, 1, channel)\n",
    "    delay = 0.5 * (numtaps - 1) / fs\n",
    "    df = pd.DataFrame({\n",
    "        'time': time-delay,\n",
    "        'channel': filtered\n",
    "    })\n",
    "    return df\n",
    "\n",
    "def butter_bandpass_filter(data, lowcut, highcut, fs, btype, order):\n",
    "    nyq = 0.5 * fs\n",
    "    low = lowcut / nyq\n",
    "    high = highcut / nyq\n",
    "    b, a = butter(order, [low, high], btype=btype)\n",
    "    y = signal.lfilter(b, a, data)\n",
    "    return y\n",
    "\n",
    "def get_phase(channel, time, band, fs, filter_type, start_time_ms, stop_time_ms, blackmann_harris_ntaps):\n",
    "    if filter_type=='butter':\n",
    "        df_filtered = pd.DataFrame({'channel': butter_bandpass_filter(channel, band[0], band[1], fs, btype='bandpass', order=3), 'time': time})\n",
    "    else:\n",
    "        df_filtered = blackman_harris_filter(channel, time, [0.000001, band[0]], fs, numtaps=blackmann_harris_ntaps)\n",
    "        df_filtered = blackman_harris_filter(df_filtered['channel'].values, df_filtered['time'].values, band[1], fs, numtaps=blackmann_harris_ntaps)    \n",
    "    \n",
    "    hilb = signal.hilbert(df_filtered[(df_filtered['time'] > start_time_ms) & (df_filtered['time'] < stop_time_ms)]['channel'])\n",
    "    phase = np.angle(hilb, deg=True)\n",
    "    df_phase = pd.DataFrame(phase, columns=['phase'])\n",
    "    df_phase['time'] = df_filtered[(df_filtered['time'] > start_time_ms) & (df_filtered['time'] < stop_time_ms)]['time'].values\n",
    "    return df_phase\n",
    "\n",
    "def get_power(channel, time, fs, crop_start_millis, crop_end_millis, method, filter_type, resample_fs, line_noise_band, blackmann_harris_ntaps):\n",
    "    # Crop.\n",
    "    channel = channel[(time > crop_start_millis) & (time < crop_end_millis)].values\n",
    "    time = time[(time > crop_start_millis) & (time < crop_end_millis)].values\n",
    "    \n",
    "    # Resample\n",
    "    if resample_fs is None:\n",
    "        resampled = channel\n",
    "        resampled_time = time\n",
    "    else:\n",
    "        ts = time[1] - time[0]\n",
    "        secs = len(channel) * ts\n",
    "        secs = secs/1000\n",
    "        resampled = signal.resample(channel, int(secs*resample_fs))\n",
    "        resampled_time = np.linspace(time[0], time[-1], len(resampled))\n",
    "        fs = resample_fs\n",
    "\n",
    "    # Remove line nosie.\n",
    "    if filter_type == 'butter':\n",
    "        resampled = butter_bandpass_filter(resampled, line_noise_band[0], line_noise_band[1], fs, 'bandstop', order=4)\n",
    "        resampled_time = time\n",
    "    else:\n",
    "        df_filtered = blackman_harris_filter(resampled, resampled_time, line_noise_band, fs, numtaps=blackmann_harris_ntaps)\n",
    "        resampled = df_filtered['channel']\n",
    "        resampled_time = df_filtered['time']\n",
    "    \n",
    "    # PSD.\n",
    "    if method == 'welch':\n",
    "        # Welch method\n",
    "        freq, power = signal.welch(resampled, fs, nperseg=4*fs, nfft=fs)\n",
    "        df_power = pd.DataFrame({'freq': freq, 'power': power})\n",
    "    elif method == 'fft':\n",
    "        # FFT method\n",
    "        T = 1/fs\n",
    "        N = fs//2\n",
    "        yf = scipy.fftpack.fft(resampled, n=N)\n",
    "        yf = 2 / (N/2) * np.abs(yf[:N//2])\n",
    "        xf = np.linspace(0, 1/(2*T), N // 2)\n",
    "        df_power = pd.DataFrame({'freq': xf, 'power': yf})\n",
    "    elif method == 'pburg':\n",
    "        # Burgs method\n",
    "        order = min(len(resampled)-2, int(fs/4))\n",
    "        p = pburg(resampled, order, sampling=fs, NFFT=fs)\n",
    "        power = p.psd\n",
    "        freq = np.linspace(0, fs/2, len(power))\n",
    "        df_power = pd.DataFrame({'freq': freq, 'power': power})\n",
    "\n",
    "    df_power = df_power[df_power['freq'] < fs/2]\n",
    "    df_power['power'] = 10 * np.log10(df_power['power'])\n",
    "    return df_power"
   ]
  },
  {
   "cell_type": "markdown",
   "metadata": {},
   "source": [
    "# Diagnose #1"
   ]
  },
  {
   "cell_type": "code",
   "execution_count": null,
   "metadata": {},
   "outputs": [],
   "source": [
    "ind = 100\n",
    "trial_num = 20\n",
    "print(\"{} - {}\".format(ind, raw_files[ind]))\n",
    "\n",
    "trials = read_trials_from_raw(raw_files[ind], -900, 0, ['AF1', 'AF2', 'AF7', 'AF8', 'AFZ', 'C1', 'C2', 'C3', 'C4', 'C5', 'C6', 'CP1', 'CP2', 'CP3', 'CP4', 'CP5', 'CP6', 'CPZ', 'CZ', 'F1', 'F2', 'F3', 'F4', 'F5', 'F6', 'F7', 'F8', 'FC1', 'FC2', 'FC3', 'FC4', 'FC5', 'FC6', 'FCZ', 'FP1', 'FP2', 'FPZ', 'FT7', 'FT8', 'FZ', 'O1', 'O2', 'OZ', 'P1', 'P2', 'P3', 'P4', 'P5', 'P6', 'P7', 'P8', 'PO1', 'PO2', 'PO7', 'PO8', 'POZ', 'PZ', 'T7', 'T8', 'TP7', 'TP8', 'X', 'Y', 'nd'])\n",
    "# trials = read_trials_from_raw(clean_files[ind], -900, 0, ['AF1', 'AF2', 'AF7', 'AF8', 'AFZ', 'C1', 'C2', 'C3', 'C4', 'C5', 'C6', 'CP1', 'CP2', 'CP3', 'CP4', 'CP5', 'CP6', 'CPZ', 'CZ', 'F1', 'F2', 'F3', 'F4', 'F5', 'F6', 'F7', 'F8', 'FC1', 'FC2', 'FC3', 'FC4', 'FC5', 'FC6', 'FCZ', 'FP1', 'FP2', 'FPZ', 'FT7', 'FT8', 'FZ', 'O1', 'O2', 'OZ', 'P1', 'P2', 'P3', 'P4', 'P5', 'P6', 'P7', 'P8', 'PO1', 'PO2', 'PO7', 'PO8', 'POZ', 'PZ', 'T7', 'T8', 'TP7', 'TP8', 'X', 'Y', 'nd'])\n",
    "df_trial = trials[trial_num]\n",
    "\n",
    "channel = df_trial['C3']\n",
    "time = df_trial['time']\n",
    "\n",
    "fs = 256\n",
    "band = [8, 12]\n",
    "blackmann_harris_ntaps = 51\n",
    "line_noise_band = [48, 52]\n",
    "time_start = -150\n",
    "\n",
    "\n",
    "i = 0\n",
    "f, axs = plt.subplots(1,3,figsize=(16,2))\n",
    "axs[i].plot(time, channel)\n",
    "axs[i].set_title('Waveform')\n",
    "i = i + 1\n",
    "\n",
    "freq, power = signal.welch(channel, fs, nperseg=4*fs, nfft=fs)\n",
    "df_power = pd.DataFrame({'freq': freq, 'power': power})\n",
    "df_power = df_power[df_power['freq'] < 80]\n",
    "axs[i].plot(df_power['freq'], df_power['power'])\n",
    "axs[i].set_title('PSD - Welch')\n",
    "i = i + 1\n",
    "\n",
    "order = min(len(channel)-2, int(fs/4))\n",
    "p = pburg(channel, 64, sampling=fs, NFFT=fs)\n",
    "power = p.psd\n",
    "freq = np.linspace(0, fs/2, len(power))\n",
    "df_power = pd.DataFrame({'freq': freq, 'power': power})\n",
    "df_power = df_power[df_power['freq'] < 80]\n",
    "df_power = df_power[df_power['freq'] >3]\n",
    "axs[i].plot(df_power['freq'], df_power['power'])\n",
    "axs[i].set_title('PSD - Burg')\n",
    "i = i + 1\n",
    "print(order)"
   ]
  },
  {
   "cell_type": "markdown",
   "metadata": {},
   "source": [
    "# Diagnose #2"
   ]
  },
  {
   "cell_type": "code",
   "execution_count": 14,
   "metadata": {},
   "outputs": [],
   "source": [
    "# ind = 10\n",
    "# trials = read_trials_from_raw(paths_raw[10])\n",
    "# trial = trials[10]\n",
    "# time = trial['time']\n",
    "# channel = trial['C3']\n",
    "\n",
    "# fs = 256\n",
    "# band = [8, 12]\n",
    "# blackmann_harris_ntaps = 51\n",
    "# line_noise_band = [58, 62]\n",
    "# crop_start_millis = -150\n",
    "\n",
    "# for filter_type in ['butter', 'blackmann']:\n",
    "#     i = 0\n",
    "#     f, axs = plt.subplots(1,5,figsize=(16,2))\n",
    "#     axs[i].plot(time, channel)\n",
    "#     i = i + 1\n",
    "    \n",
    "#     df_phase = get_phase(channel, time, band=band, fs=fs, filter_type=filter_type, start_time_ms=-750, stop_time_ms=-1, blackmann_harris_ntaps=blackmann_harris_ntaps)\n",
    "#     axs[i].plot(df_phase['time'], df_phase['phase'])\n",
    "#     axs[i].set_title(\"Phase - {}\".format(filter_type))\n",
    "#     i = i + 1\n",
    "    \n",
    "#     for method in ['pburg', 'welch', 'fft']:\n",
    "#         df_power = get_power(channel, time, fs, crop_start_millis=crop_start_millis, crop_end_millis=-1, method=method, filter_type=filter_type, resample_fs=None, line_noise_band=line_noise_band, blackmann_harris_ntaps=blackmann_harris_ntaps)\n",
    "#         df_power = df_power[df_power['freq'] < 130]\n",
    "#         axs[i].plot(df_power['freq'], df_power['power'])\n",
    "#         axs[i].set_title(\"Power - {} - {}\".format(filter_type, method))\n",
    "#         i = i + 1\n",
    "#     plt.tight_layout()\n",
    "#     plt.show()"
   ]
  },
  {
   "cell_type": "markdown",
   "metadata": {},
   "source": [
    "# Process trials"
   ]
  },
  {
   "cell_type": "code",
   "execution_count": 22,
   "metadata": {},
   "outputs": [],
   "source": [
    "def process_trial(raw_path, raw_hjorth_path, clean_raw_path, clean_raw_hjorth_path):\n",
    "    df_powers = []\n",
    "    df_phases = []\n",
    "    \n",
    "    trials_raw = read_trials_from_raw(raw_path, -1000, 0, ['FP1', 'AF7', 'AF3', 'F1', 'F3', 'F5', 'F7', 'FT7', 'FC5', 'FC3', 'FC1', 'C1', 'C3', 'C5', 'T7', 'TP7', 'CP5', 'CP3', 'CP1', 'P1', 'P3', 'P5', 'P7', 'P9', 'PO7', 'PO3', 'O1', 'IZ', 'OZ', 'POZ', 'PZ', 'CPZ', 'FPZ', 'FP2', 'AF8', 'AF4', 'AFZ', 'FZ', 'F2', 'F4', 'F6', 'F8', 'FT8', 'FC6', 'FC4', 'FC2', 'FCZ', 'CZ', 'C2', 'C4', 'C6', 'T8', 'TP8', 'CP6', 'CP4', 'CP2', 'P2', 'P4', 'P6', 'P8', 'P10', 'PO8', 'PO4', 'O2', 'M1', 'M2', 'NAS', 'LVEOG', 'RVEOG', 'LHEOG', 'RHEOG', 'NFPZ'])\n",
    "    trials_raw_hjorth = read_trials_from_hjorth(raw_hjorth_path, -1000, 0)\n",
    "    trials_clean = read_trials_from_raw(clean_raw_path, -1000, 0, ['FP1', 'AF7', 'AF3', 'F1', 'F3', 'F5', 'F7', 'FT7', 'FC5', 'FC3', 'FC1', 'C1', 'C3', 'C5', 'T7', 'TP7', 'CP5', 'CP3', 'CP1', 'P1', 'P3', 'P5', 'P7', 'P9', 'PO7', 'PO3', 'O1', 'IZ', 'OZ', 'POZ', 'PZ', 'CPZ', 'FPZ', 'FP2', 'AF8', 'AF4', 'AFZ', 'FZ', 'F2', 'F4', 'F6', 'F8', 'FT8', 'FC6', 'FC4', 'FC2', 'FCZ', 'CZ', 'C2', 'C4', 'C6', 'T8', 'TP8', 'CP6', 'CP4', 'CP2', 'P2', 'P4', 'P6', 'P8', 'P10', 'PO8', 'PO4', 'O2', 'M1', 'M2', 'NAS', 'LVEOG', 'RVEOG', 'LHEOG', 'RHEOG', 'NFPZ'])\n",
    "    trials_clean_hjorth = read_trials_from_hjorth(clean_raw_hjorth_path, -1000, 0)\n",
    "    \n",
    "    subject = raw_path.split('/')[3]\n",
    "    trial_num = int(raw_path.split('/')[4].split('-')[1].split('.')[0])\n",
    "    df_sub = pd.read_csv('data/dataset2/alcoholism-01-parsed/' + subject + '.csv')\n",
    "    power_row = {\n",
    "        'sub': subject,\n",
    "        'trial': trial_num,\n",
    "        'alcoholic': df_sub.iloc[0]['alcoholic'],\n",
    "        'condition': df_sub[df_sub['trial'] == trial_num].iloc[0]['condition']\n",
    "    }\n",
    "    \n",
    "    for trial_num in range(len(trials_raw)):\n",
    "        trial_raw = trials_raw[trial_num]\n",
    "        trial_raw_hjorth = trials_raw_hjorth[trial_num]\n",
    "        trial_clean = trials_clean[trial_num]\n",
    "        trial_clean_hjorth = trials_clean_hjorth[trial_num]\n",
    "        trial_clean_avg = trial_clean.copy()\n",
    "        trial_clean_avg['C3'] = trial_clean_avg[['FC5', 'FC3', 'FC1', 'C5', 'C3', 'C1', 'CP5', 'CP3', 'CP1']].mean(axis=1)\n",
    "        trial_raw_avg = trial_raw.copy()\n",
    "        trial_raw_avg['C3'] = trial_raw_avg[['FC5', 'FC3', 'FC1', 'C5', 'C3', 'C1', 'CP5', 'CP3', 'CP1']].mean(axis=1)\n",
    "        \n",
    "        for eeg_type, artifact_removed, df_trial in zip(['Raw', 'Hjorth', 'Raw', 'Hjorth', 'Average', 'Average'], [False, False, True, True, True, False], [trial_raw, trial_raw_hjorth, trial_clean, trial_clean_hjorth, trial_clean_avg, trial_raw_avg]):\n",
    "            for filter_code, filter_name in zip(['butter', 'blackmannharris'], ['Butterworth', 'Blackmann-Harris']):\n",
    "                for time, ntaps in zip([-750, -150], [101, 51]):\n",
    "                    for method_code, method_name in zip(['pburg', 'welch', 'fft'], ['Burg', 'Welch', 'FFT']):\n",
    "\n",
    "                        try:\n",
    "                            df_power = get_power(df_trial['C3'], df_trial['time'], fs=256, crop_start_millis=time, crop_end_millis=-1, method=method_code, filter_type=filter_code, resample_fs=None, line_noise_band=[58, 62], blackmann_harris_ntaps=ntaps)\n",
    "                        except:\n",
    "                            continue\n",
    "\n",
    "                        for band, fc1, fc2 in zip(['Theta', 'Mu', 'Beta', 'Gamma'], [3.5, 8, 13, 30], [8, 12, 30, 80]):\n",
    "                            power = df_power[df_power['freq'] >= fc1]\n",
    "                            power = power[power['freq'] < fc2]\n",
    "                            power = power['power'].mean(axis=0)\n",
    "                            row = power_row.copy()\n",
    "                            row['ArtifactRemoved'] = artifact_removed\n",
    "                            row['EEG'] = eeg_type\n",
    "                            row['Filter'] = filter_name\n",
    "                            row['Time'] = time\n",
    "                            row['Method'] = method_name\n",
    "                            row['Band'] = band\n",
    "                            row['Power'] = power\n",
    "                            df_powers.append(row)\n",
    "                for band, fc1, fc2 in zip(['Theta', 'Mu', 'Beta', 'Gamma'], [3.5, 8, 13, 30], [8, 12, 30, 80]):\n",
    "                    phase = get_phase(df_trial['C3'], df_trial['time'], [fc1, fc2], filter_type=filter_code, start_time_ms=-750, stop_time_ms=-1, fs=256, blackmann_harris_ntaps=101)\n",
    "                    phase = phase.iloc[-1]['phase'] + 180\n",
    "                    row = power_row.copy()\n",
    "                    row['ArtifactRemoved'] = artifact_removed\n",
    "                    row['EEG'] = eeg_type\n",
    "                    row['Filter'] = filter_name\n",
    "                    row['Band'] = band\n",
    "                    row['Phase'] = phase\n",
    "                    df_phases.append(row)\n",
    "    return (df_powers, df_phases)"
   ]
  },
  {
   "cell_type": "code",
   "execution_count": 23,
   "metadata": {},
   "outputs": [],
   "source": [
    "# def process_trials(path_raw, path_raw_hjorth, path_clean, path_clean_hjorth):\n",
    "#     df_powers = []\n",
    "#     df_phases = []\n",
    "#     sub = path_raw.split('/')[-1].split('.')[0].split('_')[-1]\n",
    "#     trials_raw = read_trials_from_raw(path_raw)\n",
    "#     trials_raw_hjorth = read_trials_from_hjorth(path_raw_hjorth)\n",
    "#     trials_clean = read_trials_from_raw(path_clean)\n",
    "#     trials_clean_hjorth = read_trials_from_hjorth(path_clean_hjorth)\n",
    "#     for trial_num in range(len(trials_raw)):\n",
    "#         trial_raw = trials_raw[trial_num]\n",
    "#         trial_raw_hjorth = trials_raw_hjorth[trial_num]\n",
    "#         trial_clean = trials_clean[trial_num]\n",
    "#         trial_clean_hjorth = trials_clean_hjorth[trial_num]\n",
    "#         trial_clean_avg = trial_clean.copy()\n",
    "#         trial_clean_avg['C3'] = trial_clean_avg[['FC5', 'FC3', 'FC1', 'C5', 'C3', 'C1', 'CP5', 'CP3', 'CP1']].mean(axis=1)\n",
    "#         trial_raw_avg = trial_raw.copy()\n",
    "#         trial_raw_avg['C3'] = trial_raw_avg[['FC5', 'FC3', 'FC1', 'C5', 'C3', 'C1', 'CP5', 'CP3', 'CP1']].mean(axis=1)\n",
    "#         for eeg_type, artifact_removed, trial in zip(['Raw', 'Hjorth', 'Raw', 'Hjorth', 'Average', 'Average'], [False, False, True, True, True, False], [trial_raw, trial_raw_hjorth, trial_clean, trial_clean_hjorth, trial_clean_avg, trial_raw_avg]):\n",
    "#             for filter_name, filter_code in zip(['Butterworth', 'Blackmann-Harris'], ['butter', 'blackmann']):\n",
    "                \n",
    "#                 # PSD\n",
    "#                 for time, ntaps in zip([-150, -750], [51, 101]):\n",
    "#                     for method_name, method_code in zip(['Welch', 'FFT', 'Burg'], ['welch', 'fft', 'pburg']):\n",
    "#                         df_power = get_power(trial['C3'], trial['time'], fs=256, crop_start_millis=time, crop_end_millis=-1, method=method_code, filter_type=filter_code, resample_fs=None, line_noise_band=[58, 62], blackmann_harris_ntaps=ntaps)\n",
    "#                         for band, fc1, fc2 in zip(['Theta', 'Mu', 'Beta', 'Gamma'], [3.5, 8, 13, 30], [8, 12, 30, 80]):\n",
    "#                             df_power2 = df_power[df_power['freq'] >= fc1]\n",
    "#                             df_power2 = df_power2[df_power2['freq'] < fc2]\n",
    "#                             power = df_power2['power'].mean(axis=0)\n",
    "#                             df_powers.append({\n",
    "#                                 'sub': sub,\n",
    "#                                 'trial': trial_num+1,\n",
    "#                                 'EEG': eeg_type,\n",
    "#                                 'ArtifactRemoved': artifact_removed,\n",
    "#                                 'Filter': filter_name,\n",
    "#                                 'Time': time,\n",
    "#                                 'Method': method_name,\n",
    "#                                 'Band': band,\n",
    "#                                 'Power': power\n",
    "#                             })\n",
    "                            \n",
    "#                 # Phase\n",
    "#                 for band, fc1, fc2 in zip(['Theta', 'Mu', 'Beta', 'Gamma'], [3.5, 8, 13, 30], [8, 12, 30, 80]):\n",
    "#                     phase = get_phase(trial['C3'], trial['time'], band=[fc1, fc2], fs=256, filter_type=filter_code, start_time_ms=-750, stop_time_ms=-1, blackmann_harris_ntaps=101)\n",
    "#                     phase = phase.iloc[-1]['phase'] + 180\n",
    "#                     df_phases.append({\n",
    "#                         'sub': sub,\n",
    "#                         'trial': trial_num+1,\n",
    "#                         'EEG': eeg_type,\n",
    "#                         'ArtifactRemoved': artifact_removed,\n",
    "#                         'Filter': filter_name,\n",
    "#                         'Band': band,\n",
    "#                         'Phase': phase\n",
    "#                     })\n",
    "#     return (df_powers, df_phases)"
   ]
  },
  {
   "cell_type": "code",
   "execution_count": 24,
   "metadata": {},
   "outputs": [
    {
     "data": {
      "application/vnd.jupyter.widget-view+json": {
       "model_id": "5188c93fee384f0da80b62938ff28981",
       "version_major": 2,
       "version_minor": 0
      },
      "text/plain": [
       "HBox(children=(FloatProgress(value=0.0, max=15.0), HTML(value='')))"
      ]
     },
     "metadata": {},
     "output_type": "display_data"
    },
    {
     "name": "stdout",
     "output_type": "stream",
     "text": [
      "\n"
     ]
    }
   ],
   "source": [
    "paths = [list(a) for a in zip(paths_raw, paths_raw_hjorth, paths_clean, paths_clean_hjorth)]\n",
    "num_cores = multiprocessing.cpu_count() - 2\n",
    "results = Parallel(n_jobs=num_cores)(delayed(process_trials)(path_raw, path_raw_hjorth, path_clean, path_clean_hjorth) for path_raw, path_raw_hjorth, path_clean, path_clean_hjorth in tqdm(paths, total=len(paths)))"
   ]
  },
  {
   "cell_type": "code",
   "execution_count": 25,
   "metadata": {},
   "outputs": [
    {
     "data": {
      "application/vnd.jupyter.widget-view+json": {
       "model_id": "d9aa771503e7409bb5273b931cbff53e",
       "version_major": 2,
       "version_minor": 0
      },
      "text/plain": [
       "HBox(children=(FloatProgress(value=0.0, max=15.0), HTML(value='')))"
      ]
     },
     "metadata": {},
     "output_type": "display_data"
    },
    {
     "name": "stdout",
     "output_type": "stream",
     "text": [
      "\n"
     ]
    }
   ],
   "source": [
    "df_powers = []\n",
    "df_phases = []\n",
    "for powers, phases in tqdm(results):\n",
    "    for power in powers:\n",
    "        df_powers.append(power)\n",
    "    for phase in phases:\n",
    "        df_phases.append(phase)\n",
    "df_powers = pd.DataFrame(df_powers)\n",
    "df_phases = pd.DataFrame(df_phases)"
   ]
  },
  {
   "cell_type": "code",
   "execution_count": 26,
   "metadata": {},
   "outputs": [],
   "source": [
    "df_powers.to_csv('166-d3-powers.csv')\n",
    "df_phases.to_csv('166-d3-phases.csv')"
   ]
  },
  {
   "cell_type": "code",
   "execution_count": null,
   "metadata": {},
   "outputs": [],
   "source": []
  }
 ],
 "metadata": {
  "kernelspec": {
   "display_name": "Python 3",
   "language": "python",
   "name": "python3"
  },
  "language_info": {
   "codemirror_mode": {
    "name": "ipython",
    "version": 3
   },
   "file_extension": ".py",
   "mimetype": "text/x-python",
   "name": "python",
   "nbconvert_exporter": "python",
   "pygments_lexer": "ipython3",
   "version": "3.7.3"
  }
 },
 "nbformat": 4,
 "nbformat_minor": 4
}
