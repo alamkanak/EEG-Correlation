{
 "cells": [
  {
   "cell_type": "code",
   "execution_count": 1,
   "metadata": {},
   "outputs": [],
   "source": [
    "%matplotlib inline\n",
    "import glob\n",
    "import pandas as pd\n",
    "import mne\n",
    "import matplotlib.pyplot as plt\n",
    "from io import StringIO\n",
    "import mne\n",
    "from mne.io import read_raw_eeglab, read_epochs_eeglab\n",
    "import numpy as np\n",
    "from scipy import signal\n",
    "import seaborn as sns"
   ]
  },
  {
   "cell_type": "code",
   "execution_count": 3,
   "metadata": {},
   "outputs": [],
   "source": [
    "experiment = 'data/original/*/*'"
   ]
  },
  {
   "cell_type": "code",
   "execution_count": 5,
   "metadata": {},
   "outputs": [
    {
     "name": "stdout",
     "output_type": "stream",
     "text": [
      "True\n"
     ]
    }
   ],
   "source": [
    "meps = sorted(glob.glob(experiment + '/mep/*/*.txt'))\n",
    "mep_present = len(meps) > 0\n",
    "eegs = sorted(glob.glob(experiment + '/eeg/*/clean.set'))\n",
    "eeg_present = len(eegs) > 0\n",
    "all_present = mep_present and eeg_present\n",
    "print(all_present)"
   ]
  },
  {
   "cell_type": "code",
   "execution_count": 8,
   "metadata": {},
   "outputs": [],
   "source": [
    "eegs = [\n",
    "    'data/original/sub01/exp01/eeg/SP 110RMT r1/clean.set',\n",
    "    'data/original/sub03/exp01/eeg/SP 110RMT r1/clean.set',\n",
    "    'data/original/sub04/exp01/eeg/SP 110RMT r1/clean.set',\n",
    "    'data/original/sub05/exp01/eeg/SP 110RMT r3/clean.set',\n",
    "    'data/original/sub06/exp01/eeg/SP 110RMT r1/clean.set',\n",
    "    'data/original/sub07/exp01/eeg/SP 110RMT r1/clean.set',\n",
    "    'data/original/sub08/exp01/eeg/SP 110RMT r1/clean.set',\n",
    "    'data/original/sub10/exp01/eeg/SP 110RMT/clean.set',\n",
    "    'data/original/sub11/exp01/eeg/SP 110RMT/clean.set',\n",
    "    'data/original/sub13/exp01/eeg/SP 110RMT/clean.set'\n",
    "]"
   ]
  },
  {
   "cell_type": "code",
   "execution_count": 18,
   "metadata": {},
   "outputs": [],
   "source": [
    "for eeg_path in eegs:\n",
    "    segments = eeg_path.split('/')\n",
    "    segments[4] = 'mep'\n",
    "    segments = segments[:-1]\n",
    "    mep_path = '/'.join(segments) + '/*.txt'\n",
    "    mep_path = glob.glob(mep_path)[0]\n",
    "    break"
   ]
  },
  {
   "cell_type": "code",
   "execution_count": null,
   "metadata": {},
   "outputs": [],
   "source": []
  }
 ],
 "metadata": {
  "kernelspec": {
   "display_name": "Python 3",
   "language": "python",
   "name": "python3"
  },
  "language_info": {
   "codemirror_mode": {
    "name": "ipython",
    "version": 3
   },
   "file_extension": ".py",
   "mimetype": "text/x-python",
   "name": "python",
   "nbconvert_exporter": "python",
   "pygments_lexer": "ipython3",
   "version": "3.7.3"
  }
 },
 "nbformat": 4,
 "nbformat_minor": 2
}
