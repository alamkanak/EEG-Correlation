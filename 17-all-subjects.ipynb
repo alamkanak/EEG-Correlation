{
 "cells": [
  {
   "cell_type": "code",
   "execution_count": 1,
   "metadata": {},
   "outputs": [],
   "source": [
    "%matplotlib inline\n",
    "import glob\n",
    "import pandas as pd\n",
    "import mne\n",
    "import matplotlib.pyplot as plt\n",
    "from io import StringIO\n",
    "import mne\n",
    "from mne.io import read_raw_eeglab, read_epochs_eeglab\n",
    "import numpy as np\n",
    "from scipy import signal\n",
    "import seaborn as sns"
   ]
  },
  {
   "cell_type": "code",
   "execution_count": 3,
   "metadata": {},
   "outputs": [],
   "source": [
    "experiment = 'data/original/*/*'"
   ]
  },
  {
   "cell_type": "code",
   "execution_count": 5,
   "metadata": {},
   "outputs": [
    {
     "name": "stdout",
     "output_type": "stream",
     "text": [
      "True\n"
     ]
    }
   ],
   "source": [
    "meps = sorted(glob.glob(experiment + '/mep/*/*.txt'))\n",
    "mep_present = len(meps) > 0\n",
    "eegs = sorted(glob.glob(experiment + '/eeg/*/clean.set'))\n",
    "eeg_present = len(eegs) > 0\n",
    "all_present = mep_present and eeg_present\n",
    "print(all_present)"
   ]
  },
  {
   "cell_type": "code",
   "execution_count": 8,
   "metadata": {},
   "outputs": [],
   "source": [
    "eegs = [\n",
    "    'data/original/sub01/exp01/eeg/SP 110RMT r1/clean.set',\n",
    "    'data/original/sub03/exp01/eeg/SP 110RMT r1/clean.set',\n",
    "    'data/original/sub04/exp01/eeg/SP 110RMT r1/clean.set',\n",
    "    'data/original/sub05/exp01/eeg/SP 110RMT r3/clean.set',\n",
    "    'data/original/sub06/exp01/eeg/SP 110RMT r1/clean.set',\n",
    "    'data/original/sub07/exp01/eeg/SP 110RMT r1/clean.set',\n",
    "    'data/original/sub08/exp01/eeg/SP 110RMT r1/clean.set',\n",
    "    'data/original/sub10/exp01/eeg/SP 110RMT/clean.set',\n",
    "    'data/original/sub11/exp01/eeg/SP 110RMT/clean.set',\n",
    "    'data/original/sub13/exp01/eeg/SP 110RMT/clean.set'\n",
    "]"
   ]
  },
  {
   "cell_type": "code",
   "execution_count": null,
   "metadata": {},
   "outputs": [],
   "source": [
    "# Read EEG file and prepare epochs in dataframes.\n",
    "def read_eeg(path):\n",
    "    epochs = read_epochs_eeglab(path)\n",
    "    epochs = epochs.pick_channels(ch_names=['Fp1', 'Fpz', 'Fp2', 'F7', 'F3', 'Fz', 'F4', 'F8', 'FC5', 'FC1', 'FC2', 'FC6', 'M1', 'T7', 'C3', 'Cz', 'C4', 'T8', 'M2', 'CP5', 'CP1', 'CP2', 'CP6', 'P7', 'P3', 'Pz', 'P4', 'P8', 'POz', 'O1', 'O2', 'EOG', 'AF7', 'AF3', 'AF4', 'AF8', 'F5', 'F1', 'F2', 'F6', 'FC3', 'FCz', 'FC4', 'C5', 'C1', 'C2', 'C6', 'CP3', 'CP4', 'P5', 'P1', 'P2', 'P6', 'PO5', 'PO3', 'PO4', 'PO6', 'FT7', 'FT8', 'TP7', 'TP8', 'PO7', 'PO8', 'Oz'])\n",
    "    epoch_list = []\n",
    "    i = 0\n",
    "    for epoch in epochs.iter_evoked():\n",
    "        df = epoch.to_data_frame()\n",
    "        epoch_list.append(df)\n",
    "    return epoch_list"
   ]
  },
  {
   "cell_type": "code",
   "execution_count": null,
   "metadata": {},
   "outputs": [],
   "source": [
    "# Select EEG before TMS.\n",
    "def crop_epochs(epoch_list, duration_millis=100, sampling_rate=1000):\n",
    "    new_epoch_list = []\n",
    "    for epoch_df in epoch_list:\n",
    "        # Delete EEG after TMS event.\n",
    "        epoch_df['signal time'] = epoch_df.index\n",
    "        epoch_df = epoch_df.reset_index()\n",
    "        indices = epoch_df.index[epoch_df['signal time'] == 0].tolist()\n",
    "        event_index = int(len(indices)/2)\n",
    "        delete_count = epoch_df.shape[0] - indices[event_index]\n",
    "        epoch_df = epoch_df.drop(epoch_df.tail(delete_count).index)\n",
    "\n",
    "        # Select EEG for the selected duration.\n",
    "        keep = int(duration_millis * sampling_rate / 1000)\n",
    "        delete_count = epoch_df.shape[0] - keep\n",
    "        epoch_df = epoch_df.drop(epoch_df.head(delete_count).index)\n",
    "\n",
    "        # Append the epoch in the list.\n",
    "        epoch_df = epoch_df.set_index('signal time')\n",
    "        new_epoch_list.append(epoch_df)\n",
    "    return new_epoch_list, -keep"
   ]
  },
  {
   "cell_type": "code",
   "execution_count": null,
   "metadata": {},
   "outputs": [],
   "source": [
    "# Open MEP file as dataframe.\n",
    "def open_mep_as_df(path):\n",
    "    fileMep = open(path, \"r+\")\n",
    "    mep_frames = fileMep.read().split('\\n\\n')\n",
    "    df_list = []\n",
    "    for mep_frame in mep_frames:\n",
    "        df_list.append(pd.read_csv(StringIO(mep_frame), '\\t'))\n",
    "    return df_list"
   ]
  },
  {
   "cell_type": "code",
   "execution_count": null,
   "metadata": {},
   "outputs": [],
   "source": [
    "# Function to get APB column name.\n",
    "def get_apb_column_name(mep_frame):\n",
    "    if 'L APB' in mep_frame:\n",
    "        return 'L APB'\n",
    "    else:\n",
    "        return 'APB'"
   ]
  },
  {
   "cell_type": "code",
   "execution_count": null,
   "metadata": {},
   "outputs": [],
   "source": [
    "# Function to crop MEP region.\n",
    "def crop_mep_region(mep_frame):\n",
    "    crop_start = 0.211\n",
    "    crop_end = 0.4\n",
    "    multiplier = 7499 / 1.4998\n",
    "    start = int(crop_start * multiplier)\n",
    "    end = int(crop_end * multiplier)\n",
    "    mep_cropped = mep_frame.iloc[start:end, :]\n",
    "    time = mep_frame.iloc[start:end, :]\n",
    "    return mep_cropped, time"
   ]
  },
  {
   "cell_type": "code",
   "execution_count": null,
   "metadata": {},
   "outputs": [],
   "source": [
    "# Calculate MEP size.\n",
    "def calculate_mep_size(mep_frame):\n",
    "    mep_cropped, time = crop_mep_region(mep_frame)\n",
    "    apb_name = get_apb_column_name(mep_frame)\n",
    "    max_row = mep_frame.iloc[mep_cropped.idxmax(axis=0)[apb_name]]\n",
    "    min_row = mep_frame.iloc[mep_cropped.idxmin(axis=0)[apb_name]]\n",
    "    mep_size = max_row[apb_name] - min_row[apb_name]\n",
    "    return mep_size"
   ]
  },
  {
   "cell_type": "code",
   "execution_count": null,
   "metadata": {},
   "outputs": [],
   "source": [
    "# Calculate EEG area.\n",
    "def calculate_eeg_area(epoch_df):\n",
    "    gfp = np.sum(epoch_df ** 2, axis=1)\n",
    "    times = gfp.index\n",
    "    gfp = mne.baseline.rescale(gfp.values, times, baseline=(None, 0))\n",
    "    return np.trapz(gfp, times)"
   ]
  },
  {
   "cell_type": "code",
   "execution_count": null,
   "metadata": {},
   "outputs": [],
   "source": [
    "# Calculate EEG frequency.\n",
    "def calculate_eeg_frequency(channel):\n",
    "    sf = 1000\n",
    "    win = 4 * sf\n",
    "    freqs, psd = signal.welch(channel, sf, nperseg=win)\n",
    "    return freqs, psd"
   ]
  },
  {
   "cell_type": "code",
   "execution_count": null,
   "metadata": {},
   "outputs": [],
   "source": [
    "def calculate_eeg_max_amplitude(epoch_df):\n",
    "    avg = epoch_df.mean(axis=1)\n",
    "    return np.max(avg.values)"
   ]
  },
  {
   "cell_type": "code",
   "execution_count": null,
   "metadata": {},
   "outputs": [],
   "source": [
    "def filter_electrodes(epoch_list):\n",
    "    new_list = []\n",
    "    for epoch_df in epoch_list:\n",
    "        epoch_df = epoch_df.drop(['Fp1', 'Fpz', 'Fp2', 'F7', 'F3', 'Fz', 'F4', 'F8', 'FC2',\n",
    "           'FC6', 'M1', 'T7', 'Cz', 'C4', 'T8', 'M2', 'CP2',\n",
    "           'CP6', 'P7', 'P3', 'Pz', 'P4', 'P8', 'POz', 'O1', 'O2', 'EOG', 'AF7',\n",
    "           'AF3', 'AF4', 'AF8', 'F5', 'F1', 'F2', 'F6', 'FCz', 'FC4',\n",
    "           'C2', 'C6', 'CP4', 'P5', 'P1', 'P2', 'P6', 'PO5', 'PO3',\n",
    "           'PO4', 'PO6', 'FT7', 'FT8', 'TP7', 'TP8', 'PO7', 'PO8', 'Oz'], axis=1)\n",
    "        new_list.append(epoch_df)\n",
    "    return new_list"
   ]
  },
  {
   "cell_type": "code",
   "execution_count": null,
   "metadata": {},
   "outputs": [],
   "source": [
    "# Generate relations between EEG parameters and MEP sizes.\n",
    "def generate_features(eeg_path, mep_path):\n",
    "    raw_eeg = read_eeg(eeg_path)\n",
    "    raw_eeg = filter_electrodes(raw_eeg)\n",
    "    epoch_list, crop_length = crop_epochs(raw_eeg, 500)\n",
    "    mep_frames = open_mep_as_df(mep_path)\n",
    "    if (len(epoch_list) != len(mep_frames)):\n",
    "        print('MEP and EEG epoch count did not match')\n",
    "        return\n",
    "    points = []\n",
    "    for i in range(len(epoch_list)):\n",
    "        mep_size = calculate_mep_size(mep_frames[i])\n",
    "        eeg_area = calculate_eeg_area(epoch_list[i])\n",
    "        freq = calculate_eeg_frequency(epoch_list[i])\n",
    "        print('frequency is ' + str(freq))\n",
    "        max_amplitude = calculate_eeg_max_amplitude(epoch_list[i])\n",
    "        points.append((eeg_area, freq, max_amplitude, mep_size))\n",
    "    mep_size_df = pd.DataFrame(points, columns=('area', 'freq', 'max_amplitude', 'mep'))\n",
    "    return mep_size_df, raw_eeg, crop_length"
   ]
  },
  {
   "cell_type": "code",
   "execution_count": 18,
   "metadata": {},
   "outputs": [],
   "source": [
    "for eeg_path in eegs:\n",
    "    segments = eeg_path.split('/')\n",
    "    segments[4] = 'mep'\n",
    "    segments = segments[:-1]\n",
    "    mep_path = '/'.join(segments) + '/*.txt'\n",
    "    mep_path = glob.glob(mep_path)[0]\n",
    "    break"
   ]
  }
 ],
 "metadata": {
  "kernelspec": {
   "display_name": "Python 3",
   "language": "python",
   "name": "python3"
  },
  "language_info": {
   "codemirror_mode": {
    "name": "ipython",
    "version": 3
   },
   "file_extension": ".py",
   "mimetype": "text/x-python",
   "name": "python",
   "nbconvert_exporter": "python",
   "pygments_lexer": "ipython3",
   "version": "3.7.3"
  }
 },
 "nbformat": 4,
 "nbformat_minor": 2
}
