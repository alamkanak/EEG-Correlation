{
 "cells": [
  {
   "cell_type": "code",
   "execution_count": 33,
   "metadata": {},
   "outputs": [],
   "source": [
    "import glob\n",
    "import pandas as pd\n",
    "import mne\n",
    "import matplotlib.pyplot as plt\n",
    "from io import StringIO\n",
    "import mne\n",
    "from mne.io import read_raw_eeglab, read_epochs_eeglab\n",
    "import numpy as np\n",
    "from scipy import signal\n",
    "from scipy import fftpack\n",
    "import seaborn as sns\n",
    "from sklearn.linear_model import LinearRegression, LogisticRegression\n",
    "from sklearn.ensemble import RandomForestRegressor\n",
    "from sklearn.model_selection import train_test_split\n",
    "from sklearn.metrics import mean_squared_error, r2_score\n",
    "from tqdm import tqdm, tqdm_notebook\n",
    "import math\n",
    "from sklearn import preprocessing\n",
    "from sklearn.linear_model import SGDClassifier\n",
    "from sklearn.ensemble import GradientBoostingRegressor, RandomForestRegressor\n",
    "from sklearn.svm import SVR\n",
    "from sklearn.svm import SVC\n",
    "from sklearn.metrics import confusion_matrix, classification_report, accuracy_score\n",
    "from sklearn.tree import DecisionTreeClassifier, DecisionTreeRegressor\n",
    "from keras_tqdm import TQDMNotebookCallback\n",
    "from tensorboard.plugins.hparams import api as hp\n",
    "from livelossplot.tf_keras import PlotLossesCallback\n",
    "\n",
    "import sklearn.model_selection\n",
    "import sklearn.datasets\n",
    "import sklearn.metrics\n",
    "import multiprocessing\n",
    "from tpot import TPOTRegressor\n",
    "from oct2py import octave\n",
    "from joblib import Parallel, delayed\n",
    "import multiprocessing\n",
    "from joblib import wrap_non_picklable_objects\n",
    "import json\n",
    "import pickle\n",
    "import os.path\n",
    "from mpl_toolkits.mplot3d import axes3d\n",
    "import timeit\n",
    "from skimage.transform import resize\n",
    "from timeit import default_timer as timer\n",
    "from datetime import timedelta\n",
    "import json\n",
    "import tensorflow as tf\n",
    "from tensorflow import keras\n",
    "from tensorflow.keras import layers, optimizers, callbacks\n",
    "from tensorflow.keras.models import Model, load_model\n",
    "from tensorboard.plugins.hparams import api as hp\n",
    "from tensorflow.keras.utils import plot_model\n",
    "import statsmodels.api as sm\n",
    "import statsmodels.formula.api as smf\n",
    "from statsmodels.genmod import bayes_mixed_glm as glm\n",
    "from sklearn.feature_selection import SelectKBest\n",
    "from sklearn.feature_selection import chi2\n",
    "from sklearn.feature_selection import RFECV\n",
    "from spectrum import arburg, arma2psd, pburg\n",
    "import pylab\n",
    "from scipy.signal import find_peaks, butter\n",
    "from scipy.integrate import simps\n",
    "from scipy.io import loadmat\n",
    "from numpy import trapz"
   ]
  },
  {
   "cell_type": "code",
   "execution_count": 34,
   "metadata": {},
   "outputs": [
    {
     "data": {
      "text/plain": [
       "(864, 7)"
      ]
     },
     "execution_count": 34,
     "metadata": {},
     "output_type": "execute_result"
    }
   ],
   "source": [
    "df = pd.read_csv('152-individual-result-r.csv')\n",
    "df.shape"
   ]
  },
  {
   "cell_type": "code",
   "execution_count": 35,
   "metadata": {},
   "outputs": [
    {
     "data": {
      "text/html": [
       "<div>\n",
       "<style scoped>\n",
       "    .dataframe tbody tr th:only-of-type {\n",
       "        vertical-align: middle;\n",
       "    }\n",
       "\n",
       "    .dataframe tbody tr th {\n",
       "        vertical-align: top;\n",
       "    }\n",
       "\n",
       "    .dataframe thead th {\n",
       "        text-align: right;\n",
       "    }\n",
       "</style>\n",
       "<table border=\"1\" class=\"dataframe\">\n",
       "  <thead>\n",
       "    <tr style=\"text-align: right;\">\n",
       "      <th></th>\n",
       "      <th>sub</th>\n",
       "      <th>target</th>\n",
       "      <th>band</th>\n",
       "      <th>input</th>\n",
       "      <th>p</th>\n",
       "      <th>b</th>\n",
       "      <th>no_of_obs</th>\n",
       "    </tr>\n",
       "  </thead>\n",
       "  <tbody>\n",
       "    <tr>\n",
       "      <th>0</th>\n",
       "      <td>sub02</td>\n",
       "      <td>mep_size_log</td>\n",
       "      <td>theta</td>\n",
       "      <td>power</td>\n",
       "      <td>0.038</td>\n",
       "      <td>-0.15199</td>\n",
       "      <td>127</td>\n",
       "    </tr>\n",
       "    <tr>\n",
       "      <th>1</th>\n",
       "      <td>sub02</td>\n",
       "      <td>mep_size_log</td>\n",
       "      <td>theta</td>\n",
       "      <td>phase</td>\n",
       "      <td>0.217</td>\n",
       "      <td>-0.03232</td>\n",
       "      <td>127</td>\n",
       "    </tr>\n",
       "    <tr>\n",
       "      <th>2</th>\n",
       "      <td>sub02</td>\n",
       "      <td>mep_size_log</td>\n",
       "      <td>theta</td>\n",
       "      <td>interaction</td>\n",
       "      <td>0.152</td>\n",
       "      <td>NaN</td>\n",
       "      <td>127</td>\n",
       "    </tr>\n",
       "    <tr>\n",
       "      <th>3</th>\n",
       "      <td>sub02</td>\n",
       "      <td>mep_size_log</td>\n",
       "      <td>mu</td>\n",
       "      <td>power</td>\n",
       "      <td>0.579</td>\n",
       "      <td>-0.01361</td>\n",
       "      <td>122</td>\n",
       "    </tr>\n",
       "    <tr>\n",
       "      <th>4</th>\n",
       "      <td>sub02</td>\n",
       "      <td>mep_size_log</td>\n",
       "      <td>mu</td>\n",
       "      <td>phase</td>\n",
       "      <td>0.416</td>\n",
       "      <td>0.04428</td>\n",
       "      <td>122</td>\n",
       "    </tr>\n",
       "  </tbody>\n",
       "</table>\n",
       "</div>"
      ],
      "text/plain": [
       "     sub        target   band        input      p        b  no_of_obs\n",
       "0  sub02  mep_size_log  theta        power  0.038 -0.15199        127\n",
       "1  sub02  mep_size_log  theta        phase  0.217 -0.03232        127\n",
       "2  sub02  mep_size_log  theta  interaction  0.152      NaN        127\n",
       "3  sub02  mep_size_log     mu        power  0.579 -0.01361        122\n",
       "4  sub02  mep_size_log     mu        phase  0.416  0.04428        122"
      ]
     },
     "execution_count": 35,
     "metadata": {},
     "output_type": "execute_result"
    }
   ],
   "source": [
    "df.head()"
   ]
  },
  {
   "cell_type": "code",
   "execution_count": 36,
   "metadata": {},
   "outputs": [],
   "source": [
    "df2 = []\n",
    "\n",
    "for sub in df['sub'].unique():\n",
    "    dfsub = df[df['sub'] == sub]\n",
    "    for feature in ['mep_size_log', 'mep_latency_log', 'mep_area_log', 'mep_duration_log']:\n",
    "        dffeature = dfsub[dfsub['target'] == feature]\n",
    "        for eegfeature in ['power', 'phase', 'interaction']:\n",
    "            dfeeg = dffeature[dffeature['input'] == eegfeature]\n",
    "            row = {'sub': sub, 'mep': feature, 'input': eegfeature}\n",
    "            for band in ['theta', 'mu', 'beta', 'gamma']:\n",
    "                dfband = dfeeg[dfeeg['band'] == band]\n",
    "                row[band + '_p'] = dfband['p'].values[0]\n",
    "                row[band + '_B'] = dfband['b'].values[0]\n",
    "            df2.append(row)\n",
    "df2 = pd.DataFrame(df2)"
   ]
  },
  {
   "cell_type": "code",
   "execution_count": 37,
   "metadata": {},
   "outputs": [],
   "source": [
    "df2 = df2[['sub', 'mep', 'input', 'theta_p', 'theta_B', 'mu_p', 'mu_B', 'beta_p', 'beta_B', 'gamma_p', 'gamma_B']]\n",
    "df2.to_excel('152-organized-r.xlsx')"
   ]
  },
  {
   "cell_type": "code",
   "execution_count": null,
   "metadata": {},
   "outputs": [],
   "source": []
  }
 ],
 "metadata": {
  "kernelspec": {
   "display_name": "Python 3",
   "language": "python",
   "name": "python3"
  },
  "language_info": {
   "codemirror_mode": {
    "name": "ipython",
    "version": 3
   },
   "file_extension": ".py",
   "mimetype": "text/x-python",
   "name": "python",
   "nbconvert_exporter": "python",
   "pygments_lexer": "ipython3",
   "version": "3.7.3"
  }
 },
 "nbformat": 4,
 "nbformat_minor": 4
}
