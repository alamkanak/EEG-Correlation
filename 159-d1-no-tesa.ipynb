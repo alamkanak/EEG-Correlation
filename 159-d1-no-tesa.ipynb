{
 "cells": [
  {
   "cell_type": "markdown",
   "metadata": {},
   "source": [
    "# Import everything"
   ]
  },
  {
   "cell_type": "code",
   "execution_count": 1,
   "metadata": {},
   "outputs": [
    {
     "name": "stderr",
     "output_type": "stream",
     "text": [
      "Using TensorFlow backend.\n",
      "/home/raquib/anaconda3/envs/tmseeg/lib/python3.7/site-packages/sklearn/utils/deprecation.py:144: FutureWarning: The sklearn.metrics.scorer module is  deprecated in version 0.22 and will be removed in version 0.24. The corresponding classes / functions should instead be imported from sklearn.metrics. Anything that cannot be imported from sklearn.metrics is now part of the private API.\n",
      "  warnings.warn(message, FutureWarning)\n",
      "/home/raquib/anaconda3/envs/tmseeg/lib/python3.7/site-packages/sklearn/utils/deprecation.py:144: FutureWarning: The sklearn.feature_selection.base module is  deprecated in version 0.22 and will be removed in version 0.24. The corresponding classes / functions should instead be imported from sklearn.feature_selection. Anything that cannot be imported from sklearn.feature_selection is now part of the private API.\n",
      "  warnings.warn(message, FutureWarning)\n"
     ]
    }
   ],
   "source": [
    "import glob\n",
    "import pandas as pd\n",
    "import mne\n",
    "import matplotlib.pyplot as plt\n",
    "from io import StringIO\n",
    "import mne\n",
    "from mne.io import read_raw_eeglab, read_epochs_eeglab\n",
    "import numpy as np\n",
    "from scipy import signal\n",
    "from scipy import fftpack\n",
    "import seaborn as sns\n",
    "from sklearn.linear_model import LinearRegression, LogisticRegression\n",
    "from sklearn.ensemble import RandomForestRegressor\n",
    "from sklearn.model_selection import train_test_split\n",
    "from sklearn.metrics import mean_squared_error, r2_score\n",
    "# from tqdm import tqdm, tqdm_notebook\n",
    "from tqdm.notebook import tqdm\n",
    "import math\n",
    "from sklearn import preprocessing\n",
    "from sklearn.linear_model import SGDClassifier\n",
    "from sklearn.ensemble import GradientBoostingRegressor, RandomForestRegressor\n",
    "from sklearn.svm import SVR\n",
    "from sklearn.svm import SVC\n",
    "from sklearn.metrics import confusion_matrix, classification_report, accuracy_score\n",
    "from sklearn.tree import DecisionTreeClassifier, DecisionTreeRegressor\n",
    "from keras_tqdm import TQDMNotebookCallback\n",
    "from tensorboard.plugins.hparams import api as hp\n",
    "from livelossplot.tf_keras import PlotLossesCallback\n",
    "\n",
    "import sklearn.model_selection\n",
    "import sklearn.datasets\n",
    "import sklearn.metrics\n",
    "import multiprocessing\n",
    "from tpot import TPOTRegressor\n",
    "from oct2py import octave\n",
    "from joblib import Parallel, delayed\n",
    "import multiprocessing\n",
    "from joblib import wrap_non_picklable_objects\n",
    "import json\n",
    "import pickle\n",
    "import os.path\n",
    "from mpl_toolkits.mplot3d import axes3d\n",
    "import timeit\n",
    "from skimage.transform import resize\n",
    "from timeit import default_timer as timer\n",
    "from datetime import timedelta\n",
    "import json\n",
    "import tensorflow as tf\n",
    "from tensorflow import keras\n",
    "from tensorflow.keras import layers, optimizers, callbacks\n",
    "from tensorflow.keras.models import Model, load_model\n",
    "from tensorboard.plugins.hparams import api as hp\n",
    "from tensorflow.keras.utils import plot_model\n",
    "import statsmodels.api as sm\n",
    "import statsmodels.formula.api as smf\n",
    "from statsmodels.genmod import bayes_mixed_glm as glm\n",
    "from sklearn.feature_selection import SelectKBest\n",
    "from sklearn.feature_selection import chi2\n",
    "from sklearn.feature_selection import RFECV\n",
    "from spectrum import arburg, arma2psd, pburg\n",
    "import pylab\n",
    "from scipy.signal import find_peaks, butter\n",
    "from scipy.integrate import simps\n",
    "from scipy.io import loadmat\n",
    "from numpy import trapz"
   ]
  },
  {
   "cell_type": "markdown",
   "metadata": {},
   "source": [
    "# Import some MATLAB libraries\n",
    "This helps us read .set files."
   ]
  },
  {
   "cell_type": "code",
   "execution_count": 2,
   "metadata": {},
   "outputs": [
    {
     "name": "stdout",
     "output_type": "stream",
     "text": [
      "warning: function /home/raquib/Documents/MATLAB/eeglab2019_0/functions/sigprocfunc/quantile.m shadows a core library function\n"
     ]
    },
    {
     "data": {
      "text/plain": [
       "'.:/home/raquib/Documents/MATLAB/eeglab2019_0/functions/sigprocfunc:/home/raquib/Documents/MATLAB/eeglab2019_0/functions/adminfunc:/home/raquib/Documents/MATLAB/eeglab2019_0/functions/popfunc:/home/raquib/Documents/MATLAB/eeglab2019_0/functions/guifunc:/home/raquib/anaconda3/envs/tmseeg/lib/python3.7/site-packages/oct2py:/home/raquib/anaconda3/envs/tmseeg/lib/python3.7/site-packages/octave_kernel:/usr/lib/x86_64-linux-gnu/octave/4.2.2/site/oct/x86_64-pc-linux-gnu:/usr/lib/x86_64-linux-gnu/octave/site/oct/api-v51/x86_64-pc-linux-gnu:/usr/lib/x86_64-linux-gnu/octave/site/oct/x86_64-pc-linux-gnu:/usr/share/octave/4.2.2/site/m:/usr/share/octave/site/api-v51/m:/usr/share/octave/site/m:/usr/share/octave/site/m/startup:/usr/lib/x86_64-linux-gnu/octave/4.2.2/oct/x86_64-pc-linux-gnu:/usr/share/octave/4.2.2/m:/usr/share/octave/4.2.2/m/audio:/usr/share/octave/4.2.2/m/debian:/usr/share/octave/4.2.2/m/deprecated:/usr/share/octave/4.2.2/m/elfun:/usr/share/octave/4.2.2/m/general:/usr/share/octave/4.2.2/m/geometry:/usr/share/octave/4.2.2/m/gui:/usr/share/octave/4.2.2/m/help:/usr/share/octave/4.2.2/m/image:/usr/share/octave/4.2.2/m/io:/usr/share/octave/4.2.2/m/java:/usr/share/octave/4.2.2/m/linear-algebra:/usr/share/octave/4.2.2/m/miscellaneous:/usr/share/octave/4.2.2/m/ode:/usr/share/octave/4.2.2/m/optimization:/usr/share/octave/4.2.2/m/path:/usr/share/octave/4.2.2/m/pkg:/usr/share/octave/4.2.2/m/plot:/usr/share/octave/4.2.2/m/plot/appearance:/usr/share/octave/4.2.2/m/plot/draw:/usr/share/octave/4.2.2/m/plot/util:/usr/share/octave/4.2.2/m/polynomial:/usr/share/octave/4.2.2/m/prefs:/usr/share/octave/4.2.2/m/profiler:/usr/share/octave/4.2.2/m/set:/usr/share/octave/4.2.2/m/signal:/usr/share/octave/4.2.2/m/sparse:/usr/share/octave/4.2.2/m/specfun:/usr/share/octave/4.2.2/m/special-matrix:/usr/share/octave/4.2.2/m/startup:/usr/share/octave/4.2.2/m/statistics:/usr/share/octave/4.2.2/m/statistics/base:/usr/share/octave/4.2.2/m/statistics/distributions:/usr/share/octave/4.2.2/m/statistics/models:/usr/share/octave/4.2.2/m/statistics/tests:/usr/share/octave/4.2.2/m/strings:/usr/share/octave/4.2.2/m/testfun:/usr/share/octave/4.2.2/m/time:/usr/share/octave/4.2.2/data'"
      ]
     },
     "execution_count": 2,
     "metadata": {},
     "output_type": "execute_result"
    }
   ],
   "source": [
    "eeglab_path = '/home/raquib/Documents/MATLAB/eeglab2019_0/functions/'\n",
    "octave.addpath(eeglab_path + 'guifunc')\n",
    "octave.addpath(eeglab_path + 'popfunc')\n",
    "octave.addpath(eeglab_path + 'adminfunc')\n",
    "octave.addpath(eeglab_path + 'sigprocfunc')\n",
    "octave.addpath(eeglab_path + 'miscfunc')"
   ]
  },
  {
   "cell_type": "code",
   "execution_count": 3,
   "metadata": {},
   "outputs": [],
   "source": [
    "eegs = sorted(glob.glob('data/original/*/*/eeg/SP 110RMT r*/06-clean-prestimulus-hjorth.mat'))\n",
    "\n",
    "rejected_trials = [\n",
    "    {'sub': 'sub03', 'exp': 'exp01', 'run': 'r1', 'trial': '*'}, # We are using exp02 for this one\n",
    "    {'sub': 'sub03', 'exp': 'exp01', 'run': 'r2', 'trial': '*'}, # We are using exp02 for this one\n",
    "    {'sub': 'sub03', 'exp': 'exp01', 'run': 'r3', 'trial': '*'}, # We are using exp02 for this one\n",
    "    \n",
    "    {'sub': 'sub04', 'exp': 'exp01', 'run': '*', 'trial': '*'},\n",
    "    \n",
    "    {'sub': 'sub05', 'exp': 'exp01', 'run': 'r1', 'trial': '*'}, # BAD MEP.\n",
    "    {'sub': 'sub05', 'exp': 'exp01', 'run': 'r2', 'trial': '*'}, # BAD MEP.\n",
    "    \n",
    "    {'sub': 'sub14', 'exp': 'exp01', 'run': '*', 'trial': '*'},\n",
    "    \n",
    "    {'sub': 'sub17', 'exp': 'exp01', 'run': 'r1', 'trial': 0}, # Session log mentions there is no pulse.\n",
    "    {'sub': 'sub17', 'exp': 'exp01', 'run': 'r1', 'trial': 1}, # Session log mentions there is no pulse.\n",
    "    {'sub': 'sub17', 'exp': 'exp01', 'run': 'r1', 'trial': 48}, # Session log mentions there is no pulse.\n",
    "    {'sub': 'sub17', 'exp': 'exp01', 'run': 'r1', 'trial': 49}, # Session log mentions there is no pulse.\n",
    "    {'sub': 'sub22', 'exp': 'exp01', 'run': 'r1', 'trial': 17}, # Session log mentions there is a problem.\n",
    "    {'sub': 'sub22', 'exp': 'exp01', 'run': 'r1', 'trial': 18}, # Session log mentions there is a problem.\n",
    "]"
   ]
  },
  {
   "cell_type": "markdown",
   "metadata": {},
   "source": [
    "# Basic I/O and conversions."
   ]
  },
  {
   "cell_type": "code",
   "execution_count": 4,
   "metadata": {},
   "outputs": [],
   "source": [
    "def read_eeg(path):\n",
    "    eeg = octave.pop_loadset(path)\n",
    "    new_trial_list = []\n",
    "    for i in range(eeg.data.shape[2]):\n",
    "        trial = eeg.data[:, :, i]\n",
    "        time = np.linspace(-1000, 1000, num=trial.shape[1])\n",
    "        trial = pd.DataFrame(np.transpose(trial), columns=eeg.chanlocs.labels[0])\n",
    "        trial['time'] = time\n",
    "        new_trial_list.append(trial)\n",
    "    return new_trial_list\n",
    "\n",
    "def read_trials_from_mat(filename):\n",
    "    x = loadmat(filename)\n",
    "    mat_trials = x['dat'][0][0][3][0]\n",
    "    trials = []\n",
    "    time = np.linspace(-1000, 1000, len(mat_trials[0][0]))\n",
    "    for mat_trial in mat_trials:\n",
    "        trials.append(pd.DataFrame({'C3': mat_trial[0], 'C4': mat_trial[1], 'time': time}))\n",
    "    return trials\n",
    "\n",
    "def read_trials_from_mat_avg(filename):\n",
    "    x = loadmat(filename)\n",
    "    mat_trials = x['dat'][0][0][3][0]\n",
    "    trials = []\n",
    "    time = np.linspace(-1000, 1000, len(mat_trials[0][0]))\n",
    "    for mat_trial in mat_trials:\n",
    "        trials.append(pd.DataFrame({\n",
    "            'FC5': mat_trial[0], \n",
    "            'FC3': mat_trial[1], \n",
    "            'FC1': mat_trial[2], \n",
    "            'C5': mat_trial[3], \n",
    "            'C3': mat_trial[4], \n",
    "            'C1': mat_trial[5], \n",
    "            'CP5': mat_trial[6], \n",
    "            'CP3': mat_trial[7], \n",
    "            'CP1': mat_trial[8], \n",
    "            'FC6': mat_trial[9], \n",
    "            'FC4': mat_trial[10], \n",
    "            'FC2': mat_trial[11], \n",
    "            'C6': mat_trial[12], \n",
    "            'C4': mat_trial[13], \n",
    "            'C2': mat_trial[14], \n",
    "            'CP6': mat_trial[15], \n",
    "            'CP4': mat_trial[16], \n",
    "            'CP2': mat_trial[17], \n",
    "            'time': time\n",
    "        }))\n",
    "    return trials\n",
    "\n",
    "def crop_trials(trial_list, duration_millis=500, sampling_rate=2048):\n",
    "    new_trial_list = []\n",
    "    for trial in trial_list:\n",
    "        samples_to_pick = duration_millis * sampling_rate / 1000\n",
    "        new_trial_list.append(trial.tail(int(samples_to_pick)))\n",
    "    return new_trial_list, samples_to_pick\n",
    "\n",
    "def crop_mep_region(mep_frame, crop_start=0.211, crop_end=0.4):\n",
    "    multiplier = 7499 / 1.4998\n",
    "    start = int(crop_start * multiplier)\n",
    "    end = int(crop_end * multiplier)\n",
    "    mep_cropped = mep_frame.iloc[start:end, :]\n",
    "    time = mep_frame.iloc[start:end, :]\n",
    "    return mep_cropped\n",
    "\n",
    "def get_apb_column_name(mep_frame):\n",
    "    if 'L APB' in mep_frame:\n",
    "        return 'L APB'\n",
    "    else:\n",
    "        return 'APB'\n",
    "\n",
    "def open_mep_as_df(path):\n",
    "    fileMep = open(path, \"r+\")\n",
    "    mep_frames = fileMep.read().split('\\n\\n')\n",
    "    df_list = []\n",
    "    for mep_frame in mep_frames:\n",
    "        df_list.append(pd.read_csv(StringIO(mep_frame), '\\t'))\n",
    "    return df_list\n",
    "\n",
    "def get_mep_path(eeg_path):\n",
    "    segments = eeg_path.split('/')\n",
    "    segments[4] = 'mep'\n",
    "    segments = segments[:-1]\n",
    "    mep_path = '/'.join(segments) + '/*.txt'\n",
    "    mep_path = glob.glob(mep_path)[0]\n",
    "    return mep_path\n",
    "\n",
    "def calculate_mep_size(mep_frame, latency, duration):\n",
    "    mep_cropped = crop_mep_region(mep_frame, latency, latency + duration)\n",
    "    apb_name = get_apb_column_name(mep_frame)\n",
    "    max_row = mep_frame.iloc[mep_cropped.idxmax(axis=0)[apb_name]]\n",
    "    min_row = mep_frame.iloc[mep_cropped.idxmin(axis=0)[apb_name]]\n",
    "    mep_size = max_row[apb_name] - min_row[apb_name]\n",
    "    return mep_size, min_row, max_row\n",
    "\n",
    "def read_latency_duration(eeg_path):\n",
    "    segments = eeg_path.split('/')\n",
    "    sub = segments[2]\n",
    "    exp = segments[3]\n",
    "    run = segments[5]\n",
    "    path = 'data/original/' + sub + '/' + exp + '/mep/' + run + '/01-ld.csv'\n",
    "    files = glob.glob(path)\n",
    "    if len(files) < 1:\n",
    "        return False\n",
    "    fileMep = open(path, \"r+\")\n",
    "    lines = fileMep.read().split('\\n')\n",
    "    df_ld = []\n",
    "    for frame_txt in lines:\n",
    "        if 'Frame' in frame_txt:\n",
    "            continue\n",
    "        segments = frame_txt.split('\\t')\n",
    "        if len(segments) >= 4:\n",
    "            df_ld.append({\n",
    "                'trial_num': int(segments[0])-1,\n",
    "                'latency': float(segments[2]),\n",
    "                'duration': float(segments[3]) - float(segments[2])\n",
    "            })\n",
    "    return pd.DataFrame(df_ld)\n",
    "\n",
    "# Read CMAP file.\n",
    "def read_cmap(path):\n",
    "    df = pd.read_excel(path, sheet_name='Raw data', header=None)\n",
    "    columns = []\n",
    "    ix = 0\n",
    "    for r in df.index.values:\n",
    "        if df[0][r] == 'Channel':\n",
    "            ix = r\n",
    "            break\n",
    "    for c in df.columns.values:\n",
    "        if (df[c][ix] == 2):\n",
    "            columns.append(c)\n",
    "    for r in df.index.values:\n",
    "        if df[0][r] == 'Time (ms)':\n",
    "            ix = r\n",
    "            break\n",
    "    df2 = df[columns].iloc[np.linspace(ix+1, df.shape[0]-2, df.shape[0]-ix-2)]\n",
    "    df2['time'] = df[0].iloc[np.linspace(ix+1, df.shape[0]-2, df.shape[0]-ix-2)]\n",
    "    return df2\n",
    "\n",
    "# Identify CMAP peaks.\n",
    "def find_cmap_peaks(df):\n",
    "    df2 = df[(df['time'] > 105) * (df['time'] < 120)]\n",
    "    time = df2['time']\n",
    "    mean_clean = np.mean(df2.drop('time', axis=1), axis=1)\n",
    "    return mean_clean.max(), mean_clean.min()\n",
    "\n",
    "def get_cmap_path(eeg_path):\n",
    "    segments = eeg_path.split('/')\n",
    "    segments[4] = 'cmap'\n",
    "    del segments[5]\n",
    "    segments = segments[:-1]\n",
    "    cmap_path = '/'.join(segments) + '/*.xlsx'\n",
    "    cmap_paths = glob.glob(cmap_path)\n",
    "    if (len(cmap_paths) == 0):\n",
    "        print('No CMAP found for ' + cmap_path)\n",
    "        return ''\n",
    "    return cmap_paths[0]\n",
    "\n",
    "def get_mep_category_absolute_binary(mep_size):\n",
    "    if mep_size <= .5:\n",
    "        return 0\n",
    "    else:\n",
    "        return 1\n",
    "    \n",
    "def calculate_mep_categories_binary(mep_sizes):\n",
    "    p1 = np.percentile(mep_sizes, 50)\n",
    "    cat = np.ones(len(mep_sizes)) * (mep_sizes >= p1)\n",
    "    return cat\n",
    "\n",
    "def calculate_mep_categories_cmap_binary(mep_sizes, cmap):\n",
    "    sizes = []\n",
    "    for mep_size in mep_sizes:\n",
    "        sizes.append(mep_size / cmap)\n",
    "    p1 = np.percentile(sizes, 50)\n",
    "    cat = np.ones(len(mep_sizes)) * (sizes >= p1)\n",
    "    return cat"
   ]
  },
  {
   "cell_type": "code",
   "execution_count": 5,
   "metadata": {},
   "outputs": [
    {
     "data": {
      "image/png": "[encoded data removed]",
      "text/plain": [
       "<Figure size 432x288 with 1 Axes>"
      ]
     },
     "metadata": {
      "needs_background": "light"
     },
     "output_type": "display_data"
    },
    {
     "name": "stdout",
     "output_type": "stream",
     "text": [
      "0.0138663662000004\n"
     ]
    },
    {
     "name": "stderr",
     "output_type": "stream",
     "text": [
      "/home/raquib/anaconda3/envs/tmseeg/lib/python3.7/site-packages/pandas/core/computation/expressions.py:183: UserWarning: evaluating in Python space because the '*' operator is not supported by numexpr for the bool dtype, use '&' instead\n",
      "  .format(op=op_str, alt_op=unsupported[op_str]))\n"
     ]
    },
    {
     "data": {
      "image/png": "[encoded data removed]",
      "text/plain": [
       "<Figure size 432x288 with 1 Axes>"
      ]
     },
     "metadata": {
      "needs_background": "light"
     },
     "output_type": "display_data"
    }
   ],
   "source": [
    "def calculate_mep_area(mep_frame, latency, duration, plot=False):\n",
    "    apb_name = get_apb_column_name(mep_frame)\n",
    "    mep_frame = mep_frame[(mep_frame['s'] >= latency) * (mep_frame['s'] <= latency + duration)]\n",
    "    amplitude = mep_frame[apb_name]\n",
    "    amplitude = np.abs(amplitude)\n",
    "    time_diff = mep_frame['s'].iloc[1] - mep_frame['s'].iloc[0]\n",
    "    area = trapz(amplitude, dx=time_diff)\n",
    "    if (plot == True):\n",
    "        plt.plot(mep_frame['s'], amplitude)\n",
    "    return area\n",
    "    \n",
    "frames = open_mep_as_df(get_mep_path(eegs[30]))\n",
    "mep_frame = frames[5]\n",
    "plt.plot(mep_frame['s'], mep_frame['L APB'])\n",
    "plt.xlim(.21, .28)\n",
    "plt.axvline(0.225, color='r')\n",
    "plt.axvline(0.25, color='r')\n",
    "plt.show()\n",
    "print(calculate_mep_area(mep_frame, 0.225, 0.25, plot=True))"
   ]
  },
  {
   "cell_type": "markdown",
   "metadata": {},
   "source": [
    "# Power and phase calculations"
   ]
  },
  {
   "cell_type": "code",
   "execution_count": 6,
   "metadata": {},
   "outputs": [],
   "source": [
    "def blackman_harris_filter(channel, time, cutoffs, fs, numtaps=801):\n",
    "    b = signal.firwin(numtaps, cutoffs, window='blackmanharris', fs=fs)\n",
    "    filtered = signal.lfilter(b, 1, channel)\n",
    "    delay = 0.5 * (numtaps - 1) / fs\n",
    "    df = pd.DataFrame({\n",
    "        'time': time-delay,\n",
    "        'channel': filtered\n",
    "    })\n",
    "    return df\n",
    "\n",
    "def butter_bandpass_filter(data, lowcut, highcut, fs, btype='bandpass', order=2):\n",
    "    nyq = 0.5 * fs\n",
    "    low = lowcut / nyq\n",
    "    high = highcut / nyq\n",
    "    b, a = butter(order, [low, high], btype=btype)\n",
    "    y = signal.lfilter(b, a, data)\n",
    "    return y\n",
    "\n",
    "def get_phase(channel, time, band, fs=4096, plot=False, filter_type='butter', start_time_ms=-750, stop_time_ms=-2):\n",
    "    if filter_type=='butter':\n",
    "        df_filtered = pd.DataFrame({'channel': butter_bandpass_filter(channel, band[0], band[1], fs), 'time': time})\n",
    "    else:\n",
    "        df_filtered = blackman_harris_filter(channel, time, [0.000001, band[0]], fs)\n",
    "        df_filtered = blackman_harris_filter(df_filtered['channel'].values, df_filtered['time'].values, band[1], fs)    \n",
    "    \n",
    "    hilb = signal.hilbert(df_filtered[(df_filtered['time'] > start_time_ms) * (df_filtered['time'] < stop_time_ms)]['channel'])\n",
    "    phase = np.angle(hilb, deg=True)\n",
    "    df_phase = pd.DataFrame(phase, columns=['phase'])\n",
    "    df_phase['time'] = df_filtered[(df_filtered['time'] > start_time_ms) * (df_filtered['time'] < stop_time_ms)]['time'].values\n",
    "    \n",
    "    if plot == True:\n",
    "        fig, (ax1, ax2, ax3, ax4) = plt.subplots(4, 1, figsize=(13,10))\n",
    "        ax1.plot(time, channel)\n",
    "        ax1.set_xlabel('Time')\n",
    "        ax1.set_ylabel('Amplitude')\n",
    "        ax1.set_title('Signal')\n",
    "        \n",
    "        ax2.plot(df_filtered['time'], df_filtered['channel'])\n",
    "        ax2.set_title('Filtered channel')\n",
    "        ax2.set_xlabel('Time')\n",
    "        ax2.set_ylabel('Filtered channel')\n",
    "        \n",
    "        freq, power = signal.welch(df_filtered['channel'], 4096, nperseg=4096/2, nfft=4096/2)\n",
    "        freq_res = freq[1] - freq[0]\n",
    "        power = np.log(power)\n",
    "        ax3.plot(freq[freq < 200], power[freq < 200])\n",
    "        ax3.set_title('Power spectrum')\n",
    "        ax3.set_xlabel('Frequency')\n",
    "        ax3.set_ylabel('Power')\n",
    "        \n",
    "        ax4.plot(df_phase['time'], df_phase['phase'])\n",
    "        ax4.plot(df_phase.iloc[-1]['time'], df_phase.iloc[-1]['phase'], 'o')\n",
    "        ax4.set_title('Phase')\n",
    "        ax4.set_xlabel('Time')\n",
    "        ax4.set_ylabel('Phase')\n",
    "        plt.tight_layout()\n",
    "    # df_phase = df_phase[df_phase['time'] <= -20]\n",
    "    return df_phase.iloc[-1]['phase'] + 180\n",
    "\n",
    "def get_power(channel, time, crop_start_millis=-150, fs=500, method='pburg', filter_type='butter'):       \n",
    "    # Crop.\n",
    "    channel = channel[(time > crop_start_millis) * (time < -1)].values\n",
    "    time = time[(time > crop_start_millis) * (time < -1)].values\n",
    "\n",
    "    # Resample.\n",
    "    ts = time[1] - time[0]\n",
    "    secs = len(channel) * ts\n",
    "    secs = secs/1000\n",
    "    resampled = signal.resample(channel, int(secs*fs))\n",
    "    resampled_time = np.linspace(time[0], time[-1], len(resampled))\n",
    "    \n",
    "    # Filer if gamma region.\n",
    "#     if 48 > band[0] and 48 < band[1]:\n",
    "    if filter_type == 'butter':\n",
    "        resampled = butter_bandpass_filter(resampled, 48, 52, fs, 'bandstop')\n",
    "        resampled_time = resampled_time\n",
    "    else:\n",
    "        df_filtered = blackman_harris_filter(resampled, resampled_time, [48, 52], fs, numtaps=101)\n",
    "        resampled = df_filtered['channel']\n",
    "        resampled_time = df_filtered['time']\n",
    "    \n",
    "    # PSD.\n",
    "    try:\n",
    "        if method == 'welch':\n",
    "            # Welch method\n",
    "            freq, power = signal.welch(resampled, fs, nfft=2*fs)\n",
    "            freq_res = freq[1] - freq[0]\n",
    "            df_power = pd.DataFrame({'freq': freq, 'power': 10*np.log10(power)})\n",
    "            # df_power_in_band = df_power[(df_power['freq'] >= band[0]) * (df_power['freq'] <= band[1])]\n",
    "            # mean_power = np.mean(df_power_in_band['power'])\n",
    "            # idx_band = np.logical_and(freq >= band[0], freq <= band[1])\n",
    "            # mean_power = simps(power[idx_band], dx=freq_res)\n",
    "        elif method == 'fft':\n",
    "            # FFT method\n",
    "            power = np.abs(np.fft.fft(resampled, n=2*fs))\n",
    "            freq = np.linspace(0, fs, len(power))\n",
    "            df_power = pd.DataFrame({'freq': freq, 'power': 10*np.log10(power)})\n",
    "            # df_power_in_band = df_power[(df_power['freq'] >= band[0]) * (df_power['freq'] <= band[1])]\n",
    "            # mean_power = np.mean(df_power_in_band['power'])\n",
    "        elif method == 'pburg':\n",
    "            # Burgs method\n",
    "            p = pburg(resampled, int(len(resampled)*.5), sampling=fs, NFFT=2000)\n",
    "            power = p.psd\n",
    "            freq = np.linspace(0, fs, len(power))\n",
    "            df_power = pd.DataFrame({'freq': freq, 'power': 10*np.log10(power)})\n",
    "            # df_power_in_band = df_power[(df_power['freq'] >= band[0]) * (df_power['freq'] <= band[1])]\n",
    "            # mean_power = np.mean(df_power_in_band['power'])\n",
    "    except:\n",
    "        return 0\n",
    "\n",
    "    df_power = df_power[df_power['freq'] < fs/2]\n",
    "    return df_power"
   ]
  },
  {
   "cell_type": "markdown",
   "metadata": {},
   "source": [
    "# Combine EEG and others"
   ]
  },
  {
   "cell_type": "code",
   "execution_count": 7,
   "metadata": {},
   "outputs": [],
   "source": [
    "def calculate_power_phase(trial, channel):    \n",
    "    phase_power_dict = {} \n",
    "    \n",
    "    # −4500ms and −500ms\n",
    "    # -752ms to -2ms\n",
    "    # -152ms to -2ms\n",
    "    \n",
    "    for filter_name in ['butter', 'blackmanharris']:\n",
    "        phase_power_dict['theta_phase_' + filter_name] = get_phase(trial[channel], trial['time'], [3.5, 8], filter_type=filter_name)\n",
    "        phase_power_dict['mu_phase_' + filter_name] = get_phase(trial[channel], trial['time'], [8, 12], filter_type=filter_name)\n",
    "        phase_power_dict['beta_phase_' + filter_name] = get_phase(trial[channel], trial['time'], [13, 30], filter_type=filter_name)\n",
    "        phase_power_dict['gamma_phase_' + filter_name] = get_phase(trial[channel], trial['time'], [30, 80], filter_type=filter_name)\n",
    "        phase_power_dict['low_beta_phase_' + filter_name] = get_phase(trial[channel], trial['time'], [12, 20], filter_type=filter_name)\n",
    "        phase_power_dict['high_beta_phase_' + filter_name] = get_phase(trial[channel], trial['time'], [20, 30], filter_type=filter_name)\n",
    "        phase_power_dict['low_gamma_phase_' + filter_name] = get_phase(trial[channel], trial['time'], [30, 46], filter_type=filter_name)\n",
    "        phase_power_dict['high_gamma_phase_' + filter_name] = get_phase(trial[channel], trial['time'], [46, 70], filter_type=filter_name)\n",
    "\n",
    "    for filter_name in ['butter', 'blackmanharris']:\n",
    "        for method in ['pburg', 'welch', 'fft']:\n",
    "            for crop_start in [-150, -750]:\n",
    "                df_power = get_power(trial[channel], trial['time'], method=method, filter_type=filter_name, crop_start_millis=crop_start)\n",
    "                phase_power_dict['theta_power_' + filter_name + '_' + method + '_' + str(crop_start)] = df_power[(df_power['freq'] > 3.5) * (df_power['freq'] <= 8)]['power'].mean()\n",
    "                phase_power_dict['mu_power_' + filter_name + '_' + method + '_' + str(crop_start)] = df_power[(df_power['freq'] > 8) * (df_power['freq'] <= 12)]['power'].mean()\n",
    "                phase_power_dict['beta_power_' + filter_name + '_' + method + '_' + str(crop_start)] = df_power[(df_power['freq'] > 13) * (df_power['freq'] <= 30)]['power'].mean()\n",
    "                phase_power_dict['gamma_power_' + filter_name + '_' + method + '_' + str(crop_start)] = df_power[(df_power['freq'] > 30) * (df_power['freq'] <= 80)]['power'].mean()\n",
    "                phase_power_dict['low_beta_power_' + filter_name + '_' + method + '_' + str(crop_start)] = df_power[(df_power['freq'] > 12) * (df_power['freq'] <= 20)]['power'].mean()\n",
    "                phase_power_dict['high_beta_power_' + filter_name + '_' + method + '_' + str(crop_start)] = df_power[(df_power['freq'] > 20) * (df_power['freq'] <= 30)]['power'].mean()\n",
    "                phase_power_dict['low_gamma_power_' + filter_name + '_' + method + '_' + str(crop_start)] = df_power[(df_power['freq'] > 30) * (df_power['freq'] <= 46)]['power'].mean()\n",
    "                phase_power_dict['high_gamma_power_' + filter_name + '_' + method + '_' + str(crop_start)] = df_power[(df_power['freq'] > 46) * (df_power['freq'] <= 70)]['power'].mean()\n",
    "    \n",
    "    return phase_power_dict\n",
    "        \n",
    "def process_trials(eeg_path):\n",
    "    print('Processing block: {}'.format(eeg_path))\n",
    "    sub = eeg_path.split('/')[2]\n",
    "    exp = eeg_path.split('/')[3]\n",
    "    run = eeg_path.split('/')[5]\n",
    "    \n",
    "    files = glob.glob(os.path.dirname(eeg_path) + \"/010-raw-hjorth.mat\")\n",
    "    if (len(files) == 0):\n",
    "        return []\n",
    "    \n",
    "    trials_hjorth = read_trials_from_mat(os.path.dirname(eeg_path) + \"/010-raw-hjorth.mat\")\n",
    "    # trials_raw = read_eeg(os.path.dirname(eeg_path) + \"/06-clean-prestimulus.set\")\n",
    "    trials_raw = pickle.load(open(os.path.dirname(eeg_path) + \"/raw.p\", \"rb\"))\n",
    "\n",
    "    # Calculate CMAP.\n",
    "    try:\n",
    "        cmap_max, cmap_min = find_cmap_peaks(read_cmap(get_cmap_path(eeg_path)))\n",
    "        cmap = cmap_max - cmap_min\n",
    "    except:\n",
    "        cmap = 0\n",
    "    \n",
    "    # Read latency duration\n",
    "    df_ld = read_latency_duration(eeg_path)\n",
    "    if isinstance(df_ld, pd.DataFrame) == False:\n",
    "        return []\n",
    "    \n",
    "    # Calculate powers and phases. And combine the results in a df list.\n",
    "    power_phase_list = []\n",
    "    for trial_num in df_ld['trial_num'].values:\n",
    "        if len(trials_hjorth)-1 < trial_num:\n",
    "            continue\n",
    "        trial_hjorth = trials_hjorth[trial_num]\n",
    "        trial_raw = trials_raw[trial_num]\n",
    "    \n",
    "        # Ignore rejected trials.\n",
    "        break_loop = False\n",
    "        for rejected in rejected_trials:\n",
    "            if (sub == rejected['sub']) and (exp == rejected['exp']) and (rejected['run'] == run.split(' ')[2]) and ((rejected['trial'] == trial_num) or (rejected['trial'] == '*')):\n",
    "                print('Rejecting ' + sub + '/' + exp + '/' + run + '/' + str(rejected['trial']))\n",
    "                break_loop = True\n",
    "                break\n",
    "        if break_loop == True or df_ld[df_ld['trial_num'] == trial_num].shape[0] == 0:\n",
    "            continue\n",
    "        \n",
    "        # Calculate phase and power.\n",
    "        # print('Processing ' + sub + '/' + exp + '/' + run + '/' + str(trial_num))\n",
    "        try:\n",
    "            if sub in ['sub13', 'sub02']:\n",
    "                channel = 'C4'\n",
    "            else:\n",
    "                channel = 'C3'\n",
    "            \n",
    "            # Average channel\n",
    "            trial_avg = trial_raw.copy()\n",
    "            c3 = trial_raw[['FC5', 'FC3', 'FC1', 'C5', 'C3', 'C1', 'CP5', 'CP3', 'CP1']].mean(axis=1)\n",
    "            c4 = trial_raw[['FC6', 'FC4', 'FC2', 'C6', 'C4', 'C2', 'CP6', 'CP4', 'CP2']].mean(axis=1)\n",
    "            trial_avg['C3'] = c3\n",
    "            trial_avg['C4'] = c4\n",
    "            \n",
    "            # Calculate powers and phases\n",
    "            power_hjorth = calculate_power_phase(trial_hjorth, channel)\n",
    "            power_raw = calculate_power_phase(trial_raw, channel)\n",
    "            power_avg = calculate_power_phase(trial_avg, channel)\n",
    "        except ValueError as e:\n",
    "            print('Skipping ' + sub + '/' + exp + '/' + run + '/' + str(trial_num) + ': ' + str(e))\n",
    "            continue\n",
    "\n",
    "        latency = df_ld[df_ld['trial_num'] == trial_num].iloc[0]['latency']\n",
    "        duration = df_ld[df_ld['trial_num'] == trial_num].iloc[0]['duration']\n",
    "        mep_frame = open_mep_as_df(get_mep_path(eeg_path))[trial_num]\n",
    "        mep_size, _, _ = calculate_mep_size(mep_frame, latency, duration)\n",
    "        \n",
    "        \n",
    "        power_dict = dict()\n",
    "        for key in power_hjorth.keys():\n",
    "            power_dict[key + '_' + 'hjorth'] = power_hjorth[key]\n",
    "        for key in power_raw.keys():\n",
    "            power_dict[key + '_' + 'raw'] = power_raw[key]\n",
    "        for key in power_avg.keys():\n",
    "            power_dict[key + '_' + 'avg'] = power_avg[key]\n",
    "        \n",
    "        power_phase_dict = power_dict\n",
    "        power_phase_dict['sub'] = sub\n",
    "        power_phase_dict['exp'] = exp\n",
    "        power_phase_dict['run'] = run\n",
    "        power_phase_dict['trial_num'] = trial_num\n",
    "        power_phase_dict['cmap'] = cmap\n",
    "        power_phase_dict['mep_size'] = mep_size\n",
    "\n",
    "        power_phase_dict['mep_latency'] = latency - 0.20\n",
    "        power_phase_dict['mep_duration'] = duration\n",
    "        power_phase_dict['mep_area'] = calculate_mep_area(mep_frame, latency, duration)\n",
    "        \n",
    "        power_phase_dict['rejected'] = False\n",
    "        for rejected in rejected_trials:\n",
    "            if (sub == rejected['sub']) and (exp == rejected['exp']) and (rejected['run'] == run.split(' ')[2]) and ((rejected['trial'] == trial_num) or (rejected['trial'] == '*')):\n",
    "                power_phase_dict['rejected'] = True\n",
    "                break\n",
    "\n",
    "        power_phase_list.append(power_phase_dict)\n",
    "    return power_phase_list"
   ]
  },
  {
   "cell_type": "code",
   "execution_count": 8,
   "metadata": {},
   "outputs": [
    {
     "data": {
      "application/vnd.jupyter.widget-view+json": {
       "model_id": "8bc33416548343a594e602140a7ee58c",
       "version_major": 2,
       "version_minor": 0
      },
      "text/plain": [
       "HBox(children=(FloatProgress(value=0.0, max=77.0), HTML(value='')))"
      ]
     },
     "metadata": {},
     "output_type": "display_data"
    },
    {
     "name": "stdout",
     "output_type": "stream",
     "text": [
      "\n"
     ]
    },
    {
     "name": "stderr",
     "output_type": "stream",
     "text": [
      "/home/raquib/anaconda3/envs/tmseeg/lib/python3.7/site-packages/joblib/externals/loky/process_executor.py:706: UserWarning: A worker stopped while some jobs were given to the executor. This can be caused by a too short worker timeout or by a memory leak.\n",
      "  \"timeout or by a memory leak.\", UserWarning\n"
     ]
    },
    {
     "data": {
      "application/vnd.jupyter.widget-view+json": {
       "model_id": "5661681bf7544aa5bae8207c874e7778",
       "version_major": 2,
       "version_minor": 0
      },
      "text/plain": [
       "HBox(children=(FloatProgress(value=0.0, max=77.0), HTML(value='')))"
      ]
     },
     "metadata": {},
     "output_type": "display_data"
    },
    {
     "name": "stdout",
     "output_type": "stream",
     "text": [
      "\n"
     ]
    }
   ],
   "source": [
    "# Run analysis\n",
    "num_cores = multiprocessing.cpu_count() - 2\n",
    "results = Parallel(n_jobs=num_cores)(delayed(process_trials)(eeg_path) for eeg_path in tqdm(eegs))\n",
    "\n",
    "# results = []\n",
    "# for eeg_path in tqdm(eegs):\n",
    "#     result = process_trials(eeg_path)\n",
    "#     if len(result) > 0:\n",
    "#         results.append(result)\n",
    "\n",
    "df_power = []\n",
    "for result in tqdm(results):\n",
    "    if len(result) > 0:\n",
    "        for trial in result:\n",
    "            df_power.append(trial)\n",
    "\n",
    "df_power = pd.DataFrame(df_power)"
   ]
  },
  {
   "cell_type": "code",
   "execution_count": 9,
   "metadata": {},
   "outputs": [],
   "source": [
    "sub_map = {\n",
    "    'sub01': 'Terry Baedon',\n",
    "    'sub02': 'David Brown',\n",
    "    'sub03': 'Sarah Brunet',\n",
    "    'sub04': 'Lynette Gallaty',\n",
    "    'sub05': 'Mana Higashihara',\n",
    "    'sub06': 'Tim Howells',\n",
    "    'sub07': 'Merolene Pirsarkiewicz',\n",
    "    'sub08': 'Steve Vucic',\n",
    "    'sub09': 'Hayeley Turnbull',\n",
    "    'sub10': 'Nimeshan Geevasinga',\n",
    "    'sub11': 'Amarissa M',\n",
    "    'sub12': 'Marshall Owen',\n",
    "    'sub13': 'Stephen Schebeci',\n",
    "    'sub14': 'Matt Silsby',\n",
    "    'sub15': 'Carlos Brito',\n",
    "    'sub16': 'Alistair McEwan',\n",
    "    'sub17': 'Toni Mathieson',\n",
    "    'sub18': 'Karen Robertson',\n",
    "    'sub19': 'Julie Terry',\n",
    "    'sub20': 'Natalie Terry',\n",
    "    'sub21': 'Raquib-ul Alam',\n",
    "    'sub22': 'Lin Gavin',\n",
    "}\n",
    "\n",
    "# Insert subject names\n",
    "df_power['name'] = df_power.apply(lambda x: sub_map[x['sub']], axis=1)"
   ]
  },
  {
   "cell_type": "code",
   "execution_count": 10,
   "metadata": {},
   "outputs": [
    {
     "data": {
      "text/html": [
       "<div>\n",
       "<style scoped>\n",
       "    .dataframe tbody tr th:only-of-type {\n",
       "        vertical-align: middle;\n",
       "    }\n",
       "\n",
       "    .dataframe tbody tr th {\n",
       "        vertical-align: top;\n",
       "    }\n",
       "\n",
       "    .dataframe thead th {\n",
       "        text-align: right;\n",
       "    }\n",
       "</style>\n",
       "<table border=\"1\" class=\"dataframe\">\n",
       "  <thead>\n",
       "    <tr style=\"text-align: right;\">\n",
       "      <th></th>\n",
       "      <th>beta_phase_blackmanharris_avg</th>\n",
       "      <th>beta_phase_blackmanharris_hjorth</th>\n",
       "      <th>beta_phase_blackmanharris_raw</th>\n",
       "      <th>beta_phase_butter_avg</th>\n",
       "      <th>beta_phase_butter_hjorth</th>\n",
       "      <th>beta_phase_butter_raw</th>\n",
       "      <th>beta_power_blackmanharris_fft_-150_avg</th>\n",
       "      <th>beta_power_blackmanharris_fft_-150_hjorth</th>\n",
       "      <th>beta_power_blackmanharris_fft_-150_raw</th>\n",
       "      <th>beta_power_blackmanharris_fft_-750_avg</th>\n",
       "      <th>...</th>\n",
       "      <th>theta_power_butter_pburg_-750_raw</th>\n",
       "      <th>theta_power_butter_welch_-150_avg</th>\n",
       "      <th>theta_power_butter_welch_-150_hjorth</th>\n",
       "      <th>theta_power_butter_welch_-150_raw</th>\n",
       "      <th>theta_power_butter_welch_-750_avg</th>\n",
       "      <th>theta_power_butter_welch_-750_hjorth</th>\n",
       "      <th>theta_power_butter_welch_-750_raw</th>\n",
       "      <th>trial_num</th>\n",
       "      <th>name</th>\n",
       "      <th>sub_exp</th>\n",
       "    </tr>\n",
       "  </thead>\n",
       "  <tbody>\n",
       "    <tr>\n",
       "      <th>0</th>\n",
       "      <td>253.197310</td>\n",
       "      <td>259.227960</td>\n",
       "      <td>253.475177</td>\n",
       "      <td>233.954755</td>\n",
       "      <td>244.741252</td>\n",
       "      <td>237.186607</td>\n",
       "      <td>30.155415</td>\n",
       "      <td>33.097893</td>\n",
       "      <td>34.142390</td>\n",
       "      <td>30.751833</td>\n",
       "      <td>...</td>\n",
       "      <td>35.023043</td>\n",
       "      <td>16.019406</td>\n",
       "      <td>26.084887</td>\n",
       "      <td>26.390426</td>\n",
       "      <td>1.681325</td>\n",
       "      <td>14.260379</td>\n",
       "      <td>13.314360</td>\n",
       "      <td>0</td>\n",
       "      <td>David Brown</td>\n",
       "      <td>sub02_exp01</td>\n",
       "    </tr>\n",
       "    <tr>\n",
       "      <th>1</th>\n",
       "      <td>322.400698</td>\n",
       "      <td>246.063099</td>\n",
       "      <td>248.071766</td>\n",
       "      <td>66.119962</td>\n",
       "      <td>84.336268</td>\n",
       "      <td>73.301890</td>\n",
       "      <td>17.712250</td>\n",
       "      <td>30.494485</td>\n",
       "      <td>29.901573</td>\n",
       "      <td>20.445276</td>\n",
       "      <td>...</td>\n",
       "      <td>30.272737</td>\n",
       "      <td>-8.406083</td>\n",
       "      <td>22.313550</td>\n",
       "      <td>21.668388</td>\n",
       "      <td>0.113583</td>\n",
       "      <td>15.043557</td>\n",
       "      <td>12.431390</td>\n",
       "      <td>1</td>\n",
       "      <td>David Brown</td>\n",
       "      <td>sub02_exp01</td>\n",
       "    </tr>\n",
       "    <tr>\n",
       "      <th>2</th>\n",
       "      <td>46.728018</td>\n",
       "      <td>264.748856</td>\n",
       "      <td>329.038066</td>\n",
       "      <td>227.576249</td>\n",
       "      <td>20.586940</td>\n",
       "      <td>226.329212</td>\n",
       "      <td>19.142364</td>\n",
       "      <td>25.723800</td>\n",
       "      <td>25.259891</td>\n",
       "      <td>20.016527</td>\n",
       "      <td>...</td>\n",
       "      <td>8.385803</td>\n",
       "      <td>-4.967340</td>\n",
       "      <td>4.550070</td>\n",
       "      <td>-1.289127</td>\n",
       "      <td>-6.839048</td>\n",
       "      <td>-4.861967</td>\n",
       "      <td>1.168434</td>\n",
       "      <td>2</td>\n",
       "      <td>David Brown</td>\n",
       "      <td>sub02_exp01</td>\n",
       "    </tr>\n",
       "    <tr>\n",
       "      <th>3</th>\n",
       "      <td>293.282000</td>\n",
       "      <td>250.572377</td>\n",
       "      <td>263.099207</td>\n",
       "      <td>247.339432</td>\n",
       "      <td>92.334537</td>\n",
       "      <td>244.464456</td>\n",
       "      <td>20.059061</td>\n",
       "      <td>23.363440</td>\n",
       "      <td>24.213758</td>\n",
       "      <td>21.318396</td>\n",
       "      <td>...</td>\n",
       "      <td>8.909830</td>\n",
       "      <td>-11.122409</td>\n",
       "      <td>0.209918</td>\n",
       "      <td>0.783704</td>\n",
       "      <td>-1.631370</td>\n",
       "      <td>-1.765901</td>\n",
       "      <td>3.367332</td>\n",
       "      <td>3</td>\n",
       "      <td>David Brown</td>\n",
       "      <td>sub02_exp01</td>\n",
       "    </tr>\n",
       "    <tr>\n",
       "      <th>4</th>\n",
       "      <td>58.418758</td>\n",
       "      <td>268.417886</td>\n",
       "      <td>333.578930</td>\n",
       "      <td>48.719970</td>\n",
       "      <td>257.958866</td>\n",
       "      <td>1.841685</td>\n",
       "      <td>21.560814</td>\n",
       "      <td>24.785412</td>\n",
       "      <td>24.726407</td>\n",
       "      <td>22.454398</td>\n",
       "      <td>...</td>\n",
       "      <td>11.034152</td>\n",
       "      <td>-2.394430</td>\n",
       "      <td>4.257885</td>\n",
       "      <td>3.349184</td>\n",
       "      <td>-3.799718</td>\n",
       "      <td>4.943934</td>\n",
       "      <td>4.663004</td>\n",
       "      <td>4</td>\n",
       "      <td>David Brown</td>\n",
       "      <td>sub02_exp01</td>\n",
       "    </tr>\n",
       "  </tbody>\n",
       "</table>\n",
       "<p>5 rows × 348 columns</p>\n",
       "</div>"
      ],
      "text/plain": [
       "   beta_phase_blackmanharris_avg  beta_phase_blackmanharris_hjorth  \\\n",
       "0                     253.197310                        259.227960   \n",
       "1                     322.400698                        246.063099   \n",
       "2                      46.728018                        264.748856   \n",
       "3                     293.282000                        250.572377   \n",
       "4                      58.418758                        268.417886   \n",
       "\n",
       "   beta_phase_blackmanharris_raw  beta_phase_butter_avg  \\\n",
       "0                     253.475177             233.954755   \n",
       "1                     248.071766              66.119962   \n",
       "2                     329.038066             227.576249   \n",
       "3                     263.099207             247.339432   \n",
       "4                     333.578930              48.719970   \n",
       "\n",
       "   beta_phase_butter_hjorth  beta_phase_butter_raw  \\\n",
       "0                244.741252             237.186607   \n",
       "1                 84.336268              73.301890   \n",
       "2                 20.586940             226.329212   \n",
       "3                 92.334537             244.464456   \n",
       "4                257.958866               1.841685   \n",
       "\n",
       "   beta_power_blackmanharris_fft_-150_avg  \\\n",
       "0                               30.155415   \n",
       "1                               17.712250   \n",
       "2                               19.142364   \n",
       "3                               20.059061   \n",
       "4                               21.560814   \n",
       "\n",
       "   beta_power_blackmanharris_fft_-150_hjorth  \\\n",
       "0                                  33.097893   \n",
       "1                                  30.494485   \n",
       "2                                  25.723800   \n",
       "3                                  23.363440   \n",
       "4                                  24.785412   \n",
       "\n",
       "   beta_power_blackmanharris_fft_-150_raw  \\\n",
       "0                               34.142390   \n",
       "1                               29.901573   \n",
       "2                               25.259891   \n",
       "3                               24.213758   \n",
       "4                               24.726407   \n",
       "\n",
       "   beta_power_blackmanharris_fft_-750_avg  ...  \\\n",
       "0                               30.751833  ...   \n",
       "1                               20.445276  ...   \n",
       "2                               20.016527  ...   \n",
       "3                               21.318396  ...   \n",
       "4                               22.454398  ...   \n",
       "\n",
       "   theta_power_butter_pburg_-750_raw  theta_power_butter_welch_-150_avg  \\\n",
       "0                          35.023043                          16.019406   \n",
       "1                          30.272737                          -8.406083   \n",
       "2                           8.385803                          -4.967340   \n",
       "3                           8.909830                         -11.122409   \n",
       "4                          11.034152                          -2.394430   \n",
       "\n",
       "   theta_power_butter_welch_-150_hjorth  theta_power_butter_welch_-150_raw  \\\n",
       "0                             26.084887                          26.390426   \n",
       "1                             22.313550                          21.668388   \n",
       "2                              4.550070                          -1.289127   \n",
       "3                              0.209918                           0.783704   \n",
       "4                              4.257885                           3.349184   \n",
       "\n",
       "   theta_power_butter_welch_-750_avg  theta_power_butter_welch_-750_hjorth  \\\n",
       "0                           1.681325                             14.260379   \n",
       "1                           0.113583                             15.043557   \n",
       "2                          -6.839048                             -4.861967   \n",
       "3                          -1.631370                             -1.765901   \n",
       "4                          -3.799718                              4.943934   \n",
       "\n",
       "   theta_power_butter_welch_-750_raw  trial_num         name      sub_exp  \n",
       "0                          13.314360          0  David Brown  sub02_exp01  \n",
       "1                          12.431390          1  David Brown  sub02_exp01  \n",
       "2                           1.168434          2  David Brown  sub02_exp01  \n",
       "3                           3.367332          3  David Brown  sub02_exp01  \n",
       "4                           4.663004          4  David Brown  sub02_exp01  \n",
       "\n",
       "[5 rows x 348 columns]"
      ]
     },
     "execution_count": 10,
     "metadata": {},
     "output_type": "execute_result"
    },
    {
     "data": {
      "image/png": "[encoded data removed]",
      "text/plain": [
       "<Figure size 1368x288 with 1 Axes>"
      ]
     },
     "metadata": {
      "needs_background": "light"
     },
     "output_type": "display_data"
    }
   ],
   "source": [
    "# Show subject histogram and remove subjects with fewer trials\n",
    "df_power['sub_exp'] = df_power['sub'] + \"_\" + df_power['exp']\n",
    "df_power = df_power[~df_power['sub_exp'].isin(['sub04_exp01', 'sub14_exp01'])]\n",
    "df_power['sub_exp'].hist(figsize=(19,4), xrot=90, bins=50, align='mid')\n",
    "\n",
    "# Save the dataframe\n",
    "df_power.to_excel('159-d1-power-phase-wide.xlsx')\n",
    "df_power.head()"
   ]
  },
  {
   "cell_type": "code",
   "execution_count": 18,
   "metadata": {},
   "outputs": [],
   "source": [
    "df_power = pd.read_excel('159-d1-power-phase-wide.xlsx')"
   ]
  },
  {
   "cell_type": "code",
   "execution_count": 11,
   "metadata": {},
   "outputs": [
    {
     "data": {
      "application/vnd.jupyter.widget-view+json": {
       "model_id": "76ecec40cd124355858c1f38bc8eaf2c",
       "version_major": 2,
       "version_minor": 0
      },
      "text/plain": [
       "HBox(children=(FloatProgress(value=0.0, max=3.0), HTML(value='')))"
      ]
     },
     "metadata": {},
     "output_type": "display_data"
    },
    {
     "data": {
      "application/vnd.jupyter.widget-view+json": {
       "model_id": "f1228ffc6983498d8a806b8c8078de3b",
       "version_major": 2,
       "version_minor": 0
      },
      "text/plain": [
       "HBox(children=(FloatProgress(value=0.0, max=4.0), HTML(value='')))"
      ]
     },
     "metadata": {},
     "output_type": "display_data"
    },
    {
     "name": "stdout",
     "output_type": "stream",
     "text": [
      "\n"
     ]
    },
    {
     "data": {
      "application/vnd.jupyter.widget-view+json": {
       "model_id": "d494e6c84a234f369a607c18f6659a9b",
       "version_major": 2,
       "version_minor": 0
      },
      "text/plain": [
       "HBox(children=(FloatProgress(value=0.0, max=4.0), HTML(value='')))"
      ]
     },
     "metadata": {},
     "output_type": "display_data"
    },
    {
     "name": "stdout",
     "output_type": "stream",
     "text": [
      "\n"
     ]
    },
    {
     "data": {
      "application/vnd.jupyter.widget-view+json": {
       "model_id": "c76063108df44795bccb995db564c490",
       "version_major": 2,
       "version_minor": 0
      },
      "text/plain": [
       "HBox(children=(FloatProgress(value=0.0, max=4.0), HTML(value='')))"
      ]
     },
     "metadata": {},
     "output_type": "display_data"
    },
    {
     "name": "stdout",
     "output_type": "stream",
     "text": [
      "\n",
      "\n",
      "(385344, 16)\n"
     ]
    }
   ],
   "source": [
    "# Long format - power\n",
    "value_vars = []\n",
    "for eeg_type in ['hjorth', 'raw', 'avg']:\n",
    "    for filter_type in ['butter', 'blackmanharris']:\n",
    "        for band in ['theta', 'mu', 'beta', 'gamma']:\n",
    "            for time in ['-750', '-150']:\n",
    "                for method in ['fft', 'welch', 'pburg']:\n",
    "                    value_vars.append(band + '_power_' + filter_type + '_' + method + '_' + time + '_' + eeg_type)\n",
    "df_melt = pd.melt(df_power, id_vars=['sub', 'exp', 'run', 'trial_num', 'mep_size', 'mep_latency', 'mep_duration'], value_vars=value_vars)\n",
    "\n",
    "# Rename some variables\n",
    "method_map = dict()\n",
    "method_map = {\n",
    "    'fft': 'FFT',\n",
    "    'welch': 'Welch',\n",
    "    'pburg': 'Burg'\n",
    "}\n",
    "eeg_type_map = {\n",
    "    'raw': 'Raw',\n",
    "    'hjorth': 'Hjorth',\n",
    "    'avg': 'Average'\n",
    "}\n",
    "filter_map = {\n",
    "    'blackmanharris': 'Blackman-Harris',\n",
    "    'butter': 'Butterworth'\n",
    "}\n",
    "df_melt['Method'] = df_melt['variable'].apply(lambda x: method_map[x.split('_')[3]])\n",
    "df_melt['Band'] = df_melt['variable'].apply(lambda x: x.split('_')[0].capitalize())\n",
    "df_melt['Filter'] = df_melt['variable'].apply(lambda x: filter_map[x.split('_')[2]])\n",
    "df_melt['Time'] = df_melt['variable'].apply(lambda x: str(x.split('_')[4]))\n",
    "df_melt['EEG'] = df_melt['variable'].apply(lambda x: eeg_type_map[x.split('_')[5]])\n",
    "\n",
    "# Generate absolute trial numbers\n",
    "df_melt = df_melt.sort_values(['Method', 'Band', 'Filter', 'Time', 'EEG', 'sub', 'exp', 'run', 'trial_num'])\n",
    "df_new = []\n",
    "for method in tqdm(['Burg', 'FFT', 'Welch']):\n",
    "    for band in tqdm(['Theta', 'Mu', 'Beta', 'Gamma']):\n",
    "        for filt in ['Blackman-Harris', 'Butterworth']:\n",
    "            for time in ['-750', '-150']:\n",
    "                for eeg in ['Average', 'Raw', 'Hjorth']:\n",
    "                    for sub in df_melt['sub'].unique():\n",
    "                        i = 0\n",
    "                        df_sub = df_melt[df_melt['Method'] == method]\n",
    "                        df_sub = df_sub[df_sub['Band'] == band]\n",
    "                        df_sub = df_sub[df_sub['Filter'] == filt]\n",
    "                        df_sub = df_sub[df_sub['Time'] == time]\n",
    "                        df_sub = df_sub[df_sub['EEG'] == eeg]\n",
    "                        df_sub = df_sub[df_sub['sub'] == sub]\n",
    "                        for idx, row in df_sub.iterrows():\n",
    "                            row = row.to_dict()\n",
    "                            row['trial_abs'] = i\n",
    "                            df_new.append(row)\n",
    "                            i = i+1\n",
    "df_melt = pd.DataFrame(df_new)\n",
    "df_melt = df_melt.reset_index()\n",
    "print(df_melt.shape)\n",
    "df_melt.to_excel('159-d1-power-long.xlsx')"
   ]
  },
  {
   "cell_type": "code",
   "execution_count": 12,
   "metadata": {},
   "outputs": [
    {
     "data": {
      "application/vnd.jupyter.widget-view+json": {
       "model_id": "8d135adab86743fd92dc0fc30b244cc7",
       "version_major": 2,
       "version_minor": 0
      },
      "text/plain": [
       "HBox(children=(FloatProgress(value=0.0, max=4.0), HTML(value='')))"
      ]
     },
     "metadata": {},
     "output_type": "display_data"
    },
    {
     "name": "stdout",
     "output_type": "stream",
     "text": [
      "\n",
      "(64224, 14)\n"
     ]
    }
   ],
   "source": [
    "# Long format - phase\n",
    "value_vars = []\n",
    "for eeg_type in ['hjorth', 'raw', 'avg']:\n",
    "    for filter_type in ['butter', 'blackmanharris']:\n",
    "        for band in ['theta', 'mu', 'beta', 'gamma']:\n",
    "            value_vars.append(band + '_phase_' + filter_type + '_' + eeg_type)\n",
    "df_melt = pd.melt(df_power, id_vars=['sub', 'exp', 'run', 'trial_num', 'mep_size', 'mep_latency', 'mep_duration', 'mep_area'], value_vars=value_vars)\n",
    "\n",
    "# Rename some variables\n",
    "df_melt['Band'] = df_melt['variable'].apply(lambda x: x.split('_')[0].capitalize())\n",
    "df_melt['Filter'] = df_melt['variable'].apply(lambda x: filter_map[x.split('_')[2]])\n",
    "df_melt['EEG'] = df_melt['variable'].apply(lambda x: eeg_type_map[x.split('_')[3]])\n",
    "\n",
    "# Generate absolute trial numbers\n",
    "df_melt = df_melt.sort_values(['Band', 'Filter', 'EEG', 'sub', 'exp', 'run', 'trial_num'])\n",
    "subs = df_melt['sub'].unique()\n",
    "df_new = []\n",
    "for band in tqdm(['Theta', 'Mu', 'Beta', 'Gamma']):\n",
    "    for filt in ['Blackman-Harris', 'Butterworth']:\n",
    "        for eeg in ['Raw', 'Hjorth', 'Average']:\n",
    "            for sub in subs:\n",
    "                i = 0\n",
    "                df_sub = df_melt[df_melt['Band'] == band]\n",
    "                df_sub = df_sub[df_sub['Filter'] == filt]\n",
    "                df_sub = df_sub[df_sub['EEG'] == eeg]\n",
    "                df_sub = df_sub[df_sub['sub'] == sub]\n",
    "                for idx, row in df_sub.iterrows():\n",
    "                    row = row.to_dict()\n",
    "                    row['trial_abs'] = i\n",
    "                    df_new.append(row)\n",
    "                    i = i+1\n",
    "df_melt = pd.DataFrame(df_new)\n",
    "print(df_melt.shape)\n",
    "df_melt.to_excel('159-d1-phase-long.xlsx')"
   ]
  },
  {
   "cell_type": "code",
   "execution_count": 18,
   "metadata": {},
   "outputs": [
    {
     "data": {
      "application/vnd.jupyter.widget-view+json": {
       "model_id": "945c060a61aa4864b67bba87d031e719",
       "version_major": 2,
       "version_minor": 0
      },
      "text/plain": [
       "HBox(children=(FloatProgress(value=0.0, max=18.0), HTML(value='')))"
      ]
     },
     "metadata": {},
     "output_type": "display_data"
    },
    {
     "data": {
      "image/png": "[encoded data removed]",
      "text/plain": [
       "<Figure size 432x288 with 1 Axes>"
      ]
     },
     "metadata": {
      "needs_background": "light"
     },
     "output_type": "display_data"
    },
    {
     "data": {
      "image/png": "[encoded data removed]",
      "text/plain": [
       "<Figure size 432x288 with 1 Axes>"
      ]
     },
     "metadata": {
      "needs_background": "light"
     },
     "output_type": "display_data"
    },
    {
     "data": {
      "image/png": "[encoded data removed]",
      "text/plain": [
       "<Figure size 432x288 with 1 Axes>"
      ]
     },
     "metadata": {
      "needs_background": "light"
     },
     "output_type": "display_data"
    },
    {
     "data": {
      "image/png": "[encoded data removed]",
      "text/plain": [
       "<Figure size 432x288 with 1 Axes>"
      ]
     },
     "metadata": {
      "needs_background": "light"
     },
     "output_type": "display_data"
    },
    {
     "data": {
      "image/png": "[encoded data removed]",
      "text/plain": [
       "<Figure size 432x288 with 1 Axes>"
      ]
     },
     "metadata": {
      "needs_background": "light"
     },
     "output_type": "display_data"
    },
    {
     "data": {
      "image/png": "[encoded data removed]",
      "text/plain": [
       "<Figure size 432x288 with 1 Axes>"
      ]
     },
     "metadata": {
      "needs_background": "light"
     },
     "output_type": "display_data"
    },
    {
     "data": {
      "image/png": "[encoded data removed]",
      "text/plain": [
       "<Figure size 432x288 with 1 Axes>"
      ]
     },
     "metadata": {
      "needs_background": "light"
     },
     "output_type": "display_data"
    },
    {
     "data": {
      "image/png": "[encoded data removed]",
      "text/plain": [
       "<Figure size 432x288 with 1 Axes>"
      ]
     },
     "metadata": {
      "needs_background": "light"
     },
     "output_type": "display_data"
    },
    {
     "data": {
      "image/png": "[encoded data removed]",
      "text/plain": [
       "<Figure size 432x288 with 1 Axes>"
      ]
     },
     "metadata": {
      "needs_background": "light"
     },
     "output_type": "display_data"
    },
    {
     "data": {
      "image/png": "[encoded data removed]",
      "text/plain": [
       "<Figure size 432x288 with 1 Axes>"
      ]
     },
     "metadata": {
      "needs_background": "light"
     },
     "output_type": "display_data"
    },
    {
     "data": {
      "image/png": "[encoded data removed]",
      "text/plain": [
       "<Figure size 432x288 with 1 Axes>"
      ]
     },
     "metadata": {
      "needs_background": "light"
     },
     "output_type": "display_data"
    },
    {
     "data": {
      "image/png": "[encoded data removed]",
      "text/plain": [
       "<Figure size 432x288 with 1 Axes>"
      ]
     },
     "metadata": {
      "needs_background": "light"
     },
     "output_type": "display_data"
    },
    {
     "data": {
      "image/png": "[encoded data removed]",
      "text/plain": [
       "<Figure size 432x288 with 1 Axes>"
      ]
     },
     "metadata": {
      "needs_background": "light"
     },
     "output_type": "display_data"
    },
    {
     "data": {
      "image/png": "[encoded data removed]",
      "text/plain": [
       "<Figure size 432x288 with 1 Axes>"
      ]
     },
     "metadata": {
      "needs_background": "light"
     },
     "output_type": "display_data"
    },
    {
     "data": {
      "image/png": "[encoded data removed]",
      "text/plain": [
       "<Figure size 432x288 with 1 Axes>"
      ]
     },
     "metadata": {
      "needs_background": "light"
     },
     "output_type": "display_data"
    },
    {
     "data": {
      "image/png": "[encoded data removed]",
      "text/plain": [
       "<Figure size 432x288 with 1 Axes>"
      ]
     },
     "metadata": {
      "needs_background": "light"
     },
     "output_type": "display_data"
    },
    {
     "data": {
      "image/png": "[encoded data removed]",
      "text/plain": [
       "<Figure size 432x288 with 1 Axes>"
      ]
     },
     "metadata": {
      "needs_background": "light"
     },
     "output_type": "display_data"
    },
    {
     "data": {
      "image/png": "[encoded data removed]",
      "text/plain": [
       "<Figure size 432x288 with 1 Axes>"
      ]
     },
     "metadata": {
      "needs_background": "light"
     },
     "output_type": "display_data"
    },
    {
     "name": "stdout",
     "output_type": "stream",
     "text": [
      "\n"
     ]
    }
   ],
   "source": [
    "# df_melt = pd.read_excel('159-d1-power-long.xlsx')\n",
    "subs = df_melt['sub'].unique()\n",
    "i = 1\n",
    "for sub in tqdm(subs):\n",
    "    plt.figure()\n",
    "    df = df_melt[df_melt['EEG'] == 'Raw']\n",
    "    df = df[df['Method'] == 'Welch']\n",
    "    df = df[df['Filter'] == 'Butterworth']\n",
    "    df = df[df['sub'] == sub]\n",
    "    df = df[df['Time'] == -750]\n",
    "    sns.boxplot(x=\"Band\", y=\"value\", data=df)\n",
    "    sns.despine(offset=10, trim=True)\n",
    "    plt.xlabel('Band')\n",
    "    plt.ylabel('Power (dB)')\n",
    "    plt.title(\"{} - {}\".format(sub, sub_map[sub]))\n",
    "    plt.show()\n",
    "#     plt.savefig('image-{}.jpg'.format(i))\n",
    "    i = i + 1"
   ]
  },
  {
   "cell_type": "markdown",
   "metadata": {},
   "source": [
    "# Compare with and without resampling"
   ]
  },
  {
   "cell_type": "code",
   "execution_count": null,
   "metadata": {},
   "outputs": [],
   "source": [
    "df1 = pd.read_excel('153-d1-power-long.xlsx')\n",
    "df1['Dataset'] = 'With resampling'\n",
    "df2 = pd.read_excel('158-d1-power-long.xlsx')\n",
    "df2['Dataset'] = 'Without resampling'\n",
    "df_combined = pd.concat([df1, df2], axis=1)"
   ]
  },
  {
   "cell_type": "code",
   "execution_count": null,
   "metadata": {},
   "outputs": [],
   "source": [
    "# df_melt = pd.read_excel('158-d1-power-long.xlsx')\n",
    "subs = df_melt['sub'].unique()\n",
    "i = 1\n",
    "for sub in tqdm(subs):\n",
    "    plt.figure()\n",
    "    df = df_melt[df_melt['EEG'] == 'Raw']\n",
    "    df = df[df['Method'] == 'Welch']\n",
    "    df = df[df['Filter'] == 'Butterworth']\n",
    "    df = df[df['sub'] == sub]\n",
    "    df = df[df['Time'] == '-750']\n",
    "    sns.boxplot(x=\"Band\", y=\"value\", data=df)\n",
    "    sns.despine(offset=10, trim=True)\n",
    "    plt.xlabel('Band')\n",
    "    plt.ylabel('Power (dB)')\n",
    "    plt.title(\"{} - {}\".format(sub, sub_map[sub]))\n",
    "#     plt.show()\n",
    "    plt.savefig('image-{}.jpg'.format(i))\n",
    "    i = i + 1"
   ]
  }
 ],
 "metadata": {
  "kernelspec": {
   "display_name": "Python 3",
   "language": "python",
   "name": "python3"
  },
  "language_info": {
   "codemirror_mode": {
    "name": "ipython",
    "version": 3
   },
   "file_extension": ".py",
   "mimetype": "text/x-python",
   "name": "python",
   "nbconvert_exporter": "python",
   "pygments_lexer": "ipython3",
   "version": "3.7.3"
  }
 },
 "nbformat": 4,
 "nbformat_minor": 4
}
