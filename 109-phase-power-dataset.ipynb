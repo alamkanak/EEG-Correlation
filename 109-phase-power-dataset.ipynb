{
 "cells": [
  {
   "cell_type": "code",
   "execution_count": 1,
   "metadata": {},
   "outputs": [
    {
     "name": "stderr",
     "output_type": "stream",
     "text": [
      "/home/raquib/anaconda3/envs/tmseeg/lib/python3.7/site-packages/sklearn/ensemble/weight_boosting.py:29: DeprecationWarning: numpy.core.umath_tests is an internal NumPy module and should not be imported. It will be removed in a future NumPy release.\n",
      "  from numpy.core.umath_tests import inner1d\n",
      "Using TensorFlow backend.\n",
      "/home/raquib/anaconda3/envs/tmseeg/lib/python3.7/site-packages/pyparsing.py:3168: FutureWarning: Possible set intersection at position 3\n",
      "  self.re = re.compile(self.reString)\n",
      "/home/raquib/anaconda3/envs/tmseeg/lib/python3.7/site-packages/sklearn/feature_extraction/text.py:17: DeprecationWarning: Using or importing the ABCs from 'collections' instead of from 'collections.abc' is deprecated, and in 3.8 it will stop working\n",
      "  from collections import Mapping, defaultdict\n"
     ]
    }
   ],
   "source": [
    "import glob\n",
    "import pandas as pd\n",
    "import mne\n",
    "import matplotlib.pyplot as plt\n",
    "from io import StringIO\n",
    "import mne\n",
    "from mne.io import read_raw_eeglab, read_epochs_eeglab\n",
    "import numpy as np\n",
    "from scipy import signal\n",
    "from scipy import fftpack\n",
    "import seaborn as sns\n",
    "from sklearn.linear_model import LinearRegression, LogisticRegression\n",
    "from sklearn.model_selection import train_test_split\n",
    "from sklearn.metrics import mean_squared_error, r2_score\n",
    "from tqdm import tqdm, tqdm_notebook\n",
    "import math\n",
    "\n",
    "from sklearn import preprocessing\n",
    "from sklearn.linear_model import SGDClassifier\n",
    "from sklearn.ensemble import RandomForestClassifier\n",
    "from sklearn.ensemble import GradientBoostingClassifier\n",
    "from sklearn.svm import SVR\n",
    "from sklearn.svm import SVC\n",
    "from sklearn.metrics import confusion_matrix, classification_report, accuracy_score\n",
    "from sklearn.tree import DecisionTreeClassifier\n",
    "from keras_tqdm import TQDMNotebookCallback\n",
    "from tensorboard.plugins.hparams import api as hp\n",
    "from livelossplot.tf_keras import PlotLossesCallback\n",
    "\n",
    "import autosklearn.regression\n",
    "import sklearn.model_selection\n",
    "import sklearn.datasets\n",
    "import sklearn.metrics\n",
    "import multiprocessing\n",
    "from tpot import TPOTRegressor\n",
    "from oct2py import octave\n",
    "\n",
    "from joblib import Parallel, delayed\n",
    "import multiprocessing\n",
    "from joblib import wrap_non_picklable_objects\n",
    "import json\n",
    "import pickle\n",
    "import os.path\n",
    "from mpl_toolkits.mplot3d import axes3d\n",
    "import timeit\n",
    "from skimage.transform import resize\n",
    "from timeit import default_timer as timer\n",
    "from datetime import timedelta\n",
    "import json\n",
    "\n",
    "import tensorflow as tf\n",
    "from tensorflow import keras\n",
    "from tensorflow.keras import layers, optimizers, callbacks\n",
    "from tensorflow.keras.models import Model, load_model\n",
    "from tensorboard.plugins.hparams import api as hp\n",
    "from tensorflow.keras.utils import plot_model\n",
    "\n",
    "import statsmodels.api as sm\n",
    "import statsmodels.formula.api as smf\n",
    "from statsmodels.genmod import bayes_mixed_glm as glm\n",
    "\n",
    "from sklearn.feature_selection import SelectKBest\n",
    "from sklearn.feature_selection import chi2\n",
    "from sklearn.feature_selection import RFECV\n",
    "\n",
    "from spectrum import arburg, arma2psd\n",
    "import pylab"
   ]
  },
  {
   "cell_type": "code",
   "execution_count": 2,
   "metadata": {},
   "outputs": [],
   "source": [
    "df = pd.read_excel('108-phase-powers-v2.xlsx')"
   ]
  },
  {
   "cell_type": "code",
   "execution_count": 3,
   "metadata": {},
   "outputs": [
    {
     "data": {
      "text/plain": [
       "(1938, 921)"
      ]
     },
     "execution_count": 3,
     "metadata": {},
     "output_type": "execute_result"
    }
   ],
   "source": [
    "df.shape"
   ]
  },
  {
   "cell_type": "code",
   "execution_count": 4,
   "metadata": {},
   "outputs": [
    {
     "data": {
      "text/html": [
       "<div>\n",
       "<style scoped>\n",
       "    .dataframe tbody tr th:only-of-type {\n",
       "        vertical-align: middle;\n",
       "    }\n",
       "\n",
       "    .dataframe tbody tr th {\n",
       "        vertical-align: top;\n",
       "    }\n",
       "\n",
       "    .dataframe thead th {\n",
       "        text-align: right;\n",
       "    }\n",
       "</style>\n",
       "<table border=\"1\" class=\"dataframe\">\n",
       "  <thead>\n",
       "    <tr style=\"text-align: right;\">\n",
       "      <th></th>\n",
       "      <th>Unnamed: 0</th>\n",
       "      <th>AF3_beta_phase</th>\n",
       "      <th>AF3_beta_power</th>\n",
       "      <th>AF3_gamma_phase</th>\n",
       "      <th>AF3_gamma_power</th>\n",
       "      <th>AF3_high_beta_phase</th>\n",
       "      <th>AF3_high_beta_power</th>\n",
       "      <th>AF3_high_gamma_phase</th>\n",
       "      <th>AF3_high_gamma_power</th>\n",
       "      <th>AF3_low_beta_phase</th>\n",
       "      <th>...</th>\n",
       "      <th>cmap</th>\n",
       "      <th>exp</th>\n",
       "      <th>mep_by_cmap</th>\n",
       "      <th>mep_cat_abs</th>\n",
       "      <th>mep_cat_cmap</th>\n",
       "      <th>mep_cat_percentile</th>\n",
       "      <th>mep_size</th>\n",
       "      <th>run</th>\n",
       "      <th>sub</th>\n",
       "      <th>trial_num</th>\n",
       "    </tr>\n",
       "  </thead>\n",
       "  <tbody>\n",
       "    <tr>\n",
       "      <th>0</th>\n",
       "      <td>0</td>\n",
       "      <td>1.428832</td>\n",
       "      <td>-57.824963</td>\n",
       "      <td>-0.711762</td>\n",
       "      <td>-66.336084</td>\n",
       "      <td>-2.342277</td>\n",
       "      <td>-58.995625</td>\n",
       "      <td>0.377453</td>\n",
       "      <td>-67.774819</td>\n",
       "      <td>-2.209596</td>\n",
       "      <td>...</td>\n",
       "      <td>0.00744</td>\n",
       "      <td>exp01</td>\n",
       "      <td>343.423853</td>\n",
       "      <td>1</td>\n",
       "      <td>1</td>\n",
       "      <td>1</td>\n",
       "      <td>2.555237</td>\n",
       "      <td>SP 110RMT r1</td>\n",
       "      <td>sub03</td>\n",
       "      <td>0</td>\n",
       "    </tr>\n",
       "    <tr>\n",
       "      <th>1</th>\n",
       "      <td>1</td>\n",
       "      <td>1.207595</td>\n",
       "      <td>-63.209878</td>\n",
       "      <td>1.089213</td>\n",
       "      <td>-69.298822</td>\n",
       "      <td>0.910096</td>\n",
       "      <td>-64.221493</td>\n",
       "      <td>1.235293</td>\n",
       "      <td>-71.342501</td>\n",
       "      <td>-1.770560</td>\n",
       "      <td>...</td>\n",
       "      <td>0.00744</td>\n",
       "      <td>exp01</td>\n",
       "      <td>120.175776</td>\n",
       "      <td>1</td>\n",
       "      <td>0</td>\n",
       "      <td>0</td>\n",
       "      <td>0.894165</td>\n",
       "      <td>SP 110RMT r1</td>\n",
       "      <td>sub03</td>\n",
       "      <td>1</td>\n",
       "    </tr>\n",
       "    <tr>\n",
       "      <th>2</th>\n",
       "      <td>2</td>\n",
       "      <td>-1.635179</td>\n",
       "      <td>-62.122791</td>\n",
       "      <td>0.898665</td>\n",
       "      <td>-63.363832</td>\n",
       "      <td>-1.725530</td>\n",
       "      <td>-63.198953</td>\n",
       "      <td>1.087354</td>\n",
       "      <td>-63.735303</td>\n",
       "      <td>-3.004190</td>\n",
       "      <td>...</td>\n",
       "      <td>0.00744</td>\n",
       "      <td>exp01</td>\n",
       "      <td>80.739322</td>\n",
       "      <td>1</td>\n",
       "      <td>0</td>\n",
       "      <td>0</td>\n",
       "      <td>0.600739</td>\n",
       "      <td>SP 110RMT r1</td>\n",
       "      <td>sub03</td>\n",
       "      <td>2</td>\n",
       "    </tr>\n",
       "    <tr>\n",
       "      <th>3</th>\n",
       "      <td>3</td>\n",
       "      <td>-3.062924</td>\n",
       "      <td>-57.084814</td>\n",
       "      <td>-1.673935</td>\n",
       "      <td>-61.405880</td>\n",
       "      <td>-2.197109</td>\n",
       "      <td>-59.052716</td>\n",
       "      <td>1.663156</td>\n",
       "      <td>-59.389577</td>\n",
       "      <td>-0.542549</td>\n",
       "      <td>...</td>\n",
       "      <td>0.00744</td>\n",
       "      <td>exp01</td>\n",
       "      <td>85.599629</td>\n",
       "      <td>1</td>\n",
       "      <td>0</td>\n",
       "      <td>0</td>\n",
       "      <td>0.636902</td>\n",
       "      <td>SP 110RMT r1</td>\n",
       "      <td>sub03</td>\n",
       "      <td>3</td>\n",
       "    </tr>\n",
       "    <tr>\n",
       "      <th>4</th>\n",
       "      <td>4</td>\n",
       "      <td>-2.133858</td>\n",
       "      <td>-53.955623</td>\n",
       "      <td>-1.092259</td>\n",
       "      <td>-61.044480</td>\n",
       "      <td>-2.306246</td>\n",
       "      <td>-54.808586</td>\n",
       "      <td>-0.396410</td>\n",
       "      <td>-62.453035</td>\n",
       "      <td>1.247554</td>\n",
       "      <td>...</td>\n",
       "      <td>0.00744</td>\n",
       "      <td>exp01</td>\n",
       "      <td>80.370125</td>\n",
       "      <td>1</td>\n",
       "      <td>0</td>\n",
       "      <td>0</td>\n",
       "      <td>0.597992</td>\n",
       "      <td>SP 110RMT r1</td>\n",
       "      <td>sub03</td>\n",
       "      <td>4</td>\n",
       "    </tr>\n",
       "  </tbody>\n",
       "</table>\n",
       "<p>5 rows × 921 columns</p>\n",
       "</div>"
      ],
      "text/plain": [
       "   Unnamed: 0  AF3_beta_phase  AF3_beta_power  AF3_gamma_phase  \\\n",
       "0           0        1.428832      -57.824963        -0.711762   \n",
       "1           1        1.207595      -63.209878         1.089213   \n",
       "2           2       -1.635179      -62.122791         0.898665   \n",
       "3           3       -3.062924      -57.084814        -1.673935   \n",
       "4           4       -2.133858      -53.955623        -1.092259   \n",
       "\n",
       "   AF3_gamma_power  AF3_high_beta_phase  AF3_high_beta_power  \\\n",
       "0       -66.336084            -2.342277           -58.995625   \n",
       "1       -69.298822             0.910096           -64.221493   \n",
       "2       -63.363832            -1.725530           -63.198953   \n",
       "3       -61.405880            -2.197109           -59.052716   \n",
       "4       -61.044480            -2.306246           -54.808586   \n",
       "\n",
       "   AF3_high_gamma_phase  AF3_high_gamma_power  AF3_low_beta_phase  ...  \\\n",
       "0              0.377453            -67.774819           -2.209596  ...   \n",
       "1              1.235293            -71.342501           -1.770560  ...   \n",
       "2              1.087354            -63.735303           -3.004190  ...   \n",
       "3              1.663156            -59.389577           -0.542549  ...   \n",
       "4             -0.396410            -62.453035            1.247554  ...   \n",
       "\n",
       "      cmap    exp  mep_by_cmap  mep_cat_abs  mep_cat_cmap  mep_cat_percentile  \\\n",
       "0  0.00744  exp01   343.423853            1             1                   1   \n",
       "1  0.00744  exp01   120.175776            1             0                   0   \n",
       "2  0.00744  exp01    80.739322            1             0                   0   \n",
       "3  0.00744  exp01    85.599629            1             0                   0   \n",
       "4  0.00744  exp01    80.370125            1             0                   0   \n",
       "\n",
       "   mep_size           run    sub  trial_num  \n",
       "0  2.555237  SP 110RMT r1  sub03          0  \n",
       "1  0.894165  SP 110RMT r1  sub03          1  \n",
       "2  0.600739  SP 110RMT r1  sub03          2  \n",
       "3  0.636902  SP 110RMT r1  sub03          3  \n",
       "4  0.597992  SP 110RMT r1  sub03          4  \n",
       "\n",
       "[5 rows x 921 columns]"
      ]
     },
     "execution_count": 4,
     "metadata": {},
     "output_type": "execute_result"
    }
   ],
   "source": [
    "df.head()"
   ]
  },
  {
   "cell_type": "code",
   "execution_count": 5,
   "metadata": {
    "scrolled": false
   },
   "outputs": [
    {
     "data": {
      "text/plain": [
       "array(['Unnamed: 0', 'AF3_beta_phase', 'AF3_beta_power',\n",
       "       'AF3_gamma_phase', 'AF3_gamma_power', 'AF3_high_beta_phase',\n",
       "       'AF3_high_beta_power', 'AF3_high_gamma_phase',\n",
       "       'AF3_high_gamma_power', 'AF3_low_beta_phase', 'AF3_low_beta_power',\n",
       "       'AF3_low_gamma_phase', 'AF3_low_gamma_power', 'AF3_mu_phase',\n",
       "       'AF3_mu_power', 'AF4_beta_phase', 'AF4_beta_power',\n",
       "       'AF4_gamma_phase', 'AF4_gamma_power', 'AF4_high_beta_phase',\n",
       "       'AF4_high_beta_power', 'AF4_high_gamma_phase',\n",
       "       'AF4_high_gamma_power', 'AF4_low_beta_phase', 'AF4_low_beta_power',\n",
       "       'AF4_low_gamma_phase', 'AF4_low_gamma_power', 'AF4_mu_phase',\n",
       "       'AF4_mu_power', 'AF7_beta_phase', 'AF7_beta_power',\n",
       "       'AF7_gamma_phase', 'AF7_gamma_power', 'AF7_high_beta_phase',\n",
       "       'AF7_high_beta_power', 'AF7_high_gamma_phase',\n",
       "       'AF7_high_gamma_power', 'AF7_low_beta_phase', 'AF7_low_beta_power',\n",
       "       'AF7_low_gamma_phase', 'AF7_low_gamma_power', 'AF7_mu_phase',\n",
       "       'AF7_mu_power', 'AF8_beta_phase', 'AF8_beta_power',\n",
       "       'AF8_gamma_phase', 'AF8_gamma_power', 'AF8_high_beta_phase',\n",
       "       'AF8_high_beta_power', 'AF8_high_gamma_phase',\n",
       "       'AF8_high_gamma_power', 'AF8_low_beta_phase', 'AF8_low_beta_power',\n",
       "       'AF8_low_gamma_phase', 'AF8_low_gamma_power', 'AF8_mu_phase',\n",
       "       'AF8_mu_power', 'ALL_beta_phase', 'ALL_beta_power',\n",
       "       'ALL_gamma_phase', 'ALL_gamma_power', 'ALL_high_beta_phase',\n",
       "       'ALL_high_beta_power', 'ALL_high_gamma_phase',\n",
       "       'ALL_high_gamma_power', 'ALL_low_beta_phase', 'ALL_low_beta_power',\n",
       "       'ALL_low_gamma_phase', 'ALL_low_gamma_power', 'ALL_mu_phase',\n",
       "       'ALL_mu_power', 'C1_beta_phase', 'C1_beta_power', 'C1_gamma_phase',\n",
       "       'C1_gamma_power', 'C1_high_beta_phase', 'C1_high_beta_power',\n",
       "       'C1_high_gamma_phase', 'C1_high_gamma_power', 'C1_low_beta_phase',\n",
       "       'C1_low_beta_power', 'C1_low_gamma_phase', 'C1_low_gamma_power',\n",
       "       'C1_mu_phase', 'C1_mu_power', 'C2_beta_phase', 'C2_beta_power',\n",
       "       'C2_gamma_phase', 'C2_gamma_power', 'C2_high_beta_phase',\n",
       "       'C2_high_beta_power', 'C2_high_gamma_phase', 'C2_high_gamma_power',\n",
       "       'C2_low_beta_phase', 'C2_low_beta_power', 'C2_low_gamma_phase',\n",
       "       'C2_low_gamma_power', 'C2_mu_phase', 'C2_mu_power',\n",
       "       'C3_beta_phase', 'C3_beta_power', 'C3_gamma_phase',\n",
       "       'C3_gamma_power', 'C3_high_beta_phase', 'C3_high_beta_power',\n",
       "       'C3_high_gamma_phase', 'C3_high_gamma_power', 'C3_low_beta_phase',\n",
       "       'C3_low_beta_power', 'C3_low_gamma_phase', 'C3_low_gamma_power',\n",
       "       'C3_mu_phase', 'C3_mu_power', 'C4_beta_phase', 'C4_beta_power',\n",
       "       'C4_gamma_phase', 'C4_gamma_power', 'C4_high_beta_phase',\n",
       "       'C4_high_beta_power', 'C4_high_gamma_phase', 'C4_high_gamma_power',\n",
       "       'C4_low_beta_phase', 'C4_low_beta_power', 'C4_low_gamma_phase',\n",
       "       'C4_low_gamma_power', 'C4_mu_phase', 'C4_mu_power',\n",
       "       'C5_beta_phase', 'C5_beta_power', 'C5_gamma_phase',\n",
       "       'C5_gamma_power', 'C5_high_beta_phase', 'C5_high_beta_power',\n",
       "       'C5_high_gamma_phase', 'C5_high_gamma_power', 'C5_low_beta_phase',\n",
       "       'C5_low_beta_power', 'C5_low_gamma_phase', 'C5_low_gamma_power',\n",
       "       'C5_mu_phase', 'C5_mu_power', 'C6_beta_phase', 'C6_beta_power',\n",
       "       'C6_gamma_phase', 'C6_gamma_power', 'C6_high_beta_phase',\n",
       "       'C6_high_beta_power', 'C6_high_gamma_phase', 'C6_high_gamma_power',\n",
       "       'C6_low_beta_phase', 'C6_low_beta_power', 'C6_low_gamma_phase',\n",
       "       'C6_low_gamma_power', 'C6_mu_phase', 'C6_mu_power',\n",
       "       'CP1_beta_phase', 'CP1_beta_power', 'CP1_gamma_phase',\n",
       "       'CP1_gamma_power', 'CP1_high_beta_phase', 'CP1_high_beta_power',\n",
       "       'CP1_high_gamma_phase', 'CP1_high_gamma_power',\n",
       "       'CP1_low_beta_phase', 'CP1_low_beta_power', 'CP1_low_gamma_phase',\n",
       "       'CP1_low_gamma_power', 'CP1_mu_phase', 'CP1_mu_power',\n",
       "       'CP2_beta_phase', 'CP2_beta_power', 'CP2_gamma_phase',\n",
       "       'CP2_gamma_power', 'CP2_high_beta_phase', 'CP2_high_beta_power',\n",
       "       'CP2_high_gamma_phase', 'CP2_high_gamma_power',\n",
       "       'CP2_low_beta_phase', 'CP2_low_beta_power', 'CP2_low_gamma_phase',\n",
       "       'CP2_low_gamma_power', 'CP2_mu_phase', 'CP2_mu_power',\n",
       "       'CP3_beta_phase', 'CP3_beta_power', 'CP3_gamma_phase',\n",
       "       'CP3_gamma_power', 'CP3_high_beta_phase', 'CP3_high_beta_power',\n",
       "       'CP3_high_gamma_phase', 'CP3_high_gamma_power',\n",
       "       'CP3_low_beta_phase', 'CP3_low_beta_power', 'CP3_low_gamma_phase',\n",
       "       'CP3_low_gamma_power', 'CP3_mu_phase', 'CP3_mu_power',\n",
       "       'CP4_beta_phase', 'CP4_beta_power', 'CP4_gamma_phase',\n",
       "       'CP4_gamma_power', 'CP4_high_beta_phase', 'CP4_high_beta_power',\n",
       "       'CP4_high_gamma_phase', 'CP4_high_gamma_power',\n",
       "       'CP4_low_beta_phase', 'CP4_low_beta_power', 'CP4_low_gamma_phase',\n",
       "       'CP4_low_gamma_power', 'CP4_mu_phase', 'CP4_mu_power',\n",
       "       'CP5_beta_phase', 'CP5_beta_power', 'CP5_gamma_phase',\n",
       "       'CP5_gamma_power', 'CP5_high_beta_phase', 'CP5_high_beta_power',\n",
       "       'CP5_high_gamma_phase', 'CP5_high_gamma_power',\n",
       "       'CP5_low_beta_phase', 'CP5_low_beta_power', 'CP5_low_gamma_phase',\n",
       "       'CP5_low_gamma_power', 'CP5_mu_phase', 'CP5_mu_power',\n",
       "       'CP6_beta_phase', 'CP6_beta_power', 'CP6_gamma_phase',\n",
       "       'CP6_gamma_power', 'CP6_high_beta_phase', 'CP6_high_beta_power',\n",
       "       'CP6_high_gamma_phase', 'CP6_high_gamma_power',\n",
       "       'CP6_low_beta_phase', 'CP6_low_beta_power', 'CP6_low_gamma_phase',\n",
       "       'CP6_low_gamma_power', 'CP6_mu_phase', 'CP6_mu_power',\n",
       "       'Cz_beta_phase', 'Cz_beta_power', 'Cz_gamma_phase',\n",
       "       'Cz_gamma_power', 'Cz_high_beta_phase', 'Cz_high_beta_power',\n",
       "       'Cz_high_gamma_phase', 'Cz_high_gamma_power', 'Cz_low_beta_phase',\n",
       "       'Cz_low_beta_power', 'Cz_low_gamma_phase', 'Cz_low_gamma_power',\n",
       "       'Cz_mu_phase', 'Cz_mu_power', 'EOG_beta_phase', 'EOG_beta_power',\n",
       "       'EOG_gamma_phase', 'EOG_gamma_power', 'EOG_high_beta_phase',\n",
       "       'EOG_high_beta_power', 'EOG_high_gamma_phase',\n",
       "       'EOG_high_gamma_power', 'EOG_low_beta_phase', 'EOG_low_beta_power',\n",
       "       'EOG_low_gamma_phase', 'EOG_low_gamma_power', 'EOG_mu_phase',\n",
       "       'EOG_mu_power', 'F1_beta_phase', 'F1_beta_power', 'F1_gamma_phase',\n",
       "       'F1_gamma_power', 'F1_high_beta_phase', 'F1_high_beta_power',\n",
       "       'F1_high_gamma_phase', 'F1_high_gamma_power', 'F1_low_beta_phase',\n",
       "       'F1_low_beta_power', 'F1_low_gamma_phase', 'F1_low_gamma_power',\n",
       "       'F1_mu_phase', 'F1_mu_power', 'F2_beta_phase', 'F2_beta_power',\n",
       "       'F2_gamma_phase', 'F2_gamma_power', 'F2_high_beta_phase',\n",
       "       'F2_high_beta_power', 'F2_high_gamma_phase', 'F2_high_gamma_power',\n",
       "       'F2_low_beta_phase', 'F2_low_beta_power', 'F2_low_gamma_phase',\n",
       "       'F2_low_gamma_power', 'F2_mu_phase', 'F2_mu_power',\n",
       "       'F3_beta_phase', 'F3_beta_power', 'F3_gamma_phase',\n",
       "       'F3_gamma_power', 'F3_high_beta_phase', 'F3_high_beta_power',\n",
       "       'F3_high_gamma_phase', 'F3_high_gamma_power', 'F3_low_beta_phase',\n",
       "       'F3_low_beta_power', 'F3_low_gamma_phase', 'F3_low_gamma_power',\n",
       "       'F3_mu_phase', 'F3_mu_power', 'F4_beta_phase', 'F4_beta_power',\n",
       "       'F4_gamma_phase', 'F4_gamma_power', 'F4_high_beta_phase',\n",
       "       'F4_high_beta_power', 'F4_high_gamma_phase', 'F4_high_gamma_power',\n",
       "       'F4_low_beta_phase', 'F4_low_beta_power', 'F4_low_gamma_phase',\n",
       "       'F4_low_gamma_power', 'F4_mu_phase', 'F4_mu_power',\n",
       "       'F5_beta_phase', 'F5_beta_power', 'F5_gamma_phase',\n",
       "       'F5_gamma_power', 'F5_high_beta_phase', 'F5_high_beta_power',\n",
       "       'F5_high_gamma_phase', 'F5_high_gamma_power', 'F5_low_beta_phase',\n",
       "       'F5_low_beta_power', 'F5_low_gamma_phase', 'F5_low_gamma_power',\n",
       "       'F5_mu_phase', 'F5_mu_power', 'F6_beta_phase', 'F6_beta_power',\n",
       "       'F6_gamma_phase', 'F6_gamma_power', 'F6_high_beta_phase',\n",
       "       'F6_high_beta_power', 'F6_high_gamma_phase', 'F6_high_gamma_power',\n",
       "       'F6_low_beta_phase', 'F6_low_beta_power', 'F6_low_gamma_phase',\n",
       "       'F6_low_gamma_power', 'F6_mu_phase', 'F6_mu_power',\n",
       "       'F7_beta_phase', 'F7_beta_power', 'F7_gamma_phase',\n",
       "       'F7_gamma_power', 'F7_high_beta_phase', 'F7_high_beta_power',\n",
       "       'F7_high_gamma_phase', 'F7_high_gamma_power', 'F7_low_beta_phase',\n",
       "       'F7_low_beta_power', 'F7_low_gamma_phase', 'F7_low_gamma_power',\n",
       "       'F7_mu_phase', 'F7_mu_power', 'F8_beta_phase', 'F8_beta_power',\n",
       "       'F8_gamma_phase', 'F8_gamma_power', 'F8_high_beta_phase',\n",
       "       'F8_high_beta_power', 'F8_high_gamma_phase', 'F8_high_gamma_power',\n",
       "       'F8_low_beta_phase', 'F8_low_beta_power', 'F8_low_gamma_phase',\n",
       "       'F8_low_gamma_power', 'F8_mu_phase', 'F8_mu_power',\n",
       "       'FC1_beta_phase', 'FC1_beta_power', 'FC1_gamma_phase',\n",
       "       'FC1_gamma_power', 'FC1_high_beta_phase', 'FC1_high_beta_power',\n",
       "       'FC1_high_gamma_phase', 'FC1_high_gamma_power',\n",
       "       'FC1_low_beta_phase', 'FC1_low_beta_power', 'FC1_low_gamma_phase',\n",
       "       'FC1_low_gamma_power', 'FC1_mu_phase', 'FC1_mu_power',\n",
       "       'FC2_beta_phase', 'FC2_beta_power', 'FC2_gamma_phase',\n",
       "       'FC2_gamma_power', 'FC2_high_beta_phase', 'FC2_high_beta_power',\n",
       "       'FC2_high_gamma_phase', 'FC2_high_gamma_power',\n",
       "       'FC2_low_beta_phase', 'FC2_low_beta_power', 'FC2_low_gamma_phase',\n",
       "       'FC2_low_gamma_power', 'FC2_mu_phase', 'FC2_mu_power',\n",
       "       'FC3_beta_phase', 'FC3_beta_power', 'FC3_gamma_phase',\n",
       "       'FC3_gamma_power', 'FC3_high_beta_phase', 'FC3_high_beta_power',\n",
       "       'FC3_high_gamma_phase', 'FC3_high_gamma_power',\n",
       "       'FC3_low_beta_phase', 'FC3_low_beta_power', 'FC3_low_gamma_phase',\n",
       "       'FC3_low_gamma_power', 'FC3_mu_phase', 'FC3_mu_power',\n",
       "       'FC4_beta_phase', 'FC4_beta_power', 'FC4_gamma_phase',\n",
       "       'FC4_gamma_power', 'FC4_high_beta_phase', 'FC4_high_beta_power',\n",
       "       'FC4_high_gamma_phase', 'FC4_high_gamma_power',\n",
       "       'FC4_low_beta_phase', 'FC4_low_beta_power', 'FC4_low_gamma_phase',\n",
       "       'FC4_low_gamma_power', 'FC4_mu_phase', 'FC4_mu_power',\n",
       "       'FC5_beta_phase', 'FC5_beta_power', 'FC5_gamma_phase',\n",
       "       'FC5_gamma_power', 'FC5_high_beta_phase', 'FC5_high_beta_power',\n",
       "       'FC5_high_gamma_phase', 'FC5_high_gamma_power',\n",
       "       'FC5_low_beta_phase', 'FC5_low_beta_power', 'FC5_low_gamma_phase',\n",
       "       'FC5_low_gamma_power', 'FC5_mu_phase', 'FC5_mu_power',\n",
       "       'FC6_beta_phase', 'FC6_beta_power', 'FC6_gamma_phase',\n",
       "       'FC6_gamma_power', 'FC6_high_beta_phase', 'FC6_high_beta_power',\n",
       "       'FC6_high_gamma_phase', 'FC6_high_gamma_power',\n",
       "       'FC6_low_beta_phase', 'FC6_low_beta_power', 'FC6_low_gamma_phase',\n",
       "       'FC6_low_gamma_power', 'FC6_mu_phase', 'FC6_mu_power',\n",
       "       'FCz_beta_phase', 'FCz_beta_power', 'FCz_gamma_phase',\n",
       "       'FCz_gamma_power', 'FCz_high_beta_phase', 'FCz_high_beta_power',\n",
       "       'FCz_high_gamma_phase', 'FCz_high_gamma_power',\n",
       "       'FCz_low_beta_phase', 'FCz_low_beta_power', 'FCz_low_gamma_phase',\n",
       "       'FCz_low_gamma_power', 'FCz_mu_phase', 'FCz_mu_power',\n",
       "       'FT7_beta_phase', 'FT7_beta_power', 'FT7_gamma_phase',\n",
       "       'FT7_gamma_power', 'FT7_high_beta_phase', 'FT7_high_beta_power',\n",
       "       'FT7_high_gamma_phase', 'FT7_high_gamma_power',\n",
       "       'FT7_low_beta_phase', 'FT7_low_beta_power', 'FT7_low_gamma_phase',\n",
       "       'FT7_low_gamma_power', 'FT7_mu_phase', 'FT7_mu_power',\n",
       "       'FT8_beta_phase', 'FT8_beta_power', 'FT8_gamma_phase',\n",
       "       'FT8_gamma_power', 'FT8_high_beta_phase', 'FT8_high_beta_power',\n",
       "       'FT8_high_gamma_phase', 'FT8_high_gamma_power',\n",
       "       'FT8_low_beta_phase', 'FT8_low_beta_power', 'FT8_low_gamma_phase',\n",
       "       'FT8_low_gamma_power', 'FT8_mu_phase', 'FT8_mu_power',\n",
       "       'Fp1_beta_phase', 'Fp1_beta_power', 'Fp1_gamma_phase',\n",
       "       'Fp1_gamma_power', 'Fp1_high_beta_phase', 'Fp1_high_beta_power',\n",
       "       'Fp1_high_gamma_phase', 'Fp1_high_gamma_power',\n",
       "       'Fp1_low_beta_phase', 'Fp1_low_beta_power', 'Fp1_low_gamma_phase',\n",
       "       'Fp1_low_gamma_power', 'Fp1_mu_phase', 'Fp1_mu_power',\n",
       "       'Fp2_beta_phase', 'Fp2_beta_power', 'Fp2_gamma_phase',\n",
       "       'Fp2_gamma_power', 'Fp2_high_beta_phase', 'Fp2_high_beta_power',\n",
       "       'Fp2_high_gamma_phase', 'Fp2_high_gamma_power',\n",
       "       'Fp2_low_beta_phase', 'Fp2_low_beta_power', 'Fp2_low_gamma_phase',\n",
       "       'Fp2_low_gamma_power', 'Fp2_mu_phase', 'Fp2_mu_power',\n",
       "       'Fpz_beta_phase', 'Fpz_beta_power', 'Fpz_gamma_phase',\n",
       "       'Fpz_gamma_power', 'Fpz_high_beta_phase', 'Fpz_high_beta_power',\n",
       "       'Fpz_high_gamma_phase', 'Fpz_high_gamma_power',\n",
       "       'Fpz_low_beta_phase', 'Fpz_low_beta_power', 'Fpz_low_gamma_phase',\n",
       "       'Fpz_low_gamma_power', 'Fpz_mu_phase', 'Fpz_mu_power',\n",
       "       'Fz_beta_phase', 'Fz_beta_power', 'Fz_gamma_phase',\n",
       "       'Fz_gamma_power', 'Fz_high_beta_phase', 'Fz_high_beta_power',\n",
       "       'Fz_high_gamma_phase', 'Fz_high_gamma_power', 'Fz_low_beta_phase',\n",
       "       'Fz_low_beta_power', 'Fz_low_gamma_phase', 'Fz_low_gamma_power',\n",
       "       'Fz_mu_phase', 'Fz_mu_power', 'M1_beta_phase', 'M1_beta_power',\n",
       "       'M1_gamma_phase', 'M1_gamma_power', 'M1_high_beta_phase',\n",
       "       'M1_high_beta_power', 'M1_high_gamma_phase', 'M1_high_gamma_power',\n",
       "       'M1_low_beta_phase', 'M1_low_beta_power', 'M1_low_gamma_phase',\n",
       "       'M1_low_gamma_power', 'M1_mu_phase', 'M1_mu_power',\n",
       "       'M2_beta_phase', 'M2_beta_power', 'M2_gamma_phase',\n",
       "       'M2_gamma_power', 'M2_high_beta_phase', 'M2_high_beta_power',\n",
       "       'M2_high_gamma_phase', 'M2_high_gamma_power', 'M2_low_beta_phase',\n",
       "       'M2_low_beta_power', 'M2_low_gamma_phase', 'M2_low_gamma_power',\n",
       "       'M2_mu_phase', 'M2_mu_power', 'O1_beta_phase', 'O1_beta_power',\n",
       "       'O1_gamma_phase', 'O1_gamma_power', 'O1_high_beta_phase',\n",
       "       'O1_high_beta_power', 'O1_high_gamma_phase', 'O1_high_gamma_power',\n",
       "       'O1_low_beta_phase', 'O1_low_beta_power', 'O1_low_gamma_phase',\n",
       "       'O1_low_gamma_power', 'O1_mu_phase', 'O1_mu_power',\n",
       "       'O2_beta_phase', 'O2_beta_power', 'O2_gamma_phase',\n",
       "       'O2_gamma_power', 'O2_high_beta_phase', 'O2_high_beta_power',\n",
       "       'O2_high_gamma_phase', 'O2_high_gamma_power', 'O2_low_beta_phase',\n",
       "       'O2_low_beta_power', 'O2_low_gamma_phase', 'O2_low_gamma_power',\n",
       "       'O2_mu_phase', 'O2_mu_power', 'Oz_beta_phase', 'Oz_beta_power',\n",
       "       'Oz_gamma_phase', 'Oz_gamma_power', 'Oz_high_beta_phase',\n",
       "       'Oz_high_beta_power', 'Oz_high_gamma_phase', 'Oz_high_gamma_power',\n",
       "       'Oz_low_beta_phase', 'Oz_low_beta_power', 'Oz_low_gamma_phase',\n",
       "       'Oz_low_gamma_power', 'Oz_mu_phase', 'Oz_mu_power',\n",
       "       'P1_beta_phase', 'P1_beta_power', 'P1_gamma_phase',\n",
       "       'P1_gamma_power', 'P1_high_beta_phase', 'P1_high_beta_power',\n",
       "       'P1_high_gamma_phase', 'P1_high_gamma_power', 'P1_low_beta_phase',\n",
       "       'P1_low_beta_power', 'P1_low_gamma_phase', 'P1_low_gamma_power',\n",
       "       'P1_mu_phase', 'P1_mu_power', 'P2_beta_phase', 'P2_beta_power',\n",
       "       'P2_gamma_phase', 'P2_gamma_power', 'P2_high_beta_phase',\n",
       "       'P2_high_beta_power', 'P2_high_gamma_phase', 'P2_high_gamma_power',\n",
       "       'P2_low_beta_phase', 'P2_low_beta_power', 'P2_low_gamma_phase',\n",
       "       'P2_low_gamma_power', 'P2_mu_phase', 'P2_mu_power',\n",
       "       'P3_beta_phase', 'P3_beta_power', 'P3_gamma_phase',\n",
       "       'P3_gamma_power', 'P3_high_beta_phase', 'P3_high_beta_power',\n",
       "       'P3_high_gamma_phase', 'P3_high_gamma_power', 'P3_low_beta_phase',\n",
       "       'P3_low_beta_power', 'P3_low_gamma_phase', 'P3_low_gamma_power',\n",
       "       'P3_mu_phase', 'P3_mu_power', 'P4_beta_phase', 'P4_beta_power',\n",
       "       'P4_gamma_phase', 'P4_gamma_power', 'P4_high_beta_phase',\n",
       "       'P4_high_beta_power', 'P4_high_gamma_phase', 'P4_high_gamma_power',\n",
       "       'P4_low_beta_phase', 'P4_low_beta_power', 'P4_low_gamma_phase',\n",
       "       'P4_low_gamma_power', 'P4_mu_phase', 'P4_mu_power',\n",
       "       'P5_beta_phase', 'P5_beta_power', 'P5_gamma_phase',\n",
       "       'P5_gamma_power', 'P5_high_beta_phase', 'P5_high_beta_power',\n",
       "       'P5_high_gamma_phase', 'P5_high_gamma_power', 'P5_low_beta_phase',\n",
       "       'P5_low_beta_power', 'P5_low_gamma_phase', 'P5_low_gamma_power',\n",
       "       'P5_mu_phase', 'P5_mu_power', 'P6_beta_phase', 'P6_beta_power',\n",
       "       'P6_gamma_phase', 'P6_gamma_power', 'P6_high_beta_phase',\n",
       "       'P6_high_beta_power', 'P6_high_gamma_phase', 'P6_high_gamma_power',\n",
       "       'P6_low_beta_phase', 'P6_low_beta_power', 'P6_low_gamma_phase',\n",
       "       'P6_low_gamma_power', 'P6_mu_phase', 'P6_mu_power',\n",
       "       'P7_beta_phase', 'P7_beta_power', 'P7_gamma_phase',\n",
       "       'P7_gamma_power', 'P7_high_beta_phase', 'P7_high_beta_power',\n",
       "       'P7_high_gamma_phase', 'P7_high_gamma_power', 'P7_low_beta_phase',\n",
       "       'P7_low_beta_power', 'P7_low_gamma_phase', 'P7_low_gamma_power',\n",
       "       'P7_mu_phase', 'P7_mu_power', 'P8_beta_phase', 'P8_beta_power',\n",
       "       'P8_gamma_phase', 'P8_gamma_power', 'P8_high_beta_phase',\n",
       "       'P8_high_beta_power', 'P8_high_gamma_phase', 'P8_high_gamma_power',\n",
       "       'P8_low_beta_phase', 'P8_low_beta_power', 'P8_low_gamma_phase',\n",
       "       'P8_low_gamma_power', 'P8_mu_phase', 'P8_mu_power',\n",
       "       'PO3_beta_phase', 'PO3_beta_power', 'PO3_gamma_phase',\n",
       "       'PO3_gamma_power', 'PO3_high_beta_phase', 'PO3_high_beta_power',\n",
       "       'PO3_high_gamma_phase', 'PO3_high_gamma_power',\n",
       "       'PO3_low_beta_phase', 'PO3_low_beta_power', 'PO3_low_gamma_phase',\n",
       "       'PO3_low_gamma_power', 'PO3_mu_phase', 'PO3_mu_power',\n",
       "       'PO4_beta_phase', 'PO4_beta_power', 'PO4_gamma_phase',\n",
       "       'PO4_gamma_power', 'PO4_high_beta_phase', 'PO4_high_beta_power',\n",
       "       'PO4_high_gamma_phase', 'PO4_high_gamma_power',\n",
       "       'PO4_low_beta_phase', 'PO4_low_beta_power', 'PO4_low_gamma_phase',\n",
       "       'PO4_low_gamma_power', 'PO4_mu_phase', 'PO4_mu_power',\n",
       "       'PO5_beta_phase', 'PO5_beta_power', 'PO5_gamma_phase',\n",
       "       'PO5_gamma_power', 'PO5_high_beta_phase', 'PO5_high_beta_power',\n",
       "       'PO5_high_gamma_phase', 'PO5_high_gamma_power',\n",
       "       'PO5_low_beta_phase', 'PO5_low_beta_power', 'PO5_low_gamma_phase',\n",
       "       'PO5_low_gamma_power', 'PO5_mu_phase', 'PO5_mu_power',\n",
       "       'PO6_beta_phase', 'PO6_beta_power', 'PO6_gamma_phase',\n",
       "       'PO6_gamma_power', 'PO6_high_beta_phase', 'PO6_high_beta_power',\n",
       "       'PO6_high_gamma_phase', 'PO6_high_gamma_power',\n",
       "       'PO6_low_beta_phase', 'PO6_low_beta_power', 'PO6_low_gamma_phase',\n",
       "       'PO6_low_gamma_power', 'PO6_mu_phase', 'PO6_mu_power',\n",
       "       'PO7_beta_phase', 'PO7_beta_power', 'PO7_gamma_phase',\n",
       "       'PO7_gamma_power', 'PO7_high_beta_phase', 'PO7_high_beta_power',\n",
       "       'PO7_high_gamma_phase', 'PO7_high_gamma_power',\n",
       "       'PO7_low_beta_phase', 'PO7_low_beta_power', 'PO7_low_gamma_phase',\n",
       "       'PO7_low_gamma_power', 'PO7_mu_phase', 'PO7_mu_power',\n",
       "       'PO8_beta_phase', 'PO8_beta_power', 'PO8_gamma_phase',\n",
       "       'PO8_gamma_power', 'PO8_high_beta_phase', 'PO8_high_beta_power',\n",
       "       'PO8_high_gamma_phase', 'PO8_high_gamma_power',\n",
       "       'PO8_low_beta_phase', 'PO8_low_beta_power', 'PO8_low_gamma_phase',\n",
       "       'PO8_low_gamma_power', 'PO8_mu_phase', 'PO8_mu_power',\n",
       "       'POz_beta_phase', 'POz_beta_power', 'POz_gamma_phase',\n",
       "       'POz_gamma_power', 'POz_high_beta_phase', 'POz_high_beta_power',\n",
       "       'POz_high_gamma_phase', 'POz_high_gamma_power',\n",
       "       'POz_low_beta_phase', 'POz_low_beta_power', 'POz_low_gamma_phase',\n",
       "       'POz_low_gamma_power', 'POz_mu_phase', 'POz_mu_power',\n",
       "       'Pz_beta_phase', 'Pz_beta_power', 'Pz_gamma_phase',\n",
       "       'Pz_gamma_power', 'Pz_high_beta_phase', 'Pz_high_beta_power',\n",
       "       'Pz_high_gamma_phase', 'Pz_high_gamma_power', 'Pz_low_beta_phase',\n",
       "       'Pz_low_beta_power', 'Pz_low_gamma_phase', 'Pz_low_gamma_power',\n",
       "       'Pz_mu_phase', 'Pz_mu_power', 'T7_beta_phase', 'T7_beta_power',\n",
       "       'T7_gamma_phase', 'T7_gamma_power', 'T7_high_beta_phase',\n",
       "       'T7_high_beta_power', 'T7_high_gamma_phase', 'T7_high_gamma_power',\n",
       "       'T7_low_beta_phase', 'T7_low_beta_power', 'T7_low_gamma_phase',\n",
       "       'T7_low_gamma_power', 'T7_mu_phase', 'T7_mu_power',\n",
       "       'T8_beta_phase', 'T8_beta_power', 'T8_gamma_phase',\n",
       "       'T8_gamma_power', 'T8_high_beta_phase', 'T8_high_beta_power',\n",
       "       'T8_high_gamma_phase', 'T8_high_gamma_power', 'T8_low_beta_phase',\n",
       "       'T8_low_beta_power', 'T8_low_gamma_phase', 'T8_low_gamma_power',\n",
       "       'T8_mu_phase', 'T8_mu_power', 'TP7_beta_phase', 'TP7_beta_power',\n",
       "       'TP7_gamma_phase', 'TP7_gamma_power', 'TP7_high_beta_phase',\n",
       "       'TP7_high_beta_power', 'TP7_high_gamma_phase',\n",
       "       'TP7_high_gamma_power', 'TP7_low_beta_phase', 'TP7_low_beta_power',\n",
       "       'TP7_low_gamma_phase', 'TP7_low_gamma_power', 'TP7_mu_phase',\n",
       "       'TP7_mu_power', 'TP8_beta_phase', 'TP8_beta_power',\n",
       "       'TP8_gamma_phase', 'TP8_gamma_power', 'TP8_high_beta_phase',\n",
       "       'TP8_high_beta_power', 'TP8_high_gamma_phase',\n",
       "       'TP8_high_gamma_power', 'TP8_low_beta_phase', 'TP8_low_beta_power',\n",
       "       'TP8_low_gamma_phase', 'TP8_low_gamma_power', 'TP8_mu_phase',\n",
       "       'TP8_mu_power', 'cmap', 'exp', 'mep_by_cmap', 'mep_cat_abs',\n",
       "       'mep_cat_cmap', 'mep_cat_percentile', 'mep_size', 'run', 'sub',\n",
       "       'trial_num'], dtype=object)"
      ]
     },
     "execution_count": 5,
     "metadata": {},
     "output_type": "execute_result"
    }
   ],
   "source": [
    "df.columns.values"
   ]
  },
  {
   "cell_type": "code",
   "execution_count": 13,
   "metadata": {},
   "outputs": [
    {
     "data": {
      "text/html": [
       "<div>\n",
       "<style scoped>\n",
       "    .dataframe tbody tr th:only-of-type {\n",
       "        vertical-align: middle;\n",
       "    }\n",
       "\n",
       "    .dataframe tbody tr th {\n",
       "        vertical-align: top;\n",
       "    }\n",
       "\n",
       "    .dataframe thead th {\n",
       "        text-align: right;\n",
       "    }\n",
       "</style>\n",
       "<table border=\"1\" class=\"dataframe\">\n",
       "  <thead>\n",
       "    <tr style=\"text-align: right;\">\n",
       "      <th></th>\n",
       "      <th>C3_beta_phase</th>\n",
       "      <th>C3_beta_power</th>\n",
       "      <th>C3_gamma_phase</th>\n",
       "      <th>C3_gamma_power</th>\n",
       "      <th>C3_high_beta_phase</th>\n",
       "      <th>C3_high_beta_power</th>\n",
       "      <th>C3_high_gamma_phase</th>\n",
       "      <th>C3_high_gamma_power</th>\n",
       "      <th>C3_low_beta_phase</th>\n",
       "      <th>C3_low_beta_power</th>\n",
       "      <th>...</th>\n",
       "      <th>C4_beta_phase</th>\n",
       "      <th>C4_beta_power</th>\n",
       "      <th>mep_size</th>\n",
       "      <th>mep_cat_abs</th>\n",
       "      <th>mep_by_cmap</th>\n",
       "      <th>mep_cat_percentile</th>\n",
       "      <th>sub</th>\n",
       "      <th>exp</th>\n",
       "      <th>run</th>\n",
       "      <th>trial_num</th>\n",
       "    </tr>\n",
       "  </thead>\n",
       "  <tbody>\n",
       "    <tr>\n",
       "      <th>0</th>\n",
       "      <td>2.266883</td>\n",
       "      <td>-73.281603</td>\n",
       "      <td>1.487841</td>\n",
       "      <td>-84.914465</td>\n",
       "      <td>1.339672</td>\n",
       "      <td>-74.059672</td>\n",
       "      <td>0.872053</td>\n",
       "      <td>-85.837048</td>\n",
       "      <td>0.170396</td>\n",
       "      <td>-71.925775</td>\n",
       "      <td>...</td>\n",
       "      <td>-1.512636</td>\n",
       "      <td>-77.882881</td>\n",
       "      <td>2.555237</td>\n",
       "      <td>1</td>\n",
       "      <td>343.423853</td>\n",
       "      <td>1</td>\n",
       "      <td>sub03</td>\n",
       "      <td>exp01</td>\n",
       "      <td>SP 110RMT r1</td>\n",
       "      <td>0</td>\n",
       "    </tr>\n",
       "    <tr>\n",
       "      <th>1</th>\n",
       "      <td>2.910591</td>\n",
       "      <td>-61.937065</td>\n",
       "      <td>-2.048183</td>\n",
       "      <td>-72.608007</td>\n",
       "      <td>-3.064875</td>\n",
       "      <td>-63.252337</td>\n",
       "      <td>1.962030</td>\n",
       "      <td>-74.046689</td>\n",
       "      <td>-0.639314</td>\n",
       "      <td>-59.760585</td>\n",
       "      <td>...</td>\n",
       "      <td>-2.416476</td>\n",
       "      <td>-66.545586</td>\n",
       "      <td>0.894165</td>\n",
       "      <td>1</td>\n",
       "      <td>120.175776</td>\n",
       "      <td>0</td>\n",
       "      <td>sub03</td>\n",
       "      <td>exp01</td>\n",
       "      <td>SP 110RMT r1</td>\n",
       "      <td>1</td>\n",
       "    </tr>\n",
       "    <tr>\n",
       "      <th>2</th>\n",
       "      <td>1.032230</td>\n",
       "      <td>-46.328362</td>\n",
       "      <td>0.676769</td>\n",
       "      <td>-54.835294</td>\n",
       "      <td>0.987847</td>\n",
       "      <td>-47.053933</td>\n",
       "      <td>-1.728969</td>\n",
       "      <td>-57.527752</td>\n",
       "      <td>0.989854</td>\n",
       "      <td>-45.005872</td>\n",
       "      <td>...</td>\n",
       "      <td>0.320141</td>\n",
       "      <td>-55.441957</td>\n",
       "      <td>0.600739</td>\n",
       "      <td>1</td>\n",
       "      <td>80.739322</td>\n",
       "      <td>0</td>\n",
       "      <td>sub03</td>\n",
       "      <td>exp01</td>\n",
       "      <td>SP 110RMT r1</td>\n",
       "      <td>2</td>\n",
       "    </tr>\n",
       "    <tr>\n",
       "      <th>3</th>\n",
       "      <td>0.186384</td>\n",
       "      <td>-58.740863</td>\n",
       "      <td>0.966784</td>\n",
       "      <td>-70.110007</td>\n",
       "      <td>-0.595625</td>\n",
       "      <td>-60.591897</td>\n",
       "      <td>-0.617618</td>\n",
       "      <td>-71.898589</td>\n",
       "      <td>-1.690876</td>\n",
       "      <td>-55.757678</td>\n",
       "      <td>...</td>\n",
       "      <td>1.219035</td>\n",
       "      <td>-60.319203</td>\n",
       "      <td>0.636902</td>\n",
       "      <td>1</td>\n",
       "      <td>85.599629</td>\n",
       "      <td>0</td>\n",
       "      <td>sub03</td>\n",
       "      <td>exp01</td>\n",
       "      <td>SP 110RMT r1</td>\n",
       "      <td>3</td>\n",
       "    </tr>\n",
       "    <tr>\n",
       "      <th>4</th>\n",
       "      <td>1.178990</td>\n",
       "      <td>-47.207672</td>\n",
       "      <td>1.204826</td>\n",
       "      <td>-58.495016</td>\n",
       "      <td>1.342455</td>\n",
       "      <td>-49.567252</td>\n",
       "      <td>0.468785</td>\n",
       "      <td>-59.241775</td>\n",
       "      <td>-2.078631</td>\n",
       "      <td>-43.420708</td>\n",
       "      <td>...</td>\n",
       "      <td>-1.246829</td>\n",
       "      <td>-55.809136</td>\n",
       "      <td>0.597992</td>\n",
       "      <td>1</td>\n",
       "      <td>80.370125</td>\n",
       "      <td>0</td>\n",
       "      <td>sub03</td>\n",
       "      <td>exp01</td>\n",
       "      <td>SP 110RMT r1</td>\n",
       "      <td>4</td>\n",
       "    </tr>\n",
       "  </tbody>\n",
       "</table>\n",
       "<p>5 rows × 24 columns</p>\n",
       "</div>"
      ],
      "text/plain": [
       "   C3_beta_phase  C3_beta_power  C3_gamma_phase  C3_gamma_power  \\\n",
       "0       2.266883     -73.281603        1.487841      -84.914465   \n",
       "1       2.910591     -61.937065       -2.048183      -72.608007   \n",
       "2       1.032230     -46.328362        0.676769      -54.835294   \n",
       "3       0.186384     -58.740863        0.966784      -70.110007   \n",
       "4       1.178990     -47.207672        1.204826      -58.495016   \n",
       "\n",
       "   C3_high_beta_phase  C3_high_beta_power  C3_high_gamma_phase  \\\n",
       "0            1.339672          -74.059672             0.872053   \n",
       "1           -3.064875          -63.252337             1.962030   \n",
       "2            0.987847          -47.053933            -1.728969   \n",
       "3           -0.595625          -60.591897            -0.617618   \n",
       "4            1.342455          -49.567252             0.468785   \n",
       "\n",
       "   C3_high_gamma_power  C3_low_beta_phase  C3_low_beta_power  ...  \\\n",
       "0           -85.837048           0.170396         -71.925775  ...   \n",
       "1           -74.046689          -0.639314         -59.760585  ...   \n",
       "2           -57.527752           0.989854         -45.005872  ...   \n",
       "3           -71.898589          -1.690876         -55.757678  ...   \n",
       "4           -59.241775          -2.078631         -43.420708  ...   \n",
       "\n",
       "   C4_beta_phase  C4_beta_power  mep_size  mep_cat_abs  mep_by_cmap  \\\n",
       "0      -1.512636     -77.882881  2.555237            1   343.423853   \n",
       "1      -2.416476     -66.545586  0.894165            1   120.175776   \n",
       "2       0.320141     -55.441957  0.600739            1    80.739322   \n",
       "3       1.219035     -60.319203  0.636902            1    85.599629   \n",
       "4      -1.246829     -55.809136  0.597992            1    80.370125   \n",
       "\n",
       "   mep_cat_percentile    sub    exp           run  trial_num  \n",
       "0                   1  sub03  exp01  SP 110RMT r1          0  \n",
       "1                   0  sub03  exp01  SP 110RMT r1          1  \n",
       "2                   0  sub03  exp01  SP 110RMT r1          2  \n",
       "3                   0  sub03  exp01  SP 110RMT r1          3  \n",
       "4                   0  sub03  exp01  SP 110RMT r1          4  \n",
       "\n",
       "[5 rows x 24 columns]"
      ]
     },
     "execution_count": 13,
     "metadata": {},
     "output_type": "execute_result"
    }
   ],
   "source": [
    "df2 = df[['C3_beta_phase', 'C3_beta_power', 'C3_gamma_phase',\n",
    "       'C3_gamma_power', 'C3_high_beta_phase', 'C3_high_beta_power',\n",
    "       'C3_high_gamma_phase', 'C3_high_gamma_power', 'C3_low_beta_phase',\n",
    "       'C3_low_beta_power', 'C3_low_gamma_phase', 'C3_low_gamma_power',\n",
    "       'C3_mu_phase', 'C3_mu_power', 'C4_beta_phase', 'C4_beta_power', \n",
    "       'mep_size', 'mep_cat_abs', 'mep_by_cmap', 'mep_cat_percentile', 'sub', 'exp', 'run', 'trial_num']]\n",
    "df2.head()"
   ]
  },
  {
   "cell_type": "code",
   "execution_count": 14,
   "metadata": {},
   "outputs": [],
   "source": [
    "df2.to_excel('109-c3.xlsx')"
   ]
  },
  {
   "cell_type": "code",
   "execution_count": 15,
   "metadata": {},
   "outputs": [
    {
     "data": {
      "text/plain": [
       "[<matplotlib.lines.Line2D at 0x7f0efcdd80f0>]"
      ]
     },
     "execution_count": 15,
     "metadata": {},
     "output_type": "execute_result"
    },
    {
     "data": {
      "image/png": "[encoded data removed]",
      "text/plain": [
       "<Figure size 432x288 with 1 Axes>"
      ]
     },
     "metadata": {
      "needs_background": "light"
     },
     "output_type": "display_data"
    }
   ],
   "source": [
    "plt.plot(df2['C3_beta_power'], df2['mep_size'], 'o')"
   ]
  },
  {
   "cell_type": "code",
   "execution_count": 16,
   "metadata": {},
   "outputs": [
    {
     "data": {
      "text/plain": [
       "[<matplotlib.lines.Line2D at 0x7f0efb9c3a58>]"
      ]
     },
     "execution_count": 16,
     "metadata": {},
     "output_type": "execute_result"
    },
    {
     "data": {
      "image/png": "[encoded data removed]",
      "text/plain": [
       "<Figure size 432x288 with 1 Axes>"
      ]
     },
     "metadata": {
      "needs_background": "light"
     },
     "output_type": "display_data"
    }
   ],
   "source": [
    "plt.plot(df2['C3_beta_phase'], df2['mep_size'], 'o')"
   ]
  },
  {
   "cell_type": "code",
   "execution_count": 17,
   "metadata": {},
   "outputs": [
    {
     "data": {
      "text/plain": [
       "[<matplotlib.lines.Line2D at 0x7f0efce52c18>]"
      ]
     },
     "execution_count": 17,
     "metadata": {},
     "output_type": "execute_result"
    },
    {
     "data": {
      "image/png": "[encoded data removed]",
      "text/plain": [
       "<Figure size 432x288 with 1 Axes>"
      ]
     },
     "metadata": {
      "needs_background": "light"
     },
     "output_type": "display_data"
    }
   ],
   "source": [
    "plt.plot(df2['C3_beta_phase'] * df2['C3_beta_power'], df2['mep_size'], 'o')"
   ]
  },
  {
   "cell_type": "code",
   "execution_count": 20,
   "metadata": {},
   "outputs": [
    {
     "data": {
      "text/plain": [
       "[<matplotlib.lines.Line2D at 0x7f0efbe28c50>]"
      ]
     },
     "execution_count": 20,
     "metadata": {},
     "output_type": "execute_result"
    },
    {
     "data": {
      "image/png": "[encoded data removed]",
      "text/plain": [
       "<Figure size 432x288 with 1 Axes>"
      ]
     },
     "metadata": {
      "needs_background": "light"
     },
     "output_type": "display_data"
    }
   ],
   "source": [
    "df3 = df2[df2['C3_beta_power'] > -200]\n",
    "plt.plot(df3['C3_beta_phase'] * df3['C3_beta_power'], df3['mep_size'], 'o')"
   ]
  },
  {
   "cell_type": "code",
   "execution_count": 29,
   "metadata": {},
   "outputs": [
    {
     "data": {
      "text/plain": [
       "[<matplotlib.lines.Line2D at 0x7f0efab13908>]"
      ]
     },
     "execution_count": 29,
     "metadata": {},
     "output_type": "execute_result"
    },
    {
     "data": {
      "image/png": "[encoded data removed]",
      "text/plain": [
       "<Figure size 432x288 with 1 Axes>"
      ]
     },
     "metadata": {
      "needs_background": "light"
     },
     "output_type": "display_data"
    }
   ],
   "source": [
    "plt.plot(df3['mep_size'], 'o')"
   ]
  },
  {
   "cell_type": "code",
   "execution_count": 30,
   "metadata": {},
   "outputs": [
    {
     "data": {
      "text/plain": [
       "[<matplotlib.lines.Line2D at 0x7f0efaaf0f98>]"
      ]
     },
     "execution_count": 30,
     "metadata": {},
     "output_type": "execute_result"
    },
    {
     "data": {
      "image/png": "[encoded data removed]",
      "text/plain": [
       "<Figure size 432x288 with 1 Axes>"
      ]
     },
     "metadata": {
      "needs_background": "light"
     },
     "output_type": "display_data"
    }
   ],
   "source": [
    "plt.plot(np.log(df3['mep_size']), 'o')"
   ]
  },
  {
   "cell_type": "code",
   "execution_count": 31,
   "metadata": {},
   "outputs": [
    {
     "data": {
      "text/plain": [
       "(array([ 15.,  71.,  48., 106., 212., 389., 380., 333., 260., 110.]),\n",
       " array([-4.98117358, -4.29907802, -3.61698246, -2.9348869 , -2.25279134,\n",
       "        -1.57069577, -0.88860021, -0.20650465,  0.47559091,  1.15768648,\n",
       "         1.83978204]),\n",
       " <a list of 10 Patch objects>)"
      ]
     },
     "execution_count": 31,
     "metadata": {},
     "output_type": "execute_result"
    },
    {
     "data": {
      "image/png": "[encoded data removed]",
      "text/plain": [
       "<Figure size 432x288 with 1 Axes>"
      ]
     },
     "metadata": {
      "needs_background": "light"
     },
     "output_type": "display_data"
    }
   ],
   "source": [
    "plt.hist(np.log(df3['mep_size']))"
   ]
  },
  {
   "cell_type": "code",
   "execution_count": 32,
   "metadata": {},
   "outputs": [
    {
     "data": {
      "text/plain": [
       "[<matplotlib.lines.Line2D at 0x7f0efb188f28>]"
      ]
     },
     "execution_count": 32,
     "metadata": {},
     "output_type": "execute_result"
    },
    {
     "data": {
      "image/png": "[encoded data removed]",
      "text/plain": [
       "<Figure size 432x288 with 1 Axes>"
      ]
     },
     "metadata": {
      "needs_background": "light"
     },
     "output_type": "display_data"
    }
   ],
   "source": [
    "plt.plot(df2['C3_beta_phase'] * df2['C3_beta_power'], np.log(df2['mep_size']), 'o')"
   ]
  },
  {
   "cell_type": "code",
   "execution_count": 33,
   "metadata": {},
   "outputs": [
    {
     "data": {
      "text/plain": [
       "[<matplotlib.lines.Line2D at 0x7f0efb22d390>]"
      ]
     },
     "execution_count": 33,
     "metadata": {},
     "output_type": "execute_result"
    },
    {
     "data": {
      "image/png": "[encoded data removed]",
      "text/plain": [
       "<Figure size 432x288 with 1 Axes>"
      ]
     },
     "metadata": {
      "needs_background": "light"
     },
     "output_type": "display_data"
    }
   ],
   "source": [
    "plt.plot(df2['C3_beta_phase'], np.log(df2['mep_size']), 'o')"
   ]
  },
  {
   "cell_type": "code",
   "execution_count": null,
   "metadata": {},
   "outputs": [],
   "source": []
  }
 ],
 "metadata": {
  "file_extension": ".py",
  "kernelspec": {
   "display_name": "Python 3",
   "language": "python",
   "name": "python3"
  },
  "language_info": {
   "codemirror_mode": {
    "name": "ipython",
    "version": 3
   },
   "file_extension": ".py",
   "mimetype": "text/x-python",
   "name": "python",
   "nbconvert_exporter": "python",
   "pygments_lexer": "ipython3",
   "version": "3.7.3"
  },
  "mimetype": "text/x-python",
  "name": "python",
  "npconvert_exporter": "python",
  "pygments_lexer": "ipython3",
  "version": 3
 },
 "nbformat": 4,
 "nbformat_minor": 2
}
