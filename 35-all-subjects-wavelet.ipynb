{
 "cells": [
  {
   "cell_type": "code",
   "execution_count": 7,
   "metadata": {},
   "outputs": [],
   "source": [
    "%matplotlib inline\n",
    "import glob\n",
    "import pandas as pd\n",
    "import matplotlib.pyplot as plt\n",
    "from io import StringIO\n",
    "import numpy as np\n",
    "from tqdm import tqdm_notebook\n",
    "\n",
    "import multiprocessing\n",
    "from oct2py import octave\n",
    "\n",
    "from joblib import Parallel, delayed\n",
    "import multiprocessing\n",
    "from joblib import wrap_non_picklable_objects\n",
    "import json\n",
    "from wavelets import WaveletAnalysis\n",
    "import scipy.ndimage\n",
    "import pickle"
   ]
  },
  {
   "cell_type": "code",
   "execution_count": 8,
   "metadata": {},
   "outputs": [],
   "source": [
    "eeglab_path = '/home/raquib/Documents/MATLAB/eeglab2019_0/functions/'\n",
    "octave.addpath(eeglab_path + 'guifunc');\n",
    "octave.addpath(eeglab_path + 'popfunc');\n",
    "octave.addpath(eeglab_path + 'adminfunc');\n",
    "octave.addpath(eeglab_path + 'sigprocfunc');\n",
    "octave.addpath(eeglab_path + 'miscfunc');"
   ]
  },
  {
   "cell_type": "code",
   "execution_count": 9,
   "metadata": {},
   "outputs": [
    {
     "data": {
      "text/plain": [
       "['data/original/sub03/exp01/eeg/SP 110RMT r1/clean-prestimulus.set',\n",
       " 'data/original/sub03/exp01/eeg/SP 110RMT r2/clean-prestimulus.set',\n",
       " 'data/original/sub03/exp01/eeg/SP 110RMT r3/clean-prestimulus.set',\n",
       " 'data/original/sub03/exp02/eeg/SP 110RMT r1/clean-prestimulus.set',\n",
       " 'data/original/sub03/exp02/eeg/SP 110RMT r2/clean-prestimulus.set',\n",
       " 'data/original/sub03/exp03/eeg/SP 110RMT r1/clean-prestimulus.set',\n",
       " 'data/original/sub03/exp03/eeg/SP 110RMT r2/clean-prestimulus.set',\n",
       " 'data/original/sub03/exp03/eeg/SP 110RMT r3/clean-prestimulus.set',\n",
       " 'data/original/sub04/exp01/eeg/SP 110RMT r1/clean-prestimulus.set',\n",
       " 'data/original/sub04/exp01/eeg/SP 110RMT r2/clean-prestimulus.set',\n",
       " 'data/original/sub04/exp01/eeg/SP 110RMT r3/clean-prestimulus.set',\n",
       " 'data/original/sub05/exp01/eeg/SP 110RMT r3/clean-prestimulus.set',\n",
       " 'data/original/sub06/exp01/eeg/SP 110RMT r1/clean-prestimulus.set',\n",
       " 'data/original/sub06/exp01/eeg/SP 110RMT r2/clean-prestimulus.set',\n",
       " 'data/original/sub06/exp01/eeg/SP 110RMT r3/clean-prestimulus.set',\n",
       " 'data/original/sub06/exp02/eeg/SP 110RMT/clean-prestimulus.set',\n",
       " 'data/original/sub07/exp01/eeg/SP 110RMT r1/clean-prestimulus.set',\n",
       " 'data/original/sub07/exp01/eeg/SP 110RMT r2/clean-prestimulus.set',\n",
       " 'data/original/sub07/exp01/eeg/SP 110RMT r3/clean-prestimulus.set',\n",
       " 'data/original/sub08/exp01/eeg/SP 110RMT r1/clean-prestimulus.set',\n",
       " 'data/original/sub08/exp01/eeg/SP 110RMT r2/clean-prestimulus.set',\n",
       " 'data/original/sub08/exp01/eeg/SP 110RMT r3/clean-prestimulus.set',\n",
       " 'data/original/sub08/exp02/eeg/SP 110RMT/clean-prestimulus.set',\n",
       " 'data/original/sub08/exp03/eeg/SP 110RMT r1/clean-prestimulus.set',\n",
       " 'data/original/sub08/exp03/eeg/SP 110RMT r2/clean-prestimulus.set',\n",
       " 'data/original/sub08/exp03/eeg/SP 110RMT r3/clean-prestimulus.set',\n",
       " 'data/original/sub09/exp01/eeg/SP 110RMT/clean-prestimulus.set',\n",
       " 'data/original/sub10/exp01/eeg/SP 110RMT/clean-prestimulus.set',\n",
       " 'data/original/sub10/exp02/eeg/SP 110RMT r1/clean-prestimulus.set',\n",
       " 'data/original/sub10/exp02/eeg/SP 110RMT r2/clean-prestimulus.set',\n",
       " 'data/original/sub10/exp02/eeg/SP 110RMT r3/clean-prestimulus.set',\n",
       " 'data/original/sub11/exp01/eeg/SP 110RMT/clean-prestimulus.set',\n",
       " 'data/original/sub11/exp02/eeg/SP 110RMT/clean-prestimulus.set',\n",
       " 'data/original/sub12/exp01/eeg/SP 110RMT/clean-prestimulus.set',\n",
       " 'data/original/sub12/exp02/eeg/SP 110RMT/clean-prestimulus.set',\n",
       " 'data/original/sub13/exp01/eeg/SP 110RMT/clean-prestimulus.set',\n",
       " 'data/original/sub14/exp01/eeg/SP 110RMT r1/clean-prestimulus.set',\n",
       " 'data/original/sub15/exp01/eeg/SP 110RMT r1/clean-prestimulus.set',\n",
       " 'data/original/sub15/exp01/eeg/SP 110RMT r2/clean-prestimulus.set',\n",
       " 'data/original/sub15/exp01/eeg/SP 110RMT r3/clean-prestimulus.set',\n",
       " 'data/original/sub16/exp01/eeg/SP 110RMT r1/clean-prestimulus.set',\n",
       " 'data/original/sub16/exp01/eeg/SP 110RMT r2/clean-prestimulus.set',\n",
       " 'data/original/sub16/exp01/eeg/SP 110RMT r3/clean-prestimulus.set']"
      ]
     },
     "execution_count": 9,
     "metadata": {},
     "output_type": "execute_result"
    }
   ],
   "source": [
    "experiment = 'data/original/*/*'\n",
    "eegs = sorted(glob.glob(experiment + '/eeg/*/clean-prestimulus.set'))\n",
    "eegs"
   ]
  },
  {
   "cell_type": "code",
   "execution_count": 10,
   "metadata": {},
   "outputs": [],
   "source": [
    "eegs = [\n",
    "    'data/original/sub03/exp01/eeg/SP 110RMT r1/clean-prestimulus.set',\n",
    "    'data/original/sub03/exp01/eeg/SP 110RMT r2/clean-prestimulus.set',\n",
    "    'data/original/sub03/exp01/eeg/SP 110RMT r3/clean-prestimulus.set',\n",
    "#     'data/original/sub03/exp02/eeg/SP 110RMT r1/clean-prestimulus.set', NO CMAP\n",
    "#     'data/original/sub03/exp02/eeg/SP 110RMT r2/clean-prestimulus.set', NO CMAP\n",
    "#     'data/original/sub03/exp03/eeg/SP 110RMT r1/clean-prestimulus.set', NO CMAP\n",
    "    'data/original/sub03/exp03/eeg/SP 110RMT r2/clean-prestimulus.set',\n",
    "    'data/original/sub03/exp03/eeg/SP 110RMT r3/clean-prestimulus.set',\n",
    "#     'data/original/sub04/exp01/eeg/SP 110RMT r1/clean-prestimulus.set', NO CMAP\n",
    "#     'data/original/sub04/exp01/eeg/SP 110RMT r2/clean-prestimulus.set', NO CMAP\n",
    "#     'data/original/sub04/exp01/eeg/SP 110RMT r3/clean-prestimulus.set', NO CMAP\n",
    "#     'data/original/sub05/exp01/eeg/SP 110RMT r3/clean-prestimulus.set',\n",
    "    'data/original/sub06/exp01/eeg/SP 110RMT r1/clean-prestimulus.set',\n",
    "    'data/original/sub06/exp01/eeg/SP 110RMT r2/clean-prestimulus.set',\n",
    "    'data/original/sub06/exp01/eeg/SP 110RMT r3/clean-prestimulus.set',\n",
    "    'data/original/sub06/exp02/eeg/SP 110RMT/clean-prestimulus.set',\n",
    "    'data/original/sub07/exp01/eeg/SP 110RMT r1/clean-prestimulus.set',\n",
    "    'data/original/sub07/exp01/eeg/SP 110RMT r2/clean-prestimulus.set',\n",
    "    'data/original/sub07/exp01/eeg/SP 110RMT r3/clean-prestimulus.set',\n",
    "    'data/original/sub08/exp01/eeg/SP 110RMT r1/clean-prestimulus.set',\n",
    "    'data/original/sub08/exp01/eeg/SP 110RMT r2/clean-prestimulus.set',\n",
    "    'data/original/sub08/exp01/eeg/SP 110RMT r3/clean-prestimulus.set',\n",
    "    'data/original/sub08/exp02/eeg/SP 110RMT/clean-prestimulus.set',\n",
    "    'data/original/sub08/exp03/eeg/SP 110RMT r1/clean-prestimulus.set',\n",
    "    'data/original/sub08/exp03/eeg/SP 110RMT r2/clean-prestimulus.set',\n",
    "    'data/original/sub08/exp03/eeg/SP 110RMT r3/clean-prestimulus.set',\n",
    "    'data/original/sub12/exp02/eeg/SP 110RMT/clean-prestimulus.set',\n",
    "    'data/original/sub13/exp01/eeg/SP 110RMT/clean-prestimulus.set',\n",
    "    'data/original/sub14/exp01/eeg/SP 110RMT r1/clean-prestimulus.set',\n",
    "    'data/original/sub15/exp01/eeg/SP 110RMT r1/clean-prestimulus.set',\n",
    "    'data/original/sub15/exp01/eeg/SP 110RMT r2/clean-prestimulus.set',\n",
    "    'data/original/sub15/exp01/eeg/SP 110RMT r3/clean-prestimulus.set',\n",
    "    'data/original/sub16/exp01/eeg/SP 110RMT r1/clean-prestimulus.set',\n",
    "    'data/original/sub16/exp01/eeg/SP 110RMT r2/clean-prestimulus.set',\n",
    "    'data/original/sub16/exp01/eeg/SP 110RMT r3/clean-prestimulus.set'\n",
    "]"
   ]
  },
  {
   "cell_type": "markdown",
   "metadata": {},
   "source": [
    "# Read and process EEG"
   ]
  },
  {
   "cell_type": "code",
   "execution_count": 11,
   "metadata": {},
   "outputs": [],
   "source": [
    "def read_eeg(path):\n",
    "    eeg = octave.pop_loadset(path)\n",
    "    new_trial_list = []\n",
    "    for i in range(eeg.data.shape[2]):\n",
    "        trial = eeg.data[:, :, i]\n",
    "        time = np.linspace(-1000, -20, num=trial.shape[1])\n",
    "        trial = pd.DataFrame(np.transpose(trial), columns=eeg.chanlocs.labels[0])\n",
    "        trial['time'] = time\n",
    "        new_trial_list.append(trial)\n",
    "    return new_trial_list\n",
    "\n",
    "def crop_trials(trial_list, duration_millis=500, sampling_rate=2048):\n",
    "    new_trial_list = []\n",
    "    for trial in trial_list:\n",
    "        samples_to_pick = duration_millis * sampling_rate / 1000\n",
    "        new_trial_list.append(trial.tail(int(samples_to_pick)))\n",
    "    return new_trial_list, samples_to_pick\n",
    "\n",
    "def filter_electrodes(trial, which='all'):\n",
    "    time_column = trial['time']\n",
    "    if which == 'ltm1':\n",
    "        # channel_names = ['FC5','FC3','FC1','C5','C3','C1','CP5','CP3','CP1']\n",
    "        channel_names = ['FC5','FC1','C3','CP5','CP1','FC3','C5','C1','CP3']\n",
    "    elif which == 'rtm1':\n",
    "        channel_names = ['FC6','FC2','C4','CP6','CP2','FC4','C6','C2','CP4']\n",
    "    elif which == 'central':\n",
    "        channel_names = ['Fz','FCz','Cz','F1','FC1','C1','C2','FC2','F2']\n",
    "    else:\n",
    "        channel_names = ['Fp1', 'Fpz', 'Fp2', 'F7', 'F3', 'Fz', 'F4', 'F8', 'FC5', 'FC1', 'FC2', 'FC6', 'M1', 'T7', 'C3', 'Cz', 'C4', 'T8', 'M2', 'CP5', 'CP1', 'CP2', 'CP6', 'P7', 'P3', 'Pz', 'P4', 'P8', 'POz', 'O1', 'O2', 'EOG', 'AF7', 'AF3', 'AF4', 'AF8', 'F5', 'F1', 'F2', 'F6', 'FC3', 'FCz', 'FC4', 'C5', 'C1', 'C2', 'C6', 'CP3', 'CP4', 'P5', 'P1', 'P2', 'P6', 'PO5', 'PO3', 'PO4', 'PO6', 'FT7', 'FT8', 'TP7', 'TP8', 'PO7', 'PO8', 'Oz']\n",
    "    trial = trial[channel_names]\n",
    "    trial['time'] = time_column\n",
    "    return trial"
   ]
  },
  {
   "cell_type": "code",
   "execution_count": 12,
   "metadata": {},
   "outputs": [],
   "source": [
    "def get_wavelet(channel, time, im_size = [1024, 1024]):\n",
    "    wa = WaveletAnalysis(channel, time=time)\n",
    "    power_im = np.log(wa.wavelet_power)\n",
    "    power_norm = power_im - power_im.mean()\n",
    "    power_norm = power_norm / power_norm.ptp()\n",
    "    power_norm = np.flip(scipy.ndimage.interpolation.zoom(power_im, [im_size[0]/power_im.shape[0], im_size[1]/power_im.shape[1]], order=5, prefilter=False), axis=0)\n",
    "    \n",
    "    df = pd.DataFrame(data=wa.wavelet_power, columns=time / 1000)\n",
    "    df.insert(0, 'frequency', wa.fourier_frequencies)\n",
    "    df = df.set_index('frequency')\n",
    "    return df\n",
    "\n",
    "def save_wavelets_of_epoch(epoch_num, epoch, path_segments):\n",
    "    channel = epoch.drop('time', axis=1).mean(axis=1).values\n",
    "    time = epoch['time'].values\n",
    "    wavelet = get_wavelet(channel, time)\n",
    "    filename = 'wavelets/' + segments[2] + '-' + segments[3] + '-' + segments[5] + '-' + str(epoch_num) + '-all.pickle'\n",
    "    with open(filename, 'wb') as f:\n",
    "        pickle.dump(wavelet, f)\n",
    "        \n",
    "    channel = filter_electrodes(epoch, 'ltm1').drop('time', axis=1).mean(axis=1).values\n",
    "    wavelet = get_wavelet(channel, time)\n",
    "    filename = 'wavelets/' + segments[2] + '-' + segments[3] + '-' + segments[5] + '-' + str(epoch_num) + '-ltm1.pickle'\n",
    "    with open(filename, 'wb') as f:\n",
    "        pickle.dump(wavelet, f)\n",
    "        \n",
    "    channel = filter_electrodes(epoch, 'rtm1').drop('time', axis=1).mean(axis=1).values\n",
    "    wavelet = get_wavelet(channel, time)\n",
    "    filename = 'wavelets/' + segments[2] + '-' + segments[3] + '-' + segments[5] + '-' + str(epoch_num) + '-rtm1.pickle'\n",
    "    with open(filename, 'wb') as f:\n",
    "        pickle.dump(wavelet, f)\n",
    "        \n",
    "    channel = filter_electrodes(epoch, 'central').drop('time', axis=1).mean(axis=1).values\n",
    "    wavelet = get_wavelet(channel, time)\n",
    "    filename = 'wavelets/' + segments[2] + '-' + segments[3] + '-' + segments[5] + '-' + str(epoch_num) + '-central.pickle'\n",
    "    with open(filename, 'wb') as f:\n",
    "        pickle.dump(wavelet, f)"
   ]
  },
  {
   "cell_type": "code",
   "execution_count": 13,
   "metadata": {
    "scrolled": true
   },
   "outputs": [
    {
     "data": {
      "application/vnd.jupyter.widget-view+json": {
       "model_id": "01c057b453d8414cbc6c6af8da4c2e4f",
       "version_major": 2,
       "version_minor": 0
      },
      "text/plain": [
       "HBox(children=(IntProgress(value=0, max=28), HTML(value='')))"
      ]
     },
     "metadata": {},
     "output_type": "display_data"
    },
    {
     "name": "stdout",
     "output_type": "stream",
     "text": [
      "pop_loadset(): loading file data/original/sub03/exp01/eeg/SP 110RMT r1/clean-prestimulus.set ...\n",
      "Reading float file 'data/original/sub03/exp01/eeg/SP 110RMT r1/clean-prestimulus.fdt'...\n",
      "Scaling components to RMS microvolt\n",
      "pop_loadset(): loading file data/original/sub03/exp01/eeg/SP 110RMT r2/clean-prestimulus.set ...\n",
      "warning: implicit conversion from numeric to char\n",
      "Reading float file 'data/original/sub03/exp01/eeg/SP 110RMT r2/clean-prestimulus.fdt'...\n",
      "Scaling components to RMS microvolt\n",
      "pop_loadset(): loading file data/original/sub03/exp01/eeg/SP 110RMT r3/clean-prestimulus.set ...\n",
      "warning: implicit conversion from numeric to char\n",
      "Reading float file 'data/original/sub03/exp01/eeg/SP 110RMT r3/clean-prestimulus.fdt'...\n",
      "Scaling components to RMS microvolt\n",
      "pop_loadset(): loading file data/original/sub03/exp03/eeg/SP 110RMT r2/clean-prestimulus.set ...\n",
      "Reading float file 'data/original/sub03/exp03/eeg/SP 110RMT r2/clean-prestimulus.fdt'...\n",
      "Scaling components to RMS microvolt\n",
      "pop_loadset(): loading file data/original/sub03/exp03/eeg/SP 110RMT r3/clean-prestimulus.set ...\n",
      "Reading float file 'data/original/sub03/exp03/eeg/SP 110RMT r3/clean-prestimulus.fdt'...\n",
      "Scaling components to RMS microvolt\n",
      "pop_loadset(): loading file data/original/sub06/exp01/eeg/SP 110RMT r1/clean-prestimulus.set ...\n",
      "Reading float file 'data/original/sub06/exp01/eeg/SP 110RMT r1/clean-prestimulus.fdt'...\n",
      "Scaling components to RMS microvolt\n",
      "pop_loadset(): loading file data/original/sub06/exp01/eeg/SP 110RMT r2/clean-prestimulus.set ...\n",
      "Reading float file 'data/original/sub06/exp01/eeg/SP 110RMT r2/clean-prestimulus.fdt'...\n",
      "Scaling components to RMS microvolt\n",
      "pop_loadset(): loading file data/original/sub06/exp01/eeg/SP 110RMT r3/clean-prestimulus.set ...\n",
      "Reading float file 'data/original/sub06/exp01/eeg/SP 110RMT r3/clean-prestimulus.fdt'...\n",
      "Scaling components to RMS microvolt\n",
      "pop_loadset(): loading file data/original/sub06/exp02/eeg/SP 110RMT/clean-prestimulus.set ...\n",
      "Reading float file 'data/original/sub06/exp02/eeg/SP 110RMT/clean-prestimulus.fdt'...\n",
      "pop_loadset(): loading file data/original/sub07/exp01/eeg/SP 110RMT r1/clean-prestimulus.set ...\n",
      "Reading float file 'data/original/sub07/exp01/eeg/SP 110RMT r1/clean-prestimulus.fdt'...\n",
      "Scaling components to RMS microvolt\n",
      "pop_loadset(): loading file data/original/sub07/exp01/eeg/SP 110RMT r2/clean-prestimulus.set ...\n",
      "Reading float file 'data/original/sub07/exp01/eeg/SP 110RMT r2/clean-prestimulus.fdt'...\n",
      "pop_loadset(): loading file data/original/sub07/exp01/eeg/SP 110RMT r3/clean-prestimulus.set ...\n",
      "Reading float file 'data/original/sub07/exp01/eeg/SP 110RMT r3/clean-prestimulus.fdt'...\n",
      "Scaling components to RMS microvolt\n",
      "pop_loadset(): loading file data/original/sub08/exp01/eeg/SP 110RMT r1/clean-prestimulus.set ...\n",
      "Reading float file 'data/original/sub08/exp01/eeg/SP 110RMT r1/clean-prestimulus.fdt'...\n",
      "pop_loadset(): loading file data/original/sub08/exp01/eeg/SP 110RMT r2/clean-prestimulus.set ...\n",
      "Reading float file 'data/original/sub08/exp01/eeg/SP 110RMT r2/clean-prestimulus.fdt'...\n",
      "pop_loadset(): loading file data/original/sub08/exp01/eeg/SP 110RMT r3/clean-prestimulus.set ...\n",
      "Reading float file 'data/original/sub08/exp01/eeg/SP 110RMT r3/clean-prestimulus.fdt'...\n",
      "pop_loadset(): loading file data/original/sub08/exp02/eeg/SP 110RMT/clean-prestimulus.set ...\n",
      "Reading float file 'data/original/sub08/exp02/eeg/SP 110RMT/clean-prestimulus.fdt'...\n",
      "pop_loadset(): loading file data/original/sub08/exp03/eeg/SP 110RMT r1/clean-prestimulus.set ...\n",
      "Reading float file 'data/original/sub08/exp03/eeg/SP 110RMT r1/clean-prestimulus.fdt'...\n",
      "Scaling components to RMS microvolt\n",
      "pop_loadset(): loading file data/original/sub08/exp03/eeg/SP 110RMT r2/clean-prestimulus.set ...\n",
      "Reading float file 'data/original/sub08/exp03/eeg/SP 110RMT r2/clean-prestimulus.fdt'...\n",
      "Scaling components to RMS microvolt\n",
      "pop_loadset(): loading file data/original/sub08/exp03/eeg/SP 110RMT r3/clean-prestimulus.set ...\n",
      "Reading float file 'data/original/sub08/exp03/eeg/SP 110RMT r3/clean-prestimulus.fdt'...\n",
      "Scaling components to RMS microvolt\n",
      "pop_loadset(): loading file data/original/sub12/exp02/eeg/SP 110RMT/clean-prestimulus.set ...\n",
      "warning: implicit conversion from numeric to char\n",
      "Reading float file 'data/original/sub12/exp02/eeg/SP 110RMT/clean-prestimulus.fdt'...\n",
      "Scaling components to RMS microvolt\n",
      "pop_loadset(): loading file data/original/sub13/exp01/eeg/SP 110RMT/clean-prestimulus.set ...\n",
      "Reading float file 'data/original/sub13/exp01/eeg/SP 110RMT/clean-prestimulus.fdt'...\n",
      "pop_loadset(): loading file data/original/sub14/exp01/eeg/SP 110RMT r1/clean-prestimulus.set ...\n",
      "Reading float file 'data/original/sub14/exp01/eeg/SP 110RMT r1/clean-prestimulus.fdt'...\n",
      "pop_loadset(): loading file data/original/sub15/exp01/eeg/SP 110RMT r1/clean-prestimulus.set ...\n",
      "Reading float file 'data/original/sub15/exp01/eeg/SP 110RMT r1/clean-prestimulus.fdt'...\n",
      "pop_loadset(): loading file data/original/sub15/exp01/eeg/SP 110RMT r2/clean-prestimulus.set ...\n",
      "Reading float file 'data/original/sub15/exp01/eeg/SP 110RMT r2/clean-prestimulus.fdt'...\n",
      "pop_loadset(): loading file data/original/sub15/exp01/eeg/SP 110RMT r3/clean-prestimulus.set ...\n",
      "Reading float file 'data/original/sub15/exp01/eeg/SP 110RMT r3/clean-prestimulus.fdt'...\n",
      "pop_loadset(): loading file data/original/sub16/exp01/eeg/SP 110RMT r1/clean-prestimulus.set ...\n",
      "Reading float file 'data/original/sub16/exp01/eeg/SP 110RMT r1/clean-prestimulus.fdt'...\n",
      "Scaling components to RMS microvolt\n",
      "pop_loadset(): loading file data/original/sub16/exp01/eeg/SP 110RMT r2/clean-prestimulus.set ...\n",
      "Reading float file 'data/original/sub16/exp01/eeg/SP 110RMT r2/clean-prestimulus.fdt'...\n",
      "Scaling components to RMS microvolt\n",
      "pop_loadset(): loading file data/original/sub16/exp01/eeg/SP 110RMT r3/clean-prestimulus.set ...\n",
      "Reading float file 'data/original/sub16/exp01/eeg/SP 110RMT r3/clean-prestimulus.fdt'...\n",
      "Scaling components to RMS microvolt\n",
      "\n"
     ]
    }
   ],
   "source": [
    "num_cores = multiprocessing.cpu_count()\n",
    "\n",
    "for eeg_path in tqdm_notebook(eegs):\n",
    "    segments = eeg_path.split('/')\n",
    "    segments = segments[:-1]\n",
    "    epochs = read_eeg(eeg_path)\n",
    "    epochs, _ = crop_trials(epochs)\n",
    "    results = Parallel(n_jobs=num_cores)(delayed(save_wavelets_of_epoch)(i, epochs[i], segments) for i in range(len(epochs)))"
   ]
  },
  {
   "cell_type": "markdown",
   "metadata": {},
   "source": [
    "# View saved wavelet files"
   ]
  },
  {
   "cell_type": "code",
   "execution_count": 14,
   "metadata": {
    "scrolled": false
   },
   "outputs": [
    {
     "name": "stdout",
     "output_type": "stream",
     "text": [
      "wavelets/sub03-exp01-SP 110RMT r1-16-rtm1.pickle\n",
      "wavelets/sub07-exp01-SP 110RMT r2-23-ltm1.pickle\n",
      "wavelets/sub16-exp01-SP 110RMT r2-37-rtm1.pickle\n",
      "wavelets/sub07-exp01-SP 110RMT r2-2-all.pickle\n",
      "wavelets/sub07-exp01-SP 110RMT r1-9-central.pickle\n",
      "wavelets/sub03-exp03-SP 110RMT r2-46-all.pickle\n",
      "wavelets/sub16-exp01-SP 110RMT r1-48-all.pickle\n",
      "wavelets/sub13-exp01-SP 110RMT-1-central.pickle\n"
     ]
    },
    {
     "data": {
      "image/png": "[encoded data removed]",
      "text/plain": [
       "<Figure size 576x576 with 1 Axes>"
      ]
     },
     "metadata": {
      "needs_background": "light"
     },
     "output_type": "display_data"
    },
    {
     "data": {
      "image/png": "[encoded data removed]",
      "text/plain": [
       "<Figure size 576x576 with 1 Axes>"
      ]
     },
     "metadata": {
      "needs_background": "light"
     },
     "output_type": "display_data"
    },
    {
     "data": {
      "image/png": "[encoded data removed]",
      "text/plain": [
       "<Figure size 576x576 with 1 Axes>"
      ]
     },
     "metadata": {
      "needs_background": "light"
     },
     "output_type": "display_data"
    },
    {
     "data": {
      "image/png": "[encoded data removed]",
      "text/plain": [
       "<Figure size 576x576 with 1 Axes>"
      ]
     },
     "metadata": {
      "needs_background": "light"
     },
     "output_type": "display_data"
    },
    {
     "data": {
      "image/png": "[encoded data removed]",
      "text/plain": [
       "<Figure size 576x576 with 1 Axes>"
      ]
     },
     "metadata": {
      "needs_background": "light"
     },
     "output_type": "display_data"
    },
    {
     "data": {
      "image/png": "[encoded data removed]",
      "text/plain": [
       "<Figure size 576x576 with 1 Axes>"
      ]
     },
     "metadata": {
      "needs_background": "light"
     },
     "output_type": "display_data"
    },
    {
     "data": {
      "image/png": "[encoded data removed]",
      "text/plain": [
       "<Figure size 576x576 with 1 Axes>"
      ]
     },
     "metadata": {
      "needs_background": "light"
     },
     "output_type": "display_data"
    },
    {
     "data": {
      "image/png": "[encoded data removed]",
      "text/plain": [
       "<Figure size 576x576 with 1 Axes>"
      ]
     },
     "metadata": {
      "needs_background": "light"
     },
     "output_type": "display_data"
    }
   ],
   "source": [
    "for wavelet_path in glob.glob('wavelets/*.pickle')[0:8]:\n",
    "    print(wavelet_path)\n",
    "    with open(wavelet_path, 'rb') as f:\n",
    "        wavelet = pickle.load(f)\n",
    "        fig = plt.figure(figsize=(8,8))\n",
    "        plt.imshow(wavelet.values)\n",
    "        plt.axis('off')"
   ]
  },
  {
   "cell_type": "code",
   "execution_count": null,
   "metadata": {},
   "outputs": [],
   "source": []
  }
 ],
 "metadata": {
  "kernelspec": {
   "display_name": "Python 3",
   "language": "python",
   "name": "python3"
  },
  "language_info": {
   "codemirror_mode": {
    "name": "ipython",
    "version": 3
   },
   "file_extension": ".py",
   "mimetype": "text/x-python",
   "name": "python",
   "nbconvert_exporter": "python",
   "pygments_lexer": "ipython3",
   "version": "3.7.3"
  }
 },
 "nbformat": 4,
 "nbformat_minor": 2
}
