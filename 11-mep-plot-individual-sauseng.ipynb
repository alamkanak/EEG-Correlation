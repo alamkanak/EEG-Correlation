{
 "cells": [
  {
   "cell_type": "code",
   "execution_count": 1,
   "metadata": {},
   "outputs": [],
   "source": [
    "%matplotlib inline\n",
    "import glob\n",
    "import pandas as pd\n",
    "import mne\n",
    "import matplotlib.pyplot as plt\n",
    "from io import StringIO\n",
    "import mne\n",
    "from mne.io import read_raw_eeglab, read_epochs_eeglab\n",
    "import numpy as np\n",
    "from scipy import signal"
   ]
  },
  {
   "cell_type": "code",
   "execution_count": 2,
   "metadata": {},
   "outputs": [],
   "source": [
    "experiment = 'data/original/sub03/exp01'"
   ]
  },
  {
   "cell_type": "code",
   "execution_count": 3,
   "metadata": {},
   "outputs": [
    {
     "name": "stdout",
     "output_type": "stream",
     "text": [
      "True\n"
     ]
    }
   ],
   "source": [
    "# Check if CMAP, MEP and EEG are all available.\n",
    "cmaps = sorted(glob.glob(experiment + '/cmap/*.xlsx'))\n",
    "cmap_present = len(cmaps) > 0\n",
    "meps = sorted(glob.glob(experiment + '/mep/*/*.txt'))\n",
    "mep_present = len(meps) > 0\n",
    "eegs = sorted(glob.glob(experiment + '/eeg/*/clean.set'))\n",
    "eeg_present = len(eegs) > 0\n",
    "all_present = cmap_present and mep_present and eeg_present\n",
    "print(all_present)"
   ]
  },
  {
   "cell_type": "code",
   "execution_count": 4,
   "metadata": {},
   "outputs": [
    {
     "name": "stdout",
     "output_type": "stream",
     "text": [
      "['data/original/sub03/exp01/eeg/SP 110RMT r1/clean.set']\n",
      "['data/original/sub03/exp01/mep/SP 110RMT r1/TEP SP x50 at 110 run1.txt', 'data/original/sub03/exp01/mep/SP 110RMT r2/TEP SP x50 at 110 run2.txt', 'data/original/sub03/exp01/mep/SP 110RMT r3/TEP SP x50 at 110 run3.txt']\n"
     ]
    }
   ],
   "source": [
    "print(eegs)\n",
    "print(meps)"
   ]
  },
  {
   "cell_type": "code",
   "execution_count": 5,
   "metadata": {},
   "outputs": [],
   "source": [
    "#%% Read EEG file and prepare epochs in dataframes.\n",
    "def read_eeg(path):\n",
    "    epochs = read_epochs_eeglab(path)\n",
    "    epochs = epochs.pick_channels(ch_names=['Fp1', 'Fpz', 'Fp2', 'F7', 'F3', 'Fz', 'F4', 'F8', 'FC5', 'FC1', 'FC2', 'FC6', 'M1', 'T7', 'C3', 'Cz', 'C4', 'T8', 'M2', 'CP5', 'CP1', 'CP2', 'CP6', 'P7', 'P3', 'Pz', 'P4', 'P8', 'POz', 'O1', 'O2', 'EOG', 'AF7', 'AF3', 'AF4', 'AF8', 'F5', 'F1', 'F2', 'F6', 'FC3', 'FCz', 'FC4', 'C5', 'C1', 'C2', 'C6', 'CP3', 'CP4', 'P5', 'P1', 'P2', 'P6', 'PO5', 'PO3', 'PO4', 'PO6', 'FT7', 'FT8', 'TP7', 'TP8', 'PO7', 'PO8', 'Oz'])\n",
    "    epoch_list = []\n",
    "    i = 0\n",
    "    for epoch in epochs.iter_evoked():\n",
    "        df = epoch.to_data_frame()\n",
    "        epoch_list.append(df)\n",
    "    return epoch_list"
   ]
  },
  {
   "cell_type": "code",
   "execution_count": 6,
   "metadata": {},
   "outputs": [],
   "source": [
    "#%% Select EEG before TMS.\n",
    "def crop_epochs(epoch_list, duration_millis=100, sampling_rate=1000):\n",
    "    new_epoch_list = []\n",
    "    for epoch_df in epoch_list:\n",
    "        # Delete EEG after TMS event.\n",
    "        epoch_df['signal time'] = epoch_df.index\n",
    "        epoch_df = epoch_df.reset_index()\n",
    "        indices = epoch_df.index[epoch_df['signal time'] == 0].tolist()\n",
    "        event_index = int(len(indices)/2)\n",
    "        delete_count = epoch_df.shape[0] - indices[event_index]\n",
    "        epoch_df = epoch_df.drop(epoch_df.tail(delete_count).index)\n",
    "\n",
    "        # Select EEG for the selected duration.\n",
    "        keep = int(duration_millis * sampling_rate / 1000)\n",
    "        delete_count = epoch_df.shape[0] - keep\n",
    "        epoch_df = epoch_df.drop(epoch_df.head(delete_count).index)\n",
    "\n",
    "        # Append the epoch in the list.\n",
    "        epoch_df = epoch_df.set_index('signal time')\n",
    "        new_epoch_list.append(epoch_df)\n",
    "    return new_epoch_list, -keep"
   ]
  },
  {
   "cell_type": "code",
   "execution_count": 7,
   "metadata": {},
   "outputs": [],
   "source": [
    "#%% Open MEP file as dataframe.\n",
    "def open_mep_as_df(path):\n",
    "    fileMep = open(path, \"r+\")\n",
    "    mep_frames = fileMep.read().split('\\n\\n')\n",
    "    df_list = []\n",
    "    for mep_frame in mep_frames:\n",
    "        df_list.append(pd.read_csv(StringIO(mep_frame), '\\t'))\n",
    "    return df_list"
   ]
  },
  {
   "cell_type": "code",
   "execution_count": 8,
   "metadata": {},
   "outputs": [],
   "source": [
    "#%% Function to get APB column name.\n",
    "def get_apb_column_name(mep_frame):\n",
    "    if 'L APB' in mep_frame:\n",
    "        return 'L APB'\n",
    "    else:\n",
    "        return 'APB'"
   ]
  },
  {
   "cell_type": "code",
   "execution_count": 9,
   "metadata": {},
   "outputs": [],
   "source": [
    "#%% Function to crop MEP region.\n",
    "def crop_mep_region(mep_frame):\n",
    "    crop_start = 0.211\n",
    "    crop_end = 0.4\n",
    "    multiplier = 7499 / 1.4998\n",
    "    start = int(crop_start * multiplier)\n",
    "    end = int(crop_end * multiplier)\n",
    "    mep_cropped = mep_frame.iloc[start:end, :]\n",
    "    time = mep_frame.iloc[start:end, :]\n",
    "    return mep_cropped, time"
   ]
  },
  {
   "cell_type": "code",
   "execution_count": 10,
   "metadata": {},
   "outputs": [],
   "source": [
    "#%% Calculate MEP size.\n",
    "def calculate_mep_size(mep_frame):\n",
    "    mep_cropped, time = crop_mep_region(mep_frame)\n",
    "    apb_name = get_apb_column_name(mep_frame)\n",
    "    max_row = mep_frame.iloc[mep_cropped.idxmax(axis=0)[apb_name]]\n",
    "    min_row = mep_frame.iloc[mep_cropped.idxmin(axis=0)[apb_name]]\n",
    "    mep_size = max_row[apb_name] - min_row[apb_name]\n",
    "    return mep_size"
   ]
  },
  {
   "cell_type": "code",
   "execution_count": 11,
   "metadata": {},
   "outputs": [],
   "source": [
    "#%% Calculate EEG area.\n",
    "def calculate_eeg_area(epoch_df):\n",
    "    gfp = np.sum(epoch_df ** 2, axis=1)\n",
    "    times = gfp.index\n",
    "    gfp = mne.baseline.rescale(gfp.values, times, baseline=(None, 0))\n",
    "    return np.trapz(gfp, times)"
   ]
  },
  {
   "cell_type": "code",
   "execution_count": 12,
   "metadata": {},
   "outputs": [],
   "source": [
    "#%% Calculate EEG frequency.\n",
    "def calculate_eeg_frequency(epoch_df):\n",
    "    avg = epoch_df.mean(axis=1)\n",
    "    sp = np.fft.fft(avg.values)\n",
    "    freq = np.fft.fftfreq(avg.shape[0])\n",
    "    return np.max(np.abs(sp))"
   ]
  },
  {
   "cell_type": "code",
   "execution_count": 13,
   "metadata": {},
   "outputs": [],
   "source": [
    "def calculate_eeg_max_amplitude(epoch_df):\n",
    "    avg = epoch_df.mean(axis=1)\n",
    "    return np.max(avg.values)"
   ]
  },
  {
   "cell_type": "code",
   "execution_count": 14,
   "metadata": {},
   "outputs": [],
   "source": [
    "def resample_eeg(raw_eeg, sample_rate=2048, current_sample_rate=4096):\n",
    "    new_list = []\n",
    "    i = 0\n",
    "    for epoch_df in raw_eeg:\n",
    "        old_sig = epoch_df.reset_index().drop(['time'], axis=1)\n",
    "        sample_count = int(epoch_df.shape[0] * sample_rate / current_sample_rate)\n",
    "        new_sig = signal.resample(old_sig.values, sample_count)\n",
    "        new_sig = pd.DataFrame(new_sig)\n",
    "        new_sig.columns = old_sig.columns\n",
    "        indices = epoch_df.index.values\n",
    "        new_sig['time'] = np.linspace(indices[0], indices[indices.shape[0]-1], sample_count, endpoint=False).astype(int)\n",
    "        new_sig = new_sig.set_index('time')\n",
    "        new_list.append(new_sig)\n",
    "    return new_list"
   ]
  },
  {
   "cell_type": "code",
   "execution_count": null,
   "metadata": {},
   "outputs": [],
   "source": []
  },
  {
   "cell_type": "code",
   "execution_count": 42,
   "metadata": {
    "scrolled": true
   },
   "outputs": [
    {
     "data": {
      "text/plain": [
       "500"
      ]
     },
     "execution_count": 42,
     "metadata": {},
     "output_type": "execute_result"
    }
   ],
   "source": [
    "epoch_df = x[0]\n",
    "duration_millis=500\n",
    "sampling_rate=2048\n",
    "\n",
    "# Delete EEG after TMS event.\n",
    "epoch_df['signal time'] = epoch_df.index\n",
    "epoch_df = epoch_df.reset_index()\n",
    "indices = epoch_df.index[epoch_df['signal time'] == 0].tolist()\n",
    "event_index = int(len(indices)/2)\n",
    "delete_count = epoch_df.shape[0] - indices[event_index]\n",
    "epoch_df = epoch_df.drop(epoch_df.tail(delete_count).index)\n",
    "\n",
    "# Select EEG for the selected duration.\n",
    "keep = int(duration_millis * sampling_rate / 1000)\n",
    "delete_count = epoch_df.shape[0] - keep\n",
    "# epoch_df = epoch_df.drop(epoch_df.head(delete_count).index)\n",
    "\n",
    "# # Append the epoch in the list.\n",
    "# epoch_df = epoch_df.set_index('signal time')\n",
    "\n",
    "# plt.plot(epoch_df)\n",
    "epoch_df.shape[0]"
   ]
  },
  {
   "cell_type": "code",
   "execution_count": 18,
   "metadata": {},
   "outputs": [],
   "source": [
    "#%% Generate relations between EEG parameters and MEP sizes.\n",
    "def generate_mep_relation(eeg_path, mep_path):\n",
    "    raw_eeg = read_eeg(eeg_path)\n",
    "    sampled_eeg = resample_eeg(raw_eeg)\n",
    "    epoch_list, crop_length = crop_epochs(sampled_eeg, 500)\n",
    "    mep_frames = open_mep_as_df(mep_path)\n",
    "    if (len(epoch_list) != len(mep_frames)):\n",
    "        print('MEP and EEG epoch count did not match')\n",
    "        return\n",
    "    points = []\n",
    "    for i in range(len(epoch_list)):\n",
    "        mep_size = calculate_mep_size(mep_frames[i])\n",
    "        eeg_area = calculate_eeg_area(epoch_list[i])\n",
    "        freq = calculate_eeg_frequency(epoch_list[i])\n",
    "        max_amplitude = calculate_eeg_max_amplitude(epoch_list[i])\n",
    "        points.append((eeg_area, freq, max_amplitude, mep_size))\n",
    "    mep_size_df = pd.DataFrame(points, columns=('area', 'freq', 'max_amplitude', 'mep'))\n",
    "    return mep_size_df, raw_eeg, crop_length"
   ]
  },
  {
   "cell_type": "code",
   "execution_count": 19,
   "metadata": {
    "scrolled": true
   },
   "outputs": [
    {
     "name": "stdout",
     "output_type": "stream",
     "text": [
      "Extracting parameters from data/original/sub03/exp01/eeg/SP 110RMT r1/clean.set...\n",
      "50 matching events found\n",
      "No baseline correction applied\n",
      "Not setting metadata\n",
      "0 projection items activated\n",
      "Ready.\n",
      "Converting \"time\" to \"<class 'numpy.int64'>\"...\n",
      "Converting \"time\" to \"<class 'numpy.int64'>\"...\n",
      "Converting \"time\" to \"<class 'numpy.int64'>\"...\n",
      "Converting \"time\" to \"<class 'numpy.int64'>\"...\n",
      "Converting \"time\" to \"<class 'numpy.int64'>\"...\n",
      "Converting \"time\" to \"<class 'numpy.int64'>\"...\n",
      "Converting \"time\" to \"<class 'numpy.int64'>\"...\n",
      "Converting \"time\" to \"<class 'numpy.int64'>\"...\n",
      "Converting \"time\" to \"<class 'numpy.int64'>\"...\n",
      "Converting \"time\" to \"<class 'numpy.int64'>\"...\n",
      "Converting \"time\" to \"<class 'numpy.int64'>\"...\n",
      "Converting \"time\" to \"<class 'numpy.int64'>\"...\n",
      "Converting \"time\" to \"<class 'numpy.int64'>\"...\n",
      "Converting \"time\" to \"<class 'numpy.int64'>\"...\n",
      "Converting \"time\" to \"<class 'numpy.int64'>\"...\n",
      "Converting \"time\" to \"<class 'numpy.int64'>\"...\n",
      "Converting \"time\" to \"<class 'numpy.int64'>\"...\n",
      "Converting \"time\" to \"<class 'numpy.int64'>\"...\n",
      "Converting \"time\" to \"<class 'numpy.int64'>\"...\n",
      "Converting \"time\" to \"<class 'numpy.int64'>\"...\n",
      "Converting \"time\" to \"<class 'numpy.int64'>\"...\n",
      "Converting \"time\" to \"<class 'numpy.int64'>\"...\n",
      "Converting \"time\" to \"<class 'numpy.int64'>\"...\n",
      "Converting \"time\" to \"<class 'numpy.int64'>\"...\n",
      "Converting \"time\" to \"<class 'numpy.int64'>\"...\n",
      "Converting \"time\" to \"<class 'numpy.int64'>\"...\n",
      "Converting \"time\" to \"<class 'numpy.int64'>\"...\n",
      "Converting \"time\" to \"<class 'numpy.int64'>\"...\n",
      "Converting \"time\" to \"<class 'numpy.int64'>\"...\n",
      "Converting \"time\" to \"<class 'numpy.int64'>\"...\n",
      "Converting \"time\" to \"<class 'numpy.int64'>\"...\n",
      "Converting \"time\" to \"<class 'numpy.int64'>\"...\n",
      "Converting \"time\" to \"<class 'numpy.int64'>\"...\n",
      "Converting \"time\" to \"<class 'numpy.int64'>\"...\n",
      "Converting \"time\" to \"<class 'numpy.int64'>\"...\n",
      "Converting \"time\" to \"<class 'numpy.int64'>\"...\n",
      "Converting \"time\" to \"<class 'numpy.int64'>\"...\n",
      "Converting \"time\" to \"<class 'numpy.int64'>\"...\n",
      "Converting \"time\" to \"<class 'numpy.int64'>\"...\n",
      "Converting \"time\" to \"<class 'numpy.int64'>\"...\n",
      "Converting \"time\" to \"<class 'numpy.int64'>\"...\n",
      "Converting \"time\" to \"<class 'numpy.int64'>\"...\n",
      "Converting \"time\" to \"<class 'numpy.int64'>\"...\n",
      "Converting \"time\" to \"<class 'numpy.int64'>\"...\n",
      "Converting \"time\" to \"<class 'numpy.int64'>\"...\n",
      "Converting \"time\" to \"<class 'numpy.int64'>\"...\n",
      "Converting \"time\" to \"<class 'numpy.int64'>\"...\n",
      "Converting \"time\" to \"<class 'numpy.int64'>\"...\n",
      "Converting \"time\" to \"<class 'numpy.int64'>\"...\n",
      "Converting \"time\" to \"<class 'numpy.int64'>\"...\n",
      "Applying baseline correction (mode: mean)\n",
      "Applying baseline correction (mode: mean)\n",
      "Applying baseline correction (mode: mean)\n",
      "Applying baseline correction (mode: mean)\n",
      "Applying baseline correction (mode: mean)\n",
      "Applying baseline correction (mode: mean)\n",
      "Applying baseline correction (mode: mean)\n",
      "Applying baseline correction (mode: mean)\n",
      "Applying baseline correction (mode: mean)\n",
      "Applying baseline correction (mode: mean)\n",
      "Applying baseline correction (mode: mean)\n",
      "Applying baseline correction (mode: mean)\n",
      "Applying baseline correction (mode: mean)\n",
      "Applying baseline correction (mode: mean)\n",
      "Applying baseline correction (mode: mean)\n",
      "Applying baseline correction (mode: mean)\n",
      "Applying baseline correction (mode: mean)\n",
      "Applying baseline correction (mode: mean)\n",
      "Applying baseline correction (mode: mean)\n",
      "Applying baseline correction (mode: mean)\n",
      "Applying baseline correction (mode: mean)\n",
      "Applying baseline correction (mode: mean)\n",
      "Applying baseline correction (mode: mean)\n",
      "Applying baseline correction (mode: mean)\n",
      "Applying baseline correction (mode: mean)\n",
      "Applying baseline correction (mode: mean)\n",
      "Applying baseline correction (mode: mean)\n",
      "Applying baseline correction (mode: mean)\n",
      "Applying baseline correction (mode: mean)\n",
      "Applying baseline correction (mode: mean)\n",
      "Applying baseline correction (mode: mean)\n",
      "Applying baseline correction (mode: mean)\n",
      "Applying baseline correction (mode: mean)\n",
      "Applying baseline correction (mode: mean)\n",
      "Applying baseline correction (mode: mean)\n",
      "Applying baseline correction (mode: mean)\n",
      "Applying baseline correction (mode: mean)\n",
      "Applying baseline correction (mode: mean)\n",
      "Applying baseline correction (mode: mean)\n",
      "Applying baseline correction (mode: mean)\n",
      "Applying baseline correction (mode: mean)\n",
      "Applying baseline correction (mode: mean)\n",
      "Applying baseline correction (mode: mean)\n",
      "Applying baseline correction (mode: mean)\n",
      "Applying baseline correction (mode: mean)\n",
      "Applying baseline correction (mode: mean)\n",
      "Applying baseline correction (mode: mean)\n",
      "Applying baseline correction (mode: mean)\n",
      "Applying baseline correction (mode: mean)\n",
      "Applying baseline correction (mode: mean)\n"
     ]
    },
    {
     "ename": "KeyError",
     "evalue": "\"['signal time'] not found in axis\"",
     "output_type": "error",
     "traceback": [
      "\u001b[0;31m---------------------------------------------------------------------------\u001b[0m",
      "\u001b[0;31mKeyError\u001b[0m                                  Traceback (most recent call last)",
      "\u001b[0;32m<ipython-input-19-15c83fdf9c28>\u001b[0m in \u001b[0;36m<module>\u001b[0;34m\u001b[0m\n\u001b[1;32m      7\u001b[0m             \u001b[0mfig\u001b[0m\u001b[0;34m,\u001b[0m \u001b[0maxs\u001b[0m \u001b[0;34m=\u001b[0m \u001b[0mplt\u001b[0m\u001b[0;34m.\u001b[0m\u001b[0msubplots\u001b[0m\u001b[0;34m(\u001b[0m\u001b[0;36m4\u001b[0m\u001b[0;34m,\u001b[0m \u001b[0;36m1\u001b[0m\u001b[0;34m,\u001b[0m \u001b[0mfigsize\u001b[0m\u001b[0;34m=\u001b[0m\u001b[0;34m(\u001b[0m\u001b[0;36m10\u001b[0m\u001b[0;34m,\u001b[0m \u001b[0;36m16\u001b[0m\u001b[0;34m)\u001b[0m\u001b[0;34m)\u001b[0m\u001b[0;34m\u001b[0m\u001b[0;34m\u001b[0m\u001b[0m\n\u001b[1;32m      8\u001b[0m             \u001b[0;32mfor\u001b[0m \u001b[0meeg\u001b[0m \u001b[0;32min\u001b[0m \u001b[0mraw_eeg\u001b[0m\u001b[0;34m:\u001b[0m\u001b[0;34m\u001b[0m\u001b[0;34m\u001b[0m\u001b[0m\n\u001b[0;32m----> 9\u001b[0;31m                 \u001b[0maxs\u001b[0m\u001b[0;34m[\u001b[0m\u001b[0;36m0\u001b[0m\u001b[0;34m]\u001b[0m\u001b[0;34m.\u001b[0m\u001b[0mplot\u001b[0m\u001b[0;34m(\u001b[0m\u001b[0meeg\u001b[0m\u001b[0;34m.\u001b[0m\u001b[0mindex\u001b[0m\u001b[0;34m.\u001b[0m\u001b[0mvalues\u001b[0m\u001b[0;34m,\u001b[0m \u001b[0meeg\u001b[0m\u001b[0;34m.\u001b[0m\u001b[0mreset_index\u001b[0m\u001b[0;34m(\u001b[0m\u001b[0;34m)\u001b[0m\u001b[0;34m.\u001b[0m\u001b[0mdrop\u001b[0m\u001b[0;34m(\u001b[0m\u001b[0;34m[\u001b[0m\u001b[0;34m'signal time'\u001b[0m\u001b[0;34m,\u001b[0m \u001b[0;34m'time'\u001b[0m\u001b[0;34m]\u001b[0m\u001b[0;34m,\u001b[0m \u001b[0maxis\u001b[0m\u001b[0;34m=\u001b[0m\u001b[0;36m1\u001b[0m\u001b[0;34m)\u001b[0m\u001b[0;34m)\u001b[0m\u001b[0;34m\u001b[0m\u001b[0;34m\u001b[0m\u001b[0m\n\u001b[0m\u001b[1;32m     10\u001b[0m             \u001b[0maxs\u001b[0m\u001b[0;34m[\u001b[0m\u001b[0;36m0\u001b[0m\u001b[0;34m]\u001b[0m\u001b[0;34m.\u001b[0m\u001b[0mset_title\u001b[0m\u001b[0;34m(\u001b[0m\u001b[0;34m'Clean EEG'\u001b[0m\u001b[0;34m)\u001b[0m\u001b[0;34m\u001b[0m\u001b[0;34m\u001b[0m\u001b[0m\n\u001b[1;32m     11\u001b[0m             \u001b[0maxs\u001b[0m\u001b[0;34m[\u001b[0m\u001b[0;36m0\u001b[0m\u001b[0;34m]\u001b[0m\u001b[0;34m.\u001b[0m\u001b[0mset\u001b[0m\u001b[0;34m(\u001b[0m\u001b[0mxlabel\u001b[0m\u001b[0;34m=\u001b[0m\u001b[0;34m'Time (ms)'\u001b[0m\u001b[0;34m,\u001b[0m \u001b[0mylabel\u001b[0m\u001b[0;34m=\u001b[0m\u001b[0;34m'mV'\u001b[0m\u001b[0;34m)\u001b[0m\u001b[0;34m\u001b[0m\u001b[0;34m\u001b[0m\u001b[0m\n",
      "\u001b[0;32m~/anaconda3/envs/tmseeg/lib/python3.7/site-packages/pandas/core/frame.py\u001b[0m in \u001b[0;36mdrop\u001b[0;34m(self, labels, axis, index, columns, level, inplace, errors)\u001b[0m\n\u001b[1;32m   3938\u001b[0m                                            \u001b[0mindex\u001b[0m\u001b[0;34m=\u001b[0m\u001b[0mindex\u001b[0m\u001b[0;34m,\u001b[0m \u001b[0mcolumns\u001b[0m\u001b[0;34m=\u001b[0m\u001b[0mcolumns\u001b[0m\u001b[0;34m,\u001b[0m\u001b[0;34m\u001b[0m\u001b[0;34m\u001b[0m\u001b[0m\n\u001b[1;32m   3939\u001b[0m                                            \u001b[0mlevel\u001b[0m\u001b[0;34m=\u001b[0m\u001b[0mlevel\u001b[0m\u001b[0;34m,\u001b[0m \u001b[0minplace\u001b[0m\u001b[0;34m=\u001b[0m\u001b[0minplace\u001b[0m\u001b[0;34m,\u001b[0m\u001b[0;34m\u001b[0m\u001b[0;34m\u001b[0m\u001b[0m\n\u001b[0;32m-> 3940\u001b[0;31m                                            errors=errors)\n\u001b[0m\u001b[1;32m   3941\u001b[0m \u001b[0;34m\u001b[0m\u001b[0m\n\u001b[1;32m   3942\u001b[0m     @rewrite_axis_style_signature('mapper', [('copy', True),\n",
      "\u001b[0;32m~/anaconda3/envs/tmseeg/lib/python3.7/site-packages/pandas/core/generic.py\u001b[0m in \u001b[0;36mdrop\u001b[0;34m(self, labels, axis, index, columns, level, inplace, errors)\u001b[0m\n\u001b[1;32m   3778\u001b[0m         \u001b[0;32mfor\u001b[0m \u001b[0maxis\u001b[0m\u001b[0;34m,\u001b[0m \u001b[0mlabels\u001b[0m \u001b[0;32min\u001b[0m \u001b[0maxes\u001b[0m\u001b[0;34m.\u001b[0m\u001b[0mitems\u001b[0m\u001b[0;34m(\u001b[0m\u001b[0;34m)\u001b[0m\u001b[0;34m:\u001b[0m\u001b[0;34m\u001b[0m\u001b[0;34m\u001b[0m\u001b[0m\n\u001b[1;32m   3779\u001b[0m             \u001b[0;32mif\u001b[0m \u001b[0mlabels\u001b[0m \u001b[0;32mis\u001b[0m \u001b[0;32mnot\u001b[0m \u001b[0;32mNone\u001b[0m\u001b[0;34m:\u001b[0m\u001b[0;34m\u001b[0m\u001b[0;34m\u001b[0m\u001b[0m\n\u001b[0;32m-> 3780\u001b[0;31m                 \u001b[0mobj\u001b[0m \u001b[0;34m=\u001b[0m \u001b[0mobj\u001b[0m\u001b[0;34m.\u001b[0m\u001b[0m_drop_axis\u001b[0m\u001b[0;34m(\u001b[0m\u001b[0mlabels\u001b[0m\u001b[0;34m,\u001b[0m \u001b[0maxis\u001b[0m\u001b[0;34m,\u001b[0m \u001b[0mlevel\u001b[0m\u001b[0;34m=\u001b[0m\u001b[0mlevel\u001b[0m\u001b[0;34m,\u001b[0m \u001b[0merrors\u001b[0m\u001b[0;34m=\u001b[0m\u001b[0merrors\u001b[0m\u001b[0;34m)\u001b[0m\u001b[0;34m\u001b[0m\u001b[0;34m\u001b[0m\u001b[0m\n\u001b[0m\u001b[1;32m   3781\u001b[0m \u001b[0;34m\u001b[0m\u001b[0m\n\u001b[1;32m   3782\u001b[0m         \u001b[0;32mif\u001b[0m \u001b[0minplace\u001b[0m\u001b[0;34m:\u001b[0m\u001b[0;34m\u001b[0m\u001b[0;34m\u001b[0m\u001b[0m\n",
      "\u001b[0;32m~/anaconda3/envs/tmseeg/lib/python3.7/site-packages/pandas/core/generic.py\u001b[0m in \u001b[0;36m_drop_axis\u001b[0;34m(self, labels, axis, level, errors)\u001b[0m\n\u001b[1;32m   3810\u001b[0m                 \u001b[0mnew_axis\u001b[0m \u001b[0;34m=\u001b[0m \u001b[0maxis\u001b[0m\u001b[0;34m.\u001b[0m\u001b[0mdrop\u001b[0m\u001b[0;34m(\u001b[0m\u001b[0mlabels\u001b[0m\u001b[0;34m,\u001b[0m \u001b[0mlevel\u001b[0m\u001b[0;34m=\u001b[0m\u001b[0mlevel\u001b[0m\u001b[0;34m,\u001b[0m \u001b[0merrors\u001b[0m\u001b[0;34m=\u001b[0m\u001b[0merrors\u001b[0m\u001b[0;34m)\u001b[0m\u001b[0;34m\u001b[0m\u001b[0;34m\u001b[0m\u001b[0m\n\u001b[1;32m   3811\u001b[0m             \u001b[0;32melse\u001b[0m\u001b[0;34m:\u001b[0m\u001b[0;34m\u001b[0m\u001b[0;34m\u001b[0m\u001b[0m\n\u001b[0;32m-> 3812\u001b[0;31m                 \u001b[0mnew_axis\u001b[0m \u001b[0;34m=\u001b[0m \u001b[0maxis\u001b[0m\u001b[0;34m.\u001b[0m\u001b[0mdrop\u001b[0m\u001b[0;34m(\u001b[0m\u001b[0mlabels\u001b[0m\u001b[0;34m,\u001b[0m \u001b[0merrors\u001b[0m\u001b[0;34m=\u001b[0m\u001b[0merrors\u001b[0m\u001b[0;34m)\u001b[0m\u001b[0;34m\u001b[0m\u001b[0;34m\u001b[0m\u001b[0m\n\u001b[0m\u001b[1;32m   3813\u001b[0m             \u001b[0mresult\u001b[0m \u001b[0;34m=\u001b[0m \u001b[0mself\u001b[0m\u001b[0;34m.\u001b[0m\u001b[0mreindex\u001b[0m\u001b[0;34m(\u001b[0m\u001b[0;34m**\u001b[0m\u001b[0;34m{\u001b[0m\u001b[0maxis_name\u001b[0m\u001b[0;34m:\u001b[0m \u001b[0mnew_axis\u001b[0m\u001b[0;34m}\u001b[0m\u001b[0;34m)\u001b[0m\u001b[0;34m\u001b[0m\u001b[0;34m\u001b[0m\u001b[0m\n\u001b[1;32m   3814\u001b[0m \u001b[0;34m\u001b[0m\u001b[0m\n",
      "\u001b[0;32m~/anaconda3/envs/tmseeg/lib/python3.7/site-packages/pandas/core/indexes/base.py\u001b[0m in \u001b[0;36mdrop\u001b[0;34m(self, labels, errors)\u001b[0m\n\u001b[1;32m   4963\u001b[0m             \u001b[0;32mif\u001b[0m \u001b[0merrors\u001b[0m \u001b[0;34m!=\u001b[0m \u001b[0;34m'ignore'\u001b[0m\u001b[0;34m:\u001b[0m\u001b[0;34m\u001b[0m\u001b[0;34m\u001b[0m\u001b[0m\n\u001b[1;32m   4964\u001b[0m                 raise KeyError(\n\u001b[0;32m-> 4965\u001b[0;31m                     '{} not found in axis'.format(labels[mask]))\n\u001b[0m\u001b[1;32m   4966\u001b[0m             \u001b[0mindexer\u001b[0m \u001b[0;34m=\u001b[0m \u001b[0mindexer\u001b[0m\u001b[0;34m[\u001b[0m\u001b[0;34m~\u001b[0m\u001b[0mmask\u001b[0m\u001b[0;34m]\u001b[0m\u001b[0;34m\u001b[0m\u001b[0;34m\u001b[0m\u001b[0m\n\u001b[1;32m   4967\u001b[0m         \u001b[0;32mreturn\u001b[0m \u001b[0mself\u001b[0m\u001b[0;34m.\u001b[0m\u001b[0mdelete\u001b[0m\u001b[0;34m(\u001b[0m\u001b[0mindexer\u001b[0m\u001b[0;34m)\u001b[0m\u001b[0;34m\u001b[0m\u001b[0;34m\u001b[0m\u001b[0m\n",
      "\u001b[0;31mKeyError\u001b[0m: \"['signal time'] not found in axis\""
     ]
    },
    {
     "data": {
      "image/png": "[encoded data removed]",
      "text/plain": [
       "<Figure size 720x1152 with 4 Axes>"
      ]
     },
     "metadata": {
      "needs_background": "light"
     },
     "output_type": "display_data"
    }
   ],
   "source": [
    "#%% Loop through all the EEGs and MEPs.\n",
    "for eeg_path in eegs:\n",
    "    eeg_take = eeg_path.split('/')[5]\n",
    "    for mep_path in meps:\n",
    "        if (mep_path.split('/')[5] == eeg_take):\n",
    "            mep_size_df, raw_eeg, crop_length = generate_mep_relation(eeg_path, mep_path)\n",
    "            fig, axs = plt.subplots(4, 1, figsize=(10, 16))\n",
    "            for eeg in raw_eeg:\n",
    "                axs[0].plot(eeg.index.values, eeg.reset_index().drop(['signal time', 'time'], axis=1))\n",
    "            axs[0].set_title('Clean EEG')\n",
    "            axs[0].set(xlabel='Time (ms)', ylabel='mV')\n",
    "            axs[0].axvspan(crop_length, 0, facecolor=\"b\", alpha=0.1)\n",
    "            axs[1].plot(mep_size_df.area, mep_size_df.mep, 'o')\n",
    "            axs[1].set_title('MEP Size vs Area Under Curve')\n",
    "            axs[1].set(xlabel='Area', ylabel='MEP Size')\n",
    "            axs[2].plot(mep_size_df.freq, mep_size_df.mep, 'o')\n",
    "            axs[2].set_title('MEP Size vs Dominant Frequency')\n",
    "            axs[2].set(xlabel='Dominant Frequency', ylabel='MEP Size')\n",
    "            axs[3].plot(mep_size_df.max_amplitude, mep_size_df.mep, 'o')\n",
    "            axs[3].set_title('MEP Size vs Max EEG amplitude')\n",
    "            axs[3].set(xlabel='Max Amplitude', ylabel='MEP Size')\n",
    "            fig.suptitle(eeg_path.split('/')[2] + '/' + eeg_path.split('/')[3] + '/' + eeg_path.split('/')[4] + '/' + eeg_path.split('/')[5])\n",
    "            plt.tight_layout()"
   ]
  },
  {
   "cell_type": "code",
   "execution_count": null,
   "metadata": {},
   "outputs": [],
   "source": [
    "#%% Calculate EEG frequency.\n",
    "def calculate_fft(epoch_df):\n",
    "    avg = epoch_df.mean(axis=1)\n",
    "    sp = np.fft.fft(avg.values)\n",
    "    freq = np.fft.fftfreq(1000, 0.001)\n",
    "    return sp, freq"
   ]
  },
  {
   "cell_type": "code",
   "execution_count": null,
   "metadata": {},
   "outputs": [],
   "source": [
    "#%% Loop through all the EEGs and MEPs.\n",
    "for eeg_path in eegs:\n",
    "    eeg_take = eeg_path.split('/')[5]\n",
    "    for mep_path in meps:\n",
    "        if (mep_path.split('/')[5] == eeg_take):\n",
    "            raw_eeg = read_eeg(eeg_path)\n",
    "            epoch_list, crop_length = crop_epochs(raw_eeg, 500)\n",
    "            plt.figure(figsize=(12,4))\n",
    "            for i in range(len(epoch_list)):\n",
    "                sp, freq = calculate_fft(epoch_list[i])\n",
    "                plt.plot(freq[1:40], np.abs(sp[0:39]))\n",
    "                plt.xlabel('Frequency (Hz)')\n",
    "                plt.ylabel('Power')\n",
    "                plt.tight_layout()"
   ]
  },
  {
   "cell_type": "code",
   "execution_count": null,
   "metadata": {},
   "outputs": [],
   "source": []
  }
 ],
 "metadata": {
  "kernelspec": {
   "display_name": "Python 3",
   "language": "python",
   "name": "python3"
  },
  "language_info": {
   "codemirror_mode": {
    "name": "ipython",
    "version": 3
   },
   "file_extension": ".py",
   "mimetype": "text/x-python",
   "name": "python",
   "nbconvert_exporter": "python",
   "pygments_lexer": "ipython3",
   "version": "3.7.3"
  }
 },
 "nbformat": 4,
 "nbformat_minor": 2
}
