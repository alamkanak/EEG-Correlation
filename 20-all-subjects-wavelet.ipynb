{
 "cells": [
  {
   "cell_type": "code",
   "execution_count": 47,
   "metadata": {},
   "outputs": [],
   "source": [
    "%matplotlib inline\n",
    "import glob\n",
    "import pandas as pd\n",
    "import mne\n",
    "import matplotlib.pyplot as plt\n",
    "from io import StringIO\n",
    "import mne\n",
    "from mne.io import read_raw_eeglab, read_epochs_eeglab\n",
    "import numpy as np\n",
    "from scipy import signal\n",
    "import seaborn as sns\n",
    "from sklearn.linear_model import LinearRegression\n",
    "from sklearn.model_selection import train_test_split\n",
    "from sklearn.metrics import mean_squared_error, r2_score\n",
    "\n",
    "import autosklearn.regression\n",
    "import sklearn.model_selection\n",
    "import sklearn.datasets\n",
    "import sklearn.metrics\n",
    "import multiprocessing\n",
    "\n",
    "from matplotlib.backends.backend_agg import FigureCanvasAgg as FigureCanvas\n",
    "from matplotlib.figure import Figure\n",
    "import pickle\n",
    "from wavelets import WaveletAnalysis\n",
    "from tensorflow.keras import layers"
   ]
  },
  {
   "cell_type": "code",
   "execution_count": 2,
   "metadata": {},
   "outputs": [],
   "source": [
    "experiment = 'data/original/*/*'"
   ]
  },
  {
   "cell_type": "code",
   "execution_count": 3,
   "metadata": {},
   "outputs": [
    {
     "name": "stdout",
     "output_type": "stream",
     "text": [
      "True\n"
     ]
    }
   ],
   "source": [
    "meps = sorted(glob.glob(experiment + '/mep/*/*.txt'))\n",
    "mep_present = len(meps) > 0\n",
    "eegs = sorted(glob.glob(experiment + '/eeg/*/clean.set'))\n",
    "eeg_present = len(eegs) > 0\n",
    "all_present = mep_present and eeg_present\n",
    "print(all_present)"
   ]
  },
  {
   "cell_type": "code",
   "execution_count": 4,
   "metadata": {},
   "outputs": [],
   "source": [
    "eegs = [\n",
    "    'data/original/sub01/exp01/eeg/SP 110RMT r1/clean.set',\n",
    "    'data/original/sub03/exp01/eeg/SP 110RMT r1/clean.set',\n",
    "    'data/original/sub04/exp01/eeg/SP 110RMT r1/clean.set',\n",
    "    'data/original/sub05/exp01/eeg/SP 110RMT r3/clean.set',\n",
    "    'data/original/sub06/exp01/eeg/SP 110RMT r1/clean.set',\n",
    "    'data/original/sub07/exp01/eeg/SP 110RMT r1/clean.set',\n",
    "    'data/original/sub08/exp01/eeg/SP 110RMT r1/clean.set',\n",
    "    'data/original/sub10/exp01/eeg/SP 110RMT/clean.set',\n",
    "    'data/original/sub11/exp01/eeg/SP 110RMT/clean.set',\n",
    "    'data/original/sub13/exp01/eeg/SP 110RMT/clean.set'\n",
    "]"
   ]
  },
  {
   "cell_type": "code",
   "execution_count": 5,
   "metadata": {},
   "outputs": [],
   "source": [
    "# Read EEG file and prepare epochs in dataframes.\n",
    "def read_eeg(path):\n",
    "    epochs = read_epochs_eeglab(path)\n",
    "    epochs = epochs.pick_channels(ch_names=['Fp1', 'Fpz', 'Fp2', 'F7', 'F3', 'Fz', 'F4', 'F8', 'FC5', 'FC1', 'FC2', 'FC6', 'M1', 'T7', 'C3', 'Cz', 'C4', 'T8', 'M2', 'CP5', 'CP1', 'CP2', 'CP6', 'P7', 'P3', 'Pz', 'P4', 'P8', 'POz', 'O1', 'O2', 'EOG', 'AF7', 'AF3', 'AF4', 'AF8', 'F5', 'F1', 'F2', 'F6', 'FC3', 'FCz', 'FC4', 'C5', 'C1', 'C2', 'C6', 'CP3', 'CP4', 'P5', 'P1', 'P2', 'P6', 'PO5', 'PO3', 'PO4', 'PO6', 'FT7', 'FT8', 'TP7', 'TP8', 'PO7', 'PO8', 'Oz'])\n",
    "    epoch_list = []\n",
    "    i = 0\n",
    "    for epoch in epochs.iter_evoked():\n",
    "        df = epoch.to_data_frame()\n",
    "        epoch_list.append(df)\n",
    "    return epoch_list"
   ]
  },
  {
   "cell_type": "code",
   "execution_count": 6,
   "metadata": {},
   "outputs": [],
   "source": [
    "# Select EEG before TMS.\n",
    "def crop_epochs(epoch_list, duration_millis=500, sampling_rate=1000):\n",
    "    new_epoch_list = []\n",
    "    for epoch_df in epoch_list:\n",
    "        # Delete EEG after TMS event.\n",
    "        epoch_df['signal time'] = epoch_df.index\n",
    "        epoch_df = epoch_df.reset_index()\n",
    "        indices = epoch_df.index[epoch_df['signal time'] == 0].tolist()\n",
    "        event_index = int(len(indices)/2)\n",
    "        delete_count = epoch_df.shape[0] - indices[event_index]\n",
    "        epoch_df = epoch_df.drop(epoch_df.tail(delete_count).index)\n",
    "\n",
    "        # Select EEG for the selected duration.\n",
    "        keep = int(duration_millis * sampling_rate / 1000)\n",
    "        delete_count = epoch_df.shape[0] - keep\n",
    "        epoch_df = epoch_df.drop(epoch_df.head(delete_count).index)\n",
    "\n",
    "        # Append the epoch in the list.\n",
    "        epoch_df = epoch_df.set_index('signal time')\n",
    "        new_epoch_list.append(epoch_df)\n",
    "    return new_epoch_list, -keep"
   ]
  },
  {
   "cell_type": "code",
   "execution_count": 7,
   "metadata": {},
   "outputs": [],
   "source": [
    "# Open MEP file as dataframe.\n",
    "def open_mep_as_df(path):\n",
    "    fileMep = open(path, \"r+\")\n",
    "    mep_frames = fileMep.read().split('\\n\\n')\n",
    "    df_list = []\n",
    "    for mep_frame in mep_frames:\n",
    "        df_list.append(pd.read_csv(StringIO(mep_frame), '\\t'))\n",
    "    return df_list"
   ]
  },
  {
   "cell_type": "code",
   "execution_count": 8,
   "metadata": {},
   "outputs": [],
   "source": [
    "# Function to get APB column name.\n",
    "def get_apb_column_name(mep_frame):\n",
    "    if 'L APB' in mep_frame:\n",
    "        return 'L APB'\n",
    "    else:\n",
    "        return 'APB'"
   ]
  },
  {
   "cell_type": "code",
   "execution_count": 9,
   "metadata": {},
   "outputs": [],
   "source": [
    "# Function to crop MEP region.\n",
    "def crop_mep_region(mep_frame):\n",
    "    crop_start = 0.211\n",
    "    crop_end = 0.4\n",
    "    multiplier = 7499 / 1.4998\n",
    "    start = int(crop_start * multiplier)\n",
    "    end = int(crop_end * multiplier)\n",
    "    mep_cropped = mep_frame.iloc[start:end, :]\n",
    "    time = mep_frame.iloc[start:end, :]\n",
    "    return mep_cropped, time"
   ]
  },
  {
   "cell_type": "code",
   "execution_count": 10,
   "metadata": {},
   "outputs": [],
   "source": [
    "# Calculate MEP size.\n",
    "def calculate_mep_size(mep_frame):\n",
    "    mep_cropped, time = crop_mep_region(mep_frame)\n",
    "    apb_name = get_apb_column_name(mep_frame)\n",
    "    max_row = mep_frame.iloc[mep_cropped.idxmax(axis=0)[apb_name]]\n",
    "    min_row = mep_frame.iloc[mep_cropped.idxmin(axis=0)[apb_name]]\n",
    "    mep_size = max_row[apb_name] - min_row[apb_name]\n",
    "    return mep_size"
   ]
  },
  {
   "cell_type": "code",
   "execution_count": 11,
   "metadata": {},
   "outputs": [],
   "source": [
    "# Calculate EEG area.\n",
    "def calculate_eeg_area(epoch_df):\n",
    "    gfp = np.sum(epoch_df ** 2, axis=1)\n",
    "    times = gfp.index\n",
    "    gfp = mne.baseline.rescale(gfp.values, times, baseline=(None, 0))\n",
    "    return np.trapz(gfp, times)"
   ]
  },
  {
   "cell_type": "code",
   "execution_count": 12,
   "metadata": {},
   "outputs": [],
   "source": [
    "# Calculate EEG frequency.\n",
    "def calculate_eeg_frequency(channel):\n",
    "    sf = 1000\n",
    "    win = 4 * sf\n",
    "    freqs, psd = signal.welch(channel, sf, nperseg=win)\n",
    "    return freqs, psd"
   ]
  },
  {
   "cell_type": "code",
   "execution_count": 13,
   "metadata": {},
   "outputs": [],
   "source": [
    "def calculate_eeg_max_amplitude(epoch_df):\n",
    "    avg = epoch_df.mean(axis=1)\n",
    "    return np.max(avg.values)"
   ]
  },
  {
   "cell_type": "code",
   "execution_count": 14,
   "metadata": {},
   "outputs": [],
   "source": [
    "def filter_electrodes(epoch, which='lm1'):\n",
    "    if which == 'ltm1':\n",
    "        return epoch.drop(['Fp1', 'Fpz', 'Fp2', 'F7', 'F3', 'Fz', 'F4', 'F8', 'FC2',\n",
    "                'FC6', 'M1', 'T7', 'Cz', 'C4', 'T8', 'M2', 'CP2',\n",
    "                'CP6', 'P7', 'P3', 'Pz', 'P4', 'P8', 'POz', 'O1', 'O2', 'EOG', 'AF7',\n",
    "                'AF3', 'AF4', 'AF8', 'F5', 'F1', 'F2', 'F6', 'FCz', 'FC4',\n",
    "                'C2', 'C6', 'CP4', 'P5', 'P1', 'P2', 'P6', 'PO5', 'PO3',\n",
    "                'PO4', 'PO6', 'FT7', 'FT8', 'TP7', 'TP8', 'PO7', 'PO8', 'Oz'], axis=1)\n",
    "    else:\n",
    "        return epoch.drop(['Fp1', 'Fpz', 'Fp2', 'F7', 'F3', 'Fz', 'F4', 'F8', 'FC5', 'FC1',\n",
    "                'M1', 'T7', 'C3', 'Cz', 'T8', 'M2', 'CP5', 'CP1',\n",
    "                'P7', 'P3', 'Pz', 'P4', 'P8', 'POz', 'O1', 'O2', 'EOG', 'AF7',\n",
    "                'AF3', 'AF4', 'AF8', 'F5', 'F1', 'F2', 'F6', 'FC3', 'FCz', 'C5',\n",
    "                'C1', 'CP3', 'P5', 'P1', 'P2', 'P6', 'PO5', 'PO3',\n",
    "                'PO4', 'PO6', 'FT7', 'FT8', 'TP7', 'TP8', 'PO7', 'PO8', 'Oz'], axis=1)"
   ]
  },
  {
   "cell_type": "code",
   "execution_count": 15,
   "metadata": {},
   "outputs": [],
   "source": [
    "def band_max(freq, psd, start=0, end=4):\n",
    "    start = np.where(freq==start)\n",
    "    if len(start) > 0:\n",
    "        start = start[0][0]\n",
    "    else:\n",
    "        start = 0\n",
    "    end = np.where(freq==end)\n",
    "    if len(end) > 0:\n",
    "        end = end[0][0]\n",
    "    else:\n",
    "        end = start + 4\n",
    "    freq = freq[start:end]\n",
    "    psd = psd[start:end]\n",
    "    i = np.argmax(np.abs(psd))\n",
    "    return freq[i], psd[i]"
   ]
  },
  {
   "cell_type": "code",
   "execution_count": 23,
   "metadata": {},
   "outputs": [],
   "source": [
    "def prepare_wavelet(signal):\n",
    "    wa = WaveletAnalysis(signal, dt=1)\n",
    "    power = wa.wavelet_power\n",
    "    scales = wa.scales\n",
    "    t = wa.time\n",
    "    return power"
   ]
  },
  {
   "cell_type": "code",
   "execution_count": 21,
   "metadata": {
    "scrolled": true
   },
   "outputs": [
    {
     "name": "stdout",
     "output_type": "stream",
     "text": [
      "Extracting parameters from data/original/sub03/exp01/eeg/SP 110RMT r1/clean.set...\n",
      "50 matching events found\n",
      "No baseline correction applied\n",
      "Not setting metadata\n",
      "0 projection items activated\n",
      "Ready.\n",
      "Converting \"time\" to \"<class 'numpy.int64'>\"...\n",
      "Converting \"time\" to \"<class 'numpy.int64'>\"...\n",
      "Converting \"time\" to \"<class 'numpy.int64'>\"...\n",
      "Converting \"time\" to \"<class 'numpy.int64'>\"...\n",
      "Converting \"time\" to \"<class 'numpy.int64'>\"...\n",
      "Converting \"time\" to \"<class 'numpy.int64'>\"...\n",
      "Converting \"time\" to \"<class 'numpy.int64'>\"...\n",
      "Converting \"time\" to \"<class 'numpy.int64'>\"...\n",
      "Converting \"time\" to \"<class 'numpy.int64'>\"...\n",
      "Converting \"time\" to \"<class 'numpy.int64'>\"...\n",
      "Converting \"time\" to \"<class 'numpy.int64'>\"...\n",
      "Converting \"time\" to \"<class 'numpy.int64'>\"...\n",
      "Converting \"time\" to \"<class 'numpy.int64'>\"...\n",
      "Converting \"time\" to \"<class 'numpy.int64'>\"...\n",
      "Converting \"time\" to \"<class 'numpy.int64'>\"...\n",
      "Converting \"time\" to \"<class 'numpy.int64'>\"...\n",
      "Converting \"time\" to \"<class 'numpy.int64'>\"...\n",
      "Converting \"time\" to \"<class 'numpy.int64'>\"...\n",
      "Converting \"time\" to \"<class 'numpy.int64'>\"...\n",
      "Converting \"time\" to \"<class 'numpy.int64'>\"...\n",
      "Converting \"time\" to \"<class 'numpy.int64'>\"...\n",
      "Converting \"time\" to \"<class 'numpy.int64'>\"...\n",
      "Converting \"time\" to \"<class 'numpy.int64'>\"...\n",
      "Converting \"time\" to \"<class 'numpy.int64'>\"...\n",
      "Converting \"time\" to \"<class 'numpy.int64'>\"...\n",
      "Converting \"time\" to \"<class 'numpy.int64'>\"...\n",
      "Converting \"time\" to \"<class 'numpy.int64'>\"...\n",
      "Converting \"time\" to \"<class 'numpy.int64'>\"...\n",
      "Converting \"time\" to \"<class 'numpy.int64'>\"...\n",
      "Converting \"time\" to \"<class 'numpy.int64'>\"...\n",
      "Converting \"time\" to \"<class 'numpy.int64'>\"...\n",
      "Converting \"time\" to \"<class 'numpy.int64'>\"...\n",
      "Converting \"time\" to \"<class 'numpy.int64'>\"...\n",
      "Converting \"time\" to \"<class 'numpy.int64'>\"...\n",
      "Converting \"time\" to \"<class 'numpy.int64'>\"...\n",
      "Converting \"time\" to \"<class 'numpy.int64'>\"...\n",
      "Converting \"time\" to \"<class 'numpy.int64'>\"...\n",
      "Converting \"time\" to \"<class 'numpy.int64'>\"...\n",
      "Converting \"time\" to \"<class 'numpy.int64'>\"...\n",
      "Converting \"time\" to \"<class 'numpy.int64'>\"...\n",
      "Converting \"time\" to \"<class 'numpy.int64'>\"...\n",
      "Converting \"time\" to \"<class 'numpy.int64'>\"...\n",
      "Converting \"time\" to \"<class 'numpy.int64'>\"...\n",
      "Converting \"time\" to \"<class 'numpy.int64'>\"...\n",
      "Converting \"time\" to \"<class 'numpy.int64'>\"...\n",
      "Converting \"time\" to \"<class 'numpy.int64'>\"...\n",
      "Converting \"time\" to \"<class 'numpy.int64'>\"...\n",
      "Converting \"time\" to \"<class 'numpy.int64'>\"...\n",
      "Converting \"time\" to \"<class 'numpy.int64'>\"...\n",
      "Converting \"time\" to \"<class 'numpy.int64'>\"...\n"
     ]
    }
   ],
   "source": [
    "epochs = read_eeg(eeg_path)\n",
    "epochs, _ = crop_epochs(epochs)"
   ]
  },
  {
   "cell_type": "code",
   "execution_count": 56,
   "metadata": {
    "scrolled": true
   },
   "outputs": [],
   "source": [
    "signal = epochs[5].drop('time', axis=1)\n",
    "signal = signal.mean(axis=1)\n",
    "wa = WaveletAnalysis(signal.values, dt=1)\n",
    "power = wa.wavelet_power\n",
    "scales = wa.scales\n",
    "t = wa.time"
   ]
  },
  {
   "cell_type": "code",
   "execution_count": 45,
   "metadata": {},
   "outputs": [
    {
     "data": {
      "text/plain": [
       "<matplotlib.image.AxesImage at 0x7f73a8c84c88>"
      ]
     },
     "execution_count": 45,
     "metadata": {},
     "output_type": "execute_result"
    },
    {
     "data": {
      "image/png": "[encoded data removed]",
      "text/plain": [
       "<Figure size 432x288 with 1 Axes>"
      ]
     },
     "metadata": {
      "needs_background": "light"
     },
     "output_type": "display_data"
    }
   ],
   "source": [
    "plt.imshow(power)"
   ]
  },
  {
   "cell_type": "code",
   "execution_count": 89,
   "metadata": {},
   "outputs": [],
   "source": [
    "def fig2data ( fig ):\n",
    "    \"\"\"\n",
    "    @brief Convert a Matplotlib figure to a 4D numpy array with RGBA channels and return it\n",
    "    @param fig a matplotlib figure\n",
    "    @return a numpy 3D array of RGBA values\n",
    "    \"\"\"\n",
    "    # draw the renderer\n",
    "    fig.canvas.draw ( )\n",
    " \n",
    "    # Get the RGBA buffer from the figure\n",
    "    w,h = fig.canvas.get_width_height()\n",
    "    buf = np.fromstring ( fig.canvas.tostring_argb(), dtype=np.uint8 )\n",
    "    buf.shape = ( w, h,4 )\n",
    " \n",
    "    # canvas.tostring_argb give pixmap in ARGB mode. Roll the ALPHA channel to have it in RGBA mode\n",
    "    buf = np.roll ( buf, 3, axis = 2 )\n",
    "    return buf"
   ]
  },
  {
   "cell_type": "code",
   "execution_count": 90,
   "metadata": {},
   "outputs": [],
   "source": [
    "def fig2img ( fig ):\n",
    "    # put the figure pixmap into a numpy array\n",
    "    buf = fig2data ( fig )\n",
    "    w, h, d = buf.shape\n",
    "    return Image.fromstring( \"RGBA\", ( w ,h ), buf.tostring( ) )"
   ]
  },
  {
   "cell_type": "code",
   "execution_count": 92,
   "metadata": {},
   "outputs": [
    {
     "ename": "ModuleNotFoundError",
     "evalue": "No module named 'Image'",
     "output_type": "error",
     "traceback": [
      "\u001b[0;31m---------------------------------------------------------------------------\u001b[0m",
      "\u001b[0;31mModuleNotFoundError\u001b[0m                       Traceback (most recent call last)",
      "\u001b[0;32m<ipython-input-92-a73c4ff6cc73>\u001b[0m in \u001b[0;36m<module>\u001b[0;34m\u001b[0m\n\u001b[0;32m----> 1\u001b[0;31m \u001b[0;32mimport\u001b[0m \u001b[0mImage\u001b[0m\u001b[0;34m\u001b[0m\u001b[0;34m\u001b[0m\u001b[0m\n\u001b[0m",
      "\u001b[0;31mModuleNotFoundError\u001b[0m: No module named 'Image'"
     ]
    }
   ],
   "source": [
    "import Image"
   ]
  },
  {
   "cell_type": "code",
   "execution_count": 91,
   "metadata": {},
   "outputs": [
    {
     "name": "stderr",
     "output_type": "stream",
     "text": [
      "/home/raquib/anaconda3/envs/tmseeg/lib/python3.7/site-packages/ipykernel_launcher.py:12: DeprecationWarning: The binary mode of fromstring is deprecated, as it behaves surprisingly on unicode inputs. Use frombuffer instead\n",
      "  if sys.path[0] == '':\n"
     ]
    },
    {
     "ename": "NameError",
     "evalue": "name 'Image' is not defined",
     "output_type": "error",
     "traceback": [
      "\u001b[0;31m---------------------------------------------------------------------------\u001b[0m",
      "\u001b[0;31mNameError\u001b[0m                                 Traceback (most recent call last)",
      "\u001b[0;32m<ipython-input-91-775bc3434069>\u001b[0m in \u001b[0;36m<module>\u001b[0;34m\u001b[0m\n\u001b[1;32m      4\u001b[0m \u001b[0mplt\u001b[0m\u001b[0;34m.\u001b[0m\u001b[0maxis\u001b[0m\u001b[0;34m(\u001b[0m\u001b[0;34m'off'\u001b[0m\u001b[0;34m)\u001b[0m\u001b[0;34m\u001b[0m\u001b[0;34m\u001b[0m\u001b[0m\n\u001b[1;32m      5\u001b[0m \u001b[0max\u001b[0m\u001b[0;34m.\u001b[0m\u001b[0mcontourf\u001b[0m\u001b[0;34m(\u001b[0m\u001b[0mT\u001b[0m\u001b[0;34m,\u001b[0m \u001b[0mS\u001b[0m\u001b[0;34m,\u001b[0m \u001b[0mwa\u001b[0m\u001b[0;34m.\u001b[0m\u001b[0mwavelet_power\u001b[0m\u001b[0;34m,\u001b[0m \u001b[0;36m100\u001b[0m\u001b[0;34m)\u001b[0m\u001b[0;34m\u001b[0m\u001b[0;34m\u001b[0m\u001b[0m\n\u001b[0;32m----> 6\u001b[0;31m \u001b[0mdata\u001b[0m \u001b[0;34m=\u001b[0m \u001b[0mfig2img\u001b[0m\u001b[0;34m(\u001b[0m\u001b[0mfig\u001b[0m\u001b[0;34m)\u001b[0m\u001b[0;34m\u001b[0m\u001b[0;34m\u001b[0m\u001b[0m\n\u001b[0m",
      "\u001b[0;32m<ipython-input-90-9227578d347c>\u001b[0m in \u001b[0;36mfig2img\u001b[0;34m(fig)\u001b[0m\n\u001b[1;32m      3\u001b[0m     \u001b[0mbuf\u001b[0m \u001b[0;34m=\u001b[0m \u001b[0mfig2data\u001b[0m \u001b[0;34m(\u001b[0m \u001b[0mfig\u001b[0m \u001b[0;34m)\u001b[0m\u001b[0;34m\u001b[0m\u001b[0;34m\u001b[0m\u001b[0m\n\u001b[1;32m      4\u001b[0m     \u001b[0mw\u001b[0m\u001b[0;34m,\u001b[0m \u001b[0mh\u001b[0m\u001b[0;34m,\u001b[0m \u001b[0md\u001b[0m \u001b[0;34m=\u001b[0m \u001b[0mbuf\u001b[0m\u001b[0;34m.\u001b[0m\u001b[0mshape\u001b[0m\u001b[0;34m\u001b[0m\u001b[0;34m\u001b[0m\u001b[0m\n\u001b[0;32m----> 5\u001b[0;31m     \u001b[0;32mreturn\u001b[0m \u001b[0mImage\u001b[0m\u001b[0;34m.\u001b[0m\u001b[0mfromstring\u001b[0m\u001b[0;34m(\u001b[0m \u001b[0;34m\"RGBA\"\u001b[0m\u001b[0;34m,\u001b[0m \u001b[0;34m(\u001b[0m \u001b[0mw\u001b[0m \u001b[0;34m,\u001b[0m\u001b[0mh\u001b[0m \u001b[0;34m)\u001b[0m\u001b[0;34m,\u001b[0m \u001b[0mbuf\u001b[0m\u001b[0;34m.\u001b[0m\u001b[0mtostring\u001b[0m\u001b[0;34m(\u001b[0m \u001b[0;34m)\u001b[0m \u001b[0;34m)\u001b[0m\u001b[0;34m\u001b[0m\u001b[0;34m\u001b[0m\u001b[0m\n\u001b[0m",
      "\u001b[0;31mNameError\u001b[0m: name 'Image' is not defined"
     ]
    },
    {
     "data": {
      "image/png": "[encoded data removed]",
      "text/plain": [
       "<Figure size 432x288 with 1 Axes>"
      ]
     },
     "metadata": {
      "needs_background": "light"
     },
     "output_type": "display_data"
    }
   ],
   "source": [
    "fig, ax = plt.subplots()\n",
    "T, S = np.meshgrid(wa.time, wa.scales)\n",
    "ax.set_yscale('log')\n",
    "plt.axis('off')\n",
    "ax.contourf(T, S, wa.wavelet_power, 100)\n",
    "data = fig2img(fig)"
   ]
  },
  {
   "cell_type": "code",
   "execution_count": 87,
   "metadata": {},
   "outputs": [
    {
     "data": {
      "text/plain": [
       "(432, 288, 4)"
      ]
     },
     "execution_count": 87,
     "metadata": {},
     "output_type": "execute_result"
    }
   ],
   "source": [
    "data.shape"
   ]
  },
  {
   "cell_type": "code",
   "execution_count": 88,
   "metadata": {},
   "outputs": [
    {
     "data": {
      "text/plain": [
       "<matplotlib.image.AxesImage at 0x7f737576ab70>"
      ]
     },
     "execution_count": 88,
     "metadata": {},
     "output_type": "execute_result"
    },
    {
     "data": {
      "image/png": "[encoded data removed]",
      "text/plain": [
       "<Figure size 432x288 with 1 Axes>"
      ]
     },
     "metadata": {
      "needs_background": "light"
     },
     "output_type": "display_data"
    }
   ],
   "source": [
    "plt.imshow(data[:, :, 2])"
   ]
  },
  {
   "cell_type": "code",
   "execution_count": 71,
   "metadata": {
    "scrolled": true
   },
   "outputs": [
    {
     "data": {
      "image/png": "[encoded data removed]",
      "text/plain": [
       "<Figure size 432x288 with 1 Axes>"
      ]
     },
     "metadata": {
      "needs_background": "light"
     },
     "output_type": "display_data"
    }
   ],
   "source": [
    "fig, ax = plt.subplots()\n",
    "T, S = np.meshgrid(wa.time, wa.scales)\n",
    "ax.set_yscale('log')\n",
    "X = ax.contourf(T, S, wa.wavelet_power, 100)"
   ]
  },
  {
   "cell_type": "code",
   "execution_count": 66,
   "metadata": {},
   "outputs": [
    {
     "data": {
      "text/plain": [
       "<matplotlib.colors.ListedColormap at 0x7f7408534ac8>"
      ]
     },
     "execution_count": 66,
     "metadata": {},
     "output_type": "execute_result"
    }
   ],
   "source": [
    "X.get_cmap()"
   ]
  },
  {
   "cell_type": "code",
   "execution_count": null,
   "metadata": {},
   "outputs": [],
   "source": [
    "prepare_wavelet(signal)"
   ]
  },
  {
   "cell_type": "code",
   "execution_count": 17,
   "metadata": {},
   "outputs": [],
   "source": [
    "def extract_features(eeg_path, mep_path):\n",
    "    epochs = read_eeg(eeg_path)\n",
    "    epochs, _ = crop_epochs(epochs)\n",
    "    mep_frames = open_mep_as_df(mep_path)\n",
    "    if len(epochs) != len(mep_frames):\n",
    "        raise Exception('MEP frame count (' + str(len(mep_frames)) + ') is not equal to EEG epochs count (' + str(len(epochs)) + ') for ' + eeg_path)\n",
    "        return\n",
    "    epoch_features = []\n",
    "    for i in range(len(epochs)):\n",
    "        epoch = epochs[i]\n",
    "        mep = mep_frames[i]\n",
    "        segments = eeg_path.split('/')\n",
    "        d = {'sub': segments[2], 'exp': segments[3], 'run': segments[5], 'epoch': i}\n",
    "\n",
    "        freq, psd = calculate_eeg_frequency(epoch.drop('time', axis=1).values.mean(axis=1))\n",
    "        d['all_all_max_power_freq'], d['all_all_max_power'] = band_max(freq, psd, 4, 40)\n",
    "        d['all_delta_max_power_freq'], d['all_delta_max_power'] = band_max(freq, psd, 0, 4)\n",
    "        d['all_theta_max_power_freq'], d['all_theta_max_power'] = band_max(freq, psd, 4, 8)\n",
    "        d['all_alpha_max_power_freq'], d['all_alpha_max_power'] = band_max(freq, psd, 8, 16)\n",
    "        d['all_beta_max_power_freq'], d['all_beta_max_power'] = band_max(freq, psd, 16, 32)\n",
    "        d['all_gamma_max_power_freq'], d['all_gamma_max_power'] = band_max(freq, psd, 32, 500)\n",
    "\n",
    "        freq, psd = calculate_eeg_frequency(filter_electrodes(epoch.drop('time', axis=1), 'ltm1').values.mean(axis=1))\n",
    "        d['ltm1_all_max_power_freq'], d['ltm1_all_max_power'] = band_max(freq, psd, 4, 40)\n",
    "        d['ltm1_delta_max_power_freq'], d['ltm1_delta_max_power'] = band_max(freq, psd, 0, 4)\n",
    "        d['ltm1_theta_max_power_freq'], d['ltm1_theta_max_power'] = band_max(freq, psd, 4, 8)\n",
    "        d['ltm1_alpha_max_power_freq'], d['ltm1_alpha_max_power'] = band_max(freq, psd, 8, 16)\n",
    "        d['ltm1_beta_max_power_freq'], d['ltm1_beta_max_power'] = band_max(freq, psd, 16, 32)\n",
    "        d['ltm1_gamma_max_power_freq'], d['ltm1_gamma_max_power'] = band_max(freq, psd, 32, 500)\n",
    "\n",
    "        freq, psd = calculate_eeg_frequency(filter_electrodes(epoch.drop('time', axis=1), 'rtm1').values.mean(axis=1))\n",
    "        d['rtm1_all_max_power_freq'], d['rtm1_all_max_power'] = band_max(freq, psd, 4, 40)\n",
    "        d['rtm1_delta_max_power_freq'], d['rtm1_delta_max_power'] = band_max(freq, psd, 0, 4)\n",
    "        d['rtm1_theta_max_power_freq'], d['rtm1_theta_max_power'] = band_max(freq, psd, 4, 8)\n",
    "        d['rtm1_alpha_max_power_freq'], d['rtm1_alpha_max_power'] = band_max(freq, psd, 8, 16)\n",
    "        d['rtm1_beta_max_power_freq'], d['rtm1_beta_max_power'] = band_max(freq, psd, 16, 32)\n",
    "        d['rtm1_gamma_max_power_freq'], d['rtm1_gamma_max_power'] = band_max(freq, psd, 32, 500)\n",
    "\n",
    "        d['area_under_eeg'] = calculate_eeg_area(epoch.drop('time', axis=1))\n",
    "        d['rtm1_area_under_eeg'] = calculate_eeg_area(filter_electrodes(epoch.drop('time', axis=1), 'rtm1'))\n",
    "        d['ltm1_area_under_eeg'] = calculate_eeg_area(filter_electrodes(epoch.drop('time', axis=1), 'ltm1'))\n",
    "        d['all_max_amplitude'] = calculate_eeg_max_amplitude(epoch.drop('time', axis=1))\n",
    "        d['rtm1_max_amplitude'] = calculate_eeg_max_amplitude(filter_electrodes(epoch.drop('time', axis=1), 'rtm1'))\n",
    "        d['ltm1_max_amplitude'] = calculate_eeg_max_amplitude(filter_electrodes(epoch.drop('time', axis=1), 'ltm1'))\n",
    "\n",
    "        d['mep_size'] = calculate_mep_size(mep)\n",
    "        epoch_features.append(d)\n",
    "        \n",
    "        wavelet = {}\n",
    "        wavelet['all'] = prepare_wavelet(epoch.drop('time', axis=1).values.mean())\n",
    "        wavelet['ltm1'] = prepare_wavelet(filter_electrodes(epoch.drop('time', axis=1), 'ltm1').values.mean())\n",
    "        wavelet['rtm1'] = prepare_wavelet(filter_electrodes(epoch.drop('time', axis=1), 'rtm1').values.mean())\n",
    "        filehandler = open('wavelets/' + segments[2] + '-' + segments[3] + '-' + segments[5] + '-' + i + '.pkl', 'w')\n",
    "        pickle.dump(wavelet, filehandler)\n",
    "    return epoch_features"
   ]
  },
  {
   "cell_type": "code",
   "execution_count": 18,
   "metadata": {
    "scrolled": true
   },
   "outputs": [
    {
     "name": "stdout",
     "output_type": "stream",
     "text": [
      "Extracting parameters from data/original/sub03/exp01/eeg/SP 110RMT r1/clean.set...\n",
      "50 matching events found\n",
      "No baseline correction applied\n",
      "Not setting metadata\n",
      "0 projection items activated\n",
      "Ready.\n",
      "Converting \"time\" to \"<class 'numpy.int64'>\"...\n",
      "Converting \"time\" to \"<class 'numpy.int64'>\"...\n",
      "Converting \"time\" to \"<class 'numpy.int64'>\"...\n",
      "Converting \"time\" to \"<class 'numpy.int64'>\"...\n",
      "Converting \"time\" to \"<class 'numpy.int64'>\"...\n",
      "Converting \"time\" to \"<class 'numpy.int64'>\"...\n",
      "Converting \"time\" to \"<class 'numpy.int64'>\"...\n",
      "Converting \"time\" to \"<class 'numpy.int64'>\"...\n",
      "Converting \"time\" to \"<class 'numpy.int64'>\"...\n",
      "Converting \"time\" to \"<class 'numpy.int64'>\"...\n",
      "Converting \"time\" to \"<class 'numpy.int64'>\"...\n",
      "Converting \"time\" to \"<class 'numpy.int64'>\"...\n",
      "Converting \"time\" to \"<class 'numpy.int64'>\"...\n",
      "Converting \"time\" to \"<class 'numpy.int64'>\"...\n",
      "Converting \"time\" to \"<class 'numpy.int64'>\"...\n",
      "Converting \"time\" to \"<class 'numpy.int64'>\"...\n",
      "Converting \"time\" to \"<class 'numpy.int64'>\"...\n",
      "Converting \"time\" to \"<class 'numpy.int64'>\"...\n",
      "Converting \"time\" to \"<class 'numpy.int64'>\"...\n",
      "Converting \"time\" to \"<class 'numpy.int64'>\"...\n",
      "Converting \"time\" to \"<class 'numpy.int64'>\"...\n",
      "Converting \"time\" to \"<class 'numpy.int64'>\"...\n",
      "Converting \"time\" to \"<class 'numpy.int64'>\"...\n",
      "Converting \"time\" to \"<class 'numpy.int64'>\"...\n",
      "Converting \"time\" to \"<class 'numpy.int64'>\"...\n",
      "Converting \"time\" to \"<class 'numpy.int64'>\"...\n",
      "Converting \"time\" to \"<class 'numpy.int64'>\"...\n",
      "Converting \"time\" to \"<class 'numpy.int64'>\"...\n",
      "Converting \"time\" to \"<class 'numpy.int64'>\"...\n",
      "Converting \"time\" to \"<class 'numpy.int64'>\"...\n",
      "Converting \"time\" to \"<class 'numpy.int64'>\"...\n",
      "Converting \"time\" to \"<class 'numpy.int64'>\"...\n",
      "Converting \"time\" to \"<class 'numpy.int64'>\"...\n",
      "Converting \"time\" to \"<class 'numpy.int64'>\"...\n",
      "Converting \"time\" to \"<class 'numpy.int64'>\"...\n",
      "Converting \"time\" to \"<class 'numpy.int64'>\"...\n",
      "Converting \"time\" to \"<class 'numpy.int64'>\"...\n",
      "Converting \"time\" to \"<class 'numpy.int64'>\"...\n",
      "Converting \"time\" to \"<class 'numpy.int64'>\"...\n",
      "Converting \"time\" to \"<class 'numpy.int64'>\"...\n",
      "Converting \"time\" to \"<class 'numpy.int64'>\"...\n",
      "Converting \"time\" to \"<class 'numpy.int64'>\"...\n",
      "Converting \"time\" to \"<class 'numpy.int64'>\"...\n",
      "Converting \"time\" to \"<class 'numpy.int64'>\"...\n",
      "Converting \"time\" to \"<class 'numpy.int64'>\"...\n",
      "Converting \"time\" to \"<class 'numpy.int64'>\"...\n",
      "Converting \"time\" to \"<class 'numpy.int64'>\"...\n",
      "Converting \"time\" to \"<class 'numpy.int64'>\"...\n",
      "Converting \"time\" to \"<class 'numpy.int64'>\"...\n",
      "Converting \"time\" to \"<class 'numpy.int64'>\"...\n",
      "Applying baseline correction (mode: mean)\n",
      "Applying baseline correction (mode: mean)\n",
      "Applying baseline correction (mode: mean)\n"
     ]
    },
    {
     "name": "stderr",
     "output_type": "stream",
     "text": [
      "/home/raquib/anaconda3/envs/tmseeg/lib/python3.7/site-packages/scipy/signal/spectral.py:1970: UserWarning: nperseg = 4000 is greater than input length  = 500, using nperseg = 500\n",
      "  .format(nperseg, input_length))\n"
     ]
    },
    {
     "ename": "NameError",
     "evalue": "name 'avg' is not defined",
     "output_type": "error",
     "traceback": [
      "\u001b[0;31m---------------------------------------------------------------------------\u001b[0m",
      "\u001b[0;31mNameError\u001b[0m                                 Traceback (most recent call last)",
      "\u001b[0;32m<ipython-input-18-7dae8fd84472>\u001b[0m in \u001b[0;36m<module>\u001b[0;34m\u001b[0m\n\u001b[1;32m     10\u001b[0m     \u001b[0mmep_path\u001b[0m \u001b[0;34m=\u001b[0m \u001b[0;34m'/'\u001b[0m\u001b[0;34m.\u001b[0m\u001b[0mjoin\u001b[0m\u001b[0;34m(\u001b[0m\u001b[0msegments\u001b[0m\u001b[0;34m)\u001b[0m \u001b[0;34m+\u001b[0m \u001b[0;34m'/*.txt'\u001b[0m\u001b[0;34m\u001b[0m\u001b[0;34m\u001b[0m\u001b[0m\n\u001b[1;32m     11\u001b[0m     \u001b[0mmep_path\u001b[0m \u001b[0;34m=\u001b[0m \u001b[0mglob\u001b[0m\u001b[0;34m.\u001b[0m\u001b[0mglob\u001b[0m\u001b[0;34m(\u001b[0m\u001b[0mmep_path\u001b[0m\u001b[0;34m)\u001b[0m\u001b[0;34m[\u001b[0m\u001b[0;36m0\u001b[0m\u001b[0;34m]\u001b[0m\u001b[0;34m\u001b[0m\u001b[0;34m\u001b[0m\u001b[0m\n\u001b[0;32m---> 12\u001b[0;31m     \u001b[0mfeatures\u001b[0m \u001b[0;34m=\u001b[0m \u001b[0mfeatures\u001b[0m \u001b[0;34m+\u001b[0m \u001b[0mextract_features\u001b[0m\u001b[0;34m(\u001b[0m\u001b[0meeg_path\u001b[0m\u001b[0;34m,\u001b[0m \u001b[0mmep_path\u001b[0m\u001b[0;34m)\u001b[0m\u001b[0;34m\u001b[0m\u001b[0;34m\u001b[0m\u001b[0m\n\u001b[0m",
      "\u001b[0;32m<ipython-input-17-0da40f158f78>\u001b[0m in \u001b[0;36mextract_features\u001b[0;34m(eeg_path, mep_path)\u001b[0m\n\u001b[1;32m     48\u001b[0m \u001b[0;34m\u001b[0m\u001b[0m\n\u001b[1;32m     49\u001b[0m         \u001b[0mwavelet\u001b[0m \u001b[0;34m=\u001b[0m \u001b[0;34m{\u001b[0m\u001b[0;34m}\u001b[0m\u001b[0;34m\u001b[0m\u001b[0;34m\u001b[0m\u001b[0m\n\u001b[0;32m---> 50\u001b[0;31m         \u001b[0mwavelet\u001b[0m\u001b[0;34m[\u001b[0m\u001b[0;34m'all'\u001b[0m\u001b[0;34m]\u001b[0m \u001b[0;34m=\u001b[0m \u001b[0mprepare_wavelet\u001b[0m\u001b[0;34m(\u001b[0m\u001b[0mepoch\u001b[0m\u001b[0;34m.\u001b[0m\u001b[0mdrop\u001b[0m\u001b[0;34m(\u001b[0m\u001b[0;34m'time'\u001b[0m\u001b[0;34m,\u001b[0m \u001b[0maxis\u001b[0m\u001b[0;34m=\u001b[0m\u001b[0;36m1\u001b[0m\u001b[0;34m)\u001b[0m\u001b[0;34m.\u001b[0m\u001b[0mvalues\u001b[0m\u001b[0;34m.\u001b[0m\u001b[0mmean\u001b[0m\u001b[0;34m(\u001b[0m\u001b[0;34m)\u001b[0m\u001b[0;34m)\u001b[0m\u001b[0;34m\u001b[0m\u001b[0;34m\u001b[0m\u001b[0m\n\u001b[0m\u001b[1;32m     51\u001b[0m         \u001b[0mwavelet\u001b[0m\u001b[0;34m[\u001b[0m\u001b[0;34m'ltm1'\u001b[0m\u001b[0;34m]\u001b[0m \u001b[0;34m=\u001b[0m \u001b[0mprepare_wavelet\u001b[0m\u001b[0;34m(\u001b[0m\u001b[0mfilter_electrodes\u001b[0m\u001b[0;34m(\u001b[0m\u001b[0mepoch\u001b[0m\u001b[0;34m.\u001b[0m\u001b[0mdrop\u001b[0m\u001b[0;34m(\u001b[0m\u001b[0;34m'time'\u001b[0m\u001b[0;34m,\u001b[0m \u001b[0maxis\u001b[0m\u001b[0;34m=\u001b[0m\u001b[0;36m1\u001b[0m\u001b[0;34m)\u001b[0m\u001b[0;34m,\u001b[0m \u001b[0;34m'ltm1'\u001b[0m\u001b[0;34m)\u001b[0m\u001b[0;34m.\u001b[0m\u001b[0mvalues\u001b[0m\u001b[0;34m.\u001b[0m\u001b[0mmean\u001b[0m\u001b[0;34m(\u001b[0m\u001b[0;34m)\u001b[0m\u001b[0;34m)\u001b[0m\u001b[0;34m\u001b[0m\u001b[0;34m\u001b[0m\u001b[0m\n\u001b[1;32m     52\u001b[0m         \u001b[0mwavelet\u001b[0m\u001b[0;34m[\u001b[0m\u001b[0;34m'rtm1'\u001b[0m\u001b[0;34m]\u001b[0m \u001b[0;34m=\u001b[0m \u001b[0mprepare_wavelet\u001b[0m\u001b[0;34m(\u001b[0m\u001b[0mfilter_electrodes\u001b[0m\u001b[0;34m(\u001b[0m\u001b[0mepoch\u001b[0m\u001b[0;34m.\u001b[0m\u001b[0mdrop\u001b[0m\u001b[0;34m(\u001b[0m\u001b[0;34m'time'\u001b[0m\u001b[0;34m,\u001b[0m \u001b[0maxis\u001b[0m\u001b[0;34m=\u001b[0m\u001b[0;36m1\u001b[0m\u001b[0;34m)\u001b[0m\u001b[0;34m,\u001b[0m \u001b[0;34m'rtm1'\u001b[0m\u001b[0;34m)\u001b[0m\u001b[0;34m.\u001b[0m\u001b[0mvalues\u001b[0m\u001b[0;34m.\u001b[0m\u001b[0mmean\u001b[0m\u001b[0;34m(\u001b[0m\u001b[0;34m)\u001b[0m\u001b[0;34m)\u001b[0m\u001b[0;34m\u001b[0m\u001b[0;34m\u001b[0m\u001b[0m\n",
      "\u001b[0;32m<ipython-input-16-77b729428e9a>\u001b[0m in \u001b[0;36mprepare_wavelet\u001b[0;34m(signal)\u001b[0m\n\u001b[1;32m      1\u001b[0m \u001b[0;32mdef\u001b[0m \u001b[0mprepare_wavelet\u001b[0m\u001b[0;34m(\u001b[0m\u001b[0msignal\u001b[0m\u001b[0;34m)\u001b[0m\u001b[0;34m:\u001b[0m\u001b[0;34m\u001b[0m\u001b[0;34m\u001b[0m\u001b[0m\n\u001b[0;32m----> 2\u001b[0;31m     \u001b[0mwa\u001b[0m \u001b[0;34m=\u001b[0m \u001b[0mWaveletAnalysis\u001b[0m\u001b[0;34m(\u001b[0m\u001b[0mavg\u001b[0m\u001b[0;34m.\u001b[0m\u001b[0mvalues\u001b[0m\u001b[0;34m,\u001b[0m \u001b[0mdt\u001b[0m\u001b[0;34m=\u001b[0m\u001b[0;36m1\u001b[0m\u001b[0;34m)\u001b[0m\u001b[0;34m\u001b[0m\u001b[0;34m\u001b[0m\u001b[0m\n\u001b[0m\u001b[1;32m      3\u001b[0m     \u001b[0mpower\u001b[0m \u001b[0;34m=\u001b[0m \u001b[0mwa\u001b[0m\u001b[0;34m.\u001b[0m\u001b[0mwavelet_power\u001b[0m\u001b[0;34m\u001b[0m\u001b[0;34m\u001b[0m\u001b[0m\n\u001b[1;32m      4\u001b[0m     \u001b[0mscales\u001b[0m \u001b[0;34m=\u001b[0m \u001b[0mwa\u001b[0m\u001b[0;34m.\u001b[0m\u001b[0mscales\u001b[0m\u001b[0;34m\u001b[0m\u001b[0;34m\u001b[0m\u001b[0m\n\u001b[1;32m      5\u001b[0m     \u001b[0mt\u001b[0m \u001b[0;34m=\u001b[0m \u001b[0mwa\u001b[0m\u001b[0;34m.\u001b[0m\u001b[0mtime\u001b[0m\u001b[0;34m\u001b[0m\u001b[0;34m\u001b[0m\u001b[0m\n",
      "\u001b[0;31mNameError\u001b[0m: name 'avg' is not defined"
     ]
    }
   ],
   "source": [
    "features = []\n",
    "eegs_to_ignore = ['data/original/sub05/exp01/eeg/SP 110RMT r3/clean.set', \n",
    "                  'data/original/sub01/exp01/eeg/SP 110RMT r1/clean.set']\n",
    "for eeg_path in eegs:\n",
    "    if (eeg_path in eegs_to_ignore):\n",
    "        continue\n",
    "    segments = eeg_path.split('/')\n",
    "    segments[4] = 'mep'\n",
    "    segments = segments[:-1]\n",
    "    mep_path = '/'.join(segments) + '/*.txt'\n",
    "    mep_path = glob.glob(mep_path)[0]\n",
    "    features = features + extract_features(eeg_path, mep_path)"
   ]
  },
  {
   "cell_type": "code",
   "execution_count": null,
   "metadata": {},
   "outputs": [],
   "source": [
    "df = pd.DataFrame(features)\n",
    "df.tail()"
   ]
  },
  {
   "cell_type": "code",
   "execution_count": null,
   "metadata": {},
   "outputs": [],
   "source": [
    "print(df.shape)\n",
    "print(df.columns)"
   ]
  },
  {
   "cell_type": "code",
   "execution_count": null,
   "metadata": {
    "scrolled": true
   },
   "outputs": [],
   "source": [
    "plt.figure(figsize=(14,4))\n",
    "plt.plot(df['ltm1_all_max_power_freq'], df['mep_size'], '.')\n",
    "plt.xlabel('Frequency (Hz)')\n",
    "plt.ylabel('MEP Size')"
   ]
  },
  {
   "cell_type": "code",
   "execution_count": null,
   "metadata": {},
   "outputs": [],
   "source": [
    "plt.figure(figsize=(14,4))\n",
    "plt.plot(df['ltm1_alpha_max_power_freq'], df['mep_size'], '.')\n",
    "plt.xlabel('Frequency - alpha band (Hz)')\n",
    "plt.ylabel('MEP Size')"
   ]
  },
  {
   "cell_type": "code",
   "execution_count": null,
   "metadata": {},
   "outputs": [],
   "source": [
    "plt.figure(figsize=(14,4))\n",
    "plt.plot(df['ltm1_beta_max_power_freq'], df['mep_size'], '.')\n",
    "plt.xlabel('Frequency - beta band (Hz)')\n",
    "plt.ylabel('MEP Size')"
   ]
  },
  {
   "cell_type": "code",
   "execution_count": null,
   "metadata": {},
   "outputs": [],
   "source": [
    "plt.figure(figsize=(14,4))\n",
    "plt.plot(df['ltm1_gamma_max_power_freq'], df['mep_size'], '.')\n",
    "plt.xlabel('Frequency - gamma band (Hz)')\n",
    "plt.ylabel('MEP Size')"
   ]
  },
  {
   "cell_type": "code",
   "execution_count": null,
   "metadata": {},
   "outputs": [],
   "source": [
    "plt.figure(figsize=(14,4))\n",
    "plt.plot(df['ltm1_delta_max_power_freq'], df['mep_size'], '.')\n",
    "plt.xlabel('Frequency - delta band (Hz)')\n",
    "plt.ylabel('MEP Size')"
   ]
  },
  {
   "cell_type": "code",
   "execution_count": null,
   "metadata": {},
   "outputs": [],
   "source": [
    "plt.figure(figsize=(14,4))\n",
    "plt.plot(df['ltm1_theta_max_power_freq'], df['mep_size'], '.')\n",
    "plt.xlabel('Frequency - theta band (Hz)')\n",
    "plt.ylabel('MEP Size')"
   ]
  },
  {
   "cell_type": "code",
   "execution_count": null,
   "metadata": {},
   "outputs": [],
   "source": [
    "df2 = df.groupby(['sub', 'exp', 'run']).mean()\n",
    "df2.head()"
   ]
  },
  {
   "cell_type": "code",
   "execution_count": null,
   "metadata": {},
   "outputs": [],
   "source": [
    "df2.shape"
   ]
  },
  {
   "cell_type": "code",
   "execution_count": null,
   "metadata": {},
   "outputs": [],
   "source": [
    "plt.figure(figsize=(14,4))\n",
    "plt.plot(df2['ltm1_all_max_power_freq'], df2['mep_size'], 'o')\n",
    "plt.xlabel('Frequency (Hz)')\n",
    "plt.ylabel('MEP Size')"
   ]
  },
  {
   "cell_type": "code",
   "execution_count": null,
   "metadata": {},
   "outputs": [],
   "source": [
    "plt.figure(figsize=(14,4))\n",
    "plt.plot(df2['ltm1_alpha_max_power_freq'], df2['mep_size'], 'o')\n",
    "plt.xlabel('Frequency - alpha band (Hz)')\n",
    "plt.ylabel('MEP Size')"
   ]
  },
  {
   "cell_type": "markdown",
   "metadata": {},
   "source": [
    "# Frequency bins"
   ]
  },
  {
   "cell_type": "code",
   "execution_count": null,
   "metadata": {},
   "outputs": [],
   "source": [
    "bins = [0, 4, 8, 16, 32, 100]\n",
    "df3_mean = df.groupby(pd.cut(df['rtm1_all_max_power_freq'], bins)).mean()\n",
    "df3_max = df.groupby(pd.cut(df['rtm1_all_max_power_freq'], bins)).max()\n",
    "df3_min = df.groupby(pd.cut(df['rtm1_all_max_power_freq'], bins)).min()\n",
    "df3_mean['mep_size_mean'] = df3_mean['mep_size']\n",
    "df3_mean['mep_size_max'] = df3_max['mep_size']\n",
    "df3_mean['mep_size_min'] = df3_min['mep_size']\n",
    "df3_mean['rtm1_all_max_power_freq'] = df3_mean.index"
   ]
  },
  {
   "cell_type": "code",
   "execution_count": null,
   "metadata": {},
   "outputs": [],
   "source": [
    "df3_mean[['rtm1_all_max_power_freq', 'mep_size_mean', 'mep_size_max', 'mep_size_min']]"
   ]
  },
  {
   "cell_type": "code",
   "execution_count": null,
   "metadata": {},
   "outputs": [],
   "source": [
    "df4 = df\n",
    "bins = [0, 4, 8, 16, 32, 100]\n",
    "df4['bin'] = pd.cut(df4['ltm1_all_max_power_freq'], bins)\n",
    "df4.head()\n",
    "\n",
    "fig = plt.figure(figsize=(14, 8))\n",
    "ax = sns.boxplot(x=\"bin\", y=\"mep_size\", data=df4)\n",
    "ax.set_xlabel('Frequency Bin')\n",
    "ax.set_ylabel('MEP Size')\n",
    "ax.set_title('Left M1 Electrode Frequency Bins vs MEP Size')"
   ]
  },
  {
   "cell_type": "code",
   "execution_count": null,
   "metadata": {},
   "outputs": [],
   "source": [
    "df4 = df\n",
    "bins = [0, 4, 8, 16, 32, 100]\n",
    "df4['bin'] = pd.cut(df4['rtm1_all_max_power_freq'], bins)\n",
    "df4.head()\n",
    "\n",
    "fig = plt.figure(figsize=(14, 8))\n",
    "ax = sns.boxplot(x=\"bin\", y=\"mep_size\", data=df4)\n",
    "ax.set_xlabel('Frequency Bin')\n",
    "ax.set_ylabel('MEP Size')\n",
    "ax.set_title('Right M1 Electrode Frequency Bins vs MEP Size')"
   ]
  },
  {
   "cell_type": "code",
   "execution_count": null,
   "metadata": {},
   "outputs": [],
   "source": [
    "df4 = df\n",
    "bins = [0, 4, 8, 16, 32, 100]\n",
    "df4['bin'] = pd.cut(df4['all_all_max_power_freq'], bins)\n",
    "df4.head()\n",
    "\n",
    "fig = plt.figure(figsize=(14, 8))\n",
    "ax = sns.boxplot(x=\"bin\", y=\"mep_size\", data=df4)\n",
    "ax.set_xlabel('Frequency Bin')\n",
    "ax.set_ylabel('MEP Size')\n",
    "ax.set_title('All Electrodes Frequency Bins vs MEP Size')"
   ]
  },
  {
   "cell_type": "code",
   "execution_count": null,
   "metadata": {},
   "outputs": [],
   "source": [
    "plt.plot(df4['area_under_eeg'], df4['mep_size'], 'o')\n",
    "plt.xlabel('Area under EEG - all electrodes')\n",
    "plt.ylabel('MEP Size')"
   ]
  },
  {
   "cell_type": "code",
   "execution_count": null,
   "metadata": {},
   "outputs": [],
   "source": [
    "plt.plot(df4['rtm1_area_under_eeg'], df4['mep_size'], 'o')\n",
    "plt.xlabel('Area under EEG - right M1 electrodes')\n",
    "plt.ylabel('MEP Size')"
   ]
  },
  {
   "cell_type": "code",
   "execution_count": null,
   "metadata": {},
   "outputs": [],
   "source": [
    "plt.plot(df4['ltm1_area_under_eeg'], df4['mep_size'], 'o')\n",
    "plt.xlabel('Area under EEG - left M1 electrodes')\n",
    "plt.ylabel('MEP Size')"
   ]
  },
  {
   "cell_type": "code",
   "execution_count": null,
   "metadata": {},
   "outputs": [],
   "source": [
    "plt.plot(df4['all_max_amplitude'], df4['mep_size'], 'o')\n",
    "plt.xlabel('Max amplitude - all electrodes')\n",
    "plt.ylabel('MEP Size')"
   ]
  },
  {
   "cell_type": "code",
   "execution_count": null,
   "metadata": {},
   "outputs": [],
   "source": [
    "plt.plot(df4['ltm1_max_amplitude'], df4['mep_size'], 'o')\n",
    "plt.xlabel('Max amplitude - Left M1 electrodes')\n",
    "plt.ylabel('MEP Size')"
   ]
  },
  {
   "cell_type": "code",
   "execution_count": null,
   "metadata": {},
   "outputs": [],
   "source": [
    "plt.plot(df4['rtm1_max_amplitude'], df4['mep_size'], 'o')\n",
    "plt.xlabel('Max amplitude - Right M1 electrodes')\n",
    "plt.ylabel('MEP Size')"
   ]
  },
  {
   "cell_type": "markdown",
   "metadata": {},
   "source": [
    "# Keras"
   ]
  },
  {
   "cell_type": "code",
   "execution_count": null,
   "metadata": {},
   "outputs": [],
   "source": [
    "x = df[['all_all_max_power', 'all_all_max_power_freq', 'all_alpha_max_power',\n",
    "       'all_alpha_max_power_freq', 'all_beta_max_power',\n",
    "       'all_beta_max_power_freq', 'all_delta_max_power',\n",
    "       'all_delta_max_power_freq', 'all_gamma_max_power',\n",
    "       'all_gamma_max_power_freq', 'all_max_amplitude', 'all_theta_max_power',\n",
    "       'all_theta_max_power_freq', 'area_under_eeg',\n",
    "       'ltm1_all_max_power', 'ltm1_all_max_power_freq', 'ltm1_alpha_max_power',\n",
    "       'ltm1_alpha_max_power_freq', 'ltm1_area_under_eeg',\n",
    "       'ltm1_beta_max_power', 'ltm1_beta_max_power_freq',\n",
    "       'ltm1_delta_max_power', 'ltm1_delta_max_power_freq',\n",
    "       'ltm1_gamma_max_power', 'ltm1_gamma_max_power_freq',\n",
    "       'ltm1_max_amplitude', 'ltm1_theta_max_power',\n",
    "       'ltm1_theta_max_power_freq', 'rtm1_all_max_power',\n",
    "       'rtm1_all_max_power_freq', 'rtm1_alpha_max_power',\n",
    "       'rtm1_alpha_max_power_freq', 'rtm1_area_under_eeg',\n",
    "       'rtm1_beta_max_power', 'rtm1_beta_max_power_freq',\n",
    "       'rtm1_delta_max_power', 'rtm1_delta_max_power_freq',\n",
    "       'rtm1_gamma_max_power', 'rtm1_gamma_max_power_freq',\n",
    "       'rtm1_max_amplitude', 'rtm1_theta_max_power',\n",
    "       'rtm1_theta_max_power_freq']]\n",
    "y = df['mep_size']"
   ]
  },
  {
   "cell_type": "code",
   "execution_count": null,
   "metadata": {},
   "outputs": [],
   "source": [
    "x_train, x_test, y_train, y_test = train_test_split(x, y, test_size=0.33, random_state=23)"
   ]
  }
 ],
 "metadata": {
  "kernelspec": {
   "display_name": "Python 3",
   "language": "python",
   "name": "python3"
  },
  "language_info": {
   "codemirror_mode": {
    "name": "ipython",
    "version": 3
   },
   "file_extension": ".py",
   "mimetype": "text/x-python",
   "name": "python",
   "nbconvert_exporter": "python",
   "pygments_lexer": "ipython3",
   "version": "3.7.3"
  }
 },
 "nbformat": 4,
 "nbformat_minor": 2
}
