{
 "cells": [
  {
   "cell_type": "code",
   "execution_count": 14,
   "metadata": {},
   "outputs": [],
   "source": [
    "import glob\n",
    "import pandas as pd\n",
    "import mne\n",
    "import matplotlib.pyplot as plt\n",
    "from io import StringIO\n",
    "import mne\n",
    "from mne.io import read_raw_eeglab, read_epochs_eeglab\n",
    "import numpy as np\n",
    "from scipy import signal\n",
    "from scipy import fftpack\n",
    "import seaborn as sns\n",
    "from sklearn.linear_model import LinearRegression, LogisticRegression\n",
    "from sklearn.ensemble import RandomForestRegressor\n",
    "from sklearn.model_selection import train_test_split\n",
    "from sklearn.metrics import mean_squared_error, r2_score\n",
    "from tqdm import tqdm, tqdm_notebook\n",
    "import math\n",
    "\n",
    "from sklearn import preprocessing\n",
    "from sklearn.linear_model import SGDClassifier\n",
    "from sklearn.ensemble import GradientBoostingRegressor, RandomForestRegressor\n",
    "from sklearn.svm import SVR\n",
    "from sklearn.svm import SVC\n",
    "from sklearn.metrics import confusion_matrix, classification_report, accuracy_score\n",
    "from sklearn.tree import DecisionTreeClassifier, DecisionTreeRegressor\n",
    "from keras_tqdm import TQDMNotebookCallback\n",
    "from tensorboard.plugins.hparams import api as hp\n",
    "from livelossplot.tf_keras import PlotLossesCallback\n",
    "\n",
    "import autosklearn.regression\n",
    "import sklearn.model_selection\n",
    "import sklearn.datasets\n",
    "import sklearn.metrics\n",
    "import multiprocessing\n",
    "from tpot import TPOTRegressor\n",
    "from oct2py import octave\n",
    "\n",
    "from joblib import Parallel, delayed\n",
    "import multiprocessing\n",
    "from joblib import wrap_non_picklable_objects\n",
    "import json\n",
    "import pickle\n",
    "import os.path\n",
    "from mpl_toolkits.mplot3d import axes3d\n",
    "import timeit\n",
    "from skimage.transform import resize\n",
    "from timeit import default_timer as timer\n",
    "from datetime import timedelta\n",
    "import json\n",
    "\n",
    "import tensorflow as tf\n",
    "from tensorflow import keras\n",
    "from tensorflow.keras import layers, optimizers, callbacks\n",
    "from tensorflow.keras.models import Model, load_model\n",
    "from tensorboard.plugins.hparams import api as hp\n",
    "from tensorflow.keras.utils import plot_model\n",
    "\n",
    "import statsmodels.api as sm\n",
    "import statsmodels.formula.api as smf\n",
    "from statsmodels.genmod import bayes_mixed_glm as glm\n",
    "\n",
    "from sklearn.feature_selection import SelectKBest\n",
    "from sklearn.feature_selection import chi2\n",
    "from sklearn.feature_selection import RFECV\n",
    "\n",
    "from spectrum import arburg, arma2psd, pburg\n",
    "import pylab\n",
    "from scipy.signal import find_peaks"
   ]
  },
  {
   "cell_type": "code",
   "execution_count": 15,
   "metadata": {},
   "outputs": [],
   "source": [
    "df_power = pd.read_excel('122-no-hjorth-v3.xlsx')"
   ]
  },
  {
   "cell_type": "code",
   "execution_count": 16,
   "metadata": {},
   "outputs": [
    {
     "data": {
      "text/html": [
       "<div>\n",
       "<style scoped>\n",
       "    .dataframe tbody tr th:only-of-type {\n",
       "        vertical-align: middle;\n",
       "    }\n",
       "\n",
       "    .dataframe tbody tr th {\n",
       "        vertical-align: top;\n",
       "    }\n",
       "\n",
       "    .dataframe thead th {\n",
       "        text-align: right;\n",
       "    }\n",
       "</style>\n",
       "<table border=\"1\" class=\"dataframe\">\n",
       "  <thead>\n",
       "    <tr style=\"text-align: right;\">\n",
       "      <th></th>\n",
       "      <th>Unnamed: 0</th>\n",
       "      <th>AF3_beta_phase</th>\n",
       "      <th>AF3_beta_power</th>\n",
       "      <th>AF3_gamma_phase</th>\n",
       "      <th>AF3_gamma_power</th>\n",
       "      <th>AF3_high_beta_phase</th>\n",
       "      <th>AF3_high_beta_power</th>\n",
       "      <th>AF3_high_gamma_phase</th>\n",
       "      <th>AF3_high_gamma_power</th>\n",
       "      <th>AF3_low_beta_phase</th>\n",
       "      <th>...</th>\n",
       "      <th>mep_by_cmap</th>\n",
       "      <th>mep_cat_abs</th>\n",
       "      <th>mep_cat_cmap</th>\n",
       "      <th>mep_cat_percentile</th>\n",
       "      <th>mep_duration</th>\n",
       "      <th>mep_latency</th>\n",
       "      <th>mep_size</th>\n",
       "      <th>run</th>\n",
       "      <th>sub</th>\n",
       "      <th>trial_num</th>\n",
       "    </tr>\n",
       "  </thead>\n",
       "  <tbody>\n",
       "    <tr>\n",
       "      <th>0</th>\n",
       "      <td>0</td>\n",
       "      <td>63.122684</td>\n",
       "      <td>4.536592</td>\n",
       "      <td>56.799111</td>\n",
       "      <td>4.633779</td>\n",
       "      <td>31.721667</td>\n",
       "      <td>4.063878</td>\n",
       "      <td>52.763602</td>\n",
       "      <td>4.580448</td>\n",
       "      <td>79.800294</td>\n",
       "      <td>...</td>\n",
       "      <td>0.115366</td>\n",
       "      <td>1</td>\n",
       "      <td>1</td>\n",
       "      <td>1</td>\n",
       "      <td>0.2534</td>\n",
       "      <td>0.0208</td>\n",
       "      <td>2.555237</td>\n",
       "      <td>SP 110RMT r1</td>\n",
       "      <td>sub03</td>\n",
       "      <td>0</td>\n",
       "    </tr>\n",
       "    <tr>\n",
       "      <th>1</th>\n",
       "      <td>1</td>\n",
       "      <td>234.489502</td>\n",
       "      <td>5.161802</td>\n",
       "      <td>43.093444</td>\n",
       "      <td>5.563368</td>\n",
       "      <td>229.305916</td>\n",
       "      <td>4.988481</td>\n",
       "      <td>15.706852</td>\n",
       "      <td>5.641140</td>\n",
       "      <td>241.616465</td>\n",
       "      <td>...</td>\n",
       "      <td>0.040370</td>\n",
       "      <td>1</td>\n",
       "      <td>0</td>\n",
       "      <td>0</td>\n",
       "      <td>0.2452</td>\n",
       "      <td>0.0224</td>\n",
       "      <td>0.894165</td>\n",
       "      <td>SP 110RMT r1</td>\n",
       "      <td>sub03</td>\n",
       "      <td>1</td>\n",
       "    </tr>\n",
       "    <tr>\n",
       "      <th>2</th>\n",
       "      <td>2</td>\n",
       "      <td>258.081834</td>\n",
       "      <td>5.460213</td>\n",
       "      <td>226.242543</td>\n",
       "      <td>6.081591</td>\n",
       "      <td>258.610050</td>\n",
       "      <td>5.606448</td>\n",
       "      <td>102.926195</td>\n",
       "      <td>6.292829</td>\n",
       "      <td>252.918943</td>\n",
       "      <td>...</td>\n",
       "      <td>0.027123</td>\n",
       "      <td>1</td>\n",
       "      <td>0</td>\n",
       "      <td>0</td>\n",
       "      <td>0.2520</td>\n",
       "      <td>0.0222</td>\n",
       "      <td>0.600739</td>\n",
       "      <td>SP 110RMT r1</td>\n",
       "      <td>sub03</td>\n",
       "      <td>2</td>\n",
       "    </tr>\n",
       "    <tr>\n",
       "      <th>3</th>\n",
       "      <td>3</td>\n",
       "      <td>261.465087</td>\n",
       "      <td>5.740030</td>\n",
       "      <td>324.997974</td>\n",
       "      <td>5.531065</td>\n",
       "      <td>264.486221</td>\n",
       "      <td>5.658357</td>\n",
       "      <td>304.889155</td>\n",
       "      <td>5.701548</td>\n",
       "      <td>253.164808</td>\n",
       "      <td>...</td>\n",
       "      <td>0.028755</td>\n",
       "      <td>1</td>\n",
       "      <td>0</td>\n",
       "      <td>0</td>\n",
       "      <td>0.2538</td>\n",
       "      <td>0.0220</td>\n",
       "      <td>0.636902</td>\n",
       "      <td>SP 110RMT r1</td>\n",
       "      <td>sub03</td>\n",
       "      <td>3</td>\n",
       "    </tr>\n",
       "    <tr>\n",
       "      <th>4</th>\n",
       "      <td>4</td>\n",
       "      <td>219.977673</td>\n",
       "      <td>6.345027</td>\n",
       "      <td>102.741044</td>\n",
       "      <td>5.561858</td>\n",
       "      <td>224.916069</td>\n",
       "      <td>6.147498</td>\n",
       "      <td>87.951806</td>\n",
       "      <td>5.213091</td>\n",
       "      <td>138.083361</td>\n",
       "      <td>...</td>\n",
       "      <td>0.026999</td>\n",
       "      <td>1</td>\n",
       "      <td>0</td>\n",
       "      <td>0</td>\n",
       "      <td>0.2516</td>\n",
       "      <td>0.0218</td>\n",
       "      <td>0.597992</td>\n",
       "      <td>SP 110RMT r1</td>\n",
       "      <td>sub03</td>\n",
       "      <td>4</td>\n",
       "    </tr>\n",
       "  </tbody>\n",
       "</table>\n",
       "<p>5 rows × 979 columns</p>\n",
       "</div>"
      ],
      "text/plain": [
       "   Unnamed: 0  AF3_beta_phase  AF3_beta_power  AF3_gamma_phase  \\\n",
       "0           0       63.122684        4.536592        56.799111   \n",
       "1           1      234.489502        5.161802        43.093444   \n",
       "2           2      258.081834        5.460213       226.242543   \n",
       "3           3      261.465087        5.740030       324.997974   \n",
       "4           4      219.977673        6.345027       102.741044   \n",
       "\n",
       "   AF3_gamma_power  AF3_high_beta_phase  AF3_high_beta_power  \\\n",
       "0         4.633779            31.721667             4.063878   \n",
       "1         5.563368           229.305916             4.988481   \n",
       "2         6.081591           258.610050             5.606448   \n",
       "3         5.531065           264.486221             5.658357   \n",
       "4         5.561858           224.916069             6.147498   \n",
       "\n",
       "   AF3_high_gamma_phase  AF3_high_gamma_power  AF3_low_beta_phase  ...  \\\n",
       "0             52.763602              4.580448           79.800294  ...   \n",
       "1             15.706852              5.641140          241.616465  ...   \n",
       "2            102.926195              6.292829          252.918943  ...   \n",
       "3            304.889155              5.701548          253.164808  ...   \n",
       "4             87.951806              5.213091          138.083361  ...   \n",
       "\n",
       "   mep_by_cmap  mep_cat_abs  mep_cat_cmap  mep_cat_percentile  mep_duration  \\\n",
       "0     0.115366            1             1                   1        0.2534   \n",
       "1     0.040370            1             0                   0        0.2452   \n",
       "2     0.027123            1             0                   0        0.2520   \n",
       "3     0.028755            1             0                   0        0.2538   \n",
       "4     0.026999            1             0                   0        0.2516   \n",
       "\n",
       "   mep_latency  mep_size           run    sub  trial_num  \n",
       "0       0.0208  2.555237  SP 110RMT r1  sub03          0  \n",
       "1       0.0224  0.894165  SP 110RMT r1  sub03          1  \n",
       "2       0.0222  0.600739  SP 110RMT r1  sub03          2  \n",
       "3       0.0220  0.636902  SP 110RMT r1  sub03          3  \n",
       "4       0.0218  0.597992  SP 110RMT r1  sub03          4  \n",
       "\n",
       "[5 rows x 979 columns]"
      ]
     },
     "execution_count": 16,
     "metadata": {},
     "output_type": "execute_result"
    }
   ],
   "source": [
    "df_power.head()"
   ]
  },
  {
   "cell_type": "markdown",
   "metadata": {},
   "source": [
    "# MEP normalization"
   ]
  },
  {
   "cell_type": "code",
   "execution_count": 17,
   "metadata": {},
   "outputs": [
    {
     "name": "stderr",
     "output_type": "stream",
     "text": [
      "  0%|          | 0/18 [00:00<?, ?it/s]/home/raquib/anaconda3/envs/tmseeg/lib/python3.7/site-packages/ipykernel_launcher.py:7: SettingWithCopyWarning: \n",
      "A value is trying to be set on a copy of a slice from a DataFrame.\n",
      "Try using .loc[row_indexer,col_indexer] = value instead\n",
      "\n",
      "See the caveats in the documentation: http://pandas.pydata.org/pandas-docs/stable/indexing.html#indexing-view-versus-copy\n",
      "  import sys\n",
      "/home/raquib/anaconda3/envs/tmseeg/lib/python3.7/site-packages/ipykernel_launcher.py:8: SettingWithCopyWarning: \n",
      "A value is trying to be set on a copy of a slice from a DataFrame.\n",
      "Try using .loc[row_indexer,col_indexer] = value instead\n",
      "\n",
      "See the caveats in the documentation: http://pandas.pydata.org/pandas-docs/stable/indexing.html#indexing-view-versus-copy\n",
      "  \n",
      "/home/raquib/anaconda3/envs/tmseeg/lib/python3.7/site-packages/ipykernel_launcher.py:9: SettingWithCopyWarning: \n",
      "A value is trying to be set on a copy of a slice from a DataFrame.\n",
      "Try using .loc[row_indexer,col_indexer] = value instead\n",
      "\n",
      "See the caveats in the documentation: http://pandas.pydata.org/pandas-docs/stable/indexing.html#indexing-view-versus-copy\n",
      "  if __name__ == '__main__':\n",
      "/home/raquib/anaconda3/envs/tmseeg/lib/python3.7/site-packages/ipykernel_launcher.py:10: SettingWithCopyWarning: \n",
      "A value is trying to be set on a copy of a slice from a DataFrame.\n",
      "Try using .loc[row_indexer,col_indexer] = value instead\n",
      "\n",
      "See the caveats in the documentation: http://pandas.pydata.org/pandas-docs/stable/indexing.html#indexing-view-versus-copy\n",
      "  # Remove the CWD from sys.path while we load stuff.\n",
      "100%|██████████| 18/18 [00:05<00:00,  3.66it/s]\n"
     ]
    }
   ],
   "source": [
    "df_power['subexp'] = df_power['sub'] + '.' + df_power['exp']\n",
    "df_new_powers = []\n",
    "for subexp in tqdm(df_power['subexp'].unique()):\n",
    "    df_sub = df_power[df_power['subexp'] == subexp]\n",
    "    mep_size = df_sub['mep_size'].values\n",
    "    mep_size = (mep_size - np.min(mep_size)) / (np.max(mep_size) - np.min(mep_size))\n",
    "    df_sub['mep_size'] = mep_size\n",
    "    df_sub['mep_size_log'] = np.log(0.03+mep_size)\n",
    "    df_sub['mep_by_cmap'] = mep_size / np.mean(df_sub['cmap'].values)\n",
    "    df_sub['mep_by_cmap_log'] = np.log(0.002+df_sub['mep_by_cmap'].values)\n",
    "    df_new_powers.append(df_sub)"
   ]
  },
  {
   "cell_type": "code",
   "execution_count": 18,
   "metadata": {},
   "outputs": [
    {
     "data": {
      "text/plain": [
       "(1876, 982)"
      ]
     },
     "execution_count": 18,
     "metadata": {},
     "output_type": "execute_result"
    }
   ],
   "source": [
    "new_powers = []\n",
    "for block in df_new_powers:\n",
    "    for idx, row in block.iterrows():\n",
    "        new_powers.append(row)\n",
    "df_new_powers = pd.DataFrame(new_powers)\n",
    "df_new_powers.shape"
   ]
  },
  {
   "cell_type": "code",
   "execution_count": 19,
   "metadata": {},
   "outputs": [],
   "source": [
    "df_new_powers.to_excel('123-mep-normalize-v1.xlsx')"
   ]
  },
  {
   "cell_type": "code",
   "execution_count": 41,
   "metadata": {},
   "outputs": [
    {
     "data": {
      "text/plain": [
       "<matplotlib.axes._subplots.AxesSubplot at 0x7f544ef3d9b0>"
      ]
     },
     "execution_count": 41,
     "metadata": {},
     "output_type": "execute_result"
    },
    {
     "data": {
      "image/png": "[encoded data removed]",
      "text/plain": [
       "<Figure size 432x288 with 1 Axes>"
      ]
     },
     "metadata": {
      "needs_background": "light"
     },
     "output_type": "display_data"
    }
   ],
   "source": [
    "df_power[df_power['subexp'] == 'sub03.exp01']['mep_by_cmap'].hist()"
   ]
  },
  {
   "cell_type": "code",
   "execution_count": 51,
   "metadata": {},
   "outputs": [
    {
     "data": {
      "text/plain": [
       "<matplotlib.axes._subplots.AxesSubplot at 0x7f544e9dc630>"
      ]
     },
     "execution_count": 51,
     "metadata": {},
     "output_type": "execute_result"
    },
    {
     "data": {
      "image/png": "[encoded data removed]",
      "text/plain": [
       "<Figure size 432x288 with 1 Axes>"
      ]
     },
     "metadata": {
      "needs_background": "light"
     },
     "output_type": "display_data"
    }
   ],
   "source": [
    "df_new_powers[df_new_powers['subexp'] == 'sub03.exp01']['mep_size_log'].hist()"
   ]
  },
  {
   "cell_type": "code",
   "execution_count": 50,
   "metadata": {},
   "outputs": [
    {
     "data": {
      "text/plain": [
       "<matplotlib.axes._subplots.AxesSubplot at 0x7f544ea55ac8>"
      ]
     },
     "execution_count": 50,
     "metadata": {},
     "output_type": "execute_result"
    },
    {
     "data": {
      "image/png": "[encoded data removed]",
      "text/plain": [
       "<Figure size 432x288 with 1 Axes>"
      ]
     },
     "metadata": {
      "needs_background": "light"
     },
     "output_type": "display_data"
    }
   ],
   "source": [
    "np.log(0.002+df_new_powers[df_new_powers['subexp'] == 'sub03.exp01']['mep_by_cmap']).hist()"
   ]
  },
  {
   "cell_type": "markdown",
   "metadata": {},
   "source": [
    "# EEG power normalization"
   ]
  },
  {
   "cell_type": "code",
   "execution_count": 5,
   "metadata": {},
   "outputs": [],
   "source": [
    "# channels = ['C3', 'C4', 'LTM1', 'RTM1', 'RTOCC', 'LTOCC']\n",
    "# df_power['subexp'] = df_power['sub'] + '.' + df_power['exp']\n",
    "# df_new_powers = []\n",
    "# for subexp in tqdm(df_power['subexp'].unique()):\n",
    "#     df_sub = df_power[df_power['subexp'] == subexp]\n",
    "#     for column in df_sub.columns.values:\n",
    "#         for channel in channels:\n",
    "#             if (channel in column) & ('power' in column):\n",
    "#                 vals = df_sub[column].values\n",
    "#                 df_sub[column] = (vals - np.min(vals)) / (np.max(vals) - np.min(vals))\n",
    "#     df_new_powers.append(df_sub)"
   ]
  },
  {
   "cell_type": "code",
   "execution_count": 6,
   "metadata": {},
   "outputs": [],
   "source": [
    "# len(df_new_powers)"
   ]
  },
  {
   "cell_type": "code",
   "execution_count": 7,
   "metadata": {},
   "outputs": [],
   "source": [
    "# new_powers = []\n",
    "# for block in df_new_powers:\n",
    "#     for idx, row in block.iterrows():\n",
    "#         new_powers.append(row)\n",
    "# df_new_powers = pd.DataFrame(new_powers)\n",
    "# df_new_powers.shape"
   ]
  },
  {
   "cell_type": "code",
   "execution_count": 8,
   "metadata": {},
   "outputs": [],
   "source": [
    "# df_power.shape"
   ]
  },
  {
   "cell_type": "code",
   "execution_count": 9,
   "metadata": {},
   "outputs": [],
   "source": [
    "# df_power[df_power['subexp'] == 'sub04.exp01']['C3_mu_power'].hist()"
   ]
  },
  {
   "cell_type": "code",
   "execution_count": 10,
   "metadata": {},
   "outputs": [],
   "source": [
    "# df_new_powers[df_new_powers['subexp'] == 'sub04.exp01']['C3_mu_power'].hist()"
   ]
  },
  {
   "cell_type": "code",
   "execution_count": 11,
   "metadata": {},
   "outputs": [],
   "source": [
    "# df_new_powers.to_excel('123-normalized.xlsx')"
   ]
  },
  {
   "cell_type": "code",
   "execution_count": null,
   "metadata": {},
   "outputs": [],
   "source": []
  }
 ],
 "metadata": {
  "kernelspec": {
   "display_name": "Python 3",
   "language": "python",
   "name": "python3"
  },
  "language_info": {
   "codemirror_mode": {
    "name": "ipython",
    "version": 3
   },
   "file_extension": ".py",
   "mimetype": "text/x-python",
   "name": "python",
   "nbconvert_exporter": "python",
   "pygments_lexer": "ipython3",
   "version": "3.7.3"
  }
 },
 "nbformat": 4,
 "nbformat_minor": 4
}
