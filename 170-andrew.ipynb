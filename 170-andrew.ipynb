{
 "cells": [
  {
   "cell_type": "markdown",
   "metadata": {},
   "source": [
    "# Import everything"
   ]
  },
  {
   "cell_type": "code",
   "execution_count": 1,
   "metadata": {},
   "outputs": [],
   "source": [
    "import glob\n",
    "import pandas as pd\n",
    "import matplotlib.pyplot as plt\n",
    "from io import StringIO\n",
    "import numpy as np\n",
    "from scipy import signal\n",
    "from scipy import fftpack\n",
    "import seaborn as sns\n",
    "from tqdm.notebook import tqdm\n",
    "import math\n",
    "\n",
    "import sklearn.model_selection\n",
    "import sklearn.datasets\n",
    "import sklearn.metrics\n",
    "import multiprocessing\n",
    "from joblib import Parallel, delayed\n",
    "import multiprocessing\n",
    "from joblib import wrap_non_picklable_objects\n",
    "import json\n",
    "import pickle\n",
    "import os.path\n",
    "from mpl_toolkits.mplot3d import axes3d\n",
    "import timeit\n",
    "from timeit import default_timer as timer\n",
    "from datetime import timedelta\n",
    "import json\n",
    "import statsmodels.api as sm\n",
    "import statsmodels.formula.api as smf\n",
    "from statsmodels.genmod import bayes_mixed_glm as glm\n",
    "from sklearn.feature_selection import SelectKBest\n",
    "from sklearn.feature_selection import chi2\n",
    "from sklearn.feature_selection import RFECV\n",
    "from spectrum import arburg, arma2psd, pburg\n",
    "import pylab\n",
    "from scipy.signal import find_peaks, butter\n",
    "from scipy.integrate import simps\n",
    "from scipy.io import loadmat\n",
    "from numpy import trapz\n",
    "import scipy.fftpack"
   ]
  },
  {
   "cell_type": "markdown",
   "metadata": {},
   "source": [
    "# Load file paths of EEGs."
   ]
  },
  {
   "cell_type": "code",
   "execution_count": 2,
   "metadata": {},
   "outputs": [
    {
     "name": "stdout",
     "output_type": "stream",
     "text": [
      "Raw: 15\n",
      "Raw Hjorth: 15\n",
      "Clean: 15\n",
      "Clean Hjorth: 15\n"
     ]
    }
   ],
   "source": [
    "paths_raw = sorted(glob.glob('data/dataset3/raw/*.mat'))\n",
    "paths_raw_hjorth = sorted(glob.glob('data/dataset3/raw-hjorth/*.mat'))\n",
    "paths_clean = sorted(glob.glob('data/dataset3/clean/*.mat'))\n",
    "paths_clean_hjorth = sorted(glob.glob('data/dataset3/clean-hjorth/*.mat'))\n",
    "print(\"Raw: {}\\nRaw Hjorth: {}\\nClean: {}\\nClean Hjorth: {}\".format(len(paths_raw), len(paths_raw_hjorth), len(paths_clean), len(paths_clean_hjorth)))"
   ]
  },
  {
   "cell_type": "markdown",
   "metadata": {},
   "source": [
    "# Read EEG files"
   ]
  },
  {
   "cell_type": "code",
   "execution_count": 3,
   "metadata": {},
   "outputs": [],
   "source": [
    "def read_trials_from_raw(filename, time_start, time_end, columns):\n",
    "    x = loadmat(filename)\n",
    "    x = x['EEGData']\n",
    "    trials = []\n",
    "    time = np.linspace(time_start, time_end, len(x[0, :, 0]))\n",
    "    for trial_num in range(x.shape[2]):\n",
    "        trial = np.transpose(x[:, :, trial_num])\n",
    "        trial = pd.DataFrame(data=trial, columns=columns)\n",
    "        trial['time'] = time\n",
    "        trials.append(trial)\n",
    "    return trials\n",
    "\n",
    "def read_trials_from_hjorth(filename, time_start, time_end):\n",
    "    x = loadmat(filename)\n",
    "    mat_trials = x['dat'][0][0][3][0]\n",
    "    trials = []\n",
    "    time = np.linspace(time_start, time_end, len(mat_trials[0][0]))\n",
    "    for mat_trial in mat_trials:\n",
    "        trials.append(pd.DataFrame({'C3': mat_trial[0], 'C4': mat_trial[1], 'time': time}))\n",
    "    return trials"
   ]
  },
  {
   "cell_type": "markdown",
   "metadata": {},
   "source": [
    "# Power and phase calculation"
   ]
  },
  {
   "cell_type": "code",
   "execution_count": 89,
   "metadata": {},
   "outputs": [],
   "source": [
    "def blackman_harris_filter(channel, time, cutoffs, fs, numtaps):\n",
    "    b = signal.firwin(numtaps, cutoffs, window='blackmanharris', fs=fs)\n",
    "    filtered = signal.lfilter(b, 1, channel)\n",
    "    delay = 0.5 * (numtaps - 1) / fs\n",
    "    df = pd.DataFrame({\n",
    "        'time': time-delay,\n",
    "        'channel': filtered\n",
    "    })\n",
    "    return df\n",
    "\n",
    "def butter_bandpass_filter(data, lowcut, highcut, fs, btype, order):\n",
    "    nyq = 0.5 * fs\n",
    "    low = lowcut / nyq\n",
    "    high = highcut / nyq\n",
    "    b, a = butter(order, [low, high], btype=btype)\n",
    "    y = signal.lfilter(b, a, data)\n",
    "    return y\n",
    "\n",
    "def get_phase(channel, time, band, fs, filter_type, start_time_ms, stop_time_ms, blackmann_harris_ntaps, line_noise_band):\n",
    "    \n",
    "    if line_noise_band is not None:\n",
    "        if filter_type == 'butter':\n",
    "            channel = butter_bandpass_filter(channel, line_noise_band[0], line_noise_band[1], fs, 'bandstop', order=4)\n",
    "        else:\n",
    "            df_filtered = blackman_harris_filter(channel, time, line_noise_band, fs, numtaps=blackmann_harris_ntaps)\n",
    "            channel = df_filtered['channel'].values\n",
    "            time = df_filtered['time'].values\n",
    "    \n",
    "    if filter_type=='butter':\n",
    "        df_filtered = pd.DataFrame({'channel': butter_bandpass_filter(channel, band[0], band[1], fs, btype='bandpass', order=3), 'time': time})\n",
    "    else:\n",
    "        df_filtered = blackman_harris_filter(channel, time, [0.000001, band[0]], fs, numtaps=blackmann_harris_ntaps)\n",
    "        df_filtered = blackman_harris_filter(df_filtered['channel'].values, df_filtered['time'].values, band[1], fs, numtaps=blackmann_harris_ntaps)    \n",
    "    \n",
    "    hilb = signal.hilbert(df_filtered[(df_filtered['time'] > start_time_ms) & (df_filtered['time'] < stop_time_ms)]['channel'])\n",
    "    phase = np.angle(hilb, deg=True)\n",
    "    df_phase = pd.DataFrame(phase, columns=['phase'])\n",
    "    df_phase['time'] = df_filtered[(df_filtered['time'] > start_time_ms) & (df_filtered['time'] < stop_time_ms)]['time'].values\n",
    "    return df_phase\n",
    "\n",
    "def get_power(channel, time, fs, crop_start_millis, crop_end_millis, method, filter_type, resample_fs, line_noise_band, blackmann_harris_ntaps):\n",
    "    # Crop.\n",
    "    channel = channel[(time > crop_start_millis) & (time < crop_end_millis)].values\n",
    "    time = time[(time > crop_start_millis) & (time < crop_end_millis)].values\n",
    "    \n",
    "    # Resample\n",
    "    if resample_fs is None:\n",
    "        resampled = channel\n",
    "        resampled_time = time\n",
    "    else:\n",
    "        ts = time[1] - time[0]\n",
    "        secs = len(channel) * ts\n",
    "        secs = secs/1000\n",
    "        resampled = signal.resample(channel, int(secs*resample_fs))\n",
    "        resampled_time = np.linspace(time[0], time[-1], len(resampled))\n",
    "        fs = resample_fs\n",
    "\n",
    "    # Remove line nosie.\n",
    "    if filter_type == 'butter':\n",
    "        resampled = butter_bandpass_filter(resampled, line_noise_band[0], line_noise_band[1], fs, 'bandstop', order=4)\n",
    "        resampled_time = time\n",
    "    else:\n",
    "        df_filtered = blackman_harris_filter(resampled, resampled_time, line_noise_band, fs, numtaps=blackmann_harris_ntaps)\n",
    "        resampled = df_filtered['channel']\n",
    "        resampled_time = df_filtered['time']\n",
    "    \n",
    "    # PSD.\n",
    "    if method == 'welch':\n",
    "        # Welch method\n",
    "        freq, power = signal.welch(resampled, fs, nperseg=4*fs, nfft=fs)\n",
    "        df_power = pd.DataFrame({'freq': freq, 'power': power})\n",
    "    elif method == 'fft':\n",
    "        # FFT method\n",
    "        T = 1/fs\n",
    "        N = fs//2\n",
    "        yf = scipy.fftpack.fft(resampled, n=N)\n",
    "        yf = 2 / (N/2) * np.abs(yf[:N//2])\n",
    "        xf = np.linspace(0, 1/(2*T), N // 2)\n",
    "        df_power = pd.DataFrame({'freq': xf, 'power': yf})\n",
    "    elif method == 'pburg':\n",
    "        # Burgs method\n",
    "        order = min(len(resampled)-2, int(fs/4))\n",
    "        p = pburg(resampled, order, sampling=fs, NFFT=fs)\n",
    "        power = p.psd\n",
    "        freq = np.linspace(0, fs/2, len(power))\n",
    "        df_power = pd.DataFrame({'freq': freq, 'power': power})\n",
    "\n",
    "    df_power = df_power[df_power['freq'] < fs/2]\n",
    "    df_power['power'] = 10 * np.log10(df_power['power'])\n",
    "    return df_power"
   ]
  },
  {
   "cell_type": "markdown",
   "metadata": {},
   "source": [
    "# Diagnose #1"
   ]
  },
  {
   "cell_type": "code",
   "execution_count": 90,
   "metadata": {},
   "outputs": [],
   "source": [
    "# ind = 5\n",
    "# trial_num = 20\n",
    "# print(\"{} - {}\".format(ind, paths_raw[ind]))\n",
    "\n",
    "# trials = read_trials_from_raw(paths_raw[ind], -900, 0, ['FP1', 'AF7', 'AF3', 'F1', 'F3', 'F5', 'F7', 'FT7', 'FC5', 'FC3', 'FC1', 'C1', 'C3', 'C5', 'T7', 'TP7', 'CP5', 'CP3', 'CP1', 'P1', 'P3', 'P5', 'P7', 'P9', 'PO7', 'PO3', 'O1', 'IZ', 'OZ', 'POZ', 'PZ', 'CPZ', 'FPZ', 'FP2', 'AF8', 'AF4', 'AFZ', 'FZ', 'F2', 'F4', 'F6', 'F8', 'FT8', 'FC6', 'FC4', 'FC2', 'FCZ', 'CZ', 'C2', 'C4', 'C6', 'T8', 'TP8', 'CP6', 'CP4', 'CP2', 'P2', 'P4', 'P6', 'P8', 'P10', 'PO8', 'PO4', 'O2', 'M1', 'M2', 'NAS', 'LVEOG', 'RVEOG', 'LHEOG', 'RHEOG', 'NFPZ'])\n",
    "# # trials = read_trials_from_raw(clean_files[ind], -900, 0, ['AF1', 'AF2', 'AF7', 'AF8', 'AFZ', 'C1', 'C2', 'C3', 'C4', 'C5', 'C6', 'CP1', 'CP2', 'CP3', 'CP4', 'CP5', 'CP6', 'CPZ', 'CZ', 'F1', 'F2', 'F3', 'F4', 'F5', 'F6', 'F7', 'F8', 'FC1', 'FC2', 'FC3', 'FC4', 'FC5', 'FC6', 'FCZ', 'FP1', 'FP2', 'FPZ', 'FT7', 'FT8', 'FZ', 'O1', 'O2', 'OZ', 'P1', 'P2', 'P3', 'P4', 'P5', 'P6', 'P7', 'P8', 'PO1', 'PO2', 'PO7', 'PO8', 'POZ', 'PZ', 'T7', 'T8', 'TP7', 'TP8', 'X', 'Y', 'nd'])\n",
    "# df_trial = trials[trial_num]\n",
    "\n",
    "# time_start = -750\n",
    "# df_trial = df_trial[df_trial['time'] > time_start]\n",
    "# df_trial = df_trial[df_trial['time'] < 0]\n",
    "# channel = df_trial['C3']\n",
    "# time = df_trial['time']\n",
    "\n",
    "# fs = 256\n",
    "# band = [8, 12]\n",
    "# blackmann_harris_ntaps = 101\n",
    "# line_noise_band = [48, 52]\n",
    "\n",
    "\n",
    "# i = 0\n",
    "# f, axs = plt.subplots(1,3,figsize=(16,2))\n",
    "# axs[i].plot(time, channel)\n",
    "# axs[i].set_title('Waveform')\n",
    "# i = i + 1\n",
    "\n",
    "# freq, power = signal.welch(channel, fs, nperseg=4*fs, nfft=fs)\n",
    "# df_power = pd.DataFrame({'freq': freq, 'power': power})\n",
    "# df_power = df_power[df_power['freq'] < 80]\n",
    "# axs[i].plot(df_power['freq'], 10 * np.log10(df_power['power']))\n",
    "# axs[i].set_title('PSD - Welch')\n",
    "# i = i + 1\n",
    "\n",
    "# order = min(len(channel)-2, int(fs/4))\n",
    "# p = pburg(channel, 64, sampling=fs, NFFT=fs)\n",
    "# power = p.psd\n",
    "# freq = np.linspace(0, fs/2, len(power))\n",
    "# df_power = pd.DataFrame({'freq': freq, 'power': power})\n",
    "# df_power = df_power[df_power['freq'] < 80]\n",
    "# df_power = df_power[df_power['freq'] >3]\n",
    "# axs[i].plot(df_power['freq'], 10 * np.log10(df_power['power']))\n",
    "# axs[i].set_title('PSD - Burg')\n",
    "# i = i + 1\n",
    "# print(order)"
   ]
  },
  {
   "cell_type": "markdown",
   "metadata": {},
   "source": [
    "# Diagnose #2"
   ]
  },
  {
   "cell_type": "code",
   "execution_count": 91,
   "metadata": {},
   "outputs": [],
   "source": [
    "# ind = 5\n",
    "# trials = read_trials_from_raw(paths_raw[ind], -900, 0, ['FP1', 'AF7', 'AF3', 'F1', 'F3', 'F5', 'F7', 'FT7', 'FC5', 'FC3', 'FC1', 'C1', 'C3', 'C5', 'T7', 'TP7', 'CP5', 'CP3', 'CP1', 'P1', 'P3', 'P5', 'P7', 'P9', 'PO7', 'PO3', 'O1', 'IZ', 'OZ', 'POZ', 'PZ', 'CPZ', 'FPZ', 'FP2', 'AF8', 'AF4', 'AFZ', 'FZ', 'F2', 'F4', 'F6', 'F8', 'FT8', 'FC6', 'FC4', 'FC2', 'FCZ', 'CZ', 'C2', 'C4', 'C6', 'T8', 'TP8', 'CP6', 'CP4', 'CP2', 'P2', 'P4', 'P6', 'P8', 'P10', 'PO8', 'PO4', 'O2', 'M1', 'M2', 'NAS', 'LVEOG', 'RVEOG', 'LHEOG', 'RHEOG', 'NFPZ'])\n",
    "# trial = trials[20]\n",
    "# time = trial['time']\n",
    "# channel = trial['C3']\n",
    "\n",
    "# fs = 256\n",
    "# band = [8, 12]\n",
    "# blackmann_harris_ntaps = 151\n",
    "# line_noise_band = [58, 62]\n",
    "# crop_start_millis = -750\n",
    "\n",
    "# for filter_type in ['butter', 'blackmann']:\n",
    "#     i = 0\n",
    "#     f, axs = plt.subplots(1,5,figsize=(16,2))\n",
    "#     axs[i].plot(time, channel)\n",
    "#     i = i + 1\n",
    "    \n",
    "#     df_phase = get_phase(channel, time, band=band, fs=fs, filter_type=filter_type, start_time_ms=-750, stop_time_ms=-1, blackmann_harris_ntaps=blackmann_harris_ntaps, line_noise_band=[58, 62])\n",
    "#     axs[i].plot(df_phase['time'], df_phase['phase'])\n",
    "#     axs[i].set_title(\"Phase - {}\".format(filter_type))\n",
    "#     i = i + 1\n",
    "    \n",
    "#     for method in ['pburg', 'welch', 'fft']:\n",
    "#         df_power = get_power(channel, time, fs, crop_start_millis=crop_start_millis, crop_end_millis=-1, method=method, filter_type=filter_type, resample_fs=None, line_noise_band=line_noise_band, blackmann_harris_ntaps=blackmann_harris_ntaps)\n",
    "#         df_power = df_power[df_power['freq'] < 130]\n",
    "#         axs[i].plot(df_power['freq'], df_power['power'])\n",
    "#         axs[i].set_title(\"Power - {} - {}\".format(filter_type, method))\n",
    "#         i = i + 1\n",
    "#     plt.tight_layout()\n",
    "#     plt.show()"
   ]
  },
  {
   "cell_type": "markdown",
   "metadata": {},
   "source": [
    "# Process trials"
   ]
  },
  {
   "cell_type": "code",
   "execution_count": 92,
   "metadata": {},
   "outputs": [
    {
     "data": {
      "text/plain": [
       "'.:/home/raquib/Documents/MATLAB/eeglab2019_0/functions/sigprocfunc:/home/raquib/Documents/MATLAB/eeglab2019_0/functions/adminfunc:/home/raquib/Documents/MATLAB/eeglab2019_0/functions/popfunc:/home/raquib/Documents/MATLAB/eeglab2019_0/functions/guifunc:/home/raquib/Documents/MATLAB/eeglab2019_0/functions/miscfunc:/home/raquib/anaconda3/envs/tmseeg/lib/python3.7/site-packages/oct2py:/home/raquib/anaconda3/envs/tmseeg/lib/python3.7/site-packages/octave_kernel:/usr/lib/x86_64-linux-gnu/octave/4.2.2/site/oct/x86_64-pc-linux-gnu:/usr/lib/x86_64-linux-gnu/octave/site/oct/api-v51/x86_64-pc-linux-gnu:/usr/lib/x86_64-linux-gnu/octave/site/oct/x86_64-pc-linux-gnu:/usr/share/octave/4.2.2/site/m:/usr/share/octave/site/api-v51/m:/usr/share/octave/site/m:/usr/share/octave/site/m/startup:/usr/lib/x86_64-linux-gnu/octave/4.2.2/oct/x86_64-pc-linux-gnu:/usr/share/octave/4.2.2/m:/usr/share/octave/4.2.2/m/audio:/usr/share/octave/4.2.2/m/debian:/usr/share/octave/4.2.2/m/deprecated:/usr/share/octave/4.2.2/m/elfun:/usr/share/octave/4.2.2/m/general:/usr/share/octave/4.2.2/m/geometry:/usr/share/octave/4.2.2/m/gui:/usr/share/octave/4.2.2/m/help:/usr/share/octave/4.2.2/m/image:/usr/share/octave/4.2.2/m/io:/usr/share/octave/4.2.2/m/java:/usr/share/octave/4.2.2/m/linear-algebra:/usr/share/octave/4.2.2/m/miscellaneous:/usr/share/octave/4.2.2/m/ode:/usr/share/octave/4.2.2/m/optimization:/usr/share/octave/4.2.2/m/path:/usr/share/octave/4.2.2/m/pkg:/usr/share/octave/4.2.2/m/plot:/usr/share/octave/4.2.2/m/plot/appearance:/usr/share/octave/4.2.2/m/plot/draw:/usr/share/octave/4.2.2/m/plot/util:/usr/share/octave/4.2.2/m/polynomial:/usr/share/octave/4.2.2/m/prefs:/usr/share/octave/4.2.2/m/profiler:/usr/share/octave/4.2.2/m/set:/usr/share/octave/4.2.2/m/signal:/usr/share/octave/4.2.2/m/sparse:/usr/share/octave/4.2.2/m/specfun:/usr/share/octave/4.2.2/m/special-matrix:/usr/share/octave/4.2.2/m/startup:/usr/share/octave/4.2.2/m/statistics:/usr/share/octave/4.2.2/m/statistics/base:/usr/share/octave/4.2.2/m/statistics/distributions:/usr/share/octave/4.2.2/m/statistics/models:/usr/share/octave/4.2.2/m/statistics/tests:/usr/share/octave/4.2.2/m/strings:/usr/share/octave/4.2.2/m/testfun:/usr/share/octave/4.2.2/m/time:/usr/share/octave/4.2.2/data'"
      ]
     },
     "execution_count": 92,
     "metadata": {},
     "output_type": "execute_result"
    }
   ],
   "source": [
    "from oct2py import octave\n",
    "eeglab_path = '/home/raquib/Documents/MATLAB/eeglab2019_0/functions/'\n",
    "octave.addpath(eeglab_path + 'guifunc')\n",
    "octave.addpath(eeglab_path + 'popfunc')\n",
    "octave.addpath(eeglab_path + 'adminfunc')\n",
    "octave.addpath(eeglab_path + 'sigprocfunc')\n",
    "octave.addpath(eeglab_path + 'miscfunc')"
   ]
  },
  {
   "cell_type": "code",
   "execution_count": 93,
   "metadata": {},
   "outputs": [],
   "source": [
    "def read_eeg(path):\n",
    "    eeg = octave.pop_loadset(path)\n",
    "    new_trial_list = []\n",
    "    for i in range(eeg.data.shape[2]):\n",
    "        trial = eeg.data[:, :, i]\n",
    "        time = np.linspace(-1000, 1000, num=trial.shape[1])\n",
    "        trial = pd.DataFrame(np.transpose(trial), columns=eeg.chanlocs.labels[0])\n",
    "        trial['time'] = time\n",
    "        new_trial_list.append(trial)\n",
    "    return new_trial_list"
   ]
  },
  {
   "cell_type": "code",
   "execution_count": 94,
   "metadata": {},
   "outputs": [
    {
     "name": "stdout",
     "output_type": "stream",
     "text": [
      "pop_loadset(): loading file andrew.set ...\n",
      "warning: implicit conversion from numeric to char\n",
      "Reading float file 'andrew.fdt'...\n"
     ]
    }
   ],
   "source": [
    "eeg = octave.pop_loadset('andrew.set')\n",
    "trial = eeg.data\n",
    "time = np.linspace(0, trial.shape[1]*1000/256, num=trial.shape[1])\n",
    "trial = pd.DataFrame(np.transpose(trial), columns=eeg.chanlocs.labels[0])\n",
    "trial['time'] = time"
   ]
  },
  {
   "cell_type": "code",
   "execution_count": 95,
   "metadata": {},
   "outputs": [
    {
     "data": {
      "text/plain": [
       "[<matplotlib.lines.Line2D at 0x7f9ade9b6a90>]"
      ]
     },
     "execution_count": 95,
     "metadata": {},
     "output_type": "execute_result"
    },
    {
     "data": {
      "image/png": "[encoded data removed]",
      "text/plain": [
       "<Figure size 432x288 with 1 Axes>"
      ]
     },
     "metadata": {
      "needs_background": "light"
     },
     "output_type": "display_data"
    }
   ],
   "source": [
    "plt.plot(trial['time'], trial['C3'])"
   ]
  },
  {
   "cell_type": "code",
   "execution_count": 105,
   "metadata": {},
   "outputs": [
    {
     "data": {
      "application/vnd.jupyter.widget-view+json": {
       "model_id": "e2ae7ddfa886486cae61f24d8a41c37d",
       "version_major": 2,
       "version_minor": 0
      },
      "text/plain": [
       "HBox(children=(FloatProgress(value=0.0, max=3001.0), HTML(value='')))"
      ]
     },
     "metadata": {},
     "output_type": "display_data"
    },
    {
     "name": "stdout",
     "output_type": "stream",
     "text": [
      "\n"
     ]
    },
    {
     "data": {
      "application/vnd.jupyter.widget-view+json": {
       "model_id": "2aed469fb25142f081e5a100fbc26669",
       "version_major": 2,
       "version_minor": 0
      },
      "text/plain": [
       "HBox(children=(FloatProgress(value=0.0, max=601.0), HTML(value='')))"
      ]
     },
     "metadata": {},
     "output_type": "display_data"
    },
    {
     "name": "stdout",
     "output_type": "stream",
     "text": [
      "\n"
     ]
    }
   ],
   "source": [
    "fc1 = 3.5\n",
    "fc2 = 8\n",
    "powers = []\n",
    "for endtime, points, name, length, tap in zip([450000, 450000], [3001, 601], ['150', '750'], [150, 750], [51, 101]):\n",
    "    for i in tqdm(np.linspace(0, endtime, points)):\n",
    "        df_power = get_power(trial['C3'], trial['time'], fs=256, crop_start_millis=i, crop_end_millis=i + length, method='fft', filter_type='blackman', resample_fs=None, line_noise_band=[58, 62], blackmann_harris_ntaps=tap)\n",
    "        power = df_power[df_power['freq'] >= fc1]\n",
    "        power = power[power['freq'] < fc2]\n",
    "        power = power['power'].mean(axis=0)\n",
    "        powers.append({\n",
    "            'name': name,\n",
    "            'start': i,\n",
    "            'power': power\n",
    "        })\n",
    "powers = pd.DataFrame(powers)"
   ]
  },
  {
   "cell_type": "code",
   "execution_count": 106,
   "metadata": {},
   "outputs": [
    {
     "data": {
      "text/plain": [
       "Text(0, 0.5, 'Power')"
      ]
     },
     "execution_count": 106,
     "metadata": {},
     "output_type": "execute_result"
    },
    {
     "data": {
      "image/png": "[encoded data removed]",
      "text/plain": [
       "<Figure size 720x288 with 2 Axes>"
      ]
     },
     "metadata": {
      "needs_background": "light"
     },
     "output_type": "display_data"
    }
   ],
   "source": [
    "fig, axs = plt.subplots(1,2, figsize=(10,4))\n",
    "powers['time'] = powers['start']/1000\n",
    "filt1 = powers\n",
    "# filt1 = powers[powers['time'] < 100]\n",
    "for name in ['150', '750']:\n",
    "    filt2 = filt1[filt1['name'] == name]\n",
    "    axs[0].plot(filt2['time'], filt2['power'])\n",
    "    sns.distplot(filt2['power'], hist=False, kde_kws={\"shade\": True}, ax=axs[1])\n",
    "axs[0].set_xlabel('Time')\n",
    "axs[0].set_ylabel('Power')"
   ]
  },
  {
   "cell_type": "code",
   "execution_count": null,
   "metadata": {},
   "outputs": [],
   "source": []
  },
  {
   "cell_type": "code",
   "execution_count": null,
   "metadata": {},
   "outputs": [],
   "source": []
  }
 ],
 "metadata": {
  "kernelspec": {
   "display_name": "Python 3",
   "language": "python",
   "name": "python3"
  },
  "language_info": {
   "codemirror_mode": {
    "name": "ipython",
    "version": 3
   },
   "file_extension": ".py",
   "mimetype": "text/x-python",
   "name": "python",
   "nbconvert_exporter": "python",
   "pygments_lexer": "ipython3",
   "version": "3.7.3"
  }
 },
 "nbformat": 4,
 "nbformat_minor": 4
}
