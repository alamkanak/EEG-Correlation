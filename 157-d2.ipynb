{
 "cells": [
  {
   "cell_type": "markdown",
   "metadata": {},
   "source": [
    "# Import everything"
   ]
  },
  {
   "cell_type": "code",
   "execution_count": 18,
   "metadata": {},
   "outputs": [],
   "source": [
    "import glob\n",
    "import pandas as pd\n",
    "import matplotlib.pyplot as plt\n",
    "from io import StringIO\n",
    "import numpy as np\n",
    "from scipy import signal\n",
    "from scipy import fftpack\n",
    "import seaborn as sns\n",
    "from tqdm.notebook import tqdm\n",
    "import math\n",
    "\n",
    "import multiprocessing\n",
    "# from oct2py import octave\n",
    "from joblib import Parallel, delayed\n",
    "import multiprocessing\n",
    "from joblib import wrap_non_picklable_objects\n",
    "import json\n",
    "import pickle\n",
    "import os.path\n",
    "import timeit\n",
    "from timeit import default_timer as timer\n",
    "from datetime import timedelta\n",
    "import json\n",
    "import statsmodels.api as sm\n",
    "import statsmodels.formula.api as smf\n",
    "from statsmodels.genmod import bayes_mixed_glm as glm\n",
    "from spectrum import arburg, arma2psd, pburg\n",
    "import pylab\n",
    "from scipy.signal import find_peaks, butter\n",
    "from scipy.integrate import simps\n",
    "from scipy.io import loadmat\n",
    "from numpy import trapz\n",
    "import gzip\n",
    "import scipy.fftpack"
   ]
  },
  {
   "cell_type": "markdown",
   "metadata": {},
   "source": [
    "# Read files from disk"
   ]
  },
  {
   "cell_type": "code",
   "execution_count": 19,
   "metadata": {},
   "outputs": [],
   "source": [
    "def read_trials_from_raw(filename, time_start, time_end, columns):\n",
    "    x = loadmat(filename)\n",
    "    x = x['EEGData']\n",
    "    trials = []\n",
    "    time = np.linspace(time_start, time_end, len(x[0, :, 0]))\n",
    "    for trial_num in range(x.shape[2]):\n",
    "        trial = np.transpose(x[:, :, trial_num])\n",
    "        trial = pd.DataFrame(data=trial, columns=columns)\n",
    "        trial['time'] = time\n",
    "        trials.append(trial)\n",
    "    return trials\n",
    "\n",
    "def read_trials_from_hjorth(filename, time_start, time_end):\n",
    "    x = loadmat(filename)\n",
    "    mat_trials = x['dat'][0][0][3][0]\n",
    "    trials = []\n",
    "    time = np.linspace(time_start, time_end, len(mat_trials[0][0]))\n",
    "    for mat_trial in mat_trials:\n",
    "        trials.append(pd.DataFrame({'C3': mat_trial[0], 'C4': mat_trial[1], 'time': time}))\n",
    "    return trials"
   ]
  },
  {
   "cell_type": "markdown",
   "metadata": {},
   "source": [
    "# Power and phase calculations"
   ]
  },
  {
   "cell_type": "code",
   "execution_count": 20,
   "metadata": {},
   "outputs": [],
   "source": [
    "def blackman_harris_filter(channel, time, cutoffs, fs, numtaps):\n",
    "    b = signal.firwin(numtaps, cutoffs, window='blackmanharris', fs=fs)\n",
    "    filtered = signal.lfilter(b, 1, channel)\n",
    "    delay = 0.5 * (numtaps - 1) / fs\n",
    "    df = pd.DataFrame({\n",
    "        'time': time-delay,\n",
    "        'channel': filtered\n",
    "    })\n",
    "    return df\n",
    "\n",
    "def butter_bandpass_filter(data, lowcut, highcut, fs, btype, order):\n",
    "    nyq = 0.5 * fs\n",
    "    low = lowcut / nyq\n",
    "    high = highcut / nyq\n",
    "    b, a = butter(order, [low, high], btype=btype)\n",
    "    y = signal.lfilter(b, a, data)\n",
    "    return y\n",
    "\n",
    "def get_phase(channel, time, band, fs, filter_type, start_time_ms, stop_time_ms, blackmann_harris_ntaps):\n",
    "    if filter_type=='butter':\n",
    "        df_filtered = pd.DataFrame({'channel': butter_bandpass_filter(channel, band[0], band[1], fs, btype='bandpass', order=3), 'time': time})\n",
    "    else:\n",
    "        df_filtered = blackman_harris_filter(channel, time, [0.000001, band[0]], fs, numtaps=blackmann_harris_ntaps)\n",
    "        df_filtered = blackman_harris_filter(df_filtered['channel'].values, df_filtered['time'].values, band[1], fs, numtaps=blackmann_harris_ntaps)\n",
    "    \n",
    "    hilb = signal.hilbert(df_filtered[(df_filtered['time'] > start_time_ms) & (df_filtered['time'] < stop_time_ms)]['channel'])\n",
    "    phase = np.angle(hilb, deg=True)\n",
    "    df_phase = pd.DataFrame(phase, columns=['phase'])\n",
    "    df_phase['time'] = df_filtered[(df_filtered['time'] > start_time_ms) & (df_filtered['time'] < stop_time_ms)]['time'].values\n",
    "    return df_phase\n",
    "\n",
    "def get_power(channel, time, fs, crop_start_millis, crop_end_millis, method, filter_type, resample_fs, line_noise_band, blackmann_harris_ntaps):\n",
    "    # Crop.\n",
    "    channel = channel[(time > crop_start_millis) & (time < crop_end_millis)].values\n",
    "    time = time[(time > crop_start_millis) & (time < crop_end_millis)].values\n",
    "    \n",
    "    # Resample\n",
    "    if resample_fs is None:\n",
    "        resampled = channel\n",
    "        resampled_time = time\n",
    "    else:\n",
    "        ts = time[1] - time[0]\n",
    "        secs = len(channel) * ts\n",
    "        secs = secs/1000\n",
    "        resampled = signal.resample(channel, int(secs*resample_fs))\n",
    "        resampled_time = np.linspace(time[0], time[-1], len(resampled))\n",
    "        fs = resample_fs\n",
    "\n",
    "    # Remove line nosie.\n",
    "    if filter_type == 'butter':\n",
    "        resampled = butter_bandpass_filter(resampled, line_noise_band[0], line_noise_band[1], fs, 'bandstop', order=4)\n",
    "        resampled_time = time\n",
    "    else:\n",
    "        df_filtered = blackman_harris_filter(resampled, resampled_time, line_noise_band, fs, numtaps=blackmann_harris_ntaps)\n",
    "        resampled = df_filtered['channel'].values\n",
    "        resampled_time = df_filtered['time']\n",
    "    \n",
    "    # PSD.\n",
    "    if method == 'welch':\n",
    "        # Welch method\n",
    "        freq, power = signal.welch(resampled, fs, nperseg=4*fs, nfft=fs)\n",
    "        df_power = pd.DataFrame({'freq': freq, 'power': power})\n",
    "    elif method == 'fft':\n",
    "        # FFT method\n",
    "        T = 1/fs\n",
    "        N = fs//2\n",
    "        yf = scipy.fftpack.fft(resampled, n=N)\n",
    "        yf = 2 / (N/2) * np.abs(yf[:N//2])\n",
    "        xf = np.linspace(0, 1/(2*T), N // 2)\n",
    "        df_power = pd.DataFrame({'freq': xf, 'power': yf})\n",
    "    elif method == 'pburg':\n",
    "        # Burgs method\n",
    "        order = min(len(resampled)-2, int(fs/4))\n",
    "        p = pburg(resampled, order, sampling=fs, NFFT=fs)\n",
    "        power = p.psd\n",
    "        freq = np.linspace(0, fs/2, len(power))\n",
    "        df_power = pd.DataFrame({'freq': freq, 'power': power})\n",
    "\n",
    "    df_power = df_power[df_power['freq'] < fs/2]\n",
    "    df_power['power'] = 10 * np.log10(df_power['power'])\n",
    "    return df_power"
   ]
  },
  {
   "cell_type": "code",
   "execution_count": 22,
   "metadata": {},
   "outputs": [
    {
     "name": "stdout",
     "output_type": "stream",
     "text": [
      "45, 45, 45, 45\n"
     ]
    }
   ],
   "source": [
    "root = '/Users/alam/Desktop/workspaces/tmseeg-matlab/'\n",
    "raw_files = sorted(glob.glob(root+'data/dataset2/raw/*.mat'))\n",
    "raw_hjorth_files = sorted(glob.glob(root+'data/dataset2/raw-hjorth/*.mat'))\n",
    "clean_files = sorted(glob.glob(root+'data/dataset2/clean/*.mat'))\n",
    "clean_hjorth_files = sorted(glob.glob(root+'data/dataset2/clean-hjorth/*.mat'))\n",
    "print('{}, {}, {}, {}'.format(len(raw_files), len(raw_hjorth_files), len(clean_files), len(clean_hjorth_files)))"
   ]
  },
  {
   "cell_type": "markdown",
   "metadata": {},
   "source": [
    "# Diagnose #1"
   ]
  },
  {
   "cell_type": "code",
   "execution_count": 23,
   "metadata": {},
   "outputs": [
    {
     "name": "stdout",
     "output_type": "stream",
     "text": [
      "10 - /Users/alam/Desktop/workspaces/tmseeg-matlab/data/dataset2/raw/co2c0000348.mat\n",
      "64\n"
     ]
    },
    {
     "name": "stderr",
     "output_type": "stream",
     "text": [
      "/Users/alam/.local/lib/python3.7/site-packages/scipy/signal/spectral.py:1969: UserWarning: nperseg = 1024 is greater than input length  = 230, using nperseg = 230\n",
      "  .format(nperseg, input_length))\n"
     ]
    },
    {
     "data": {
      "image/png": "[encoded data removed]",
      "text/plain": [
       "<Figure size 1152x144 with 3 Axes>"
      ]
     },
     "metadata": {
      "needs_background": "light"
     },
     "output_type": "display_data"
    }
   ],
   "source": [
    "ind = 10\n",
    "trial_num = 20\n",
    "print(\"{} - {}\".format(ind, raw_files[ind]))\n",
    "\n",
    "trials = read_trials_from_raw(raw_files[ind], -900, 0, [\n",
    "    'FP1', 'F3', 'F7', 'FT7', 'FC3', 'C3', 'T7', 'TP7', 'CP3', 'P3', 'P7', 'O1', 'OZ', 'PZ', 'CPZ', 'FP2', 'FZ', 'F4', 'F8', 'FT8', 'FC4', 'FCZ', 'CZ', 'C4', 'T8', 'TP8', 'CP4', 'P4', 'P8', 'O2'\n",
    "])\n",
    "# trials = read_trials_from_raw(clean_files[ind], -900, 0, ['AF1', 'AF2', 'AF7', 'AF8', 'AFZ', 'C1', 'C2', 'C3', 'C4', 'C5', 'C6', 'CP1', 'CP2', 'CP3', 'CP4', 'CP5', 'CP6', 'CPZ', 'CZ', 'F1', 'F2', 'F3', 'F4', 'F5', 'F6', 'F7', 'F8', 'FC1', 'FC2', 'FC3', 'FC4', 'FC5', 'FC6', 'FCZ', 'FP1', 'FP2', 'FPZ', 'FT7', 'FT8', 'FZ', 'O1', 'O2', 'OZ', 'P1', 'P2', 'P3', 'P4', 'P5', 'P6', 'P7', 'P8', 'PO1', 'PO2', 'PO7', 'PO8', 'POZ', 'PZ', 'T7', 'T8', 'TP7', 'TP8', 'X', 'Y', 'nd'])\n",
    "df_trial = trials[trial_num]\n",
    "\n",
    "channel = df_trial['C3']\n",
    "time = df_trial['time']\n",
    "\n",
    "fs = 256\n",
    "band = [8, 12]\n",
    "blackmann_harris_ntaps = 51\n",
    "line_noise_band = [48, 52]\n",
    "time_start = -150\n",
    "\n",
    "\n",
    "i = 0\n",
    "f, axs = plt.subplots(1,3,figsize=(16,2))\n",
    "axs[i].plot(time, channel)\n",
    "axs[i].set_title('Waveform')\n",
    "i = i + 1\n",
    "\n",
    "freq, power = signal.welch(channel, fs, nperseg=4*fs, nfft=fs)\n",
    "df_power = pd.DataFrame({'freq': freq, 'power': power})\n",
    "df_power = df_power[df_power['freq'] < 80]\n",
    "axs[i].plot(df_power['freq'], df_power['power'])\n",
    "axs[i].set_title('PSD - Welch')\n",
    "i = i + 1\n",
    "\n",
    "order = min(len(channel)-2, int(fs/4))\n",
    "p = pburg(channel, 64, sampling=fs, NFFT=fs)\n",
    "power = p.psd\n",
    "freq = np.linspace(0, fs/2, len(power))\n",
    "df_power = pd.DataFrame({'freq': freq, 'power': power})\n",
    "df_power = df_power[df_power['freq'] < 80]\n",
    "df_power = df_power[df_power['freq'] >3]\n",
    "axs[i].plot(df_power['freq'], df_power['power'])\n",
    "axs[i].set_title('PSD - Burg')\n",
    "i = i + 1\n",
    "print(order)"
   ]
  },
  {
   "cell_type": "markdown",
   "metadata": {},
   "source": [
    "# Diagnose #2"
   ]
  },
  {
   "cell_type": "code",
   "execution_count": 24,
   "metadata": {},
   "outputs": [
    {
     "name": "stdout",
     "output_type": "stream",
     "text": [
      "10 - /Users/alam/Desktop/workspaces/tmseeg-matlab/data/dataset2/raw/co2c0000348.mat\n"
     ]
    },
    {
     "name": "stderr",
     "output_type": "stream",
     "text": [
      "/Users/alam/.local/lib/python3.7/site-packages/scipy/signal/spectral.py:1969: UserWarning: nperseg = 1024 is greater than input length  = 230, using nperseg = 230\n",
      "  .format(nperseg, input_length))\n",
      "/Users/alam/.local/lib/python3.7/site-packages/scipy/signal/spectral.py:1969: UserWarning: nperseg = 1024 is greater than input length  = 38, using nperseg = 38\n",
      "  .format(nperseg, input_length))\n"
     ]
    },
    {
     "data": {
      "image/png": "[encoded data removed]",
      "text/plain": [
       "<Figure size 1152x144 with 6 Axes>"
      ]
     },
     "metadata": {
      "needs_background": "light"
     },
     "output_type": "display_data"
    },
    {
     "name": "stderr",
     "output_type": "stream",
     "text": [
      "/Users/alam/.local/lib/python3.7/site-packages/scipy/signal/spectral.py:1969: UserWarning: nperseg = 1024 is greater than input length  = 230, using nperseg = 230\n",
      "  .format(nperseg, input_length))\n",
      "/Users/alam/.local/lib/python3.7/site-packages/scipy/signal/spectral.py:1969: UserWarning: nperseg = 1024 is greater than input length  = 38, using nperseg = 38\n",
      "  .format(nperseg, input_length))\n"
     ]
    },
    {
     "data": {
      "image/png": "[encoded data removed]",
      "text/plain": [
       "<Figure size 1152x144 with 6 Axes>"
      ]
     },
     "metadata": {
      "needs_background": "light"
     },
     "output_type": "display_data"
    }
   ],
   "source": [
    "ind = 10\n",
    "trial_num = 20\n",
    "print(\"{} - {}\".format(ind, raw_files[ind]))\n",
    "\n",
    "trials = read_trials_from_raw(raw_files[ind], -900, 0, [\n",
    "    'FP1', 'F3', 'F7', 'FT7', 'FC3', 'C3', 'T7', 'TP7', 'CP3', 'P3', 'P7', 'O1', 'OZ', 'PZ', 'CPZ', 'FP2', 'FZ', 'F4', 'F8', 'FT8', 'FC4', 'FCZ', 'CZ', 'C4', 'T8', 'TP8', 'CP4', 'P4', 'P8', 'O2'\n",
    "])\n",
    "df_trial = trials[trial_num]\n",
    "\n",
    "channel = df_trial['C3']\n",
    "time = df_trial['time']\n",
    "\n",
    "fs = 256\n",
    "band = [8, 12]\n",
    "blackmann_harris_ntaps = 51\n",
    "line_noise_band = [48, 52]\n",
    "time_start = -150\n",
    "\n",
    "for filter_type in ['butter', 'blackmann']:\n",
    "    i = 0\n",
    "    f, axs = plt.subplots(1,6,figsize=(16,2))\n",
    "    axs[i].plot(time, channel)\n",
    "    i = i + 1\n",
    "    \n",
    "    freq, power = signal.welch(channel, fs, nperseg=4*fs, nfft=fs)\n",
    "    df_power = pd.DataFrame({'freq': freq, 'power': power})\n",
    "    df_power = df_power[df_power['freq'] < 80]\n",
    "    axs[i].plot(df_power['freq'], df_power['power'])\n",
    "    i = i + 1\n",
    "\n",
    "    df_phase = get_phase(channel, time, band=band, fs=fs, filter_type=filter_type, start_time_ms=-750, stop_time_ms=-1, blackmann_harris_ntaps=blackmann_harris_ntaps)\n",
    "    axs[i].plot(df_phase['time'], df_phase['phase'])\n",
    "    axs[i].set_title(\"Phase - {}\".format(filter_type))\n",
    "    i = i + 1\n",
    "\n",
    "    for method in ['pburg', 'welch', 'fft']:\n",
    "        df_power = get_power(channel, time, fs, crop_start_millis=time_start, crop_end_millis=-1, method=method, filter_type=filter_type, resample_fs=None, line_noise_band=line_noise_band, blackmann_harris_ntaps=blackmann_harris_ntaps)\n",
    "        df_power = df_power[df_power['freq'] < 130]\n",
    "        axs[i].plot(df_power['freq'], df_power['power'])\n",
    "        axs[i].set_title(\"Power - {} - {}\".format(filter_type, method))\n",
    "        i = i + 1\n",
    "    plt.tight_layout()\n",
    "    plt.show()"
   ]
  },
  {
   "cell_type": "markdown",
   "metadata": {},
   "source": [
    "# Process trials"
   ]
  },
  {
   "cell_type": "code",
   "execution_count": 39,
   "metadata": {},
   "outputs": [],
   "source": [
    "def process_subject(raw_path, hjorth_path, clean_raw_path, clean_hjorth_path):\n",
    "    df_powers = []\n",
    "    df_phases = []\n",
    "    subject = raw_path.split('/')[9].split('.')[0]\n",
    "    \n",
    "    trials_raw = read_trials_from_raw(raw_path, -900, 0, [\n",
    "        'FP1', 'F3', 'F7', 'FT7', 'FC3', 'C3', 'T7', 'TP7', 'CP3', 'P3', 'P7', 'O1', 'OZ', 'PZ', 'CPZ', 'FP2', 'FZ', 'F4', 'F8', 'FT8', 'FC4', 'FCZ', 'CZ', 'C4', 'T8', 'TP8', 'CP4', 'P4', 'P8', 'O2'\n",
    "    ])\n",
    "    trials_hjorth = read_trials_from_hjorth(hjorth_path, -900, 0)\n",
    "    trials_clean_raw = read_trials_from_raw(clean_raw_path, -900, 0, [\n",
    "        'FP1', 'F3', 'F7', 'FT7', 'FC3', 'C3', 'T7', 'TP7', 'CP3', 'P3', 'P7', 'O1', 'OZ', 'PZ', 'CPZ', 'FP2', 'FZ', 'F4', 'F8', 'FT8', 'FC4', 'FCZ', 'CZ', 'C4', 'T8', 'TP8', 'CP4', 'P4', 'P8', 'O2'\n",
    "    ])\n",
    "    trials_clean_hjorth = read_trials_from_hjorth(clean_hjorth_path, -900, 0)\n",
    "    \n",
    "    df_trialnums = pd.read_csv('/Users/alam/Desktop/workspaces/tmseeg-matlab/data/dataset2/raw/trialnum-{}.csv'.format(subject))\n",
    "    trialnums = df_trialnums['Var1'].apply(lambda x: int(x.split('-')[1].split('.')[0])).values\n",
    "    df_sub = pd.read_csv('/Users/alam/Desktop/workspaces/tmseeg-matlab/data/dataset2/subjects/' + subject + '.csv')\n",
    "    \n",
    "    for trial_num in range(len(trials_raw)):\n",
    "        if df_sub[df_sub['trial'] == trialnums[trial_num]].shape[0] == 0:\n",
    "            continue\n",
    "        trial_raw = trials_raw[trial_num]\n",
    "        trial_raw_hjorth = trials_hjorth[trial_num]\n",
    "        trial_clean = trials_clean_raw[trial_num]\n",
    "        trial_clean_hjorth = trials_clean_hjorth[trial_num]\n",
    "        \n",
    "        trial_clean_avg = trial_clean.copy()\n",
    "        avg_channels = ['FT7', 'FC3', 'FCZ', 'T7', 'C3', 'CZ', 'TP7', 'CP3', 'CPZ']\n",
    "        trial_clean_avg['C3'] = trial_clean_avg[avg_channels].mean(axis=1)\n",
    "        trial_raw_avg = trial_raw.copy()\n",
    "        trial_raw_avg['C3'] = trial_raw_avg[avg_channels].mean(axis=1)\n",
    "        \n",
    "        power_row = {\n",
    "            'sub': subject,\n",
    "            'trial': trial_num,\n",
    "            'alcoholic': df_sub.iloc[0]['alcoholic'],\n",
    "            'condition': df_sub[df_sub['trial'] == trialnums[trial_num]].iloc[0]['condition']\n",
    "        }\n",
    "        \n",
    "        for eeg_type, artifact_removed, df_trial in zip(['Raw', 'Hjorth', 'Raw', 'Hjorth', 'Average', 'Average'], [False, False, True, True, True, False], [trial_raw, trial_raw_hjorth, trial_clean, trial_clean_hjorth, trial_clean_avg, trial_raw_avg]):\n",
    "            for filter_code, filter_name in zip(['butter', 'blackmannharris'], ['Butterworth', 'Blackmann-Harris']):\n",
    "                for time, ntaps in zip([-750, -250], [101, 51]):\n",
    "                    for method_code, method_name in zip(['pburg', 'welch', 'fft'], ['Burg', 'Welch', 'FFT']):\n",
    "\n",
    "                        try:\n",
    "                            df_power = get_power(df_trial['C3'], df_trial['time'], fs=256, crop_start_millis=time, crop_end_millis=-1, method=method_code, filter_type=filter_code, resample_fs=None, line_noise_band=[48, 52], blackmann_harris_ntaps=ntaps)\n",
    "                        except:\n",
    "                            continue\n",
    "\n",
    "                        for band, fc1, fc2 in zip(['Theta', 'Mu', 'Beta', 'Gamma'], [4, 8, 13, 30], [8, 12, 30, 80]):\n",
    "                            power = df_power[df_power['freq'] >= fc1]\n",
    "                            power = power[power['freq'] < fc2]\n",
    "                            power = power['power'].mean(axis=0)\n",
    "                            row = power_row.copy()\n",
    "                            row['ArtifactRemoved'] = artifact_removed\n",
    "                            row['EEG'] = eeg_type\n",
    "                            row['Filter'] = filter_name\n",
    "                            row['Time'] = time\n",
    "                            row['Method'] = method_name\n",
    "                            row['Band'] = band\n",
    "                            row['Power'] = power\n",
    "                            df_powers.append(row)\n",
    "                for band, fc1, fc2 in zip(['Theta', 'Mu', 'Beta', 'Gamma'], [4, 8, 13, 30], [8, 12, 30, 80]):\n",
    "                    phase = get_phase(df_trial['C3'], df_trial['time'], [fc1, fc2], filter_type=filter_code, start_time_ms=-750, stop_time_ms=-1, fs=256, blackmann_harris_ntaps=101)\n",
    "                    phase = phase.iloc[-1]['phase'] + 180\n",
    "                    row = power_row.copy()\n",
    "                    row['ArtifactRemoved'] = artifact_removed\n",
    "                    row['EEG'] = eeg_type\n",
    "                    row['Filter'] = filter_name\n",
    "                    row['Band'] = band\n",
    "                    row['Phase'] = phase\n",
    "                    df_phases.append(row)\n",
    "    return (df_powers, df_phases)"
   ]
  },
  {
   "cell_type": "code",
   "execution_count": 41,
   "metadata": {},
   "outputs": [],
   "source": [
    "# process_subject(raw_files[0], raw_hjorth_files[0], clean_files[0], clean_hjorth_files[0])"
   ]
  },
  {
   "cell_type": "code",
   "execution_count": 42,
   "metadata": {},
   "outputs": [
    {
     "data": {
      "application/vnd.jupyter.widget-view+json": {
       "model_id": "d4b64f80ff51445682817242beb33cac",
       "version_major": 2,
       "version_minor": 0
      },
      "text/plain": [
       "HBox(children=(FloatProgress(value=0.0, max=45.0), HTML(value='')))"
      ]
     },
     "metadata": {},
     "output_type": "display_data"
    },
    {
     "name": "stdout",
     "output_type": "stream",
     "text": [
      "\n"
     ]
    }
   ],
   "source": [
    "# Run analysis\n",
    "num_cores = multiprocessing.cpu_count() - 2\n",
    "results = Parallel(n_jobs=num_cores)(delayed(process_subject)(raw, hjorth, clean, clean_hjorth) for raw, hjorth, clean, clean_hjorth in tqdm(zip(raw_files, raw_hjorth_files, clean_files, clean_hjorth_files), total=len(raw_files)))"
   ]
  },
  {
   "cell_type": "code",
   "execution_count": 43,
   "metadata": {},
   "outputs": [
    {
     "data": {
      "text/html": [
       "<div>\n",
       "<style scoped>\n",
       "    .dataframe tbody tr th:only-of-type {\n",
       "        vertical-align: middle;\n",
       "    }\n",
       "\n",
       "    .dataframe tbody tr th {\n",
       "        vertical-align: top;\n",
       "    }\n",
       "\n",
       "    .dataframe thead th {\n",
       "        text-align: right;\n",
       "    }\n",
       "</style>\n",
       "<table border=\"1\" class=\"dataframe\">\n",
       "  <thead>\n",
       "    <tr style=\"text-align: right;\">\n",
       "      <th></th>\n",
       "      <th>sub</th>\n",
       "      <th>trial</th>\n",
       "      <th>alcoholic</th>\n",
       "      <th>condition</th>\n",
       "      <th>ArtifactRemoved</th>\n",
       "      <th>EEG</th>\n",
       "      <th>Filter</th>\n",
       "      <th>Time</th>\n",
       "      <th>Method</th>\n",
       "      <th>Band</th>\n",
       "      <th>Power</th>\n",
       "    </tr>\n",
       "  </thead>\n",
       "  <tbody>\n",
       "    <tr>\n",
       "      <th>0</th>\n",
       "      <td>co2c0000337</td>\n",
       "      <td>0</td>\n",
       "      <td>False</td>\n",
       "      <td>S1 obj</td>\n",
       "      <td>False</td>\n",
       "      <td>Raw</td>\n",
       "      <td>Butterworth</td>\n",
       "      <td>-750</td>\n",
       "      <td>Burg</td>\n",
       "      <td>Theta</td>\n",
       "      <td>-0.415219</td>\n",
       "    </tr>\n",
       "    <tr>\n",
       "      <th>1</th>\n",
       "      <td>co2c0000337</td>\n",
       "      <td>0</td>\n",
       "      <td>False</td>\n",
       "      <td>S1 obj</td>\n",
       "      <td>False</td>\n",
       "      <td>Raw</td>\n",
       "      <td>Butterworth</td>\n",
       "      <td>-750</td>\n",
       "      <td>Burg</td>\n",
       "      <td>Mu</td>\n",
       "      <td>0.994100</td>\n",
       "    </tr>\n",
       "    <tr>\n",
       "      <th>2</th>\n",
       "      <td>co2c0000337</td>\n",
       "      <td>0</td>\n",
       "      <td>False</td>\n",
       "      <td>S1 obj</td>\n",
       "      <td>False</td>\n",
       "      <td>Raw</td>\n",
       "      <td>Butterworth</td>\n",
       "      <td>-750</td>\n",
       "      <td>Burg</td>\n",
       "      <td>Beta</td>\n",
       "      <td>-3.102845</td>\n",
       "    </tr>\n",
       "    <tr>\n",
       "      <th>3</th>\n",
       "      <td>co2c0000337</td>\n",
       "      <td>0</td>\n",
       "      <td>False</td>\n",
       "      <td>S1 obj</td>\n",
       "      <td>False</td>\n",
       "      <td>Raw</td>\n",
       "      <td>Butterworth</td>\n",
       "      <td>-750</td>\n",
       "      <td>Burg</td>\n",
       "      <td>Gamma</td>\n",
       "      <td>-23.381889</td>\n",
       "    </tr>\n",
       "    <tr>\n",
       "      <th>4</th>\n",
       "      <td>co2c0000337</td>\n",
       "      <td>0</td>\n",
       "      <td>False</td>\n",
       "      <td>S1 obj</td>\n",
       "      <td>False</td>\n",
       "      <td>Raw</td>\n",
       "      <td>Butterworth</td>\n",
       "      <td>-750</td>\n",
       "      <td>Welch</td>\n",
       "      <td>Theta</td>\n",
       "      <td>-2.417737</td>\n",
       "    </tr>\n",
       "  </tbody>\n",
       "</table>\n",
       "</div>"
      ],
      "text/plain": [
       "           sub  trial  alcoholic condition  ArtifactRemoved  EEG       Filter  \\\n",
       "0  co2c0000337      0      False    S1 obj            False  Raw  Butterworth   \n",
       "1  co2c0000337      0      False    S1 obj            False  Raw  Butterworth   \n",
       "2  co2c0000337      0      False    S1 obj            False  Raw  Butterworth   \n",
       "3  co2c0000337      0      False    S1 obj            False  Raw  Butterworth   \n",
       "4  co2c0000337      0      False    S1 obj            False  Raw  Butterworth   \n",
       "\n",
       "   Time Method   Band      Power  \n",
       "0  -750   Burg  Theta  -0.415219  \n",
       "1  -750   Burg     Mu   0.994100  \n",
       "2  -750   Burg   Beta  -3.102845  \n",
       "3  -750   Burg  Gamma -23.381889  \n",
       "4  -750  Welch  Theta  -2.417737  "
      ]
     },
     "execution_count": 43,
     "metadata": {},
     "output_type": "execute_result"
    }
   ],
   "source": [
    "df_power = []\n",
    "df_phase = []\n",
    "for powers, phases in results:\n",
    "    for row in powers:\n",
    "        df_power.append(row)\n",
    "    for row in phases:\n",
    "        df_phase.append(row)\n",
    "df_power = pd.DataFrame(df_power)\n",
    "df_phase = pd.DataFrame(df_phase)\n",
    "df_power.head()"
   ]
  },
  {
   "cell_type": "code",
   "execution_count": 44,
   "metadata": {},
   "outputs": [],
   "source": [
    "def_values_power = {\n",
    "    'ArtifactRemoved': False,\n",
    "    'EEG': 'Raw', \n",
    "    'Filter': 'Butterworth', \n",
    "    'Time': -750, \n",
    "    'Method': 'Welch'\n",
    "}\n",
    "def_values_phase = {\n",
    "    'ArtifactRemoved': False,\n",
    "    'EEG': 'Raw',\n",
    "    'Filter': 'Butterworth', \n",
    "}"
   ]
  },
  {
   "cell_type": "code",
   "execution_count": 45,
   "metadata": {},
   "outputs": [
    {
     "data": {
      "application/vnd.jupyter.widget-view+json": {
       "model_id": "7a6ea7d8701b4cf3ab90fbab0c45c32d",
       "version_major": 2,
       "version_minor": 0
      },
      "text/plain": [
       "HBox(children=(FloatProgress(value=0.0, max=45.0), HTML(value='')))"
      ]
     },
     "metadata": {},
     "output_type": "display_data"
    },
    {
     "name": "stdout",
     "output_type": "stream",
     "text": [
      "\n"
     ]
    }
   ],
   "source": [
    "df_power = df_power[df_power['alcoholic'] == False]\n",
    "df_power = df_power[df_power['condition'] == 'S1 obj']\n",
    "\n",
    "df_power_new = []\n",
    "keys = list(def_values_power.keys())\n",
    "for sub in tqdm(df_power['sub'].unique()):\n",
    "    df_sub = df_power[df_power['sub'] == sub]\n",
    "    for val1 in df_power[keys[0]].unique():\n",
    "        for val2 in df_power[keys[1]].unique():\n",
    "            for val3 in df_power[keys[2]].unique():\n",
    "                for val4 in df_power[keys[3]].unique():\n",
    "                    for val5 in df_power[keys[4]].unique():\n",
    "                        for val6 in df_power['Band'].unique():\n",
    "                            df_power2 = df_sub[df_sub['Band'] == val6]\n",
    "                            df_power2 = df_power2[df_power2[keys[4]] == val5]\n",
    "                            df_power2 = df_power2[df_power2[keys[3]] == val4]\n",
    "                            df_power2 = df_power2[df_power2[keys[2]] == val3]\n",
    "                            df_power2 = df_power2[df_power2[keys[1]] == val2]\n",
    "                            df_power2 = df_power2[df_power2[keys[0]] == val1]\n",
    "                            i = 1\n",
    "                            for idx, row in df_power2.iterrows():\n",
    "                                row['trial_abs'] = i\n",
    "                                df_power_new.append(row)\n",
    "                                i = i + 1\n",
    "df_power_new = pd.DataFrame(df_power_new)"
   ]
  },
  {
   "cell_type": "code",
   "execution_count": 46,
   "metadata": {},
   "outputs": [
    {
     "data": {
      "application/vnd.jupyter.widget-view+json": {
       "model_id": "169d46bbc30147fd86a305a8e9799612",
       "version_major": 2,
       "version_minor": 0
      },
      "text/plain": [
       "HBox(children=(FloatProgress(value=0.0, max=45.0), HTML(value='')))"
      ]
     },
     "metadata": {},
     "output_type": "display_data"
    },
    {
     "name": "stdout",
     "output_type": "stream",
     "text": [
      "\n"
     ]
    }
   ],
   "source": [
    "df_phase = df_phase[df_phase['alcoholic'] == False]\n",
    "df_phase = df_phase[df_phase['condition'] == 'S1 obj']\n",
    "\n",
    "df_phase_new = []\n",
    "keys = list(def_values_phase.keys())\n",
    "for sub in tqdm(df_phase['sub'].unique()):\n",
    "    df_sub = df_phase[df_phase['sub'] == sub]\n",
    "    for val1 in df_phase[keys[0]].unique():\n",
    "        for val2 in df_phase[keys[1]].unique():\n",
    "            for val3 in df_phase[keys[2]].unique():\n",
    "                for val4 in df_phase['Band'].unique():\n",
    "                    df_phase2 = df_sub[df_sub[keys[0]] == val1]\n",
    "                    df_phase2 = df_phase2[df_phase2[keys[1]] == val2]\n",
    "                    df_phase2 = df_phase2[df_phase2[keys[2]] == val3]\n",
    "                    df_phase2 = df_phase2[df_phase2['Band'] == val4]\n",
    "                    i = 1\n",
    "                    for idx, row in df_phase2.iterrows():\n",
    "                        row['trial_abs'] = i\n",
    "                        df_phase_new.append(row)\n",
    "                        i = i + 1\n",
    "df_phase_new = pd.DataFrame(df_phase_new)"
   ]
  },
  {
   "cell_type": "code",
   "execution_count": 47,
   "metadata": {},
   "outputs": [],
   "source": [
    "df_power_new.to_csv('157-d2-power-v3.csv')\n",
    "df_phase_new.to_csv('157-d2-phase-v3.csv')"
   ]
  },
  {
   "cell_type": "code",
   "execution_count": null,
   "metadata": {},
   "outputs": [],
   "source": []
  }
 ],
 "metadata": {
  "kernelspec": {
   "display_name": "Python 3",
   "language": "python",
   "name": "python3"
  },
  "language_info": {
   "codemirror_mode": {
    "name": "ipython",
    "version": 3
   },
   "file_extension": ".py",
   "mimetype": "text/x-python",
   "name": "python",
   "nbconvert_exporter": "python",
   "pygments_lexer": "ipython3",
   "version": "3.7.9"
  }
 },
 "nbformat": 4,
 "nbformat_minor": 4
}
